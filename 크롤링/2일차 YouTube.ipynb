{
 "cells": [
  {
   "cell_type": "code",
   "execution_count": 1,
   "id": "f3d05494",
   "metadata": {},
   "outputs": [],
   "source": [
    "from selenium import webdriver\n",
    "from webdriver_manager.chrome import ChromeDriverManager\n",
    "import pandas as pd\n",
    "import time"
   ]
  },
  {
   "cell_type": "code",
   "execution_count": 2,
   "id": "a7039e77",
   "metadata": {},
   "outputs": [],
   "source": [
    "from selenium.webdriver.common.keys import Keys"
   ]
  },
  {
   "cell_type": "code",
   "execution_count": 3,
   "id": "1866dfd5",
   "metadata": {},
   "outputs": [],
   "source": [
    "driver = webdriver.Chrome(ChromeDriverManager().install())"
   ]
  },
  {
   "cell_type": "code",
   "execution_count": 4,
   "id": "ef3510b0",
   "metadata": {},
   "outputs": [],
   "source": [
    "driver.get('https://www.youtube.com/c/MBCNEWS11/videos')"
   ]
  },
  {
   "cell_type": "code",
   "execution_count": 5,
   "id": "3cc12a15",
   "metadata": {},
   "outputs": [],
   "source": [
    "title = driver.find_elements_by_css_selector('#video-title')       #카피로 가져오기"
   ]
  },
  {
   "cell_type": "code",
   "execution_count": 6,
   "id": "ad036e34",
   "metadata": {},
   "outputs": [],
   "source": [
    "title2 =('h3.style-scope.ytd-grid-video-renderer')                #상위태그로 가져오기"
   ]
  },
  {
   "cell_type": "code",
   "execution_count": 7,
   "id": "34640b00",
   "metadata": {},
   "outputs": [
    {
     "name": "stdout",
     "output_type": "stream",
     "text": [
      "러, 영토 병합 투표 가결‥서방 \"가짜 투표\" - [LIVE] MBC 930뉴스 2022년 09월 28일\n",
      "#Shorts / [와글와글] 어른이 치고 간 쓰레기‥아이가 말 없이 정리 (2022.09.28/뉴스투데이/MBC)\n",
      "[딩딩LIVE] 국힘 '비속어 논란' 속 이준석과 '가처분 3차전' - 딩딩대학 0교시라이브 2022년 9월 28일\n",
      "#Shorts / [날씨] 서울 기온 16.5도 낮에는 27도 안팎까지 올라 큰 일교차 조심‥내륙 아침 안개 (2022.09.28/뉴스투데이/MBC)\n",
      "[투데이 Pick? Pick!] 러, 영토 병합 투표 개표‥가스관 3곳 누출 (2022.09.28)\n",
      "[날씨] 큰 일교차 조심, 내륙 아침 안개 (2022.09.28/뉴스투데이/MBC)\n",
      "#Shorts / [신선한 경제] 기대인플레이션율, 두 달 연속 하락 (2022.09.28/뉴스투데이/MBC)\n",
      "국민의힘 윤리위, 오늘 권은희 의원 등 징계 심의 (2022.09.28/뉴스투데이/MBC)\n",
      "1분 튼튼건강 (2022.09.28/뉴스투데이/MBC)\n",
      "뉴욕증시, 국채금리 상승에 혼조 (2022.09.28/뉴스투데이/MBC)\n",
      "[재택플러스] 명품 운동화 '오픈런' 줄어들까 (2022.09.28/뉴스투데이/MBC)\n",
      "[재택플러스] '38만 평에‥' 체험 강화 경쟁 (2022.09.28/뉴스투데이/MBC)\n",
      "#Shorts / [신선한 경제] 코로나19로 살찌고 부정적 정서 늘어 (2022.09.28/뉴스투데이/MBC)\n",
      "\"사이코패스 성향 강해\" 원심 깨고 법정 최고형 (2022.09.28/뉴스투데이/MBC)\n",
      "민주 \"박진 해임건의안\"‥국민의힘 \"국익 훼손\" - 🔴[LIVE] MBC 뉴스투데이 2022년 9월 28일\n",
      "[이 시각 세계] 호주 해변 돌고래 230마리 중 44마리만 살았다 (2022.09.28/뉴스투데이/MBC)\n",
      "[이 시각 세계] 가수 '샤키라' 탈세 혐의로 스페인 법정 선다 (2022.09.28/뉴스투데이/MBC)\n",
      "[이 시각 세계] '탈원전' 약속했던 독일, 에너지 위기에 원전 가동 연장 (2022.09.28/뉴스투데이/MBC)\n",
      "[문화연예 플러스] MBC 아나운서들의 한글날 특집 드라마 '쉬운 우리말 극장' (2022.09.28/뉴스투데이/MBC)\n",
      "[문화연예 플러스] 중국 누리꾼, '수리남' 출연 배우 장첸에 악성 댓글 (2022.09.28/뉴스투데이/MBC)\n",
      "[문화연예 플러스] EXID, 3년 만의 완전체 컴백 (2022.09.28/뉴스투데이/MBC)\n",
      "[문화연예 플러스] 돈스파이크, 마약 투약 혐의 체포‥'필로폰 1천 회분' 압수 (2022.09.28/뉴스투데이/MBC)\n",
      "[문화연예 플러스] '별밤' 김이나 대신 등장한 스페셜 DJ는? (2022.09.28/뉴스투데이/MBC)\n",
      "\"미국 국내정치 개입\"‥중국 가짜 계정 80여 개 삭제 (2022.09.28/뉴스투데이/MBC)\n",
      "\"자수성가하겠다\"던 아들도‥안타까운 사연들 (2022.09.28/뉴스투데이/MBC)\n",
      "\"비속어 논란 본질 아냐\"‥또 달라진 입장? (2022.09.28/뉴스투데이/MBC)\n",
      "[와글와글] 숲에서 만난 100마리 양 떼‥조깅하던 여성 따라 '졸졸' (2022.09.28/뉴스투데이/MBC)\n",
      "[와글와글] \"로또 1등 후회된다\" 43억 당첨된 인도 남성의 호소 (2022.09.28/뉴스투데이/MBC)\n",
      "[와글와글] 멀쩡한 쌀·달걀을 왜 버려‥중국 코로나19 방역 논란 (2022.09.28/뉴스투데이/MBC)\n",
      "[와글와글] 위성에 찍힌 러시아 '탈출' 행렬‥국경 앞에 차량 줄만 16km (2022.09.28/뉴스투데이/MBC)\n"
     ]
    }
   ],
   "source": [
    "for i in title:\n",
    "    print(i.text)"
   ]
  },
  {
   "cell_type": "code",
   "execution_count": 8,
   "id": "a3f79f44",
   "metadata": {},
   "outputs": [],
   "source": [
    "view = driver.find_elements_by_css_selector('#metadata-line > span:nth-child(1)')"
   ]
  },
  {
   "cell_type": "code",
   "execution_count": 9,
   "id": "ce0447b7",
   "metadata": {},
   "outputs": [
    {
     "name": "stdout",
     "output_type": "stream",
     "text": [
      "231명 시청 중\n",
      "조회수 172회\n",
      "조회수 4.7천회\n",
      "조회수 188회\n",
      "조회수 1.5천회\n",
      "조회수 562회\n",
      "조회수 270회\n",
      "조회수 1.1천회\n",
      "조회수 589회\n",
      "조회수 1.3천회\n",
      "조회수 2.1천회\n",
      "조회수 2.8천회\n",
      "조회수 298회\n",
      "조회수 16만회\n",
      "조회수 6만회\n",
      "조회수 963회\n",
      "조회수 773회\n",
      "조회수 520회\n",
      "조회수 520회\n",
      "조회수 1.7천회\n",
      "조회수 1.1천회\n",
      "조회수 1.6천회\n",
      "조회수 1.1천회\n",
      "조회수 1.1천회\n",
      "조회수 1.9천회\n",
      "조회수 10만회\n",
      "조회수 1.1만회\n",
      "조회수 2.7천회\n",
      "조회수 1.1천회\n",
      "조회수 7.8천회\n"
     ]
    }
   ],
   "source": [
    "for i in view:\n",
    "    print(i.text)"
   ]
  },
  {
   "cell_type": "code",
   "execution_count": 10,
   "id": "4249d7c8",
   "metadata": {},
   "outputs": [
    {
     "data": {
      "text/plain": [
       "(30, 30)"
      ]
     },
     "execution_count": 10,
     "metadata": {},
     "output_type": "execute_result"
    }
   ],
   "source": [
    "len(title),len(view)"
   ]
  },
  {
   "cell_type": "code",
   "execution_count": null,
   "id": "a433b170",
   "metadata": {},
   "outputs": [],
   "source": []
  },
  {
   "cell_type": "markdown",
   "id": "e844b9a8",
   "metadata": {},
   "source": [
    "## 스크롤링"
   ]
  },
  {
   "cell_type": "code",
   "execution_count": 11,
   "id": "dbacbbdf",
   "metadata": {},
   "outputs": [],
   "source": [
    "from bs4 import BeautifulSoup as bs"
   ]
  },
  {
   "cell_type": "code",
   "execution_count": 12,
   "id": "c21c50bf",
   "metadata": {},
   "outputs": [],
   "source": [
    "from selenium.webdriver.common.keys import Keys"
   ]
  },
  {
   "cell_type": "code",
   "execution_count": 13,
   "id": "04e6b6d4",
   "metadata": {},
   "outputs": [
    {
     "ename": "KeyboardInterrupt",
     "evalue": "",
     "output_type": "error",
     "traceback": [
      "\u001b[1;31m---------------------------------------------------------------------------\u001b[0m",
      "\u001b[1;31mKeyboardInterrupt\u001b[0m                         Traceback (most recent call last)",
      "Input \u001b[1;32mIn [13]\u001b[0m, in \u001b[0;36m<cell line: 4>\u001b[1;34m()\u001b[0m\n\u001b[0;32m      5\u001b[0m \u001b[38;5;28;01mfor\u001b[39;00m i \u001b[38;5;129;01min\u001b[39;00m \u001b[38;5;28mrange\u001b[39m(\u001b[38;5;241m10\u001b[39m):                               \n\u001b[0;32m      6\u001b[0m      body\u001b[38;5;241m.\u001b[39msend_keys(Keys\u001b[38;5;241m.\u001b[39mEND)                       \u001b[38;5;66;03m# end key로 지정\u001b[39;00m\n\u001b[1;32m----> 7\u001b[0m new \u001b[38;5;241m=\u001b[39m \u001b[43mbs\u001b[49m\u001b[43m(\u001b[49m\u001b[43mdriver\u001b[49m\u001b[38;5;241;43m.\u001b[39;49m\u001b[43mpage_source\u001b[49m\u001b[43m,\u001b[49m\u001b[43m \u001b[49m\u001b[38;5;124;43m'\u001b[39;49m\u001b[38;5;124;43mhtml.parser\u001b[39;49m\u001b[38;5;124;43m'\u001b[39;49m\u001b[43m)\u001b[49m\n\u001b[0;32m      9\u001b[0m \u001b[38;5;28;01mif\u001b[39;00m last \u001b[38;5;241m==\u001b[39m new:\n\u001b[0;32m     10\u001b[0m     \u001b[38;5;28;01mbreak\u001b[39;00m\n",
      "File \u001b[1;32m~\\anaconda3\\lib\\site-packages\\bs4\\__init__.py:333\u001b[0m, in \u001b[0;36mBeautifulSoup.__init__\u001b[1;34m(self, markup, features, builder, parse_only, from_encoding, exclude_encodings, element_classes, **kwargs)\u001b[0m\n\u001b[0;32m    331\u001b[0m \u001b[38;5;28mself\u001b[39m\u001b[38;5;241m.\u001b[39mbuilder\u001b[38;5;241m.\u001b[39minitialize_soup(\u001b[38;5;28mself\u001b[39m)\n\u001b[0;32m    332\u001b[0m \u001b[38;5;28;01mtry\u001b[39;00m:\n\u001b[1;32m--> 333\u001b[0m     \u001b[38;5;28;43mself\u001b[39;49m\u001b[38;5;241;43m.\u001b[39;49m\u001b[43m_feed\u001b[49m\u001b[43m(\u001b[49m\u001b[43m)\u001b[49m\n\u001b[0;32m    334\u001b[0m     success \u001b[38;5;241m=\u001b[39m \u001b[38;5;28;01mTrue\u001b[39;00m\n\u001b[0;32m    335\u001b[0m     \u001b[38;5;28;01mbreak\u001b[39;00m\n",
      "File \u001b[1;32m~\\anaconda3\\lib\\site-packages\\bs4\\__init__.py:451\u001b[0m, in \u001b[0;36mBeautifulSoup._feed\u001b[1;34m(self)\u001b[0m\n\u001b[0;32m    448\u001b[0m \u001b[38;5;66;03m# Convert the document to Unicode.\u001b[39;00m\n\u001b[0;32m    449\u001b[0m \u001b[38;5;28mself\u001b[39m\u001b[38;5;241m.\u001b[39mbuilder\u001b[38;5;241m.\u001b[39mreset()\n\u001b[1;32m--> 451\u001b[0m \u001b[38;5;28;43mself\u001b[39;49m\u001b[38;5;241;43m.\u001b[39;49m\u001b[43mbuilder\u001b[49m\u001b[38;5;241;43m.\u001b[39;49m\u001b[43mfeed\u001b[49m\u001b[43m(\u001b[49m\u001b[38;5;28;43mself\u001b[39;49m\u001b[38;5;241;43m.\u001b[39;49m\u001b[43mmarkup\u001b[49m\u001b[43m)\u001b[49m\n\u001b[0;32m    452\u001b[0m \u001b[38;5;66;03m# Close out any unfinished strings and close all the open tags.\u001b[39;00m\n\u001b[0;32m    453\u001b[0m \u001b[38;5;28mself\u001b[39m\u001b[38;5;241m.\u001b[39mendData()\n",
      "File \u001b[1;32m~\\anaconda3\\lib\\site-packages\\bs4\\builder\\_htmlparser.py:399\u001b[0m, in \u001b[0;36mHTMLParserTreeBuilder.feed\u001b[1;34m(self, markup)\u001b[0m\n\u001b[0;32m    397\u001b[0m parser\u001b[38;5;241m.\u001b[39msoup \u001b[38;5;241m=\u001b[39m \u001b[38;5;28mself\u001b[39m\u001b[38;5;241m.\u001b[39msoup\n\u001b[0;32m    398\u001b[0m \u001b[38;5;28;01mtry\u001b[39;00m:\n\u001b[1;32m--> 399\u001b[0m     \u001b[43mparser\u001b[49m\u001b[38;5;241;43m.\u001b[39;49m\u001b[43mfeed\u001b[49m\u001b[43m(\u001b[49m\u001b[43mmarkup\u001b[49m\u001b[43m)\u001b[49m\n\u001b[0;32m    400\u001b[0m     parser\u001b[38;5;241m.\u001b[39mclose()\n\u001b[0;32m    401\u001b[0m \u001b[38;5;28;01mexcept\u001b[39;00m HTMLParseError \u001b[38;5;28;01mas\u001b[39;00m e:\n",
      "File \u001b[1;32m~\\anaconda3\\lib\\html\\parser.py:110\u001b[0m, in \u001b[0;36mHTMLParser.feed\u001b[1;34m(self, data)\u001b[0m\n\u001b[0;32m    104\u001b[0m \u001b[38;5;124mr\u001b[39m\u001b[38;5;124;03m\"\"\"Feed data to the parser.\u001b[39;00m\n\u001b[0;32m    105\u001b[0m \n\u001b[0;32m    106\u001b[0m \u001b[38;5;124;03mCall this as often as you want, with as little or as much text\u001b[39;00m\n\u001b[0;32m    107\u001b[0m \u001b[38;5;124;03mas you want (may include '\\n').\u001b[39;00m\n\u001b[0;32m    108\u001b[0m \u001b[38;5;124;03m\"\"\"\u001b[39;00m\n\u001b[0;32m    109\u001b[0m \u001b[38;5;28mself\u001b[39m\u001b[38;5;241m.\u001b[39mrawdata \u001b[38;5;241m=\u001b[39m \u001b[38;5;28mself\u001b[39m\u001b[38;5;241m.\u001b[39mrawdata \u001b[38;5;241m+\u001b[39m data\n\u001b[1;32m--> 110\u001b[0m \u001b[38;5;28;43mself\u001b[39;49m\u001b[38;5;241;43m.\u001b[39;49m\u001b[43mgoahead\u001b[49m\u001b[43m(\u001b[49m\u001b[38;5;241;43m0\u001b[39;49m\u001b[43m)\u001b[49m\n",
      "File \u001b[1;32m~\\anaconda3\\lib\\html\\parser.py:170\u001b[0m, in \u001b[0;36mHTMLParser.goahead\u001b[1;34m(self, end)\u001b[0m\n\u001b[0;32m    168\u001b[0m \u001b[38;5;28;01mif\u001b[39;00m startswith(\u001b[38;5;124m'\u001b[39m\u001b[38;5;124m<\u001b[39m\u001b[38;5;124m'\u001b[39m, i):\n\u001b[0;32m    169\u001b[0m     \u001b[38;5;28;01mif\u001b[39;00m starttagopen\u001b[38;5;241m.\u001b[39mmatch(rawdata, i): \u001b[38;5;66;03m# < + letter\u001b[39;00m\n\u001b[1;32m--> 170\u001b[0m         k \u001b[38;5;241m=\u001b[39m \u001b[38;5;28;43mself\u001b[39;49m\u001b[38;5;241;43m.\u001b[39;49m\u001b[43mparse_starttag\u001b[49m\u001b[43m(\u001b[49m\u001b[43mi\u001b[49m\u001b[43m)\u001b[49m\n\u001b[0;32m    171\u001b[0m     \u001b[38;5;28;01melif\u001b[39;00m startswith(\u001b[38;5;124m\"\u001b[39m\u001b[38;5;124m</\u001b[39m\u001b[38;5;124m\"\u001b[39m, i):\n\u001b[0;32m    172\u001b[0m         k \u001b[38;5;241m=\u001b[39m \u001b[38;5;28mself\u001b[39m\u001b[38;5;241m.\u001b[39mparse_endtag(i)\n",
      "File \u001b[1;32m~\\anaconda3\\lib\\html\\parser.py:302\u001b[0m, in \u001b[0;36mHTMLParser.parse_starttag\u001b[1;34m(self, i)\u001b[0m\n\u001b[0;32m    300\u001b[0m \u001b[38;5;28;01mdef\u001b[39;00m \u001b[38;5;21mparse_starttag\u001b[39m(\u001b[38;5;28mself\u001b[39m, i):\n\u001b[0;32m    301\u001b[0m     \u001b[38;5;28mself\u001b[39m\u001b[38;5;241m.\u001b[39m__starttag_text \u001b[38;5;241m=\u001b[39m \u001b[38;5;28;01mNone\u001b[39;00m\n\u001b[1;32m--> 302\u001b[0m     endpos \u001b[38;5;241m=\u001b[39m \u001b[38;5;28;43mself\u001b[39;49m\u001b[38;5;241;43m.\u001b[39;49m\u001b[43mcheck_for_whole_start_tag\u001b[49m\u001b[43m(\u001b[49m\u001b[43mi\u001b[49m\u001b[43m)\u001b[49m\n\u001b[0;32m    303\u001b[0m     \u001b[38;5;28;01mif\u001b[39;00m endpos \u001b[38;5;241m<\u001b[39m \u001b[38;5;241m0\u001b[39m:\n\u001b[0;32m    304\u001b[0m         \u001b[38;5;28;01mreturn\u001b[39;00m endpos\n",
      "File \u001b[1;32m~\\anaconda3\\lib\\html\\parser.py:354\u001b[0m, in \u001b[0;36mHTMLParser.check_for_whole_start_tag\u001b[1;34m(self, i)\u001b[0m\n\u001b[0;32m    352\u001b[0m rawdata \u001b[38;5;241m=\u001b[39m \u001b[38;5;28mself\u001b[39m\u001b[38;5;241m.\u001b[39mrawdata\n\u001b[0;32m    353\u001b[0m m \u001b[38;5;241m=\u001b[39m locatestarttagend_tolerant\u001b[38;5;241m.\u001b[39mmatch(rawdata, i)\n\u001b[1;32m--> 354\u001b[0m \u001b[38;5;28;01mif\u001b[39;00m m:\n\u001b[0;32m    355\u001b[0m     j \u001b[38;5;241m=\u001b[39m m\u001b[38;5;241m.\u001b[39mend()\n\u001b[0;32m    356\u001b[0m     \u001b[38;5;28mnext\u001b[39m \u001b[38;5;241m=\u001b[39m rawdata[j:j\u001b[38;5;241m+\u001b[39m\u001b[38;5;241m1\u001b[39m]\n",
      "\u001b[1;31mKeyboardInterrupt\u001b[0m: "
     ]
    }
   ],
   "source": [
    "body = driver.find_element_by_css_selector('body')\n",
    "\n",
    "while True:\n",
    "    last = bs(driver.page_source, 'html.parser')\n",
    "    for i in range(10):                               \n",
    "         body.send_keys(Keys.END)                       # end key로 지정\n",
    "    new = bs(driver.page_source, 'html.parser')\n",
    "    \n",
    "    if last == new:\n",
    "        break\n",
    "    else:\n",
    "        pass"
   ]
  },
  {
   "cell_type": "code",
   "execution_count": null,
   "id": "6b5113d1",
   "metadata": {},
   "outputs": [],
   "source": [
    "view = driver.find_elements_by_css_selector('#metadata-line > span:nth-child(1)')\n",
    "title = driver.find_elements_by_css_selector('#video-title') "
   ]
  },
  {
   "cell_type": "code",
   "execution_count": null,
   "id": "87006a94",
   "metadata": {},
   "outputs": [],
   "source": [
    "title_list =[]\n",
    "for i in title:\n",
    "    title_list.append(i.text)\n",
    "    \n",
    "view_list =[]\n",
    "for i in view:\n",
    "    view_list.append(i.text)"
   ]
  },
  {
   "cell_type": "code",
   "execution_count": null,
   "id": "26bfdfa5",
   "metadata": {},
   "outputs": [],
   "source": [
    "len(title_list),len(view_list)"
   ]
  },
  {
   "cell_type": "code",
   "execution_count": null,
   "id": "ee057035",
   "metadata": {},
   "outputs": [],
   "source": [
    "view_list =[]\n",
    "for i in view:\n",
    "    string = i.text\n",
    "    string = string.replace('조회수', '')\n",
    "    string = string.replace('회', '')\n",
    "    string = string.replace('.', '')\n",
    "    string = string.replace('천', '000')\n",
    "    string = string.replace('만', '0000')\n",
    "    string = int(string)\n",
    "    view_list.append(string)\n",
    "    \n",
    "    print(string)"
   ]
  },
  {
   "cell_type": "code",
   "execution_count": null,
   "id": "88445076",
   "metadata": {},
   "outputs": [],
   "source": [
    "data = {'제목' : title_list, '조회수' : view_list}"
   ]
  },
  {
   "cell_type": "code",
   "execution_count": null,
   "id": "b5052bc5",
   "metadata": {},
   "outputs": [],
   "source": [
    "df = pd.DataFrame(data)"
   ]
  },
  {
   "cell_type": "code",
   "execution_count": null,
   "id": "c5478c34",
   "metadata": {},
   "outputs": [],
   "source": [
    "df = df.sort_values(by=['조회수'], ascending=False)"
   ]
  },
  {
   "cell_type": "code",
   "execution_count": null,
   "id": "4910d1ef",
   "metadata": {},
   "outputs": [],
   "source": [
    "df.reset_index(drop=True)           #인덱스 재정렬"
   ]
  },
  {
   "cell_type": "code",
   "execution_count": null,
   "id": "44fae4a9",
   "metadata": {},
   "outputs": [],
   "source": []
  }
 ],
 "metadata": {
  "kernelspec": {
   "display_name": "Python 3 (ipykernel)",
   "language": "python",
   "name": "python3"
  },
  "language_info": {
   "codemirror_mode": {
    "name": "ipython",
    "version": 3
   },
   "file_extension": ".py",
   "mimetype": "text/x-python",
   "name": "python",
   "nbconvert_exporter": "python",
   "pygments_lexer": "ipython3",
   "version": "3.9.12"
  },
  "vscode": {
   "interpreter": {
    "hash": "a077222d77dfe082b8f1dd562ad70e458ac2ab76993a0b248ab0476e32e9e8dd"
   }
  }
 },
 "nbformat": 4,
 "nbformat_minor": 5
}
