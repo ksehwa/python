{
 "cells": [
  {
   "cell_type": "code",
   "execution_count": 23,
   "id": "ad005b86",
   "metadata": {},
   "outputs": [
    {
     "name": "stdout",
     "output_type": "stream",
     "text": [
      "Requirement already satisfied: selenium==3.141.0 in c:\\users\\user\\anaconda3\\lib\\site-packages (3.141.0)\n",
      "Requirement already satisfied: urllib3 in c:\\users\\user\\anaconda3\\lib\\site-packages (from selenium==3.141.0) (1.26.9)\n"
     ]
    }
   ],
   "source": [
    "!pip install selenium==3.141.0"
   ]
  },
  {
   "cell_type": "code",
   "execution_count": 24,
   "id": "f8700550",
   "metadata": {},
   "outputs": [],
   "source": [
    "from selenium import webdriver"
   ]
  },
  {
   "cell_type": "code",
   "execution_count": 25,
   "id": "3bf9c297",
   "metadata": {},
   "outputs": [],
   "source": [
    "driver =  webdriver.Chrome(r'C:\\Users\\user\\참새\\chromedriver.exe')"
   ]
  },
  {
   "cell_type": "code",
   "execution_count": null,
   "id": "e2840d2c",
   "metadata": {},
   "outputs": [],
   "source": []
  },
  {
   "cell_type": "code",
   "execution_count": 26,
   "id": "d8970726",
   "metadata": {},
   "outputs": [
    {
     "name": "stdout",
     "output_type": "stream",
     "text": [
      "Requirement already satisfied: webdriver_manager in c:\\users\\user\\anaconda3\\lib\\site-packages (3.8.3)\n",
      "Requirement already satisfied: requests in c:\\users\\user\\anaconda3\\lib\\site-packages (from webdriver_manager) (2.27.1)\n",
      "Requirement already satisfied: tqdm in c:\\users\\user\\anaconda3\\lib\\site-packages (from webdriver_manager) (4.64.0)\n"
     ]
    }
   ],
   "source": [
    "!pip install webdriver_manager"
   ]
  },
  {
   "cell_type": "code",
   "execution_count": 52,
   "id": "1ffe90d3",
   "metadata": {},
   "outputs": [],
   "source": [
    "from selenium import webdriver\n",
    "from webdriver_manager.chrome import ChromeDriverManager"
   ]
  },
  {
   "cell_type": "code",
   "execution_count": 53,
   "id": "38f7c0bf",
   "metadata": {},
   "outputs": [],
   "source": [
    "from selenium.webdriver.common.keys import Keys             # 키 사용"
   ]
  },
  {
   "cell_type": "code",
   "execution_count": 63,
   "id": "d2942be8",
   "metadata": {},
   "outputs": [],
   "source": [
    "driver = webdriver.Chrome(ChromeDriverManager().install())"
   ]
  },
  {
   "cell_type": "code",
   "execution_count": 64,
   "id": "b92e2b7f",
   "metadata": {},
   "outputs": [],
   "source": [
    "driver.get(\"https://www.naver.com/\")"
   ]
  },
  {
   "cell_type": "code",
   "execution_count": 60,
   "id": "4e8a789b",
   "metadata": {},
   "outputs": [],
   "source": [
    "# 엔터 버튼\n",
    "search = driver.find_element_by_css_selector('#query')\n",
    "search.send_keys('코로나')                                  # 검색창을 선택\n",
    "search.send_keys(Keys.ENTER)                                # 엔터키 사용"
   ]
  },
  {
   "cell_type": "code",
   "execution_count": null,
   "id": "ac45942e",
   "metadata": {},
   "outputs": [],
   "source": [
    "#  마우스 클릭\n",
    "search = driver.find_element_by_css_selector('#query')   \n",
    "search.send_keys('코로나')   \n",
    "\n",
    "btn = driver.find_element_by_xpath('//*[@id=\"search_btn\"]/span[2]') \n",
    "btn.click"
   ]
  },
  {
   "cell_type": "code",
   "execution_count": null,
   "id": "5eb30d3a",
   "metadata": {},
   "outputs": [],
   "source": [
    "driver.back()                                              # 뒤로 가기"
   ]
  },
  {
   "cell_type": "code",
   "execution_count": null,
   "id": "1c42b1f7",
   "metadata": {},
   "outputs": [],
   "source": []
  },
  {
   "cell_type": "code",
   "execution_count": null,
   "id": "18b245f2",
   "metadata": {},
   "outputs": [],
   "source": [
    "dirver.current_url       # 현재 주소 가져오기"
   ]
  },
  {
   "cell_type": "code",
   "execution_count": null,
   "id": "d484c377",
   "metadata": {},
   "outputs": [],
   "source": [
    "driver.maximize_window()    # 최대화"
   ]
  },
  {
   "cell_type": "code",
   "execution_count": null,
   "id": "aacf4c4b",
   "metadata": {},
   "outputs": [],
   "source": [
    "driver.minimize_window()    # 최소화"
   ]
  },
  {
   "cell_type": "code",
   "execution_count": null,
   "id": "43731a8e",
   "metadata": {},
   "outputs": [],
   "source": [
    "driver.close()  # 현재탭"
   ]
  },
  {
   "cell_type": "code",
   "execution_count": null,
   "id": "9e9cdd73",
   "metadata": {},
   "outputs": [],
   "source": [
    "driver.quit()  # 브라우저"
   ]
  },
  {
   "cell_type": "code",
   "execution_count": null,
   "id": "f78af036",
   "metadata": {},
   "outputs": [],
   "source": [
    "driver.back()  # 뒤로가기"
   ]
  },
  {
   "cell_type": "code",
   "execution_count": null,
   "id": "44d4bbdd",
   "metadata": {},
   "outputs": [],
   "source": [
    "driver.forward()  # 앞으로가기"
   ]
  },
  {
   "cell_type": "code",
   "execution_count": null,
   "id": "d19c8d36",
   "metadata": {},
   "outputs": [],
   "source": [
    "driver.swich_to.window(driver.window_handles[0])         #해당 탬으로이동 "
   ]
  }
 ],
 "metadata": {
  "kernelspec": {
   "display_name": "Python 3.9.12 ('base')",
   "language": "python",
   "name": "python3"
  },
  "language_info": {
   "codemirror_mode": {
    "name": "ipython",
    "version": 3
   },
   "file_extension": ".py",
   "mimetype": "text/x-python",
   "name": "python",
   "nbconvert_exporter": "python",
   "pygments_lexer": "ipython3",
   "version": "3.9.12"
  },
  "vscode": {
   "interpreter": {
    "hash": "a077222d77dfe082b8f1dd562ad70e458ac2ab76993a0b248ab0476e32e9e8dd"
   }
  }
 },
 "nbformat": 4,
 "nbformat_minor": 5
}
