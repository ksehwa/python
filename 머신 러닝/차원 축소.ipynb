{
 "cells": [
  {
   "cell_type": "code",
   "execution_count": 1,
   "id": "faa51486",
   "metadata": {},
   "outputs": [],
   "source": [
    "import numpy as np\n",
    "import pandas as pd\n",
    "from sklearn.datasets import load_iris\n",
    "from sklearn.manifold import TSNE\n",
    "import matplotlib.pyplot as plt\n",
    "import matplotlib.pyplot as plt\n",
    "plt.rcParams['font.family']='Malgun Gothic'\n",
    "plt.rcParams['axes.unicode_minus']= False"
   ]
  },
  {
   "cell_type": "code",
   "execution_count": 2,
   "id": "12841d1c",
   "metadata": {},
   "outputs": [],
   "source": [
    "iris = load_iris()"
   ]
  },
  {
   "cell_type": "code",
   "execution_count": 3,
   "id": "d47ced41",
   "metadata": {},
   "outputs": [],
   "source": [
    "df = pd.DataFrame(data=iris.data, columns=iris.feature_names)"
   ]
  },
  {
   "cell_type": "code",
   "execution_count": 4,
   "id": "dc35f7b6",
   "metadata": {},
   "outputs": [],
   "source": [
    "df['target'] = iris.target"
   ]
  },
  {
   "cell_type": "code",
   "execution_count": 5,
   "id": "a35aa206",
   "metadata": {},
   "outputs": [],
   "source": [
    "train_df = df[['sepal length (cm)', 'sepal width (cm)', 'petal length (cm)',\n",
    "              'petal width (cm)']]"
   ]
  },
  {
   "cell_type": "code",
   "execution_count": 6,
   "id": "ff2f37ae",
   "metadata": {},
   "outputs": [
    {
     "name": "stderr",
     "output_type": "stream",
     "text": [
      "C:\\Users\\user\\anaconda3\\lib\\site-packages\\sklearn\\manifold\\_t_sne.py:780: FutureWarning: The default initialization in TSNE will change from 'random' to 'pca' in 1.2.\n",
      "  warnings.warn(\n",
      "C:\\Users\\user\\anaconda3\\lib\\site-packages\\sklearn\\manifold\\_t_sne.py:790: FutureWarning: The default learning rate in TSNE will change from 200.0 to 'auto' in 1.2.\n",
      "  warnings.warn(\n"
     ]
    }
   ],
   "source": [
    "tsne = TSNE(n_components=2)\n",
    "tsne_np = tsne.fit_transform(train_df)"
   ]
  },
  {
   "cell_type": "code",
   "execution_count": 7,
   "id": "9d84ce41",
   "metadata": {},
   "outputs": [],
   "source": [
    "tsne_df = pd.DataFrame(tsne_np, columns=['component 0', 'component 1'])"
   ]
  },
  {
   "cell_type": "code",
   "execution_count": 8,
   "id": "72df96b6",
   "metadata": {},
   "outputs": [
    {
     "data": {
      "text/html": [
       "<div>\n",
       "<style scoped>\n",
       "    .dataframe tbody tr th:only-of-type {\n",
       "        vertical-align: middle;\n",
       "    }\n",
       "\n",
       "    .dataframe tbody tr th {\n",
       "        vertical-align: top;\n",
       "    }\n",
       "\n",
       "    .dataframe thead th {\n",
       "        text-align: right;\n",
       "    }\n",
       "</style>\n",
       "<table border=\"1\" class=\"dataframe\">\n",
       "  <thead>\n",
       "    <tr style=\"text-align: right;\">\n",
       "      <th></th>\n",
       "      <th>component 0</th>\n",
       "      <th>component 1</th>\n",
       "    </tr>\n",
       "  </thead>\n",
       "  <tbody>\n",
       "    <tr>\n",
       "      <th>0</th>\n",
       "      <td>0.367964</td>\n",
       "      <td>24.386028</td>\n",
       "    </tr>\n",
       "    <tr>\n",
       "      <th>1</th>\n",
       "      <td>-0.689032</td>\n",
       "      <td>21.771103</td>\n",
       "    </tr>\n",
       "    <tr>\n",
       "      <th>2</th>\n",
       "      <td>0.508951</td>\n",
       "      <td>21.909578</td>\n",
       "    </tr>\n",
       "    <tr>\n",
       "      <th>3</th>\n",
       "      <td>0.110112</td>\n",
       "      <td>21.460783</td>\n",
       "    </tr>\n",
       "    <tr>\n",
       "      <th>4</th>\n",
       "      <td>0.795247</td>\n",
       "      <td>24.365328</td>\n",
       "    </tr>\n",
       "  </tbody>\n",
       "</table>\n",
       "</div>"
      ],
      "text/plain": [
       "   component 0  component 1\n",
       "0     0.367964    24.386028\n",
       "1    -0.689032    21.771103\n",
       "2     0.508951    21.909578\n",
       "3     0.110112    21.460783\n",
       "4     0.795247    24.365328"
      ]
     },
     "execution_count": 8,
     "metadata": {},
     "output_type": "execute_result"
    }
   ],
   "source": [
    "tsne_df.head()"
   ]
  },
  {
   "cell_type": "markdown",
   "id": "0bb999ad",
   "metadata": {},
   "source": [
    "### t-sne 2차원 데이터 시각화"
   ]
  },
  {
   "cell_type": "code",
   "execution_count": 9,
   "id": "f92705c4",
   "metadata": {},
   "outputs": [],
   "source": [
    "tsne_df['target'] = df['target']\n",
    "\n",
    "# target별 분리\n",
    "tsne_df_0 = tsne_df[tsne_df['target']==0]\n",
    "tsne_df_1 = tsne_df[tsne_df['target']==1]\n",
    "tsne_df_2 = tsne_df[tsne_df['target']==2]"
   ]
  },
  {
   "cell_type": "code",
   "execution_count": 10,
   "id": "d9162ed2",
   "metadata": {},
   "outputs": [
    {
     "data": {
      "image/png": "[encoded data removed]",
      "text/plain": [
       "<Figure size 432x288 with 1 Axes>"
      ]
     },
     "metadata": {
      "needs_background": "light"
     },
     "output_type": "display_data"
    }
   ],
   "source": [
    "# target별 시각화\n",
    "plt.scatter(tsne_df_0['component 0'], tsne_df_0['component 1'], color='pink',label = 'setosa')\n",
    "plt.scatter(tsne_df_1['component 0'], tsne_df_1['component 1'], color='purple',label = 'versicolor')\n",
    "plt.scatter(tsne_df_2['component 0'], tsne_df_2['component 1'], color='yellow',label = 'virginica')\n",
    "\n",
    "plt.xlabel('component 0')\n",
    "plt.ylabel('component 1')\n",
    "plt.legend()\n",
    "plt.show()"
   ]
  },
  {
   "cell_type": "markdown",
   "id": "fbfd79ae",
   "metadata": {},
   "source": [
    "2차우너 공간에 꽃 종류별로 구분이 잘 되어 임베딩 됨"
   ]
  },
  {
   "cell_type": "markdown",
   "id": "4e1b6323",
   "metadata": {},
   "source": [
    "## 3차원 시각화"
   ]
  },
  {
   "cell_type": "code",
   "execution_count": 11,
   "id": "d878c9ac",
   "metadata": {},
   "outputs": [
    {
     "name": "stderr",
     "output_type": "stream",
     "text": [
      "C:\\Users\\user\\anaconda3\\lib\\site-packages\\sklearn\\manifold\\_t_sne.py:780: FutureWarning: The default initialization in TSNE will change from 'random' to 'pca' in 1.2.\n",
      "  warnings.warn(\n",
      "C:\\Users\\user\\anaconda3\\lib\\site-packages\\sklearn\\manifold\\_t_sne.py:790: FutureWarning: The default learning rate in TSNE will change from 200.0 to 'auto' in 1.2.\n",
      "  warnings.warn(\n"
     ]
    }
   ],
   "source": [
    "tsne =TSNE(n_components=3)\n",
    "tsne_np = tsne.fit_transform(train_df)"
   ]
  },
  {
   "cell_type": "code",
   "execution_count": 29,
   "id": "fca178b9",
   "metadata": {},
   "outputs": [],
   "source": [
    "tsne_df = pd.DataFrame(tsne_np, columns = ['component 0', 'component 1','component 2'])"
   ]
  },
  {
   "cell_type": "code",
   "execution_count": 30,
   "id": "a9d95924",
   "metadata": {},
   "outputs": [
    {
     "data": {
      "text/html": [
       "<div>\n",
       "<style scoped>\n",
       "    .dataframe tbody tr th:only-of-type {\n",
       "        vertical-align: middle;\n",
       "    }\n",
       "\n",
       "    .dataframe tbody tr th {\n",
       "        vertical-align: top;\n",
       "    }\n",
       "\n",
       "    .dataframe thead th {\n",
       "        text-align: right;\n",
       "    }\n",
       "</style>\n",
       "<table border=\"1\" class=\"dataframe\">\n",
       "  <thead>\n",
       "    <tr style=\"text-align: right;\">\n",
       "      <th></th>\n",
       "      <th>component 0</th>\n",
       "      <th>component 1</th>\n",
       "      <th>component 2</th>\n",
       "    </tr>\n",
       "  </thead>\n",
       "  <tbody>\n",
       "    <tr>\n",
       "      <th>0</th>\n",
       "      <td>51.456505</td>\n",
       "      <td>-51.242477</td>\n",
       "      <td>-84.817833</td>\n",
       "    </tr>\n",
       "    <tr>\n",
       "      <th>1</th>\n",
       "      <td>79.897858</td>\n",
       "      <td>11.259368</td>\n",
       "      <td>-6.642969</td>\n",
       "    </tr>\n",
       "    <tr>\n",
       "      <th>2</th>\n",
       "      <td>65.192963</td>\n",
       "      <td>5.027228</td>\n",
       "      <td>-91.958481</td>\n",
       "    </tr>\n",
       "    <tr>\n",
       "      <th>3</th>\n",
       "      <td>0.784732</td>\n",
       "      <td>1.084204</td>\n",
       "      <td>-47.911068</td>\n",
       "    </tr>\n",
       "    <tr>\n",
       "      <th>4</th>\n",
       "      <td>2.843435</td>\n",
       "      <td>-56.270287</td>\n",
       "      <td>-26.557821</td>\n",
       "    </tr>\n",
       "  </tbody>\n",
       "</table>\n",
       "</div>"
      ],
      "text/plain": [
       "   component 0  component 1  component 2\n",
       "0    51.456505   -51.242477   -84.817833\n",
       "1    79.897858    11.259368    -6.642969\n",
       "2    65.192963     5.027228   -91.958481\n",
       "3     0.784732     1.084204   -47.911068\n",
       "4     2.843435   -56.270287   -26.557821"
      ]
     },
     "execution_count": 30,
     "metadata": {},
     "output_type": "execute_result"
    }
   ],
   "source": [
    "tsne_df.head()"
   ]
  },
  {
   "cell_type": "code",
   "execution_count": 31,
   "id": "88e297f8",
   "metadata": {},
   "outputs": [],
   "source": [
    "tsne_df['target'] = df['target']"
   ]
  },
  {
   "cell_type": "code",
   "execution_count": 32,
   "id": "620d8e00",
   "metadata": {},
   "outputs": [
    {
     "data": {
      "text/html": [
       "<div>\n",
       "<style scoped>\n",
       "    .dataframe tbody tr th:only-of-type {\n",
       "        vertical-align: middle;\n",
       "    }\n",
       "\n",
       "    .dataframe tbody tr th {\n",
       "        vertical-align: top;\n",
       "    }\n",
       "\n",
       "    .dataframe thead th {\n",
       "        text-align: right;\n",
       "    }\n",
       "</style>\n",
       "<table border=\"1\" class=\"dataframe\">\n",
       "  <thead>\n",
       "    <tr style=\"text-align: right;\">\n",
       "      <th></th>\n",
       "      <th>component 0</th>\n",
       "      <th>component 1</th>\n",
       "      <th>component 2</th>\n",
       "      <th>target</th>\n",
       "    </tr>\n",
       "  </thead>\n",
       "  <tbody>\n",
       "    <tr>\n",
       "      <th>0</th>\n",
       "      <td>51.456505</td>\n",
       "      <td>-51.242477</td>\n",
       "      <td>-84.817833</td>\n",
       "      <td>0</td>\n",
       "    </tr>\n",
       "    <tr>\n",
       "      <th>1</th>\n",
       "      <td>79.897858</td>\n",
       "      <td>11.259368</td>\n",
       "      <td>-6.642969</td>\n",
       "      <td>0</td>\n",
       "    </tr>\n",
       "    <tr>\n",
       "      <th>2</th>\n",
       "      <td>65.192963</td>\n",
       "      <td>5.027228</td>\n",
       "      <td>-91.958481</td>\n",
       "      <td>0</td>\n",
       "    </tr>\n",
       "    <tr>\n",
       "      <th>3</th>\n",
       "      <td>0.784732</td>\n",
       "      <td>1.084204</td>\n",
       "      <td>-47.911068</td>\n",
       "      <td>0</td>\n",
       "    </tr>\n",
       "    <tr>\n",
       "      <th>4</th>\n",
       "      <td>2.843435</td>\n",
       "      <td>-56.270287</td>\n",
       "      <td>-26.557821</td>\n",
       "      <td>0</td>\n",
       "    </tr>\n",
       "  </tbody>\n",
       "</table>\n",
       "</div>"
      ],
      "text/plain": [
       "   component 0  component 1  component 2  target\n",
       "0    51.456505   -51.242477   -84.817833       0\n",
       "1    79.897858    11.259368    -6.642969       0\n",
       "2    65.192963     5.027228   -91.958481       0\n",
       "3     0.784732     1.084204   -47.911068       0\n",
       "4     2.843435   -56.270287   -26.557821       0"
      ]
     },
     "execution_count": 32,
     "metadata": {},
     "output_type": "execute_result"
    }
   ],
   "source": [
    "tsne_df.head()"
   ]
  },
  {
   "cell_type": "code",
   "execution_count": 33,
   "id": "f815b136",
   "metadata": {},
   "outputs": [
    {
     "data": {
      "text/html": [
       "<div>\n",
       "<style scoped>\n",
       "    .dataframe tbody tr th:only-of-type {\n",
       "        vertical-align: middle;\n",
       "    }\n",
       "\n",
       "    .dataframe tbody tr th {\n",
       "        vertical-align: top;\n",
       "    }\n",
       "\n",
       "    .dataframe thead th {\n",
       "        text-align: right;\n",
       "    }\n",
       "</style>\n",
       "<table border=\"1\" class=\"dataframe\">\n",
       "  <thead>\n",
       "    <tr style=\"text-align: right;\">\n",
       "      <th></th>\n",
       "      <th>component 0</th>\n",
       "      <th>component 1</th>\n",
       "      <th>component 2</th>\n",
       "      <th>target</th>\n",
       "    </tr>\n",
       "  </thead>\n",
       "  <tbody>\n",
       "    <tr>\n",
       "      <th>0</th>\n",
       "      <td>51.456505</td>\n",
       "      <td>-51.242477</td>\n",
       "      <td>-84.817833</td>\n",
       "      <td>0</td>\n",
       "    </tr>\n",
       "    <tr>\n",
       "      <th>1</th>\n",
       "      <td>79.897858</td>\n",
       "      <td>11.259368</td>\n",
       "      <td>-6.642969</td>\n",
       "      <td>0</td>\n",
       "    </tr>\n",
       "    <tr>\n",
       "      <th>2</th>\n",
       "      <td>65.192963</td>\n",
       "      <td>5.027228</td>\n",
       "      <td>-91.958481</td>\n",
       "      <td>0</td>\n",
       "    </tr>\n",
       "    <tr>\n",
       "      <th>3</th>\n",
       "      <td>0.784732</td>\n",
       "      <td>1.084204</td>\n",
       "      <td>-47.911068</td>\n",
       "      <td>0</td>\n",
       "    </tr>\n",
       "    <tr>\n",
       "      <th>4</th>\n",
       "      <td>2.843435</td>\n",
       "      <td>-56.270287</td>\n",
       "      <td>-26.557821</td>\n",
       "      <td>0</td>\n",
       "    </tr>\n",
       "  </tbody>\n",
       "</table>\n",
       "</div>"
      ],
      "text/plain": [
       "   component 0  component 1  component 2  target\n",
       "0    51.456505   -51.242477   -84.817833       0\n",
       "1    79.897858    11.259368    -6.642969       0\n",
       "2    65.192963     5.027228   -91.958481       0\n",
       "3     0.784732     1.084204   -47.911068       0\n",
       "4     2.843435   -56.270287   -26.557821       0"
      ]
     },
     "execution_count": 33,
     "metadata": {},
     "output_type": "execute_result"
    }
   ],
   "source": [
    "tsne_df.head()"
   ]
  },
  {
   "cell_type": "code",
   "execution_count": 34,
   "id": "4faf98ff",
   "metadata": {},
   "outputs": [],
   "source": [
    "from mpl_toolkits.mplot3d import Axes3D"
   ]
  },
  {
   "cell_type": "code",
   "execution_count": 35,
   "id": "658ffad9",
   "metadata": {},
   "outputs": [
    {
     "data": {
      "image/png": "[encoded data removed]",
      "text/plain": [
       "<Figure size 648x432 with 1 Axes>"
      ]
     },
     "metadata": {
      "needs_background": "light"
     },
     "output_type": "display_data"
    }
   ],
   "source": [
    "# 3차원 그래프 세팅\n",
    "fig = plt.figure(figsize=(9,6))\n",
    "ax = fig.add_subplot(111,projection='3d')\n",
    "\n",
    "tsne_df_0= tsne_df[tsne_df['target']==0]\n",
    "tsne_df_1= tsne_df[tsne_df['target']==1]\n",
    "tsne_df_2= tsne_df[tsne_df['target']==2]\n",
    "\n",
    "ax.scatter(tsne_df_0['component 0'], tsne_df_0['component 1'],\n",
    "           tsne_df_0['component 2'], color = 'pink', label='setosa')\n",
    "ax.scatter(tsne_df_1['component 0'], tsne_df_1['component 1'],\n",
    "          tsne_df_1['component 2'], color = 'purple', label='virsicolor')\n",
    "ax.scatter(tsne_df_2['component 0'], tsne_df_2['component 1'],\n",
    "          tsne_df_2['component 2'], color = 'yellow', label='virginica')\n",
    "\n",
    "ax.set_xlabel('component 0')\n",
    "ax.set_ylabel('component 1')\n",
    "ax.set_zlabel('component 2')\n",
    "plt.legend()\n",
    "plt.show()"
   ]
  },
  {
   "cell_type": "code",
   "execution_count": null,
   "id": "cf13636c",
   "metadata": {},
   "outputs": [],
   "source": []
  }
 ],
 "metadata": {
  "kernelspec": {
   "display_name": "Python 3 (ipykernel)",
   "language": "python",
   "name": "python3"
  },
  "language_info": {
   "codemirror_mode": {
    "name": "ipython",
    "version": 3
   },
   "file_extension": ".py",
   "mimetype": "text/x-python",
   "name": "python",
   "nbconvert_exporter": "python",
   "pygments_lexer": "ipython3",
   "version": "3.9.12"
  }
 },
 "nbformat": 4,
 "nbformat_minor": 5
}
