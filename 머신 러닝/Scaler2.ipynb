{
 "cells": [
  {
   "cell_type": "markdown",
   "id": "051d2a9e",
   "metadata": {},
   "source": [
    "### 1. 문제정의\n",
    "- iris 데이터에 scaler를 사용하기"
   ]
  },
  {
   "cell_type": "markdown",
   "id": "3e3e53f5",
   "metadata": {},
   "source": [
    "### 2. 데이터 수집\n",
    "- iris 사용"
   ]
  },
  {
   "cell_type": "code",
   "execution_count": 1,
   "id": "5f81859a",
   "metadata": {},
   "outputs": [],
   "source": [
    "import pandas as pd\n",
    "import numpy as np\n",
    "from sklearn.datasets import load_iris"
   ]
  },
  {
   "cell_type": "code",
   "execution_count": 2,
   "id": "d057e19c",
   "metadata": {},
   "outputs": [],
   "source": [
    "iris = load_iris()"
   ]
  },
  {
   "cell_type": "code",
   "execution_count": 4,
   "id": "24282f6a",
   "metadata": {},
   "outputs": [
    {
     "data": {
      "text/plain": [
       "dict_keys(['data', 'target', 'frame', 'target_names', 'DESCR', 'feature_names', 'filename', 'data_module'])"
      ]
     },
     "execution_count": 4,
     "metadata": {},
     "output_type": "execute_result"
    }
   ],
   "source": [
    "iris.keys()"
   ]
  },
  {
   "cell_type": "markdown",
   "id": "727a58c3",
   "metadata": {},
   "source": [
    "### 3. 데이터 전처리\n",
    "- 데이터 구조 확인"
   ]
  },
  {
   "cell_type": "code",
   "execution_count": 5,
   "id": "28183cb2",
   "metadata": {},
   "outputs": [],
   "source": [
    "x = iris.data\n",
    "y= iris.target"
   ]
  },
  {
   "cell_type": "code",
   "execution_count": 9,
   "id": "722cb6a2",
   "metadata": {},
   "outputs": [
    {
     "data": {
      "text/plain": [
       "150"
      ]
     },
     "execution_count": 9,
     "metadata": {},
     "output_type": "execute_result"
    }
   ],
   "source": [
    "len(x)"
   ]
  },
  {
   "cell_type": "code",
   "execution_count": 10,
   "id": "30d8012a",
   "metadata": {},
   "outputs": [
    {
     "data": {
      "text/plain": [
       "150"
      ]
     },
     "execution_count": 10,
     "metadata": {},
     "output_type": "execute_result"
    }
   ],
   "source": [
    "len(y)"
   ]
  },
  {
   "cell_type": "code",
   "execution_count": 11,
   "id": "8f63a2b9",
   "metadata": {},
   "outputs": [
    {
     "name": "stdout",
     "output_type": "stream",
     "text": [
      "데이터셋 크기:  (150, 4)\n"
     ]
    }
   ],
   "source": [
    "print('데이터셋 크기: ', iris['data'].shape)"
   ]
  },
  {
   "cell_type": "code",
   "execution_count": 13,
   "id": "f90be083",
   "metadata": {},
   "outputs": [
    {
     "name": "stdout",
     "output_type": "stream",
     "text": [
      "데이터셋 크기 :  (150,)\n"
     ]
    }
   ],
   "source": [
    "print('데이터셋 크기 : ', iris['target'].shape)"
   ]
  },
  {
   "cell_type": "code",
   "execution_count": 16,
   "id": "8ebe898d",
   "metadata": {},
   "outputs": [
    {
     "data": {
      "text/html": [
       "<div>\n",
       "<style scoped>\n",
       "    .dataframe tbody tr th:only-of-type {\n",
       "        vertical-align: middle;\n",
       "    }\n",
       "\n",
       "    .dataframe tbody tr th {\n",
       "        vertical-align: top;\n",
       "    }\n",
       "\n",
       "    .dataframe thead th {\n",
       "        text-align: right;\n",
       "    }\n",
       "</style>\n",
       "<table border=\"1\" class=\"dataframe\">\n",
       "  <thead>\n",
       "    <tr style=\"text-align: right;\">\n",
       "      <th></th>\n",
       "      <th>sepal length (cm)</th>\n",
       "      <th>sepal width (cm)</th>\n",
       "      <th>petal length (cm)</th>\n",
       "      <th>petal width (cm)</th>\n",
       "    </tr>\n",
       "  </thead>\n",
       "  <tbody>\n",
       "    <tr>\n",
       "      <th>0</th>\n",
       "      <td>5.1</td>\n",
       "      <td>3.5</td>\n",
       "      <td>1.4</td>\n",
       "      <td>0.2</td>\n",
       "    </tr>\n",
       "    <tr>\n",
       "      <th>1</th>\n",
       "      <td>4.9</td>\n",
       "      <td>3.0</td>\n",
       "      <td>1.4</td>\n",
       "      <td>0.2</td>\n",
       "    </tr>\n",
       "    <tr>\n",
       "      <th>2</th>\n",
       "      <td>4.7</td>\n",
       "      <td>3.2</td>\n",
       "      <td>1.3</td>\n",
       "      <td>0.2</td>\n",
       "    </tr>\n",
       "    <tr>\n",
       "      <th>3</th>\n",
       "      <td>4.6</td>\n",
       "      <td>3.1</td>\n",
       "      <td>1.5</td>\n",
       "      <td>0.2</td>\n",
       "    </tr>\n",
       "    <tr>\n",
       "      <th>4</th>\n",
       "      <td>5.0</td>\n",
       "      <td>3.6</td>\n",
       "      <td>1.4</td>\n",
       "      <td>0.2</td>\n",
       "    </tr>\n",
       "    <tr>\n",
       "      <th>...</th>\n",
       "      <td>...</td>\n",
       "      <td>...</td>\n",
       "      <td>...</td>\n",
       "      <td>...</td>\n",
       "    </tr>\n",
       "    <tr>\n",
       "      <th>145</th>\n",
       "      <td>6.7</td>\n",
       "      <td>3.0</td>\n",
       "      <td>5.2</td>\n",
       "      <td>2.3</td>\n",
       "    </tr>\n",
       "    <tr>\n",
       "      <th>146</th>\n",
       "      <td>6.3</td>\n",
       "      <td>2.5</td>\n",
       "      <td>5.0</td>\n",
       "      <td>1.9</td>\n",
       "    </tr>\n",
       "    <tr>\n",
       "      <th>147</th>\n",
       "      <td>6.5</td>\n",
       "      <td>3.0</td>\n",
       "      <td>5.2</td>\n",
       "      <td>2.0</td>\n",
       "    </tr>\n",
       "    <tr>\n",
       "      <th>148</th>\n",
       "      <td>6.2</td>\n",
       "      <td>3.4</td>\n",
       "      <td>5.4</td>\n",
       "      <td>2.3</td>\n",
       "    </tr>\n",
       "    <tr>\n",
       "      <th>149</th>\n",
       "      <td>5.9</td>\n",
       "      <td>3.0</td>\n",
       "      <td>5.1</td>\n",
       "      <td>1.8</td>\n",
       "    </tr>\n",
       "  </tbody>\n",
       "</table>\n",
       "<p>150 rows × 4 columns</p>\n",
       "</div>"
      ],
      "text/plain": [
       "     sepal length (cm)  sepal width (cm)  petal length (cm)  petal width (cm)\n",
       "0                  5.1               3.5                1.4               0.2\n",
       "1                  4.9               3.0                1.4               0.2\n",
       "2                  4.7               3.2                1.3               0.2\n",
       "3                  4.6               3.1                1.5               0.2\n",
       "4                  5.0               3.6                1.4               0.2\n",
       "..                 ...               ...                ...               ...\n",
       "145                6.7               3.0                5.2               2.3\n",
       "146                6.3               2.5                5.0               1.9\n",
       "147                6.5               3.0                5.2               2.0\n",
       "148                6.2               3.4                5.4               2.3\n",
       "149                5.9               3.0                5.1               1.8\n",
       "\n",
       "[150 rows x 4 columns]"
      ]
     },
     "execution_count": 16,
     "metadata": {},
     "output_type": "execute_result"
    }
   ],
   "source": [
    "# 데이터프레임 형태로 변환\n",
    "df = pd.DataFrame(x,columns = iris.feature_names)\n",
    "df"
   ]
  },
  {
   "cell_type": "code",
   "execution_count": 17,
   "id": "2b7897da",
   "metadata": {},
   "outputs": [
    {
     "data": {
      "text/html": [
       "<div>\n",
       "<style scoped>\n",
       "    .dataframe tbody tr th:only-of-type {\n",
       "        vertical-align: middle;\n",
       "    }\n",
       "\n",
       "    .dataframe tbody tr th {\n",
       "        vertical-align: top;\n",
       "    }\n",
       "\n",
       "    .dataframe thead th {\n",
       "        text-align: right;\n",
       "    }\n",
       "</style>\n",
       "<table border=\"1\" class=\"dataframe\">\n",
       "  <thead>\n",
       "    <tr style=\"text-align: right;\">\n",
       "      <th></th>\n",
       "      <th>sepal lenght</th>\n",
       "      <th>sepal width</th>\n",
       "      <th>petal length</th>\n",
       "      <th>petal width</th>\n",
       "    </tr>\n",
       "  </thead>\n",
       "  <tbody>\n",
       "    <tr>\n",
       "      <th>0</th>\n",
       "      <td>5.1</td>\n",
       "      <td>3.5</td>\n",
       "      <td>1.4</td>\n",
       "      <td>0.2</td>\n",
       "    </tr>\n",
       "    <tr>\n",
       "      <th>1</th>\n",
       "      <td>4.9</td>\n",
       "      <td>3.0</td>\n",
       "      <td>1.4</td>\n",
       "      <td>0.2</td>\n",
       "    </tr>\n",
       "    <tr>\n",
       "      <th>2</th>\n",
       "      <td>4.7</td>\n",
       "      <td>3.2</td>\n",
       "      <td>1.3</td>\n",
       "      <td>0.2</td>\n",
       "    </tr>\n",
       "    <tr>\n",
       "      <th>3</th>\n",
       "      <td>4.6</td>\n",
       "      <td>3.1</td>\n",
       "      <td>1.5</td>\n",
       "      <td>0.2</td>\n",
       "    </tr>\n",
       "    <tr>\n",
       "      <th>4</th>\n",
       "      <td>5.0</td>\n",
       "      <td>3.6</td>\n",
       "      <td>1.4</td>\n",
       "      <td>0.2</td>\n",
       "    </tr>\n",
       "  </tbody>\n",
       "</table>\n",
       "</div>"
      ],
      "text/plain": [
       "   sepal lenght  sepal width  petal length  petal width\n",
       "0           5.1          3.5           1.4          0.2\n",
       "1           4.9          3.0           1.4          0.2\n",
       "2           4.7          3.2           1.3          0.2\n",
       "3           4.6          3.1           1.5          0.2\n",
       "4           5.0          3.6           1.4          0.2"
      ]
     },
     "execution_count": 17,
     "metadata": {},
     "output_type": "execute_result"
    }
   ],
   "source": [
    "df.columns = ['sepal lenght', 'sepal width', 'petal length', 'petal width']\n",
    "df.head()"
   ]
  },
  {
   "cell_type": "markdown",
   "id": "aab241a0",
   "metadata": {},
   "source": [
    "### scaler 적용"
   ]
  },
  {
   "cell_type": "code",
   "execution_count": 43,
   "id": "042d50da",
   "metadata": {},
   "outputs": [],
   "source": [
    "from sklearn.preprocessing import StandardScaler\n",
    "from sklearn.preprocessing import RobustScaler\n",
    "from sklearn.preprocessing import MinMaxScaler\n",
    "from sklearn.preprocessing import Normalizer"
   ]
  },
  {
   "cell_type": "code",
   "execution_count": 44,
   "id": "c33abe26",
   "metadata": {},
   "outputs": [],
   "source": [
    "#스케일러 모델링\n",
    "#학습\n",
    "#데이터 변환\n",
    "scaler = StandardScaler()\n",
    "scaler.fit(df)\n",
    "x_scaled = scaler.transform(df)"
   ]
  },
  {
   "cell_type": "code",
   "execution_count": 45,
   "id": "6f8ba0d7",
   "metadata": {},
   "outputs": [],
   "source": [
    "# 스케일러 학습과 변환을 동시에\n",
    "# x_scaled = scaler.fit_transform(df)z"
   ]
  },
  {
   "cell_type": "code",
   "execution_count": 46,
   "id": "84fbdc20",
   "metadata": {
    "scrolled": true
   },
   "outputs": [
    {
     "data": {
      "text/html": [
       "<div>\n",
       "<style scoped>\n",
       "    .dataframe tbody tr th:only-of-type {\n",
       "        vertical-align: middle;\n",
       "    }\n",
       "\n",
       "    .dataframe tbody tr th {\n",
       "        vertical-align: top;\n",
       "    }\n",
       "\n",
       "    .dataframe thead th {\n",
       "        text-align: right;\n",
       "    }\n",
       "</style>\n",
       "<table border=\"1\" class=\"dataframe\">\n",
       "  <thead>\n",
       "    <tr style=\"text-align: right;\">\n",
       "      <th></th>\n",
       "      <th>sepal length (cm)</th>\n",
       "      <th>sepal width (cm)</th>\n",
       "      <th>petal length (cm)</th>\n",
       "      <th>petal width (cm)</th>\n",
       "    </tr>\n",
       "  </thead>\n",
       "  <tbody>\n",
       "    <tr>\n",
       "      <th>0</th>\n",
       "      <td>-0.900681</td>\n",
       "      <td>1.019004</td>\n",
       "      <td>-1.340227</td>\n",
       "      <td>-1.315444</td>\n",
       "    </tr>\n",
       "    <tr>\n",
       "      <th>1</th>\n",
       "      <td>-1.143017</td>\n",
       "      <td>-0.131979</td>\n",
       "      <td>-1.340227</td>\n",
       "      <td>-1.315444</td>\n",
       "    </tr>\n",
       "    <tr>\n",
       "      <th>2</th>\n",
       "      <td>-1.385353</td>\n",
       "      <td>0.328414</td>\n",
       "      <td>-1.397064</td>\n",
       "      <td>-1.315444</td>\n",
       "    </tr>\n",
       "    <tr>\n",
       "      <th>3</th>\n",
       "      <td>-1.506521</td>\n",
       "      <td>0.098217</td>\n",
       "      <td>-1.283389</td>\n",
       "      <td>-1.315444</td>\n",
       "    </tr>\n",
       "    <tr>\n",
       "      <th>4</th>\n",
       "      <td>-1.021849</td>\n",
       "      <td>1.249201</td>\n",
       "      <td>-1.340227</td>\n",
       "      <td>-1.315444</td>\n",
       "    </tr>\n",
       "    <tr>\n",
       "      <th>...</th>\n",
       "      <td>...</td>\n",
       "      <td>...</td>\n",
       "      <td>...</td>\n",
       "      <td>...</td>\n",
       "    </tr>\n",
       "    <tr>\n",
       "      <th>145</th>\n",
       "      <td>1.038005</td>\n",
       "      <td>-0.131979</td>\n",
       "      <td>0.819596</td>\n",
       "      <td>1.448832</td>\n",
       "    </tr>\n",
       "    <tr>\n",
       "      <th>146</th>\n",
       "      <td>0.553333</td>\n",
       "      <td>-1.282963</td>\n",
       "      <td>0.705921</td>\n",
       "      <td>0.922303</td>\n",
       "    </tr>\n",
       "    <tr>\n",
       "      <th>147</th>\n",
       "      <td>0.795669</td>\n",
       "      <td>-0.131979</td>\n",
       "      <td>0.819596</td>\n",
       "      <td>1.053935</td>\n",
       "    </tr>\n",
       "    <tr>\n",
       "      <th>148</th>\n",
       "      <td>0.432165</td>\n",
       "      <td>0.788808</td>\n",
       "      <td>0.933271</td>\n",
       "      <td>1.448832</td>\n",
       "    </tr>\n",
       "    <tr>\n",
       "      <th>149</th>\n",
       "      <td>0.068662</td>\n",
       "      <td>-0.131979</td>\n",
       "      <td>0.762758</td>\n",
       "      <td>0.790671</td>\n",
       "    </tr>\n",
       "  </tbody>\n",
       "</table>\n",
       "<p>150 rows × 4 columns</p>\n",
       "</div>"
      ],
      "text/plain": [
       "     sepal length (cm)  sepal width (cm)  petal length (cm)  petal width (cm)\n",
       "0            -0.900681          1.019004          -1.340227         -1.315444\n",
       "1            -1.143017         -0.131979          -1.340227         -1.315444\n",
       "2            -1.385353          0.328414          -1.397064         -1.315444\n",
       "3            -1.506521          0.098217          -1.283389         -1.315444\n",
       "4            -1.021849          1.249201          -1.340227         -1.315444\n",
       "..                 ...               ...                ...               ...\n",
       "145           1.038005         -0.131979           0.819596          1.448832\n",
       "146           0.553333         -1.282963           0.705921          0.922303\n",
       "147           0.795669         -0.131979           0.819596          1.053935\n",
       "148           0.432165          0.788808           0.933271          1.448832\n",
       "149           0.068662         -0.131979           0.762758          0.790671\n",
       "\n",
       "[150 rows x 4 columns]"
      ]
     },
     "execution_count": 46,
     "metadata": {},
     "output_type": "execute_result"
    }
   ],
   "source": [
    "scale_df = pd.DataFrame(x_scaled, columns=iris.feature_names)\n",
    "scale_df"
   ]
  },
  {
   "cell_type": "code",
   "execution_count": 47,
   "id": "b731b828",
   "metadata": {},
   "outputs": [
    {
     "data": {
      "text/plain": [
       "(150, 4)"
      ]
     },
     "execution_count": 47,
     "metadata": {},
     "output_type": "execute_result"
    }
   ],
   "source": [
    "scale_df.shape"
   ]
  },
  {
   "cell_type": "markdown",
   "id": "1d9c8605",
   "metadata": {},
   "source": [
    "### 4. EDA(탐색적 분석) - 시각화 등"
   ]
  },
  {
   "cell_type": "code",
   "execution_count": 48,
   "id": "4e8f12b3",
   "metadata": {},
   "outputs": [],
   "source": [
    "import matplotlib.pyplot as plt\n",
    "import seaborn as sns\n",
    "sns.set(font_scale =1.2)"
   ]
  },
  {
   "cell_type": "code",
   "execution_count": 49,
   "id": "efaa8e7f",
   "metadata": {},
   "outputs": [
    {
     "data": {
      "text/plain": [
       "<AxesSubplot:>"
      ]
     },
     "execution_count": 49,
     "metadata": {},
     "output_type": "execute_result"
    },
    {
     "data": {
      "image/png": "[encoded data removed]",
      "text/plain": [
       "<Figure size 432x288 with 2 Axes>"
      ]
     },
     "metadata": {},
     "output_type": "display_data"
    }
   ],
   "source": [
    "sns.heatmap(data=scale_df.corr(), square=True)"
   ]
  },
  {
   "cell_type": "markdown",
   "id": "753bd581",
   "metadata": {},
   "source": [
    "### 5~7 모델링(모델선택, 모델학습, 모델평가)"
   ]
  },
  {
   "cell_type": "code",
   "execution_count": 50,
   "id": "84b83655",
   "metadata": {},
   "outputs": [],
   "source": [
    "from sklearn.model_selection import train_test_split"
   ]
  },
  {
   "cell_type": "code",
   "execution_count": 51,
   "id": "6b986979",
   "metadata": {},
   "outputs": [],
   "source": [
    "x_train,x_test,y_train,y_test = train_test_split(scale_df,y,shuffle=True,random_state=0)"
   ]
  },
  {
   "cell_type": "code",
   "execution_count": 52,
   "id": "dd406191",
   "metadata": {},
   "outputs": [
    {
     "data": {
      "text/plain": [
       "(112, 4)"
      ]
     },
     "execution_count": 52,
     "metadata": {},
     "output_type": "execute_result"
    }
   ],
   "source": [
    "x_train.shape"
   ]
  },
  {
   "cell_type": "code",
   "execution_count": 53,
   "id": "c71a883c",
   "metadata": {},
   "outputs": [
    {
     "data": {
      "text/plain": [
       "(112,)"
      ]
     },
     "execution_count": 53,
     "metadata": {},
     "output_type": "execute_result"
    }
   ],
   "source": [
    "y_train.shape"
   ]
  },
  {
   "cell_type": "code",
   "execution_count": 55,
   "id": "1fc4eca0",
   "metadata": {},
   "outputs": [
    {
     "data": {
      "text/plain": [
       "(38, 4)"
      ]
     },
     "execution_count": 55,
     "metadata": {},
     "output_type": "execute_result"
    }
   ],
   "source": [
    "x_test.shape"
   ]
  },
  {
   "cell_type": "code",
   "execution_count": 56,
   "id": "9c23e522",
   "metadata": {},
   "outputs": [
    {
     "data": {
      "text/plain": [
       "(38,)"
      ]
     },
     "execution_count": 56,
     "metadata": {},
     "output_type": "execute_result"
    }
   ],
   "source": [
    "y_test.shape"
   ]
  },
  {
   "cell_type": "markdown",
   "id": "70757081",
   "metadata": {},
   "source": [
    "## < KNN,DT,SVM,로지스틱 회귀>"
   ]
  },
  {
   "cell_type": "markdown",
   "id": "f2d3c496",
   "metadata": {},
   "source": [
    "### [KNN]\n",
    "- KNN 분류 알고리즘은 예측하려는 데이터(x)가 주어지면, 기존 데이터 중 속성이 비슷한 k개의 이웃을 먼저 찾는 알고리즘\n",
    "- x 데이터에 가까이 있는 k개의 이웃을 찾고, 이 이웃데이터 중에 가장 많이 속해있는 lable으로 예측값을 결정하는 알고리즘\n",
    "- k값에 따라 모델의 예측력이 달리지기 때문에 적절한 k개수를 정해줘야 함"
   ]
  },
  {
   "cell_type": "code",
   "execution_count": 70,
   "id": "76b75d83",
   "metadata": {},
   "outputs": [
    {
     "data": {
      "text/plain": [
       "0.9736842105263158"
      ]
     },
     "execution_count": 70,
     "metadata": {},
     "output_type": "execute_result"
    }
   ],
   "source": [
    "from sklearn.neighbors import KNeighborsClassifier\n",
    "# 모델정의 - 하이퍼파라미터(n_neighbors=)\n",
    "knn = KNeighborsClassifier(n_neighbors=5)\n",
    "# 학습\n",
    "knn.fit(x_train,y_train)\n",
    "# 예측\n",
    "pred = knn.predict(x_test)\n",
    "# 평가\n",
    "knn.score(x_test, y_test)"
   ]
  },
  {
   "cell_type": "code",
   "execution_count": 71,
   "id": "5583fd01",
   "metadata": {},
   "outputs": [
    {
     "data": {
      "text/plain": [
       "0.9736842105263158"
      ]
     },
     "execution_count": 71,
     "metadata": {},
     "output_type": "execute_result"
    }
   ],
   "source": [
    "from sklearn.metrics import accuracy_score\n",
    "\n",
    "acc= accuracy_score(y_test, pred)\n",
    "acc"
   ]
  },
  {
   "cell_type": "markdown",
   "id": "c2ec495f",
   "metadata": {},
   "source": [
    "### [Logistic Regression]\n",
    "- 이름은 회귀지만 분류 알고리즘\n",
    "- 시그모이드 함수 출력값(0-1사이)을 각 분류 클래스에 속하게 될 확률값으로 사용\n",
    "- 1에 가까우면 해당 클래스로 분류를 하고, 0에 가까우면 "
   ]
  },
  {
   "cell_type": "code",
   "execution_count": 74,
   "id": "74752e5e",
   "metadata": {},
   "outputs": [
    {
     "name": "stdout",
     "output_type": "stream",
     "text": [
      "0.9736842105263158\n",
      "0.9736842105263158\n"
     ]
    }
   ],
   "source": [
    "from sklearn.linear_model import LogisticRegression\n",
    "\n",
    "# 모델생성\n",
    "log = LogisticRegression()\n",
    "# 학습\n",
    "log.fit(x_train,y_train)\n",
    "# 예측\n",
    "pred1 = log.predict(x_test)\n",
    "# 평가\n",
    "print(log.score(x_test, y_test))\n",
    "print(accuracy_score(y_test, pred1))"
   ]
  },
  {
   "cell_type": "code",
   "execution_count": 75,
   "id": "cb040c9e",
   "metadata": {},
   "outputs": [
    {
     "data": {
      "text/plain": [
       "array([[-8.96504595e+00, -3.53269217e+00, -2.97933754e-02],\n",
       "       [-5.16286589e+00, -4.70827246e-02, -3.21224144e+00],\n",
       "       [-4.20951033e-03, -5.47252521e+00, -1.67833097e+01],\n",
       "       [-1.07393958e+01, -2.53099573e+00, -8.29484579e-02],\n",
       "       [-2.35910243e-02, -3.75868818e+00, -1.42825152e+01],\n",
       "       [-1.03063476e+01, -4.67371473e+00, -9.41512241e-03],\n",
       "       [-1.63654703e-02, -4.12078191e+00, -1.45792376e+01],\n",
       "       [-5.04687677e+00, -3.27604541e-01, -1.29856679e+00],\n",
       "       [-6.15061162e+00, -3.09365141e-01, -1.33197633e+00],\n",
       "       [-3.83482180e+00, -1.07069201e-01, -2.52658757e+00],\n",
       "       [-6.66235119e+00, -8.21707788e-01, -5.81531157e-01],\n",
       "       [-3.92594124e+00, -2.64106818e-01, -1.54935496e+00],\n",
       "       [-4.34438098e+00, -1.51815667e-01, -2.05671125e+00],\n",
       "       [-5.58829782e+00, -3.57998786e-01, -1.21340150e+00],\n",
       "       [-4.39575571e+00, -2.82225034e-01, -1.45428855e+00],\n",
       "       [-8.37742408e-03, -4.78641419e+00, -1.59914244e+01],\n",
       "       [-4.20224521e+00, -3.22573133e-01, -1.34417365e+00],\n",
       "       [-3.60131581e+00, -1.43705938e-01, -2.23895514e+00],\n",
       "       [-6.03345666e-02, -2.83791455e+00, -1.27646877e+01],\n",
       "       [-1.07899172e-02, -4.53456390e+00, -1.49286106e+01],\n",
       "       [-6.21502361e+00, -1.81749907e+00, -1.79641922e-01],\n",
       "       [-3.14188704e+00, -3.40397781e-01, -1.40522624e+00],\n",
       "       [-2.26434640e-02, -3.79923064e+00, -1.37809418e+01],\n",
       "       [-3.51604585e-02, -3.36539827e+00, -1.35867371e+01],\n",
       "       [-6.26972170e+00, -1.06980080e+00, -4.23073644e-01],\n",
       "       [-3.85378777e-03, -5.56063742e+00, -1.68611244e+01],\n",
       "       [-1.39966697e-02, -4.27600056e+00, -1.37801545e+01],\n",
       "       [-3.97727586e+00, -1.33284834e-01, -2.24386700e+00],\n",
       "       [-2.42817483e+00, -1.09138981e-01, -4.18668747e+00],\n",
       "       [-3.26301842e-02, -3.43885714e+00, -1.30217906e+01],\n",
       "       [-6.74961011e+00, -1.55731777e+00, -2.38094508e-01],\n",
       "       [-2.78844641e+00, -3.64046001e-01, -1.41212898e+00],\n",
       "       [-2.48612402e-02, -3.70687466e+00, -1.43241661e+01],\n",
       "       [-5.51024114e+00, -1.06297520e+00, -4.29970477e-01],\n",
       "       [-1.00742405e+01, -3.33609211e+00, -3.62676561e-02],\n",
       "       [-2.59839271e+00, -2.04949285e-01, -2.19896125e+00],\n",
       "       [-3.21575666e-02, -3.45317957e+00, -1.36750307e+01],\n",
       "       [-6.02458739e+00, -8.71021582e-01, -5.46353192e-01]])"
      ]
     },
     "execution_count": 75,
     "metadata": {},
     "output_type": "execute_result"
    }
   ],
   "source": [
    "# predict_proba를 사용하면 각 클래스에 속할 확률값을 예측 할 수 있다.\n",
    "prob = log.predict_log_proba(x_test)\n",
    "prob"
   ]
  },
  {
   "cell_type": "markdown",
   "id": "e688e736",
   "metadata": {},
   "source": [
    "### [Decision Tree]\n",
    "- 의사결정나무 모델은 트리 알고리즘을 사용\n",
    "- 트리의 각 분기점(node)에 데이터셋의 피처를 하나씩 위치시킴\n",
    "- 각 노드에서 해당 피처에 관해서 임의의 조건식을 가지고 계속 2개 이상의 줄기로 가지를 나누면서 데이터를 구분함\n",
    "- 이때, 각 분기점에서 분류가 가장 잘 되는 최적의 기준을 찾는 과정이 중요\n",
    "- 하이퍼파라미터가 많음 -> 과대적합을 방지 필요"
   ]
  },
  {
   "cell_type": "code",
   "execution_count": 76,
   "id": "6dbe0368",
   "metadata": {},
   "outputs": [
    {
     "name": "stdout",
     "output_type": "stream",
     "text": [
      "0.9736842105263158\n",
      "0.9736842105263158\n"
     ]
    }
   ],
   "source": [
    "from sklearn.tree import DecisionTreeClassifier\n",
    "#모델 생성\n",
    "tree = DecisionTreeClassifier(max_depth=3, random_state=0)\n",
    "# 학습\n",
    "tree.fit(x_train,y_train)\n",
    "# 예측\n",
    "pred2 = tree.predict(x_test)\n",
    "# 평가\n",
    "print(tree.score(x_test, y_test))\n",
    "print(accuracy_score(y_test, pred2))"
   ]
  },
  {
   "cell_type": "code",
   "execution_count": 77,
   "id": "ec8fc5e1",
   "metadata": {},
   "outputs": [
    {
     "data": {
      "text/plain": [
       "array([2, 1, 0, 2, 0, 2, 0, 1, 1, 1, 2, 1, 1, 1, 1, 0, 1, 1, 0, 0, 2, 1,\n",
       "       0, 0, 2, 0, 0, 1, 1, 0, 2, 1, 0, 2, 2, 1, 0, 2])"
      ]
     },
     "execution_count": 77,
     "metadata": {},
     "output_type": "execute_result"
    }
   ],
   "source": [
    "pred2"
   ]
  },
  {
   "cell_type": "markdown",
   "id": "8e0965b0",
   "metadata": {},
   "source": [
    "### [SVM]\n",
    "- svm 알고리즘은 데이터셋의 각 피처(열) 벡터들이 고유의 축을 갖는 벡터 공간을 이룬다고 가정\n",
    "- 모든 데이터를 베터 공간 내의 좌표에 점으로 표시하고, 각 데이터가 속하는 목표 클래스(label) 별로 나뉜다고 생각을 하면됨\n",
    "- hyper plane(초평면) : 데이처 차원이 N차원을 가지고 있으면, N-1 차원을 가지subspace 표현이 됨\n",
    "- support vector : 각 클래스별로 최외각에 있는 벡터\n",
    "- magin : 각 레이블들 사이의 여백\n",
    "- c : 이상치 - hard margin(이상치 허용X) / soft margin(이상치 허용o)\n",
    "- gamma : 결정경계의 곡률을 결정하는데 사용이 됨\n",
    "- kernel : 'linear'- 선형, 'poly'- 다항식, 'rbf'- 가우시안 함수"
   ]
  },
  {
   "cell_type": "code",
   "execution_count": 80,
   "id": "f660650b",
   "metadata": {},
   "outputs": [
    {
     "name": "stdout",
     "output_type": "stream",
     "text": [
      "0.9736842105263158\n",
      "0.9736842105263158\n"
     ]
    }
   ],
   "source": [
    "from sklearn.svm import SVC\n",
    "svc =SVC(kernel='linear')       #'linear','poly','rbf'\n",
    "# 학습\n",
    "svc.fit(x_train,y_train)\n",
    "# 예측\n",
    "pred3 = svc.predict(x_test)\n",
    "# 평가\n",
    "print(svc.score(x_test, y_test))\n",
    "print(accuracy_score(y_test, pred3))"
   ]
  },
  {
   "cell_type": "code",
   "execution_count": null,
   "id": "2e6be956",
   "metadata": {},
   "outputs": [],
   "source": []
  },
  {
   "cell_type": "code",
   "execution_count": null,
   "id": "f31494b2",
   "metadata": {},
   "outputs": [],
   "source": []
  },
  {
   "cell_type": "code",
   "execution_count": null,
   "id": "58b55736",
   "metadata": {},
   "outputs": [],
   "source": []
  },
  {
   "cell_type": "code",
   "execution_count": null,
   "id": "a7db3fcc",
   "metadata": {},
   "outputs": [],
   "source": []
  },
  {
   "cell_type": "code",
   "execution_count": null,
   "id": "25e3fe5e",
   "metadata": {},
   "outputs": [],
   "source": []
  },
  {
   "cell_type": "code",
   "execution_count": null,
   "id": "4427cedc",
   "metadata": {},
   "outputs": [],
   "source": []
  },
  {
   "cell_type": "code",
   "execution_count": null,
   "id": "050e5d86",
   "metadata": {},
   "outputs": [],
   "source": []
  },
  {
   "cell_type": "code",
   "execution_count": null,
   "id": "ae42bb1e",
   "metadata": {},
   "outputs": [],
   "source": []
  },
  {
   "cell_type": "code",
   "execution_count": null,
   "id": "bb0a5061",
   "metadata": {},
   "outputs": [],
   "source": []
  },
  {
   "cell_type": "code",
   "execution_count": null,
   "id": "575b2415",
   "metadata": {},
   "outputs": [],
   "source": []
  },
  {
   "cell_type": "code",
   "execution_count": null,
   "id": "af0306f7",
   "metadata": {},
   "outputs": [],
   "source": []
  },
  {
   "cell_type": "code",
   "execution_count": null,
   "id": "1c055c7e",
   "metadata": {},
   "outputs": [],
   "source": []
  },
  {
   "cell_type": "code",
   "execution_count": null,
   "id": "ff9fc664",
   "metadata": {},
   "outputs": [],
   "source": []
  },
  {
   "cell_type": "code",
   "execution_count": null,
   "id": "c88f6215",
   "metadata": {},
   "outputs": [],
   "source": []
  }
 ],
 "metadata": {
  "kernelspec": {
   "display_name": "Python 3 (ipykernel)",
   "language": "python",
   "name": "python3"
  },
  "language_info": {
   "codemirror_mode": {
    "name": "ipython",
    "version": 3
   },
   "file_extension": ".py",
   "mimetype": "text/x-python",
   "name": "python",
   "nbconvert_exporter": "python",
   "pygments_lexer": "ipython3",
   "version": "3.9.12"
  }
 },
 "nbformat": 4,
 "nbformat_minor": 5
}
