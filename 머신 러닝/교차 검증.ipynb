{
 "cells": [
  {
   "cell_type": "markdown",
   "id": "76d9b51a",
   "metadata": {},
   "source": [
    "## k-fold"
   ]
  },
  {
   "cell_type": "code",
   "execution_count": 3,
   "id": "74a0da83",
   "metadata": {},
   "outputs": [],
   "source": [
    "import numpy as np\n",
    "import pandas as pd\n",
    "from sklearn.model_selection import KFold\n",
    "\n",
    "x_data = np.array([\n",
    "    [2,1],\n",
    "    [3,2],\n",
    "    [3,4],\n",
    "    [5,5],\n",
    "    [7,5],\n",
    "    [2,5],\n",
    "    [8,9],\n",
    "    [9,10],\n",
    "    [6,12],\n",
    "    [9,2],\n",
    "    [6,10],\n",
    "    [2,4]\n",
    "])"
   ]
  },
  {
   "cell_type": "code",
   "execution_count": 4,
   "id": "9a5491c0",
   "metadata": {},
   "outputs": [],
   "source": [
    "kf = KFold(n_splits=5)"
   ]
  },
  {
   "cell_type": "code",
   "execution_count": 5,
   "id": "d5530e99",
   "metadata": {},
   "outputs": [
    {
     "name": "stdout",
     "output_type": "stream",
     "text": [
      "trian_index : [ 3  4  5  6  7  8  9 10 11]\n",
      "test_index : [0 1 2]\n",
      "trian_index : [ 0  1  2  6  7  8  9 10 11]\n",
      "test_index : [3 4 5]\n",
      "trian_index : [ 0  1  2  3  4  5  8  9 10 11]\n",
      "test_index : [6 7]\n",
      "trian_index : [ 0  1  2  3  4  5  6  7 10 11]\n",
      "test_index : [8 9]\n",
      "trian_index : [0 1 2 3 4 5 6 7 8 9]\n",
      "test_index : [10 11]\n"
     ]
    }
   ],
   "source": [
    "for train_index, test_index in kf.split(x_data):\n",
    "    print('trian_index :', train_index)\n",
    "    print('test_index :', test_index)"
   ]
  },
  {
   "cell_type": "markdown",
   "id": "61482d09",
   "metadata": {},
   "source": [
    "#### K=Fold 교차검증 -> 보통 회귀 문제에서 사용됨\n",
    "- 학습 데이터와 테스트 에이터를 k개의 세트로 나누어 검증하는 방법\n",
    "- 데이터셋이 굉장히 적을 때 훈련데이터를 어떻게든 최대한 늘려보려고 사용되기도 하는 방법\n",
    "- 여러 개의 훈련 테스트 짝으로 검증과정을 거침"
   ]
  },
  {
   "cell_type": "code",
   "execution_count": 7,
   "id": "95ebc628",
   "metadata": {},
   "outputs": [],
   "source": [
    "from sklearn.model_selection import train_test_split\n",
    "from sklearn.linear_model import LinearRegression"
   ]
  },
  {
   "cell_type": "markdown",
   "id": "490eaeea",
   "metadata": {},
   "source": [
    "### 2. 데이터 수집"
   ]
  },
  {
   "cell_type": "code",
   "execution_count": 8,
   "id": "6ac669ef",
   "metadata": {},
   "outputs": [],
   "source": [
    "x_data = np.array([\n",
    "    [2,1],\n",
    "    [3,2],\n",
    "    [3,4],\n",
    "    [5,5],\n",
    "    [7,5],\n",
    "    [2,5],\n",
    "    [8,9],\n",
    "    [9,10],\n",
    "    [6,12],\n",
    "    [9,2],\n",
    "    [6,10],\n",
    "    [2,4]\n",
    "])\n",
    "\n",
    "y_data = np.array([3, 5, 7, 10, 12, 7, 13, 13, 12, 13, 12, 6])"
   ]
  },
  {
   "cell_type": "markdown",
   "id": "005890b5",
   "metadata": {},
   "source": [
    "### 3. 데이처 전처리"
   ]
  },
  {
   "cell_type": "markdown",
   "id": "b4789800",
   "metadata": {},
   "source": [
    "### 4. EDA"
   ]
  },
  {
   "cell_type": "markdown",
   "id": "bdc0b8c5",
   "metadata": {},
   "source": [
    "### 5~7 모델링(모델선택, 학습, 평가)"
   ]
  },
  {
   "cell_type": "code",
   "execution_count": 9,
   "id": "629a18a3",
   "metadata": {},
   "outputs": [],
   "source": [
    "lr = LinearRegression()"
   ]
  },
  {
   "cell_type": "code",
   "execution_count": 12,
   "id": "ad7600d9",
   "metadata": {},
   "outputs": [],
   "source": [
    "train_scores = []\n",
    "test_scores = []\n",
    "\n",
    "kf = KFold(n_splits=5)\n",
    "for train_index, test_index in kf.split(x_data):  # 5번 검증\n",
    "    x_train = np.array(x_data)[train_index]\n",
    "    y_train = np.array(y_data)[train_index]\n",
    "    x_test = np.array(x_data)[test_index]\n",
    "    y_test = np.array(y_data)[test_index]\n",
    "\n",
    "    model_kf = LinearRegression()\n",
    "    model_kf.fit(x_train, y_train)\n",
    "    \n",
    "    score= model_kf.score(x_train, y_train)   #R2\n",
    "    train_scores.append(score)\n",
    "    \n",
    "    score= model_kf.score(x_test, y_test)     #R2\n",
    "    test_scores.append(score)"
   ]
  },
  {
   "cell_type": "code",
   "execution_count": 13,
   "id": "1389dadf",
   "metadata": {},
   "outputs": [
    {
     "data": {
      "text/plain": [
       "[0.9522707858769932,\n",
       " 0.9469593697441799,\n",
       " 0.9446524178499608,\n",
       " 0.9232432525564045,\n",
       " 0.9166499001004778]"
      ]
     },
     "execution_count": 13,
     "metadata": {},
     "output_type": "execute_result"
    }
   ],
   "source": [
    "train_scores"
   ]
  },
  {
   "cell_type": "code",
   "execution_count": 14,
   "id": "b882a6c1",
   "metadata": {},
   "outputs": [
    {
     "data": {
      "text/plain": [
       "[-1.1475590101753324,\n",
       " 0.56847222331606,\n",
       " 0.0,\n",
       " -11.7747639790487,\n",
       " 0.9602035173350366]"
      ]
     },
     "execution_count": 14,
     "metadata": {},
     "output_type": "execute_result"
    }
   ],
   "source": [
    "test_scores"
   ]
  },
  {
   "cell_type": "code",
   "execution_count": 15,
   "id": "a2cf1725",
   "metadata": {},
   "outputs": [
    {
     "name": "stdout",
     "output_type": "stream",
     "text": [
      "0.9367551452256032\n"
     ]
    }
   ],
   "source": [
    "print(np.array(train_scores).mean())"
   ]
  },
  {
   "cell_type": "code",
   "execution_count": 16,
   "id": "80c7d7b8",
   "metadata": {},
   "outputs": [
    {
     "name": "stdout",
     "output_type": "stream",
     "text": [
      "-2.278729449714587\n"
     ]
    }
   ],
   "source": [
    "print(np.array(test_scores).mean())"
   ]
  },
  {
   "cell_type": "markdown",
   "id": "0ffe6a8f",
   "metadata": {},
   "source": [
    "#### cross_validation"
   ]
  },
  {
   "cell_type": "code",
   "execution_count": 24,
   "id": "09cf0d35",
   "metadata": {},
   "outputs": [],
   "source": [
    "from sklearn.model_selection import cross_validate"
   ]
  },
  {
   "cell_type": "code",
   "execution_count": 25,
   "id": "629715c1",
   "metadata": {},
   "outputs": [],
   "source": [
    "model = LinearRegression()"
   ]
  },
  {
   "cell_type": "code",
   "execution_count": 26,
   "id": "984a12d4",
   "metadata": {},
   "outputs": [],
   "source": [
    "cv_results= cross_validate(model, x_data, y_data)"
   ]
  },
  {
   "cell_type": "code",
   "execution_count": 27,
   "id": "d42bc7e3",
   "metadata": {},
   "outputs": [
    {
     "name": "stdout",
     "output_type": "stream",
     "text": [
      "-2.278729449714587\n"
     ]
    }
   ],
   "source": [
    "print(cv_results['test_score'].mean())"
   ]
  },
  {
   "cell_type": "code",
   "execution_count": 28,
   "id": "0f758578",
   "metadata": {},
   "outputs": [],
   "source": [
    "df = pd.DataFrame(cv_results)\n",
    "df= df.sort_values(by='test_score', ascending=False)"
   ]
  },
  {
   "cell_type": "code",
   "execution_count": 29,
   "id": "86c5fbcf",
   "metadata": {},
   "outputs": [
    {
     "data": {
      "text/html": [
       "<div>\n",
       "<style scoped>\n",
       "    .dataframe tbody tr th:only-of-type {\n",
       "        vertical-align: middle;\n",
       "    }\n",
       "\n",
       "    .dataframe tbody tr th {\n",
       "        vertical-align: top;\n",
       "    }\n",
       "\n",
       "    .dataframe thead th {\n",
       "        text-align: right;\n",
       "    }\n",
       "</style>\n",
       "<table border=\"1\" class=\"dataframe\">\n",
       "  <thead>\n",
       "    <tr style=\"text-align: right;\">\n",
       "      <th></th>\n",
       "      <th>fit_time</th>\n",
       "      <th>score_time</th>\n",
       "      <th>test_score</th>\n",
       "    </tr>\n",
       "  </thead>\n",
       "  <tbody>\n",
       "    <tr>\n",
       "      <th>4</th>\n",
       "      <td>0.000000</td>\n",
       "      <td>0.001</td>\n",
       "      <td>0.960204</td>\n",
       "    </tr>\n",
       "    <tr>\n",
       "      <th>1</th>\n",
       "      <td>0.001000</td>\n",
       "      <td>0.000</td>\n",
       "      <td>0.568472</td>\n",
       "    </tr>\n",
       "    <tr>\n",
       "      <th>2</th>\n",
       "      <td>0.001000</td>\n",
       "      <td>0.000</td>\n",
       "      <td>0.000000</td>\n",
       "    </tr>\n",
       "    <tr>\n",
       "      <th>0</th>\n",
       "      <td>0.001001</td>\n",
       "      <td>0.000</td>\n",
       "      <td>-1.147559</td>\n",
       "    </tr>\n",
       "    <tr>\n",
       "      <th>3</th>\n",
       "      <td>0.000999</td>\n",
       "      <td>0.000</td>\n",
       "      <td>-11.774764</td>\n",
       "    </tr>\n",
       "  </tbody>\n",
       "</table>\n",
       "</div>"
      ],
      "text/plain": [
       "   fit_time  score_time  test_score\n",
       "4  0.000000       0.001    0.960204\n",
       "1  0.001000       0.000    0.568472\n",
       "2  0.001000       0.000    0.000000\n",
       "0  0.001001       0.000   -1.147559\n",
       "3  0.000999       0.000  -11.774764"
      ]
     },
     "execution_count": 29,
     "metadata": {},
     "output_type": "execute_result"
    }
   ],
   "source": [
    "df"
   ]
  },
  {
   "cell_type": "markdown",
   "id": "090fe878",
   "metadata": {},
   "source": [
    "#### cross_val_score"
   ]
  },
  {
   "cell_type": "code",
   "execution_count": 30,
   "id": "5925740b",
   "metadata": {},
   "outputs": [],
   "source": [
    "from sklearn.model_selection import cross_val_score"
   ]
  },
  {
   "cell_type": "code",
   "execution_count": 31,
   "id": "4aa1cb24",
   "metadata": {},
   "outputs": [
    {
     "data": {
      "text/plain": [
       "LinearRegression()"
      ]
     },
     "execution_count": 31,
     "metadata": {},
     "output_type": "execute_result"
    }
   ],
   "source": [
    "model = LinearRegression()\n",
    "model.fit(x_data,y_data)"
   ]
  },
  {
   "cell_type": "code",
   "execution_count": 32,
   "id": "1fdb0c00",
   "metadata": {},
   "outputs": [],
   "source": [
    "cv_score =  cross_val_score(model,x_data,y_data, cv=5)"
   ]
  },
  {
   "cell_type": "code",
   "execution_count": 33,
   "id": "3a689a0a",
   "metadata": {},
   "outputs": [
    {
     "name": "stdout",
     "output_type": "stream",
     "text": [
      " cross_val_score : -2.278729449714587\n"
     ]
    }
   ],
   "source": [
    "print(' cross_val_score :',  cv_score.mean())"
   ]
  },
  {
   "cell_type": "markdown",
   "id": "cb88d325",
   "metadata": {},
   "source": [
    "## 분류"
   ]
  },
  {
   "cell_type": "code",
   "execution_count": 35,
   "id": "2757d7f7",
   "metadata": {},
   "outputs": [],
   "source": [
    "from sklearn.model_selection import cross_validate\n",
    "from sklearn.linear_model import LogisticRegression\n",
    "from sklearn.model_selection import train_test_split"
   ]
  },
  {
   "cell_type": "code",
   "execution_count": 37,
   "id": "10690f4b",
   "metadata": {},
   "outputs": [],
   "source": [
    "x_data = np.array([\n",
    "    [2,1],\n",
    "    [3,2],\n",
    "    [3,4],\n",
    "    [5,5],\n",
    "    [7,5],\n",
    "    [2,5],\n",
    "    [8,9],\n",
    "    [9,10],\n",
    "    [6,12],\n",
    "    [9,2],\n",
    "    [6,10],\n",
    "    [2,4]\n",
    "])\n",
    "y_data = np.array([2, 2, 2, 1, 1, 2, 0, 0, 0, 1, 0, 2])\n",
    "\n",
    "\n",
    "label =['A','B','C']"
   ]
  },
  {
   "cell_type": "code",
   "execution_count": 38,
   "id": "b1fcaf50",
   "metadata": {},
   "outputs": [],
   "source": [
    "model = LogisticRegression()"
   ]
  },
  {
   "cell_type": "code",
   "execution_count": 42,
   "id": "8df9346f",
   "metadata": {},
   "outputs": [
    {
     "name": "stderr",
     "output_type": "stream",
     "text": [
      "C:\\Users\\user\\anaconda3\\lib\\site-packages\\sklearn\\model_selection\\_split.py:676: UserWarning: The least populated class in y has only 3 members, which is less than n_splits=5.\n",
      "  warnings.warn(\n"
     ]
    }
   ],
   "source": [
    "# 내부적으로 알아서 학습(fit)이 됨\n",
    "cv_results = cross_validate(model, x_data, y_data, return_estimator=True)"
   ]
  },
  {
   "cell_type": "code",
   "execution_count": 43,
   "id": "db193732",
   "metadata": {},
   "outputs": [
    {
     "name": "stdout",
     "output_type": "stream",
     "text": [
      "0.9333333333333332\n"
     ]
    }
   ],
   "source": [
    "print(cv_results['test_score'].mean())"
   ]
  },
  {
   "cell_type": "code",
   "execution_count": 44,
   "id": "0aaba698",
   "metadata": {},
   "outputs": [],
   "source": [
    "df= pd.DataFrame(cv_results)\n",
    "df = df.sort_values(by='test_score', ascending=False)"
   ]
  },
  {
   "cell_type": "code",
   "execution_count": 45,
   "id": "079788ca",
   "metadata": {},
   "outputs": [
    {
     "data": {
      "text/html": [
       "<div>\n",
       "<style scoped>\n",
       "    .dataframe tbody tr th:only-of-type {\n",
       "        vertical-align: middle;\n",
       "    }\n",
       "\n",
       "    .dataframe tbody tr th {\n",
       "        vertical-align: top;\n",
       "    }\n",
       "\n",
       "    .dataframe thead th {\n",
       "        text-align: right;\n",
       "    }\n",
       "</style>\n",
       "<table border=\"1\" class=\"dataframe\">\n",
       "  <thead>\n",
       "    <tr style=\"text-align: right;\">\n",
       "      <th></th>\n",
       "      <th>fit_time</th>\n",
       "      <th>score_time</th>\n",
       "      <th>estimator</th>\n",
       "      <th>test_score</th>\n",
       "    </tr>\n",
       "  </thead>\n",
       "  <tbody>\n",
       "    <tr>\n",
       "      <th>1</th>\n",
       "      <td>0.003000</td>\n",
       "      <td>0.000000</td>\n",
       "      <td>LogisticRegression()</td>\n",
       "      <td>1.000000</td>\n",
       "    </tr>\n",
       "    <tr>\n",
       "      <th>2</th>\n",
       "      <td>0.004000</td>\n",
       "      <td>0.000000</td>\n",
       "      <td>LogisticRegression()</td>\n",
       "      <td>1.000000</td>\n",
       "    </tr>\n",
       "    <tr>\n",
       "      <th>3</th>\n",
       "      <td>0.002999</td>\n",
       "      <td>0.001000</td>\n",
       "      <td>LogisticRegression()</td>\n",
       "      <td>1.000000</td>\n",
       "    </tr>\n",
       "    <tr>\n",
       "      <th>4</th>\n",
       "      <td>0.002999</td>\n",
       "      <td>0.000000</td>\n",
       "      <td>LogisticRegression()</td>\n",
       "      <td>1.000000</td>\n",
       "    </tr>\n",
       "    <tr>\n",
       "      <th>0</th>\n",
       "      <td>0.002506</td>\n",
       "      <td>0.001003</td>\n",
       "      <td>LogisticRegression()</td>\n",
       "      <td>0.666667</td>\n",
       "    </tr>\n",
       "  </tbody>\n",
       "</table>\n",
       "</div>"
      ],
      "text/plain": [
       "   fit_time  score_time             estimator  test_score\n",
       "1  0.003000    0.000000  LogisticRegression()    1.000000\n",
       "2  0.004000    0.000000  LogisticRegression()    1.000000\n",
       "3  0.002999    0.001000  LogisticRegression()    1.000000\n",
       "4  0.002999    0.000000  LogisticRegression()    1.000000\n",
       "0  0.002506    0.001003  LogisticRegression()    0.666667"
      ]
     },
     "execution_count": 45,
     "metadata": {},
     "output_type": "execute_result"
    }
   ],
   "source": [
    "df"
   ]
  },
  {
   "cell_type": "markdown",
   "id": "6dd41ad8",
   "metadata": {},
   "source": [
    "### 계층적 k-겹 교차검증(Stratified k-fold cross validation)\n",
    "\n",
    "- 분류 모델에 적용\n",
    "- k-겹 교차검증 모델은 k-fold가 원본 데이터 집합의 레이블 분포를 학습 및 검증 데이터 세트에 제대로 분배하지 못하는 문제를 해결해줌\n",
    "- target값(정답값)=레이블/클래스의 속성값의 개수를 골고루 넣어주게 됨"
   ]
  },
  {
   "cell_type": "code",
   "execution_count": 50,
   "id": "8e5580cf",
   "metadata": {},
   "outputs": [],
   "source": [
    "from sklearn.model_selection import StratifiedKFold\n",
    "from sklearn.metrics import accuracy_score"
   ]
  },
  {
   "cell_type": "code",
   "execution_count": 53,
   "id": "a87b57a5",
   "metadata": {},
   "outputs": [],
   "source": [
    "from sklearn.datasets import load_iris"
   ]
  },
  {
   "cell_type": "code",
   "execution_count": 54,
   "id": "c6e0e111",
   "metadata": {},
   "outputs": [],
   "source": [
    "iris = load_iris()"
   ]
  },
  {
   "cell_type": "code",
   "execution_count": 55,
   "id": "188ac96e",
   "metadata": {},
   "outputs": [],
   "source": [
    "x =iris.data\n",
    "y= iris.target"
   ]
  },
  {
   "cell_type": "code",
   "execution_count": 56,
   "id": "a3a1665d",
   "metadata": {},
   "outputs": [],
   "source": [
    "skf = StratifiedKFold(n_splits=5, random_state =42, shuffle=True)"
   ]
  },
  {
   "cell_type": "code",
   "execution_count": 61,
   "id": "d91075e6",
   "metadata": {},
   "outputs": [
    {
     "name": "stdout",
     "output_type": "stream",
     "text": [
      "1번째 교차 검증 정확도 : 1.0 \n",
      " 학습 데이터 크기 : 120 \n",
      " 검증 데이터 크기 : 30\n",
      "2번째 교차 검증 정확도 : 0.9667 \n",
      " 학습 데이터 크기 : 120 \n",
      " 검증 데이터 크기 : 30\n",
      "3번째 교차 검증 정확도 : 0.9333 \n",
      " 학습 데이터 크기 : 120 \n",
      " 검증 데이터 크기 : 30\n",
      "4번째 교차 검증 정확도 : 1.0 \n",
      " 학습 데이터 크기 : 120 \n",
      " 검증 데이터 크기 : 30\n",
      "5번째 교차 검증 정확도 : 0.9333 \n",
      " 학습 데이터 크기 : 120 \n",
      " 검증 데이터 크기 : 30\n"
     ]
    },
    {
     "name": "stderr",
     "output_type": "stream",
     "text": [
      "C:\\Users\\user\\anaconda3\\lib\\site-packages\\sklearn\\linear_model\\_logistic.py:814: ConvergenceWarning: lbfgs failed to converge (status=1):\n",
      "STOP: TOTAL NO. of ITERATIONS REACHED LIMIT.\n",
      "\n",
      "Increase the number of iterations (max_iter) or scale the data as shown in:\n",
      "    https://scikit-learn.org/stable/modules/preprocessing.html\n",
      "Please also refer to the documentation for alternative solver options:\n",
      "    https://scikit-learn.org/stable/modules/linear_model.html#logistic-regression\n",
      "  n_iter_i = _check_optimize_result(\n",
      "C:\\Users\\user\\anaconda3\\lib\\site-packages\\sklearn\\linear_model\\_logistic.py:814: ConvergenceWarning: lbfgs failed to converge (status=1):\n",
      "STOP: TOTAL NO. of ITERATIONS REACHED LIMIT.\n",
      "\n",
      "Increase the number of iterations (max_iter) or scale the data as shown in:\n",
      "    https://scikit-learn.org/stable/modules/preprocessing.html\n",
      "Please also refer to the documentation for alternative solver options:\n",
      "    https://scikit-learn.org/stable/modules/linear_model.html#logistic-regression\n",
      "  n_iter_i = _check_optimize_result(\n",
      "C:\\Users\\user\\anaconda3\\lib\\site-packages\\sklearn\\linear_model\\_logistic.py:814: ConvergenceWarning: lbfgs failed to converge (status=1):\n",
      "STOP: TOTAL NO. of ITERATIONS REACHED LIMIT.\n",
      "\n",
      "Increase the number of iterations (max_iter) or scale the data as shown in:\n",
      "    https://scikit-learn.org/stable/modules/preprocessing.html\n",
      "Please also refer to the documentation for alternative solver options:\n",
      "    https://scikit-learn.org/stable/modules/linear_model.html#logistic-regression\n",
      "  n_iter_i = _check_optimize_result(\n",
      "C:\\Users\\user\\anaconda3\\lib\\site-packages\\sklearn\\linear_model\\_logistic.py:814: ConvergenceWarning: lbfgs failed to converge (status=1):\n",
      "STOP: TOTAL NO. of ITERATIONS REACHED LIMIT.\n",
      "\n",
      "Increase the number of iterations (max_iter) or scale the data as shown in:\n",
      "    https://scikit-learn.org/stable/modules/preprocessing.html\n",
      "Please also refer to the documentation for alternative solver options:\n",
      "    https://scikit-learn.org/stable/modules/linear_model.html#logistic-regression\n",
      "  n_iter_i = _check_optimize_result(\n"
     ]
    }
   ],
   "source": [
    "idx_iter = 0\n",
    "cv_accuray = []\n",
    "\n",
    "for train_index, test_index in skf.split(x,y):\n",
    "    \n",
    "    #split으로 반환된 인덱스를 이용하여 학습데이터, 테스트데이터를 정의\n",
    "    x_train, x_test = x[train_index], x[test_index]\n",
    "    y_train, y_test = y[train_index], y[test_index]\n",
    "    \n",
    "    #학습\n",
    "    model.fit(x_train, y_train)\n",
    "    pred = model.predict(x_test)\n",
    "    \n",
    "    idx_iter += 1\n",
    "    accuracy = np.round(accuracy_score(y_test, pred),4)\n",
    "    train_size = x_train.shape[0]\n",
    "    test_size = x_test.shape[0]\n",
    "    \n",
    "    print('{0}번째 교차 검증 정확도 : {1} \\n 학습 데이터 크기 : {2} \\n 검증 데이터 크기 : {3}'.format(idx_iter,\n",
    "                                                                               accuracy,\n",
    "                                                                              train_size,\n",
    "                                                                              test_size))\n",
    "    \n",
    "    cv_accuray.append(accuracy)\n"
   ]
  },
  {
   "cell_type": "code",
   "execution_count": null,
   "id": "5a1cc09f",
   "metadata": {},
   "outputs": [],
   "source": []
  },
  {
   "cell_type": "code",
   "execution_count": null,
   "id": "03ceccd2",
   "metadata": {},
   "outputs": [],
   "source": []
  },
  {
   "cell_type": "code",
   "execution_count": null,
   "id": "e6a810a7",
   "metadata": {},
   "outputs": [],
   "source": []
  },
  {
   "cell_type": "code",
   "execution_count": null,
   "id": "d132e79d",
   "metadata": {},
   "outputs": [],
   "source": []
  },
  {
   "cell_type": "code",
   "execution_count": null,
   "id": "ffe54bb7",
   "metadata": {},
   "outputs": [],
   "source": []
  }
 ],
 "metadata": {
  "kernelspec": {
   "display_name": "Python 3 (ipykernel)",
   "language": "python",
   "name": "python3"
  },
  "language_info": {
   "codemirror_mode": {
    "name": "ipython",
    "version": 3
   },
   "file_extension": ".py",
   "mimetype": "text/x-python",
   "name": "python",
   "nbconvert_exporter": "python",
   "pygments_lexer": "ipython3",
   "version": "3.9.12"
  }
 },
 "nbformat": 4,
 "nbformat_minor": 5
}
