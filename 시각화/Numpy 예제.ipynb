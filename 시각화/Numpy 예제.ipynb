{
 "cells": [
  {
   "cell_type": "code",
   "execution_count": 2,
   "id": "3330604f",
   "metadata": {},
   "outputs": [],
   "source": [
    "import numpy as np"
   ]
  },
  {
   "cell_type": "markdown",
   "id": "f57a1a6b",
   "metadata": {},
   "source": [
    "## 10이 0개인 배열 출력"
   ]
  },
  {
   "cell_type": "code",
   "execution_count": 3,
   "id": "a024bacb",
   "metadata": {},
   "outputs": [
    {
     "name": "stdout",
     "output_type": "stream",
     "text": [
      "[0. 0. 0. 0. 0. 0. 0. 0. 0. 0.]\n"
     ]
    }
   ],
   "source": [
    "z = np.zeros(10)\n",
    "print(z)"
   ]
  },
  {
   "cell_type": "markdown",
   "id": "9a403726",
   "metadata": {},
   "source": [
    "## 5번째 숫자를 1로 변경"
   ]
  },
  {
   "cell_type": "code",
   "execution_count": 6,
   "id": "136f69b8",
   "metadata": {},
   "outputs": [
    {
     "name": "stdout",
     "output_type": "stream",
     "text": [
      "[0. 0. 0. 0. 1. 0. 0. 0. 0. 0.]\n"
     ]
    }
   ],
   "source": [
    "z[4] = 1\n",
    "print(z)"
   ]
  },
  {
   "cell_type": "markdown",
   "id": "4c404be3",
   "metadata": {},
   "source": [
    "## 10 이상 50 미만의 숫자가 들어가 있는 배열 생성"
   ]
  },
  {
   "cell_type": "code",
   "execution_count": 9,
   "id": "9e60071d",
   "metadata": {},
   "outputs": [
    {
     "name": "stdout",
     "output_type": "stream",
     "text": [
      "[10 11 12 13 14 15 16 17 18 19 20 21 22 23 24 25 26 27 28 29 30 31 32 33\n",
      " 34 35 36 37 38 39 40 41 42 43 44 45 46 47 48 49 50]\n"
     ]
    }
   ],
   "source": [
    "a= np.arange(10,51)\n",
    "print(a)"
   ]
  },
  {
   "cell_type": "markdown",
   "id": "ac23838b",
   "metadata": {},
   "source": [
    "## 0~8  3x3배열 생성"
   ]
  },
  {
   "cell_type": "code",
   "execution_count": 10,
   "id": "48ac3573",
   "metadata": {},
   "outputs": [
    {
     "name": "stdout",
     "output_type": "stream",
     "text": [
      "[[0 1 2]\n",
      " [3 4 5]\n",
      " [6 7 8]]\n"
     ]
    }
   ],
   "source": [
    "z = np.arange(9).reshape(3,3)\n",
    "print(z)"
   ]
  },
  {
   "cell_type": "markdown",
   "id": "55e1fb52",
   "metadata": {},
   "source": [
    "## 3x3x3 랜덤 정수"
   ]
  },
  {
   "cell_type": "code",
   "execution_count": 14,
   "id": "31cbf131",
   "metadata": {},
   "outputs": [
    {
     "name": "stdout",
     "output_type": "stream",
     "text": [
      "[[[0.30484002 0.93233698 0.77844134]\n",
      "  [0.54378666 0.62265398 0.44166549]\n",
      "  [0.3169282  0.31171742 0.25926021]]\n",
      "\n",
      " [[0.27913834 0.70165778 0.3258359 ]\n",
      "  [0.64129377 0.23138199 0.68043329]\n",
      "  [0.93998708 0.97108549 0.75208401]]\n",
      "\n",
      " [[0.95969303 0.74909486 0.32100794]\n",
      "  [0.62352225 0.74694189 0.7293194 ]\n",
      "  [0.26442685 0.06321    0.05897955]]]\n"
     ]
    }
   ],
   "source": [
    "b = np.random.random((3,3,3))                       \n",
    "print(b)"
   ]
  },
  {
   "cell_type": "markdown",
   "id": "865b65c2",
   "metadata": {},
   "source": [
    "## 전체 요소 개수 30개 배열 만들기\n",
    "## 그 배열의 평군값 구하기"
   ]
  },
  {
   "cell_type": "code",
   "execution_count": 17,
   "id": "78387760",
   "metadata": {},
   "outputs": [
    {
     "name": "stdout",
     "output_type": "stream",
     "text": [
      "[0.64292862 0.52898333 0.97984025 0.61956218 0.08198289 0.27712881\n",
      " 0.00477029 0.08100125 0.89610788 0.53267835 0.56524017 0.82168918\n",
      " 0.23054942 0.64736751 0.82793055 0.7702996  0.65306618 0.31712786\n",
      " 0.45512334 0.89559295 0.8149183  0.15250535 0.05305591 0.44819366\n",
      " 0.5461692  0.87371184 0.43821322 0.36098238 0.90287411 0.11322713]\n"
     ]
    }
   ],
   "source": [
    "z =np.random.random(30)\n",
    "print(z)"
   ]
  },
  {
   "cell_type": "code",
   "execution_count": 20,
   "id": "0b9100f2",
   "metadata": {},
   "outputs": [
    {
     "name": "stdout",
     "output_type": "stream",
     "text": [
      "0.5177607236638393\n"
     ]
    }
   ],
   "source": [
    "m= z.mean()\n",
    "print(m)"
   ]
  },
  {
   "cell_type": "markdown",
   "id": "55543a33",
   "metadata": {},
   "source": [
    "### 3명의 학생 평균 구하기"
   ]
  },
  {
   "cell_type": "code",
   "execution_count": 21,
   "id": "f30ec537",
   "metadata": {},
   "outputs": [],
   "source": [
    "mid_score=[10,20,30]\n",
    "final_score=[70,80,90]"
   ]
  },
  {
   "cell_type": "code",
   "execution_count": 22,
   "id": "0559b6bf",
   "metadata": {},
   "outputs": [
    {
     "name": "stdout",
     "output_type": "stream",
     "text": [
      "[10, 20, 30, 70, 80, 90]\n"
     ]
    }
   ],
   "source": [
    "total = mid_score+final_score\n",
    "print(total)"
   ]
  },
  {
   "cell_type": "code",
   "execution_count": 23,
   "id": "a051d157",
   "metadata": {},
   "outputs": [],
   "source": [
    "mid_score = np.array([10,20,30])\n",
    "final_scor = np.array([70,80,90])"
   ]
  },
  {
   "cell_type": "code",
   "execution_count": 27,
   "id": "9f228927",
   "metadata": {},
   "outputs": [],
   "source": [
    "total = mid_score+final_score"
   ]
  },
  {
   "cell_type": "code",
   "execution_count": 28,
   "id": "068a187a",
   "metadata": {},
   "outputs": [
    {
     "data": {
      "text/plain": [
       "array([ 80, 100, 120])"
      ]
     },
     "execution_count": 28,
     "metadata": {},
     "output_type": "execute_result"
    }
   ],
   "source": [
    "total"
   ]
  },
  {
   "cell_type": "code",
   "execution_count": 31,
   "id": "b831b593",
   "metadata": {},
   "outputs": [
    {
     "name": "stdout",
     "output_type": "stream",
     "text": [
      "시험 성적의 합계: [ 80 100 120]\n"
     ]
    }
   ],
   "source": [
    "print(\"시험 성적의 합계:\",total)"
   ]
  },
  {
   "cell_type": "code",
   "execution_count": 33,
   "id": "68ea8eb9",
   "metadata": {},
   "outputs": [
    {
     "name": "stdout",
     "output_type": "stream",
     "text": [
      "시험 성적의 평균: [40. 50. 60.]\n"
     ]
    }
   ],
   "source": [
    "print(\"시험 성적의 평균:\",total/2)"
   ]
  },
  {
   "cell_type": "markdown",
   "id": "9e89fca5",
   "metadata": {},
   "source": [
    "### array_a = [1 2 3 4 5 6 7 8 9]\n",
    "### array_b = [1 2 3 4 5 6 7 8 9]\n",
    "### array_c = [0 2 3 4 6 8 ]\n",
    "### array_c의 shape, ndim, dtype. size 출력"
   ]
  },
  {
   "cell_type": "code",
   "execution_count": 38,
   "id": "3e31bdb3",
   "metadata": {},
   "outputs": [
    {
     "name": "stdout",
     "output_type": "stream",
     "text": [
      "[1 2 3 4 5 6 7 8 9]\n"
     ]
    }
   ],
   "source": [
    "array_a = np.array ([1 ,2, 3, 4, 5, 6, 7, 8, 9])\n",
    "print(array_a)"
   ]
  },
  {
   "cell_type": "code",
   "execution_count": 40,
   "id": "286b974e",
   "metadata": {},
   "outputs": [
    {
     "name": "stdout",
     "output_type": "stream",
     "text": [
      "[0 1 2 3 4 5 6 7 8 9]\n"
     ]
    }
   ],
   "source": [
    "array_b = np.array (range(10))\n",
    "print(array_b)"
   ]
  },
  {
   "cell_type": "code",
   "execution_count": 42,
   "id": "8b9a0a3c",
   "metadata": {},
   "outputs": [
    {
     "name": "stdout",
     "output_type": "stream",
     "text": [
      "[0 2 4 6 8]\n"
     ]
    }
   ],
   "source": [
    "array_c = np.arange(0,10,2)\n",
    "print(array_c)"
   ]
  },
  {
   "cell_type": "code",
   "execution_count": 45,
   "id": "bb45bc1c",
   "metadata": {},
   "outputs": [
    {
     "data": {
      "text/plain": [
       "4"
      ]
     },
     "execution_count": 45,
     "metadata": {},
     "output_type": "execute_result"
    }
   ],
   "source": [
    "array_c.itemsize      #배열내 원소크기"
   ]
  },
  {
   "cell_type": "code",
   "execution_count": 46,
   "id": "b6b72c64",
   "metadata": {},
   "outputs": [
    {
     "data": {
      "text/plain": [
       "(5,)"
      ]
     },
     "execution_count": 46,
     "metadata": {},
     "output_type": "execute_result"
    }
   ],
   "source": [
    "array_c.shape"
   ]
  },
  {
   "cell_type": "code",
   "execution_count": 49,
   "id": "e4e24a5a",
   "metadata": {},
   "outputs": [
    {
     "data": {
      "text/plain": [
       "1"
      ]
     },
     "execution_count": 49,
     "metadata": {},
     "output_type": "execute_result"
    }
   ],
   "source": [
    "array_c.ndim         # 배열 차원 확인"
   ]
  },
  {
   "cell_type": "markdown",
   "id": "a88e5877",
   "metadata": {},
   "source": [
    "### 월급 올리기"
   ]
  },
  {
   "cell_type": "code",
   "execution_count": 50,
   "id": "2495ea6c",
   "metadata": {},
   "outputs": [],
   "source": [
    "salary = np.array([220,250,230])"
   ]
  },
  {
   "cell_type": "code",
   "execution_count": 51,
   "id": "a42dbd85",
   "metadata": {},
   "outputs": [],
   "source": [
    "salary = salary + 100"
   ]
  },
  {
   "cell_type": "code",
   "execution_count": 52,
   "id": "012c7992",
   "metadata": {},
   "outputs": [
    {
     "data": {
      "text/plain": [
       "array([320, 350, 330])"
      ]
     },
     "execution_count": 52,
     "metadata": {},
     "output_type": "execute_result"
    }
   ],
   "source": [
    "salary"
   ]
  },
  {
   "cell_type": "code",
   "execution_count": 54,
   "id": "0278b5de",
   "metadata": {},
   "outputs": [
    {
     "data": {
      "text/plain": [
       "array([1280, 1400, 1320])"
      ]
     },
     "execution_count": 54,
     "metadata": {},
     "output_type": "execute_result"
    }
   ],
   "source": [
    "salary = salary * 2\n",
    "salary"
   ]
  },
  {
   "cell_type": "markdown",
   "id": "7f2e5823",
   "metadata": {},
   "source": [
    "### 선수들 몸무게,키"
   ]
  },
  {
   "cell_type": "code",
   "execution_count": 55,
   "id": "f82176df",
   "metadata": {},
   "outputs": [],
   "source": [
    "players = [[170,76.4],[183,86.2],[171,73.5],[176,80.1]]"
   ]
  },
  {
   "cell_type": "code",
   "execution_count": 57,
   "id": "46deab8d",
   "metadata": {},
   "outputs": [
    {
     "data": {
      "text/plain": [
       "array([[170. ,  76.4],\n",
       "       [183. ,  86.2],\n",
       "       [171. ,  73.5],\n",
       "       [176. ,  80.1]])"
      ]
     },
     "execution_count": 57,
     "metadata": {},
     "output_type": "execute_result"
    }
   ],
   "source": [
    "np_players = np.array(players)\n",
    "np_players"
   ]
  },
  {
   "cell_type": "code",
   "execution_count": 65,
   "id": "31d0b006",
   "metadata": {},
   "outputs": [
    {
     "name": "stdout",
     "output_type": "stream",
     "text": [
      "몸무게가 80 이상인 선수의 정보 [[183.   86.2]\n",
      " [176.   80.1]]\n"
     ]
    }
   ],
   "source": [
    "print('몸무게가 80 이상인 선수의 정보',np_players[np_players[:,1] >= 80.0])"
   ]
  },
  {
   "cell_type": "code",
   "execution_count": 66,
   "id": "702b46e0",
   "metadata": {},
   "outputs": [
    {
     "name": "stdout",
     "output_type": "stream",
     "text": [
      "키가 180 이상인 선수의 정보 [[183.   86.2]]\n"
     ]
    }
   ],
   "source": [
    "print('키가 180 이상인 선수의 정보',np_players[np_players[:,0] >= 180.0])i"
   ]
  },
  {
   "cell_type": "code",
   "execution_count": 124,
   "id": "362b037f",
   "metadata": {},
   "outputs": [],
   "source": [
    "import numpy as np"
   ]
  },
  {
   "cell_type": "code",
   "execution_count": 125,
   "id": "0fcfea5c",
   "metadata": {},
   "outputs": [],
   "source": [
    "revenue_in_yen=[320,240,350,120,180,430,510,210,220,320,320,170,150,340,230,320,150,490,670,100,100,230,200,300,160,180,190,170,280,300]"
   ]
  },
  {
   "cell_type": "code",
   "execution_count": 126,
   "id": "5fb00b2b",
   "metadata": {},
   "outputs": [
    {
     "data": {
      "text/plain": [
       "array([320, 240, 350, 120, 180, 430, 510, 210, 220, 320, 320, 170, 150,\n",
       "       340, 230, 320, 150, 490, 670, 100, 100, 230, 200, 300, 160, 180,\n",
       "       190, 170, 280, 300])"
      ]
     },
     "execution_count": 126,
     "metadata": {},
     "output_type": "execute_result"
    }
   ],
   "source": [
    "yen_array= np.array(revenue_in_yen)\n",
    "yen_array"
   ]
  },
  {
   "cell_type": "code",
   "execution_count": 127,
   "id": "5690fa4b",
   "metadata": {},
   "outputs": [
    {
     "data": {
      "text/plain": [
       "30"
      ]
     },
     "execution_count": 127,
     "metadata": {},
     "output_type": "execute_result"
    }
   ],
   "source": [
    "yen_array.size"
   ]
  },
  {
   "cell_type": "code",
   "execution_count": 128,
   "id": "5a759656",
   "metadata": {},
   "outputs": [],
   "source": [
    "won_array = yen_array * 9.7"
   ]
  },
  {
   "cell_type": "code",
   "execution_count": 129,
   "id": "634a5d44",
   "metadata": {},
   "outputs": [
    {
     "data": {
      "text/plain": [
       "array([3104., 2328., 3395., 1164., 1746., 4171., 4947., 2037., 2134.,\n",
       "       3104., 3104., 1649., 1455., 3298., 2231., 3104., 1455., 4753.,\n",
       "       6499.,  970.,  970., 2231., 1940., 2910., 1552., 1746., 1843.,\n",
       "       1649., 2716., 2910.])"
      ]
     },
     "execution_count": 129,
     "metadata": {},
     "output_type": "execute_result"
    }
   ],
   "source": [
    "won_array"
   ]
  },
  {
   "cell_type": "code",
   "execution_count": null,
   "id": "7debeea8",
   "metadata": {},
   "outputs": [],
   "source": []
  },
  {
   "cell_type": "code",
   "execution_count": 130,
   "id": "5eb925a3",
   "metadata": {},
   "outputs": [],
   "source": [
    "revenue_in_doll=[32,24,35,12,18,43,51,21,22,32,32,17,15,34,23,32,15,49,67,10,10,23,20,30,16,18,19,17,28,30]"
   ]
  },
  {
   "cell_type": "code",
   "execution_count": 131,
   "id": "ba58319d",
   "metadata": {},
   "outputs": [
    {
     "data": {
      "text/plain": [
       "array([32, 24, 35, 12, 18, 43, 51, 21, 22, 32, 32, 17, 15, 34, 23, 32, 15,\n",
       "       49, 67, 10, 10, 23, 20, 30, 16, 18, 19, 17, 28, 30])"
      ]
     },
     "execution_count": 131,
     "metadata": {},
     "output_type": "execute_result"
    }
   ],
   "source": [
    "doll_array= np.array(revenue_in_doll)\n",
    "doll_array"
   ]
  },
  {
   "cell_type": "code",
   "execution_count": 132,
   "id": "ed35f6b2",
   "metadata": {},
   "outputs": [],
   "source": [
    "doll_array = doll_array * 1391"
   ]
  },
  {
   "cell_type": "code",
   "execution_count": 133,
   "id": "7dc35a53",
   "metadata": {},
   "outputs": [
    {
     "data": {
      "text/plain": [
       "array([44512, 33384, 48685, 16692, 25038, 59813, 70941, 29211, 30602,\n",
       "       44512, 44512, 23647, 20865, 47294, 31993, 44512, 20865, 68159,\n",
       "       93197, 13910, 13910, 31993, 27820, 41730, 22256, 25038, 26429,\n",
       "       23647, 38948, 41730])"
      ]
     },
     "execution_count": 133,
     "metadata": {},
     "output_type": "execute_result"
    }
   ],
   "source": [
    "doll_array"
   ]
  },
  {
   "cell_type": "code",
   "execution_count": 138,
   "id": "3549c2e9",
   "metadata": {},
   "outputs": [],
   "source": [
    "won_array = yen_array*9.7 + doll_array*139"
   ]
  },
  {
   "cell_type": "code",
   "execution_count": 139,
   "id": "1f95c18e",
   "metadata": {},
   "outputs": [
    {
     "data": {
      "text/plain": [
       "array([ 6190272.,  4642704.,  6770610.,  2321352.,  3482028.,  8318178.,\n",
       "        9865746.,  4062366.,  4255812.,  6190272.,  6190272.,  3288582.,\n",
       "        2901690.,  6577164.,  4449258.,  6190272.,  2901690.,  9478854.,\n",
       "       12960882.,  1934460.,  1934460.,  4449258.,  3868920.,  5803380.,\n",
       "        3095136.,  3482028.,  3675474.,  3288582.,  5416488.,  5803380.])"
      ]
     },
     "execution_count": 139,
     "metadata": {},
     "output_type": "execute_result"
    }
   ],
   "source": [
    "won_array"
   ]
  },
  {
   "cell_type": "code",
   "execution_count": 140,
   "id": "81697b0d",
   "metadata": {},
   "outputs": [
    {
     "data": {
      "text/plain": [
       "array([ 6190272,  4642704,  6770610,  2321352,  3482028,  8318178,\n",
       "        9865746,  4062366,  4255812,  6190272,  6190272,  3288582,\n",
       "        2901690,  6577164,  4449258,  6190272,  2901690,  9478854,\n",
       "       12960882,  1934460,  1934460,  4449258,  3868920,  5803380,\n",
       "        3095136,  3482028,  3675474,  3288582,  5416488,  5803380],\n",
       "      dtype=int64)"
      ]
     },
     "execution_count": 140,
     "metadata": {},
     "output_type": "execute_result"
    }
   ],
   "source": [
    "won_array.astype(\"int64\")"
   ]
  },
  {
   "cell_type": "code",
   "execution_count": 144,
   "id": "d0a04deb",
   "metadata": {},
   "outputs": [],
   "source": [
    "new_array = won_array*100"
   ]
  },
  {
   "cell_type": "code",
   "execution_count": 146,
   "id": "b29bb2bf",
   "metadata": {},
   "outputs": [
    {
     "data": {
      "text/plain": [
       "array([6.1902720e+08, 4.6427040e+08, 6.7706100e+08, 2.3213520e+08,\n",
       "       3.4820280e+08, 8.3181780e+08, 9.8657460e+08, 4.0623660e+08,\n",
       "       4.2558120e+08, 6.1902720e+08, 6.1902720e+08, 3.2885820e+08,\n",
       "       2.9016900e+08, 6.5771640e+08, 4.4492580e+08, 6.1902720e+08,\n",
       "       2.9016900e+08, 9.4788540e+08, 1.2960882e+09, 1.9344600e+08,\n",
       "       1.9344600e+08, 4.4492580e+08, 3.8689200e+08, 5.8033800e+08,\n",
       "       3.0951360e+08, 3.4820280e+08, 3.6754740e+08, 3.2885820e+08,\n",
       "       5.4164880e+08, 5.8033800e+08])"
      ]
     },
     "execution_count": 146,
     "metadata": {},
     "output_type": "execute_result"
    }
   ],
   "source": [
    "new_array"
   ]
  },
  {
   "cell_type": "markdown",
   "id": "f721d2bf",
   "metadata": {},
   "source": [
    "## won_array에서 수익이 50,000 이하인 날을 뽑아봅시다( 조건문 사용)"
   ]
  },
  {
   "cell_type": "code",
   "execution_count": 147,
   "id": "bd26cfd7",
   "metadata": {},
   "outputs": [],
   "source": [
    "sad_days = won_array[won_array <= 50000]"
   ]
  },
  {
   "cell_type": "code",
   "execution_count": 148,
   "id": "0ba9da6e",
   "metadata": {
    "scrolled": true
   },
   "outputs": [
    {
     "data": {
      "text/plain": [
       "array([], dtype=float64)"
      ]
     },
     "execution_count": 148,
     "metadata": {},
     "output_type": "execute_result"
    }
   ],
   "source": [
    "sad_days"
   ]
  },
  {
   "cell_type": "code",
   "execution_count": null,
   "id": "f58d1b2e",
   "metadata": {},
   "outputs": [],
   "source": []
  },
  {
   "cell_type": "code",
   "execution_count": null,
   "id": "41f8b54c",
   "metadata": {},
   "outputs": [],
   "source": []
  },
  {
   "cell_type": "code",
   "execution_count": null,
   "id": "cb2f597a",
   "metadata": {},
   "outputs": [],
   "source": []
  },
  {
   "cell_type": "code",
   "execution_count": null,
   "id": "6c5b38a9",
   "metadata": {},
   "outputs": [],
   "source": []
  },
  {
   "cell_type": "code",
   "execution_count": null,
   "id": "83a17232",
   "metadata": {},
   "outputs": [],
   "source": []
  },
  {
   "cell_type": "code",
   "execution_count": null,
   "id": "c60dbfaa",
   "metadata": {},
   "outputs": [],
   "source": []
  }
 ],
 "metadata": {
  "kernelspec": {
   "display_name": "Python 3 (ipykernel)",
   "language": "python",
   "name": "python3"
  },
  "language_info": {
   "codemirror_mode": {
    "name": "ipython",
    "version": 3
   },
   "file_extension": ".py",
   "mimetype": "text/x-python",
   "name": "python",
   "nbconvert_exporter": "python",
   "pygments_lexer": "ipython3",
   "version": "3.9.12"
  }
 },
 "nbformat": 4,
 "nbformat_minor": 5
}
