{
 "cells": [
  {
   "cell_type": "code",
   "execution_count": 1,
   "id": "723c5be9",
   "metadata": {},
   "outputs": [],
   "source": [
    "import numpy as np"
   ]
  },
  {
   "cell_type": "markdown",
   "id": "d3b81af0",
   "metadata": {},
   "source": [
    "- 1부터 50 까지 짝수만 원소로 갖는 넘파이 배열 생성"
   ]
  },
  {
   "cell_type": "code",
   "execution_count": 4,
   "id": "f19374ab",
   "metadata": {},
   "outputs": [
    {
     "data": {
      "text/plain": [
       "array([ 2,  4,  6,  8, 10, 12, 14, 16, 18, 20, 22, 24, 26, 28, 30, 32, 34,\n",
       "       36, 38, 40, 42, 44, 46, 48])"
      ]
     },
     "execution_count": 4,
     "metadata": {},
     "output_type": "execute_result"
    }
   ],
   "source": [
    "arr1 = np.arange(2,50,2)\n",
    "arr1"
   ]
  },
  {
   "cell_type": "markdown",
   "id": "9f40055e",
   "metadata": {},
   "source": [
    "- 1. 0으로 채워진 4x4 배열\n",
    "- 2. 1로 채원진 10x10 배열"
   ]
  },
  {
   "cell_type": "code",
   "execution_count": 10,
   "id": "bfa28a06",
   "metadata": {},
   "outputs": [
    {
     "data": {
      "text/plain": [
       "array([[0., 0., 0., 0.],\n",
       "       [0., 0., 0., 0.],\n",
       "       [0., 0., 0., 0.],\n",
       "       [0., 0., 0., 0.]])"
      ]
     },
     "execution_count": 10,
     "metadata": {},
     "output_type": "execute_result"
    }
   ],
   "source": [
    "arr2= np.zeros((4,4))\n",
    "arr2"
   ]
  },
  {
   "cell_type": "code",
   "execution_count": 11,
   "id": "4c7f2249",
   "metadata": {},
   "outputs": [
    {
     "data": {
      "text/plain": [
       "array([[1., 1., 1., 1., 1., 1., 1., 1., 1., 1.],\n",
       "       [1., 1., 1., 1., 1., 1., 1., 1., 1., 1.],\n",
       "       [1., 1., 1., 1., 1., 1., 1., 1., 1., 1.],\n",
       "       [1., 1., 1., 1., 1., 1., 1., 1., 1., 1.],\n",
       "       [1., 1., 1., 1., 1., 1., 1., 1., 1., 1.],\n",
       "       [1., 1., 1., 1., 1., 1., 1., 1., 1., 1.],\n",
       "       [1., 1., 1., 1., 1., 1., 1., 1., 1., 1.],\n",
       "       [1., 1., 1., 1., 1., 1., 1., 1., 1., 1.],\n",
       "       [1., 1., 1., 1., 1., 1., 1., 1., 1., 1.],\n",
       "       [1., 1., 1., 1., 1., 1., 1., 1., 1., 1.]])"
      ]
     },
     "execution_count": 11,
     "metadata": {},
     "output_type": "execute_result"
    }
   ],
   "source": [
    "arr3= np.ones((10,10))\n",
    "arr3"
   ]
  },
  {
   "cell_type": "code",
   "execution_count": 12,
   "id": "3cdd767a",
   "metadata": {},
   "outputs": [
    {
     "data": {
      "text/plain": [
       "array([[4, 4, 4, 4],\n",
       "       [4, 4, 4, 4],\n",
       "       [4, 4, 4, 4],\n",
       "       [4, 4, 4, 4],\n",
       "       [4, 4, 4, 4],\n",
       "       [4, 4, 4, 4],\n",
       "       [4, 4, 4, 4]])"
      ]
     },
     "execution_count": 12,
     "metadata": {},
     "output_type": "execute_result"
    }
   ],
   "source": [
    "arr4= np.full((7,4),4)\n",
    "arr4"
   ]
  },
  {
   "cell_type": "markdown",
   "id": "9b5868d9",
   "metadata": {},
   "source": [
    "- 1부터 100까지 원소 중 3의 배수를 원소로 갖는 넘파이 배열생성"
   ]
  },
  {
   "cell_type": "code",
   "execution_count": 13,
   "id": "c3c4c573",
   "metadata": {},
   "outputs": [
    {
     "data": {
      "text/plain": [
       "array([ 3,  6,  9, 12, 15, 18, 21, 24, 27, 30, 33, 36, 39, 42, 45, 48, 51,\n",
       "       54, 57, 60, 63, 66, 69, 72, 75, 78, 81, 84, 87, 90, 93, 96, 99])"
      ]
     },
     "execution_count": 13,
     "metadata": {},
     "output_type": "execute_result"
    }
   ],
   "source": [
    "arr5 = np.arange(3,101,3)\n",
    "arr5"
   ]
  },
  {
   "cell_type": "markdown",
   "id": "fce48c76",
   "metadata": {},
   "source": [
    " - 만들어진 3의 배수를 원소로 갖는 넘파이 배열의 (원소) 개수를 구하고, reshape함수를 이용하여 2차원 배열을 생성\n",
    " - 생성된 2 차원의 배열의 크기를 구하기\n"
   ]
  },
  {
   "cell_type": "code",
   "execution_count": 14,
   "id": "8c018337",
   "metadata": {},
   "outputs": [
    {
     "data": {
      "text/plain": [
       "33"
      ]
     },
     "execution_count": 14,
     "metadata": {},
     "output_type": "execute_result"
    }
   ],
   "source": [
    "arr5.size"
   ]
  },
  {
   "cell_type": "code",
   "execution_count": 19,
   "id": "c6e4aa32",
   "metadata": {},
   "outputs": [
    {
     "data": {
      "text/plain": [
       "array([[ 3,  6,  9],\n",
       "       [12, 15, 18],\n",
       "       [21, 24, 27],\n",
       "       [30, 33, 36],\n",
       "       [39, 42, 45],\n",
       "       [48, 51, 54],\n",
       "       [57, 60, 63],\n",
       "       [66, 69, 72],\n",
       "       [75, 78, 81],\n",
       "       [84, 87, 90],\n",
       "       [93, 96, 99]])"
      ]
     },
     "execution_count": 19,
     "metadata": {},
     "output_type": "execute_result"
    }
   ],
   "source": [
    "re = arr5.reshape((11,3))                \n",
    "re"
   ]
  },
  {
   "cell_type": "code",
   "execution_count": 20,
   "id": "e40b68e4",
   "metadata": {},
   "outputs": [
    {
     "name": "stdout",
     "output_type": "stream",
     "text": [
      "(11, 3)\n"
     ]
    }
   ],
   "source": [
    "print(re.shape)"
   ]
  },
  {
   "cell_type": "markdown",
   "id": "20b7e30a",
   "metadata": {},
   "source": [
    "- 0~1사이의 값을 랜덤하게 가지는 6*4 배열을 생성\n",
    "- 1~100 사이의 값ㅇ르 랜덤하게 가지는 5*5 배열을 생성\n",
    "- astype을 사용하여 2번의 배열을 실수형태의 원소를 가지는 배열로 바꾸기"
   ]
  },
  {
   "cell_type": "code",
   "execution_count": 21,
   "id": "53513f39",
   "metadata": {},
   "outputs": [],
   "source": [
    "import random"
   ]
  },
  {
   "cell_type": "code",
   "execution_count": 30,
   "id": "22017e46",
   "metadata": {},
   "outputs": [
    {
     "data": {
      "text/plain": [
       "array([[0.56672274, 0.59116254, 0.51646744, 0.79399032],\n",
       "       [0.61093246, 0.53865516, 0.50749844, 0.15686694],\n",
       "       [0.34224831, 0.85752389, 0.83440841, 0.30121685],\n",
       "       [0.70367118, 0.92080224, 0.69475322, 0.29046594],\n",
       "       [0.22154816, 0.18520394, 0.92747647, 0.35167924],\n",
       "       [0.36840257, 0.2516835 , 0.66990886, 0.98510573]])"
      ]
     },
     "execution_count": 30,
     "metadata": {},
     "output_type": "execute_result"
    }
   ],
   "source": [
    "arr6 = np.random.rand(6,4) \n",
    "arr6"
   ]
  },
  {
   "cell_type": "code",
   "execution_count": 33,
   "id": "86fa1420",
   "metadata": {},
   "outputs": [
    {
     "data": {
      "text/plain": [
       "array([[29, 98, 12,  3, 43],\n",
       "       [46, 42, 10,  8, 14],\n",
       "       [63, 58, 63, 35, 50],\n",
       "       [ 7, 58, 15, 41, 73],\n",
       "       [68, 33,  4, 19, 72]])"
      ]
     },
     "execution_count": 33,
     "metadata": {},
     "output_type": "execute_result"
    }
   ],
   "source": [
    "arr7 = np.random.randint(1,100, size = (5,5))\n",
    "arr7"
   ]
  },
  {
   "cell_type": "code",
   "execution_count": 34,
   "id": "1ad6001b",
   "metadata": {},
   "outputs": [
    {
     "data": {
      "text/plain": [
       "array([[29., 98., 12.,  3., 43.],\n",
       "       [46., 42., 10.,  8., 14.],\n",
       "       [63., 58., 63., 35., 50.],\n",
       "       [ 7., 58., 15., 41., 73.],\n",
       "       [68., 33.,  4., 19., 72.]])"
      ]
     },
     "execution_count": 34,
     "metadata": {},
     "output_type": "execute_result"
    }
   ],
   "source": [
    "arr_type = arr7.astype(\"float64\")                             \n",
    "arr_type"
   ]
  },
  {
   "cell_type": "markdown",
   "id": "f7726978",
   "metadata": {},
   "source": [
    "- 주어진 배열에서 3,4,8,9 원소만 가져오기\n",
    "- 주어진 배열에서 6,7,8 만 가져오기\n",
    "\n",
    "  x = np.arange(10).reshape(2,5)"
   ]
  },
  {
   "cell_type": "code",
   "execution_count": 35,
   "id": "b2abd34d",
   "metadata": {},
   "outputs": [
    {
     "name": "stdout",
     "output_type": "stream",
     "text": [
      "[[0 1 2 3 4]\n",
      " [5 6 7 8 9]]\n"
     ]
    }
   ],
   "source": [
    "x = np.arange(10).reshape(2,5)\n",
    "print(x)"
   ]
  },
  {
   "cell_type": "code",
   "execution_count": 40,
   "id": "9e8582b0",
   "metadata": {},
   "outputs": [
    {
     "data": {
      "text/plain": [
       "array([[3, 4],\n",
       "       [8, 9]])"
      ]
     },
     "execution_count": 40,
     "metadata": {},
     "output_type": "execute_result"
    }
   ],
   "source": [
    "x[:,3:]"
   ]
  },
  {
   "cell_type": "code",
   "execution_count": 41,
   "id": "171b8f04",
   "metadata": {},
   "outputs": [
    {
     "data": {
      "text/plain": [
       "array([[6, 7, 8]])"
      ]
     },
     "execution_count": 41,
     "metadata": {},
     "output_type": "execute_result"
    }
   ],
   "source": [
    "x[1:,1:4]"
   ]
  },
  {
   "cell_type": "markdown",
   "id": "e420fce8",
   "metadata": {},
   "source": [
    "- (3,8,13) 가져오기,  (5,6,7,8,9) 가져오기,  (1,2,3,6,7,8) 가져오기"
   ]
  },
  {
   "cell_type": "code",
   "execution_count": 42,
   "id": "602ff274",
   "metadata": {},
   "outputs": [
    {
     "name": "stdout",
     "output_type": "stream",
     "text": [
      "[[ 0  1  2  3  4]\n",
      " [ 5  6  7  8  9]\n",
      " [10 11 12 13 14]]\n"
     ]
    }
   ],
   "source": [
    "y =x = np.arange(15).reshape(3,5)\n",
    "print(y)"
   ]
  },
  {
   "cell_type": "markdown",
   "id": "7690bf2e",
   "metadata": {},
   "source": [
    "- (3,8,13) 가져오기,  (5,6,7,8,9) 가져오기,  (1,2,3,6,7,8) 가져오기"
   ]
  },
  {
   "cell_type": "code",
   "execution_count": 50,
   "id": "deef8d41",
   "metadata": {},
   "outputs": [
    {
     "name": "stdout",
     "output_type": "stream",
     "text": [
      "[[ 3]\n",
      " [ 8]\n",
      " [13]]\n"
     ]
    }
   ],
   "source": [
    "print(y[:,3:4])"
   ]
  },
  {
   "cell_type": "code",
   "execution_count": 51,
   "id": "4a6559a9",
   "metadata": {},
   "outputs": [
    {
     "name": "stdout",
     "output_type": "stream",
     "text": [
      "[5 6 7 8 9]\n"
     ]
    }
   ],
   "source": [
    "print(y[1,:])"
   ]
  },
  {
   "cell_type": "code",
   "execution_count": 52,
   "id": "de02dd3c",
   "metadata": {},
   "outputs": [
    {
     "name": "stdout",
     "output_type": "stream",
     "text": [
      "[[1 2 3]\n",
      " [6 7 8]]\n"
     ]
    }
   ],
   "source": [
    "print(y[:2,1:4])"
   ]
  },
  {
   "cell_type": "code",
   "execution_count": null,
   "id": "163d8ed5",
   "metadata": {},
   "outputs": [],
   "source": []
  },
  {
   "cell_type": "code",
   "execution_count": null,
   "id": "7f95724e",
   "metadata": {},
   "outputs": [],
   "source": []
  },
  {
   "cell_type": "code",
   "execution_count": 56,
   "id": "e27763a2",
   "metadata": {},
   "outputs": [
    {
     "data": {
      "text/plain": [
       "array([[ 1,  2,  3,  4],\n",
       "       [ 5,  6,  7,  8],\n",
       "       [ 9, 10, 11, 12]])"
      ]
     },
     "execution_count": 56,
     "metadata": {},
     "output_type": "execute_result"
    }
   ],
   "source": [
    "arr8 = np.arange(1,13).reshape(3,4)\n",
    "arr8"
   ]
  },
  {
   "cell_type": "markdown",
   "id": "e2cd1f9b",
   "metadata": {},
   "source": [
    "- arr8에서 5보다 작거나 같은 값만 추출"
   ]
  },
  {
   "cell_type": "code",
   "execution_count": 57,
   "id": "4e770ebb",
   "metadata": {},
   "outputs": [
    {
     "data": {
      "text/plain": [
       "array([1, 2, 3, 4, 5])"
      ]
     },
     "execution_count": 57,
     "metadata": {},
     "output_type": "execute_result"
    }
   ],
   "source": [
    "arr8[arr8 <= 5]"
   ]
  },
  {
   "cell_type": "markdown",
   "id": "02368ce8",
   "metadata": {},
   "source": [
    "- arr8에서 3의 배수만 추출하기"
   ]
  },
  {
   "cell_type": "code",
   "execution_count": 58,
   "id": "7af05e91",
   "metadata": {},
   "outputs": [
    {
     "data": {
      "text/plain": [
       "array([ 3,  6,  9, 12])"
      ]
     },
     "execution_count": 58,
     "metadata": {},
     "output_type": "execute_result"
    }
   ],
   "source": [
    "arr8[arr8 %3 == 0]"
   ]
  },
  {
   "cell_type": "code",
   "execution_count": null,
   "id": "63b6895c",
   "metadata": {},
   "outputs": [],
   "source": []
  },
  {
   "cell_type": "markdown",
   "id": "1b4afa5e",
   "metadata": {},
   "source": [
    "- x에서 2의 배수만 추출하기\n",
    "- x에서 60이상의 수만 추출하기"
   ]
  },
  {
   "cell_type": "code",
   "execution_count": 63,
   "id": "761d6148",
   "metadata": {},
   "outputs": [
    {
     "data": {
      "text/plain": [
       "array([45, 14, 59, 71, 86, 94, 83, 21, 89, 46])"
      ]
     },
     "execution_count": 63,
     "metadata": {},
     "output_type": "execute_result"
    }
   ],
   "source": [
    "x = np.random.randint(1,100, size=10)\n",
    "x"
   ]
  },
  {
   "cell_type": "code",
   "execution_count": 60,
   "id": "76df09f8",
   "metadata": {},
   "outputs": [
    {
     "data": {
      "text/plain": [
       "array([94, 70, 56, 74, 78, 80])"
      ]
     },
     "execution_count": 60,
     "metadata": {},
     "output_type": "execute_result"
    }
   ],
   "source": [
    "x[x %2 == 0]"
   ]
  },
  {
   "cell_type": "code",
   "execution_count": 62,
   "id": "790f968e",
   "metadata": {},
   "outputs": [
    {
     "data": {
      "text/plain": [
       "array([99, 94, 83, 70, 73, 74, 78, 80])"
      ]
     },
     "execution_count": 62,
     "metadata": {},
     "output_type": "execute_result"
    }
   ],
   "source": [
    "x[x >= 60]"
   ]
  },
  {
   "cell_type": "markdown",
   "id": "2a005e6e",
   "metadata": {},
   "source": [
    "- x에서 30보다 크고 70보다 작은수만 추출하기\n",
    "- x에서 60보다 크거나 홀수인 수를 추출하기"
   ]
  },
  {
   "cell_type": "code",
   "execution_count": 64,
   "id": "21ead448",
   "metadata": {},
   "outputs": [
    {
     "data": {
      "text/plain": [
       "array([45, 59, 46])"
      ]
     },
     "execution_count": 64,
     "metadata": {},
     "output_type": "execute_result"
    }
   ],
   "source": [
    "x[(x > 30) &(x < 70)]"
   ]
  },
  {
   "cell_type": "code",
   "execution_count": 65,
   "id": "72fcc868",
   "metadata": {},
   "outputs": [
    {
     "data": {
      "text/plain": [
       "array([45, 59, 71, 86, 94, 83, 21, 89])"
      ]
     },
     "execution_count": 65,
     "metadata": {},
     "output_type": "execute_result"
    }
   ],
   "source": [
    "x[(x > 60) | (x%2 != 0)]"
   ]
  },
  {
   "cell_type": "code",
   "execution_count": null,
   "id": "3836c6ad",
   "metadata": {},
   "outputs": [],
   "source": []
  },
  {
   "cell_type": "markdown",
   "id": "de3ae78e",
   "metadata": {},
   "source": [
    "- 예제) 2019년 7월 서울 기온 데이터\n",
    "  - 기온이 25도를 넘는날 수?\n",
    "  - 기온이 25도를 넘는 날의 평균 기온은?"
   ]
  },
  {
   "cell_type": "code",
   "execution_count": 66,
   "id": "1e8c44f5",
   "metadata": {},
   "outputs": [],
   "source": [
    "temp = np.array(\n",
    "        [23.9, 24.4, 24.1, 25.4, 27.6, 29.7,\n",
    "         26.7, 25.1, 25.0, 22.7, 21.9, 23.6, \n",
    "         24.9, 25.9, 23.8, 24.7, 25.6, 26.9, \n",
    "         28.6, 28.0, 25.1, 26.7, 28.1, 26.5, \n",
    "         26.3, 25.9, 28.4, 26.1, 27.5, 28.1, 25.8])"
   ]
  },
  {
   "cell_type": "code",
   "execution_count": 67,
   "id": "7f0386a0",
   "metadata": {},
   "outputs": [
    {
     "data": {
      "text/plain": [
       "31"
      ]
     },
     "execution_count": 67,
     "metadata": {},
     "output_type": "execute_result"
    }
   ],
   "source": [
    "len(temp)"
   ]
  },
  {
   "cell_type": "code",
   "execution_count": 78,
   "id": "b9629f32",
   "metadata": {},
   "outputs": [
    {
     "data": {
      "text/plain": [
       "21"
      ]
     },
     "execution_count": 78,
     "metadata": {},
     "output_type": "execute_result"
    }
   ],
   "source": [
    "temp_len = len(temp[temp > 25.0])\n",
    "temp_len "
   ]
  },
  {
   "cell_type": "code",
   "execution_count": 81,
   "id": "b08e0c51",
   "metadata": {},
   "outputs": [
    {
     "data": {
      "text/plain": [
       "26.857142857142858"
      ]
     },
     "execution_count": 81,
     "metadata": {},
     "output_type": "execute_result"
    }
   ],
   "source": [
    "np.mean(temp[temp > 25.0])"
   ]
  },
  {
   "cell_type": "code",
   "execution_count": null,
   "id": "3edb87e9",
   "metadata": {},
   "outputs": [],
   "source": []
  },
  {
   "cell_type": "markdown",
   "id": "439670e1",
   "metadata": {},
   "source": [
    "## 정렬 : sort"
   ]
  },
  {
   "cell_type": "markdown",
   "id": "2fa0f359",
   "metadata": {},
   "source": [
    "#### 1. 1차원 정렬\n",
    "     - 1 차원 정렬은 매우간단"
   ]
  },
  {
   "cell_type": "code",
   "execution_count": 83,
   "id": "94e0228a",
   "metadata": {},
   "outputs": [
    {
     "data": {
      "text/plain": [
       "array([ 1, 10,  5,  8,  2,  4,  3,  6,  8,  7,  9])"
      ]
     },
     "execution_count": 83,
     "metadata": {},
     "output_type": "execute_result"
    }
   ],
   "source": [
    "arr = np.array([1,10,5,8,2,4,3,6,8,7,9])\n",
    "arr"
   ]
  },
  {
   "cell_type": "code",
   "execution_count": 88,
   "id": "1aa47459",
   "metadata": {},
   "outputs": [
    {
     "data": {
      "text/plain": [
       "array([ 1,  2,  3,  4,  5,  6,  7,  8,  8,  9, 10])"
      ]
     },
     "execution_count": 88,
     "metadata": {},
     "output_type": "execute_result"
    }
   ],
   "source": [
    "np.sort(arr)                        # 오름차순 정렬"
   ]
  },
  {
   "cell_type": "code",
   "execution_count": 86,
   "id": "3c1e03ef",
   "metadata": {
    "scrolled": true
   },
   "outputs": [
    {
     "data": {
      "text/plain": [
       "array([ 1,  2,  3,  4,  5,  6,  7,  8,  8,  9, 10])"
      ]
     },
     "execution_count": 86,
     "metadata": {},
     "output_type": "execute_result"
    }
   ],
   "source": [
    "np.sort([1,10,5,8,2,4,3,6,8,7,9])"
   ]
  },
  {
   "cell_type": "code",
   "execution_count": 87,
   "id": "8b6a7d6e",
   "metadata": {},
   "outputs": [
    {
     "data": {
      "text/plain": [
       "array([10,  9,  8,  8,  7,  6,  5,  4,  3,  2,  1])"
      ]
     },
     "execution_count": 87,
     "metadata": {},
     "output_type": "execute_result"
    }
   ],
   "source": [
    "np.sort(arr)[::-1]                    # 내림차순 정렬"
   ]
  },
  {
   "cell_type": "code",
   "execution_count": null,
   "id": "7e3a944a",
   "metadata": {},
   "outputs": [],
   "source": []
  },
  {
   "cell_type": "markdown",
   "id": "fc9b9955",
   "metadata": {},
   "source": [
    "#### 2. N차원 정렬"
   ]
  },
  {
   "cell_type": "code",
   "execution_count": null,
   "id": "9ba6eebd",
   "metadata": {},
   "outputs": [],
   "source": [
    "arr2d=np.array([[5,6,7,8],\n",
    "              [4,3,2,1],\n",
    "              [10,9,12,11]])"
   ]
  },
  {
   "cell_type": "code",
   "execution_count": null,
   "id": "2ff6da45",
   "metadata": {},
   "outputs": [],
   "source": [
    "arr2d.shape"
   ]
  },
  {
   "cell_type": "markdown",
   "id": "0124c640",
   "metadata": {},
   "source": [
    "#### 2-1 열 정렬 (왼쪽에서 오른쪽으로)"
   ]
  },
  {
   "cell_type": "code",
   "execution_count": 96,
   "id": "6859ed71",
   "metadata": {},
   "outputs": [
    {
     "data": {
      "text/plain": [
       "array([[ 5,  6,  7,  8],\n",
       "       [ 1,  2,  3,  4],\n",
       "       [ 9, 10, 11, 12]])"
      ]
     },
     "execution_count": 96,
     "metadata": {},
     "output_type": "execute_result"
    }
   ],
   "source": [
    "np.sort(arr2d,axis=1)"
   ]
  },
  {
   "cell_type": "code",
   "execution_count": 97,
   "id": "b330ef0e",
   "metadata": {},
   "outputs": [
    {
     "data": {
      "text/plain": [
       "array([[ 5,  6,  7,  8],\n",
       "       [ 4,  3,  2,  1],\n",
       "       [10,  9, 12, 11]])"
      ]
     },
     "execution_count": 97,
     "metadata": {},
     "output_type": "execute_result"
    }
   ],
   "source": [
    "arr2d"
   ]
  },
  {
   "cell_type": "markdown",
   "id": "bd561944",
   "metadata": {},
   "source": [
    "#### 2-1 행 정렬 (위에서 아래로)"
   ]
  },
  {
   "cell_type": "code",
   "execution_count": 98,
   "id": "53b3507e",
   "metadata": {},
   "outputs": [
    {
     "data": {
      "text/plain": [
       "array([[ 4,  3,  2,  1],\n",
       "       [ 5,  6,  7,  8],\n",
       "       [10,  9, 12, 11]])"
      ]
     },
     "execution_count": 98,
     "metadata": {},
     "output_type": "execute_result"
    }
   ],
   "source": [
    "np.sort(arr2d,axis=0)"
   ]
  },
  {
   "cell_type": "code",
   "execution_count": null,
   "id": "8f3ef103",
   "metadata": {},
   "outputs": [],
   "source": []
  },
  {
   "cell_type": "markdown",
   "id": "6b83c593",
   "metadata": {},
   "source": [
    "### y의 원소들의 평균,합,최대값,최솟값,분산,중앙값,표준편차 구하기"
   ]
  },
  {
   "cell_type": "code",
   "execution_count": 99,
   "id": "9f88df75",
   "metadata": {},
   "outputs": [
    {
     "name": "stdout",
     "output_type": "stream",
     "text": [
      "[[52 86 96 18 45]\n",
      " [75  3 63 69 60]\n",
      " [93 58 80 57 14]]\n"
     ]
    }
   ],
   "source": [
    "y =np.random.randint(100,size=(3,5))\n",
    "print(y)"
   ]
  },
  {
   "cell_type": "code",
   "execution_count": 101,
   "id": "d00b81fb",
   "metadata": {},
   "outputs": [
    {
     "data": {
      "text/plain": [
       "57.93333333333333"
      ]
     },
     "execution_count": 101,
     "metadata": {},
     "output_type": "execute_result"
    }
   ],
   "source": [
    "np.mean(y)        # 평균"
   ]
  },
  {
   "cell_type": "code",
   "execution_count": 102,
   "id": "923fc505",
   "metadata": {},
   "outputs": [
    {
     "data": {
      "text/plain": [
       "869"
      ]
     },
     "execution_count": 102,
     "metadata": {},
     "output_type": "execute_result"
    }
   ],
   "source": [
    "y.sum()"
   ]
  },
  {
   "cell_type": "code",
   "execution_count": 103,
   "id": "b475a261",
   "metadata": {},
   "outputs": [
    {
     "data": {
      "text/plain": [
       "96"
      ]
     },
     "execution_count": 103,
     "metadata": {},
     "output_type": "execute_result"
    }
   ],
   "source": [
    "y.max()"
   ]
  },
  {
   "cell_type": "code",
   "execution_count": 104,
   "id": "8100227b",
   "metadata": {},
   "outputs": [
    {
     "data": {
      "text/plain": [
       "3"
      ]
     },
     "execution_count": 104,
     "metadata": {},
     "output_type": "execute_result"
    }
   ],
   "source": [
    "y.min()"
   ]
  },
  {
   "cell_type": "code",
   "execution_count": 105,
   "id": "10a95f56",
   "metadata": {},
   "outputs": [
    {
     "data": {
      "text/plain": [
       "742.8622222222223"
      ]
     },
     "execution_count": 105,
     "metadata": {},
     "output_type": "execute_result"
    }
   ],
   "source": [
    "y.var()            #분산"
   ]
  },
  {
   "cell_type": "code",
   "execution_count": 106,
   "id": "84b1a00c",
   "metadata": {},
   "outputs": [
    {
     "ename": "AttributeError",
     "evalue": "'numpy.ndarray' object has no attribute 'median'",
     "output_type": "error",
     "traceback": [
      "\u001b[1;31m---------------------------------------------------------------------------\u001b[0m",
      "\u001b[1;31mAttributeError\u001b[0m                            Traceback (most recent call last)",
      "Input \u001b[1;32mIn [106]\u001b[0m, in \u001b[0;36m<cell line: 1>\u001b[1;34m()\u001b[0m\n\u001b[1;32m----> 1\u001b[0m \u001b[43my\u001b[49m\u001b[38;5;241;43m.\u001b[39;49m\u001b[43mmedian\u001b[49m()\n",
      "\u001b[1;31mAttributeError\u001b[0m: 'numpy.ndarray' object has no attribute 'median'"
     ]
    }
   ],
   "source": [
    "y.median()        # 중앙값은 직접 가져와야 한다."
   ]
  },
  {
   "cell_type": "code",
   "execution_count": 108,
   "id": "9d6b5ddf",
   "metadata": {},
   "outputs": [
    {
     "data": {
      "text/plain": [
       "60.0"
      ]
     },
     "execution_count": 108,
     "metadata": {},
     "output_type": "execute_result"
    }
   ],
   "source": [
    "np.median(y)      #중앙값"
   ]
  },
  {
   "cell_type": "code",
   "execution_count": 112,
   "id": "e3b168d5",
   "metadata": {},
   "outputs": [
    {
     "data": {
      "text/plain": [
       "27.25549893548497"
      ]
     },
     "execution_count": 112,
     "metadata": {},
     "output_type": "execute_result"
    }
   ],
   "source": [
    "y.std()           #표준편차"
   ]
  },
  {
   "cell_type": "code",
   "execution_count": 113,
   "id": "ea7ceae3",
   "metadata": {},
   "outputs": [
    {
     "data": {
      "text/plain": [
       "27.25549893548497"
      ]
     },
     "execution_count": 113,
     "metadata": {},
     "output_type": "execute_result"
    }
   ],
   "source": [
    "np.std(y)"
   ]
  },
  {
   "cell_type": "code",
   "execution_count": null,
   "id": "a6047d89",
   "metadata": {},
   "outputs": [],
   "source": []
  },
  {
   "cell_type": "code",
   "execution_count": null,
   "id": "ed6d87a5",
   "metadata": {},
   "outputs": [],
   "source": []
  }
 ],
 "metadata": {
  "kernelspec": {
   "display_name": "Python 3 (ipykernel)",
   "language": "python",
   "name": "python3"
  },
  "language_info": {
   "codemirror_mode": {
    "name": "ipython",
    "version": 3
   },
   "file_extension": ".py",
   "mimetype": "text/x-python",
   "name": "python",
   "nbconvert_exporter": "python",
   "pygments_lexer": "ipython3",
   "version": "3.9.12"
  }
 },
 "nbformat": 4,
 "nbformat_minor": 5
}
