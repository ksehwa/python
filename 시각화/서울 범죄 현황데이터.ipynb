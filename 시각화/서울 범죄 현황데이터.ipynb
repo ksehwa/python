{
 "cells": [
  {
   "cell_type": "code",
   "execution_count": 1,
   "id": "968c5c14",
   "metadata": {},
   "outputs": [],
   "source": [
    "import matplotlib.pyplot as plt\n",
    "import numpy as np\n",
    "import pandas as pd"
   ]
  },
  {
   "cell_type": "code",
   "execution_count": null,
   "id": "c9cacb3f",
   "metadata": {},
   "outputs": [],
   "source": []
  },
  {
   "cell_type": "code",
   "execution_count": 2,
   "id": "8cd84393",
   "metadata": {},
   "outputs": [
    {
     "name": "stdout",
     "output_type": "stream",
     "text": [
      "--------------------\n",
      "이름\t영어\t등급\n",
      "--------------------\n"
     ]
    },
    {
     "ename": "NameError",
     "evalue": "name 'sr' is not defined",
     "output_type": "error",
     "traceback": [
      "\u001b[1;31m---------------------------------------------------------------------------\u001b[0m",
      "\u001b[1;31mNameError\u001b[0m                                 Traceback (most recent call last)",
      "Input \u001b[1;32mIn [2]\u001b[0m, in \u001b[0;36m<cell line: 8>\u001b[1;34m()\u001b[0m\n\u001b[0;32m      5\u001b[0m \u001b[38;5;28mprint\u001b[39m(\u001b[38;5;124m'\u001b[39m\u001b[38;5;124m이름\u001b[39m\u001b[38;5;124m'\u001b[39m,\u001b[38;5;124m'\u001b[39m\u001b[38;5;124m영어\u001b[39m\u001b[38;5;124m'\u001b[39m,\u001b[38;5;124m'\u001b[39m\u001b[38;5;124m등급\u001b[39m\u001b[38;5;124m'\u001b[39m, sep\u001b[38;5;241m=\u001b[39m\u001b[38;5;124m'\u001b[39m\u001b[38;5;130;01m\\t\u001b[39;00m\u001b[38;5;124m'\u001b[39m)\n\u001b[0;32m      6\u001b[0m \u001b[38;5;28mprint\u001b[39m(\u001b[38;5;124m'\u001b[39m\u001b[38;5;124m-\u001b[39m\u001b[38;5;124m'\u001b[39m\u001b[38;5;241m*\u001b[39m\u001b[38;5;241m20\u001b[39m)\n\u001b[1;32m----> 8\u001b[0m sr_cut\u001b[38;5;241m=\u001b[39mpd\u001b[38;5;241m.\u001b[39mcut(\u001b[43msr\u001b[49m,[\u001b[38;5;241m-\u001b[39m\u001b[38;5;241m1\u001b[39m,\u001b[38;5;241m59\u001b[39m,\u001b[38;5;241m69\u001b[39m,\u001b[38;5;241m79\u001b[39m,\u001b[38;5;241m89\u001b[39m,\u001b[38;5;241m100\u001b[39m],labels\u001b[38;5;241m=\u001b[39m[\u001b[38;5;124m'\u001b[39m\u001b[38;5;124mF\u001b[39m\u001b[38;5;124m'\u001b[39m,\u001b[38;5;124m'\u001b[39m\u001b[38;5;124mD\u001b[39m\u001b[38;5;124m'\u001b[39m,\u001b[38;5;124m'\u001b[39m\u001b[38;5;124mC\u001b[39m\u001b[38;5;124m'\u001b[39m,\u001b[38;5;124m'\u001b[39m\u001b[38;5;124mB\u001b[39m\u001b[38;5;124m'\u001b[39m,\u001b[38;5;124m'\u001b[39m\u001b[38;5;124mA\u001b[39m\u001b[38;5;124m'\u001b[39m])\n\u001b[0;32m      9\u001b[0m sr_cut\n",
      "\u001b[1;31mNameError\u001b[0m: name 'sr' is not defined"
     ]
    }
   ],
   "source": [
    "#영어 점수 등급을 매겨봅시다\n",
    "#F: 0~59점, D:60~69점, C:70~79점, B: 80~89점, A:90~100점\n",
    "\n",
    "print('-'*20)\n",
    "print('이름','영어','등급', sep='\\t')\n",
    "print('-'*20)\n",
    "\n",
    "sr_cut=pd.cut(sr,[-1,59,69,79,89,100],labels=['F','D','C','B','A'])\n",
    "sr_cut"
   ]
  },
  {
   "cell_type": "code",
   "execution_count": null,
   "id": "619153e7",
   "metadata": {},
   "outputs": [],
   "source": [
    "sr.quantile([0.3,0.6,0.8])"
   ]
  },
  {
   "cell_type": "code",
   "execution_count": null,
   "id": "f51b95aa",
   "metadata": {},
   "outputs": [],
   "source": [
    "# 과일 데이터\n",
    "fruit = pd.Series([10,20,30,50], index=['딸기','귤','수박','사과'],name='과일')\n",
    "fruit"
   ]
  },
  {
   "cell_type": "code",
   "execution_count": null,
   "id": "d8eea9c9",
   "metadata": {},
   "outputs": [],
   "source": [
    "from matplotlib import font_manager, rc\n",
    "font_name = font_manager.FontProperties(fname = 'C:/Windows/Fonts/malgun.ttf').get_name()\n",
    "rc('font',family=font_name)"
   ]
  },
  {
   "cell_type": "code",
   "execution_count": null,
   "id": "4f5860fd",
   "metadata": {},
   "outputs": [],
   "source": [
    "# 과일의 비율을 파이차트로 그려보기\n",
    "fruit.plot(kind='pie',autopct='%.2f',shadow=True,explode=[0,0,0.1,0.2])\n",
    "plt.show()"
   ]
  },
  {
   "cell_type": "code",
   "execution_count": null,
   "id": "e7c12668",
   "metadata": {},
   "outputs": [],
   "source": [
    "df=pd.read_csv('crime_in_Seoul.csv',encoding='euc-kr',index_col='관서명')\n",
    "df.head(4)"
   ]
  },
  {
   "cell_type": "code",
   "execution_count": null,
   "id": "255f8d0a",
   "metadata": {},
   "outputs": [],
   "source": [
    "df.corr()           #corr : 상관관계"
   ]
  },
  {
   "cell_type": "code",
   "execution_count": null,
   "id": "7b912c92",
   "metadata": {},
   "outputs": [],
   "source": [
    "df[['살인 발생','살인 검거']].head(10)"
   ]
  },
  {
   "cell_type": "code",
   "execution_count": null,
   "id": "6342049f",
   "metadata": {},
   "outputs": [],
   "source": [
    "df.plot(kind='scatter',x=\"살인 발생\",y=\"살인 검거\")"
   ]
  },
  {
   "cell_type": "code",
   "execution_count": null,
   "id": "c85e4276",
   "metadata": {},
   "outputs": [],
   "source": [
    "data1=pd.read_csv('2014년 졸음운전 교통사고.csv',encoding='euc-kr')\n",
    "data2=pd.read_csv('2015년 졸음운전 교통사고.csv',encoding='euc-kr')\n",
    "data3=pd.read_csv('2016년 졸음운전 교통사고.csv',encoding='euc-kr')"
   ]
  },
  {
   "cell_type": "code",
   "execution_count": null,
   "id": "c212f947",
   "metadata": {},
   "outputs": [],
   "source": [
    "data= pd.concat([data1,data2,data3])      # 데이터 병함\n",
    "data.set_index('구분',inplace=True)       #인덱스 변경 ,inplace:저장\n",
    "data"
   ]
  },
  {
   "cell_type": "code",
   "execution_count": null,
   "id": "3a57acb0",
   "metadata": {},
   "outputs": [],
   "source": [
    "dt=data.copy()         #원하는 변수에 데이터를 그대로 복사"
   ]
  },
  {
   "cell_type": "code",
   "execution_count": null,
   "id": "5c8c3852",
   "metadata": {},
   "outputs": [],
   "source": [
    "dt"
   ]
  },
  {
   "cell_type": "code",
   "execution_count": null,
   "id": "604d88c6",
   "metadata": {},
   "outputs": [],
   "source": [
    "dt.index=pd.to_datetime(dt.index,format='%Y년%m월')                       #datetime : 날짜로 인식\n",
    "dt.set_index([dt.index.year,dt.index.month],inplace=True)\n",
    "dt.index.names=['연도','월']\n",
    "dt"
   ]
  },
  {
   "cell_type": "code",
   "execution_count": null,
   "id": "be6c34f1",
   "metadata": {},
   "outputs": [],
   "source": [
    "#연도별 평균 사망자\n",
    "#groupby()사용\n",
    "y = dt.groupby('연도').mean()[['사망(명)']]\n",
    "y"
   ]
  },
  {
   "cell_type": "code",
   "execution_count": null,
   "id": "adc6457a",
   "metadata": {},
   "outputs": [],
   "source": [
    "#월별 평균 사망자\n",
    "m = dt.groupby('월').mean()[['사망(명)']]\n",
    "m"
   ]
  },
  {
   "cell_type": "code",
   "execution_count": null,
   "id": "9884cbb9",
   "metadata": {},
   "outputs": [],
   "source": [
    "#2014년도 월별 사망, 부상 데이터를 바 차트로 표현\n",
    "y = dt.loc[2014][['사망(명)','부상(명)']].plot(kind = 'bar',rot=0)\n",
    "plt.show()"
   ]
  },
  {
   "cell_type": "code",
   "execution_count": 3,
   "id": "8fbb69d9",
   "metadata": {},
   "outputs": [
    {
     "data": {
      "text/plain": [
       "<function matplotlib.pyplot.pie(x, explode=None, labels=None, colors=None, autopct=None, pctdistance=0.6, shadow=False, labeldistance=1.1, startangle=0, radius=1, counterclock=True, wedgeprops=None, textprops=None, center=(0, 0), frame=False, rotatelabels=False, *, normalize=True, data=None)>"
      ]
     },
     "execution_count": 3,
     "metadata": {},
     "output_type": "execute_result"
    }
   ],
   "source": [
    "plt.pie"
   ]
  },
  {
   "cell_type": "code",
   "execution_count": null,
   "id": "8219a755",
   "metadata": {},
   "outputs": [],
   "source": []
  },
  {
   "cell_type": "code",
   "execution_count": null,
   "id": "2d60da10",
   "metadata": {},
   "outputs": [],
   "source": []
  },
  {
   "cell_type": "code",
   "execution_count": null,
   "id": "33f395b8",
   "metadata": {},
   "outputs": [],
   "source": []
  },
  {
   "cell_type": "code",
   "execution_count": null,
   "id": "baf37f25",
   "metadata": {},
   "outputs": [],
   "source": []
  },
  {
   "cell_type": "code",
   "execution_count": null,
   "id": "e4490158",
   "metadata": {},
   "outputs": [],
   "source": []
  },
  {
   "cell_type": "code",
   "execution_count": null,
   "id": "2a7845d5",
   "metadata": {},
   "outputs": [],
   "source": []
  },
  {
   "cell_type": "code",
   "execution_count": null,
   "id": "2551547a",
   "metadata": {},
   "outputs": [],
   "source": []
  },
  {
   "cell_type": "code",
   "execution_count": null,
   "id": "4c3a4ec6",
   "metadata": {},
   "outputs": [],
   "source": []
  },
  {
   "cell_type": "code",
   "execution_count": null,
   "id": "28a45533",
   "metadata": {},
   "outputs": [],
   "source": []
  },
  {
   "cell_type": "code",
   "execution_count": null,
   "id": "147cc3ef",
   "metadata": {},
   "outputs": [],
   "source": []
  },
  {
   "cell_type": "code",
   "execution_count": null,
   "id": "b62dff0a",
   "metadata": {},
   "outputs": [],
   "source": []
  },
  {
   "cell_type": "code",
   "execution_count": null,
   "id": "13f2760a",
   "metadata": {},
   "outputs": [],
   "source": []
  },
  {
   "cell_type": "code",
   "execution_count": null,
   "id": "75637dd0",
   "metadata": {},
   "outputs": [],
   "source": []
  },
  {
   "cell_type": "code",
   "execution_count": null,
   "id": "8785c098",
   "metadata": {},
   "outputs": [],
   "source": []
  },
  {
   "cell_type": "code",
   "execution_count": null,
   "id": "8ac862b4",
   "metadata": {},
   "outputs": [],
   "source": []
  },
  {
   "cell_type": "code",
   "execution_count": null,
   "id": "697a8f38",
   "metadata": {},
   "outputs": [],
   "source": []
  },
  {
   "cell_type": "code",
   "execution_count": null,
   "id": "993548b6",
   "metadata": {},
   "outputs": [],
   "source": []
  },
  {
   "cell_type": "code",
   "execution_count": null,
   "id": "aa8c2c88",
   "metadata": {},
   "outputs": [],
   "source": []
  },
  {
   "cell_type": "code",
   "execution_count": null,
   "id": "bd28c46d",
   "metadata": {},
   "outputs": [],
   "source": []
  },
  {
   "cell_type": "code",
   "execution_count": null,
   "id": "cc2f1cba",
   "metadata": {},
   "outputs": [],
   "source": []
  },
  {
   "cell_type": "code",
   "execution_count": null,
   "id": "3b0efd7f",
   "metadata": {},
   "outputs": [],
   "source": []
  },
  {
   "cell_type": "code",
   "execution_count": null,
   "id": "a5eab9d4",
   "metadata": {},
   "outputs": [],
   "source": []
  },
  {
   "cell_type": "code",
   "execution_count": null,
   "id": "6284ed7c",
   "metadata": {},
   "outputs": [],
   "source": []
  },
  {
   "cell_type": "code",
   "execution_count": null,
   "id": "829b303b",
   "metadata": {},
   "outputs": [],
   "source": []
  }
 ],
 "metadata": {
  "kernelspec": {
   "display_name": "Python 3 (ipykernel)",
   "language": "python",
   "name": "python3"
  },
  "language_info": {
   "codemirror_mode": {
    "name": "ipython",
    "version": 3
   },
   "file_extension": ".py",
   "mimetype": "text/x-python",
   "name": "python",
   "nbconvert_exporter": "python",
   "pygments_lexer": "ipython3",
   "version": "3.9.12"
  }
 },
 "nbformat": 4,
 "nbformat_minor": 5
}
