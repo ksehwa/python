{
 "cells": [
  {
   "cell_type": "code",
   "execution_count": 1,
   "id": "3a8c5a2d",
   "metadata": {},
   "outputs": [],
   "source": [
    "a='파이썬'"
   ]
  },
  {
   "cell_type": "code",
   "execution_count": 2,
   "id": "99a390c5",
   "metadata": {
    "scrolled": true
   },
   "outputs": [
    {
     "data": {
      "text/plain": [
       "'파이썬'"
      ]
     },
     "execution_count": 2,
     "metadata": {},
     "output_type": "execute_result"
    }
   ],
   "source": [
    "a"
   ]
  },
  {
   "cell_type": "code",
   "execution_count": 3,
   "id": "90b92f4e",
   "metadata": {},
   "outputs": [],
   "source": [
    "korean_presidents=['윤석열', '문재인', ' 박근혜', '노무현', '김대중']"
   ]
  },
  {
   "cell_type": "code",
   "execution_count": 4,
   "id": "ecb1d70a",
   "metadata": {},
   "outputs": [
    {
     "data": {
      "text/plain": [
       "['윤석열', '문재인', ' 박근혜', '노무현', '김대중']"
      ]
     },
     "execution_count": 4,
     "metadata": {},
     "output_type": "execute_result"
    }
   ],
   "source": [
    "korean_presidents"
   ]
  },
  {
   "cell_type": "code",
   "execution_count": 5,
   "id": "a2bf605f",
   "metadata": {},
   "outputs": [],
   "source": [
    "korean_presidents.append('이명박')"
   ]
  },
  {
   "cell_type": "code",
   "execution_count": 6,
   "id": "eb9fce7f",
   "metadata": {},
   "outputs": [
    {
     "data": {
      "text/plain": [
       "['윤석열', '문재인', ' 박근혜', '노무현', '김대중', '이명박']"
      ]
     },
     "execution_count": 6,
     "metadata": {},
     "output_type": "execute_result"
    }
   ],
   "source": [
    "korean_presidents"
   ]
  },
  {
   "cell_type": "code",
   "execution_count": 7,
   "id": "d5fc0d6f",
   "metadata": {},
   "outputs": [],
   "source": [
    "korean_presidents.remove('이명박')"
   ]
  },
  {
   "cell_type": "code",
   "execution_count": 8,
   "id": "42f1b50f",
   "metadata": {},
   "outputs": [
    {
     "data": {
      "text/plain": [
       "['윤석열', '문재인', ' 박근혜', '노무현', '김대중']"
      ]
     },
     "execution_count": 8,
     "metadata": {},
     "output_type": "execute_result"
    }
   ],
   "source": [
    "korean_presidents"
   ]
  },
  {
   "cell_type": "code",
   "execution_count": 9,
   "id": "8257e8db",
   "metadata": {},
   "outputs": [],
   "source": [
    "from random import randint"
   ]
  },
  {
   "cell_type": "code",
   "execution_count": 12,
   "id": "bcf43604",
   "metadata": {},
   "outputs": [
    {
     "data": {
      "text/plain": [
       "5"
      ]
     },
     "execution_count": 12,
     "metadata": {},
     "output_type": "execute_result"
    }
   ],
   "source": [
    " randint(0,10)"
   ]
  },
  {
   "cell_type": "markdown",
   "id": "c68609c5",
   "metadata": {},
   "source": [
    "## 방금배운 randint 함수를 이용해서 korean_presidents리스트의 대통령을 랜덤하게 출력"
   ]
  },
  {
   "cell_type": "code",
   "execution_count": null,
   "id": "961f469b",
   "metadata": {},
   "outputs": [],
   "source": [
    "korean_presidents[randint(0,4)]"
   ]
  },
  {
   "cell_type": "code",
   "execution_count": null,
   "id": "5170a8ef",
   "metadata": {},
   "outputs": [],
   "source": [
    "korean_presidents.insert(3, '이명박')                                    #원하는 위치에 값을 넣기"
   ]
  },
  {
   "cell_type": "code",
   "execution_count": null,
   "id": "1dbfedd0",
   "metadata": {
    "scrolled": true
   },
   "outputs": [],
   "source": [
    "korean_presidents"
   ]
  },
  {
   "cell_type": "markdown",
   "id": "4b5811c0",
   "metadata": {},
   "source": [
    "## 포맷팅"
   ]
  },
  {
   "cell_type": "code",
   "execution_count": null,
   "id": "d0b7f7ed",
   "metadata": {},
   "outputs": [],
   "source": [
    "name =\"세화\"\n",
    "banana=5\n",
    "apples=6\n",
    "days=7\n",
    "\"%s는 바나나 %d개와 사과 %d개를 %d일동안 먹었다\"%(name,banana,apples,days)"
   ]
  },
  {
   "cell_type": "code",
   "execution_count": null,
   "id": "dc426ecd",
   "metadata": {},
   "outputs": [],
   "source": [
    "name =\"세화\"\n",
    "banana=5\n",
    "apples=6\n",
    "days=7\n",
    "\"{0}는 바나나 {1}개와 사과 {2}개를 {3}일동안 먹었다\".format(name,banana,apples,days)"
   ]
  },
  {
   "cell_type": "markdown",
   "id": "ccede122",
   "metadata": {},
   "source": [
    "## 논리형\n"
   ]
  },
  {
   "cell_type": "code",
   "execution_count": null,
   "id": "5621893b",
   "metadata": {},
   "outputs": [],
   "source": [
    "a=True\n",
    "b=False"
   ]
  },
  {
   "cell_type": "code",
   "execution_count": null,
   "id": "34ae52b5",
   "metadata": {},
   "outputs": [],
   "source": [
    "a+b"
   ]
  },
  {
   "cell_type": "code",
   "execution_count": null,
   "id": "e8466669",
   "metadata": {},
   "outputs": [],
   "source": [
    "a and b"
   ]
  },
  {
   "cell_type": "code",
   "execution_count": null,
   "id": "6e2371fe",
   "metadata": {},
   "outputs": [],
   "source": [
    "a or b"
   ]
  },
  {
   "cell_type": "code",
   "execution_count": null,
   "id": "37e93a10",
   "metadata": {},
   "outputs": [],
   "source": [
    "not a"
   ]
  },
  {
   "cell_type": "code",
   "execution_count": null,
   "id": "f7a9a90e",
   "metadata": {},
   "outputs": [],
   "source": [
    "a == b"
   ]
  },
  {
   "cell_type": "code",
   "execution_count": null,
   "id": "d905ac8a",
   "metadata": {},
   "outputs": [],
   "source": [
    "a != b "
   ]
  },
  {
   "cell_type": "markdown",
   "id": "f072d4ee",
   "metadata": {},
   "source": [
    "## 반복문"
   ]
  },
  {
   "cell_type": "code",
   "execution_count": null,
   "id": "70068657",
   "metadata": {},
   "outputs": [],
   "source": [
    "i=0\n",
    "while i < 10:\n",
    "    print(\"현재 i 의 값은 %d 입니다\"%i)\n",
    "    i  += 1"
   ]
  },
  {
   "cell_type": "code",
   "execution_count": null,
   "id": "055879d9",
   "metadata": {},
   "outputs": [],
   "source": [
    "for i in range(1,10):\n",
    "    print(\"현재 i 의 값은 %d 입니다\"%i)"
   ]
  },
  {
   "cell_type": "markdown",
   "id": "04266fbc",
   "metadata": {},
   "source": [
    "### for문을 사용해서 대통령들의 이름 출력하기\n",
    "ex. 대통령의 이름은 윤석열입니다.\n",
    "    대통령의 이름은 문재인입니다.\n",
    "    ......\n",
    "    대통령의 이름은 김대중입니다."
   ]
  },
  {
   "cell_type": "code",
   "execution_count": 11,
   "id": "d2c35757",
   "metadata": {},
   "outputs": [
    {
     "name": "stdout",
     "output_type": "stream",
     "text": [
      "대통령의 이름은 윤석열 입니다\n",
      "대통령의 이름은 문재인 입니다\n",
      "대통령의 이름은  박근혜 입니다\n",
      "대통령의 이름은 노무현 입니다\n",
      "대통령의 이름은 김대중 입니다\n"
     ]
    }
   ],
   "source": [
    "for i in korean_presidents:\n",
    "    print (\"대통령의 이름은 %s 입니다\"%i)"
   ]
  },
  {
   "cell_type": "markdown",
   "id": "c6b37809",
   "metadata": {},
   "source": [
    "## 구구단 3 단과 4 단을 출력해주세요"
   ]
  },
  {
   "cell_type": "code",
   "execution_count": null,
   "id": "64e5dd38",
   "metadata": {},
   "outputs": [],
   "source": [
    "==3단 시작==\n",
    "3*1=3\n",
    "3*2=6\n",
    ".....\n",
    "==4단 시작==\n",
    "4*1=4"
   ]
  },
  {
   "cell_type": "code",
   "execution_count": 16,
   "id": "54a3862e",
   "metadata": {},
   "outputs": [
    {
     "name": "stdout",
     "output_type": "stream",
     "text": [
      "==3단 시작==\n",
      "3 x 1 = 3\n",
      "3 x 2 = 6\n",
      "3 x 3 = 9\n",
      "3 x 4 = 12\n",
      "3 x 5 = 15\n",
      "3 x 6 = 18\n",
      "3 x 7 = 21\n",
      "3 x 8 = 24\n",
      "3 x 9 = 27\n",
      "==4단 시작==\n",
      "4 x 1 = 4\n",
      "4 x 2 = 8\n",
      "4 x 3 = 12\n",
      "4 x 4 = 16\n",
      "4 x 5 = 20\n",
      "4 x 6 = 24\n",
      "4 x 7 = 28\n",
      "4 x 8 = 32\n",
      "4 x 9 = 36\n"
     ]
    }
   ],
   "source": [
    "for a in range(3,5):\n",
    "    print(\"==%d단 시작==\"%a)\n",
    "    for b in range(1,10):\n",
    "        result = a * b\n",
    "        print (\"%d x %d = %d\"% (a,b,result))    "
   ]
  },
  {
   "cell_type": "code",
   "execution_count": null,
   "id": "e24fc3a8",
   "metadata": {},
   "outputs": [],
   "source": []
  },
  {
   "cell_type": "code",
   "execution_count": null,
   "id": "65d8db71",
   "metadata": {},
   "outputs": [],
   "source": []
  },
  {
   "cell_type": "code",
   "execution_count": null,
   "id": "dbdac271",
   "metadata": {},
   "outputs": [],
   "source": []
  },
  {
   "cell_type": "code",
   "execution_count": null,
   "id": "2957afd8",
   "metadata": {},
   "outputs": [],
   "source": []
  },
  {
   "cell_type": "code",
   "execution_count": null,
   "id": "c8add1a3",
   "metadata": {},
   "outputs": [],
   "source": []
  },
  {
   "cell_type": "code",
   "execution_count": null,
   "id": "bae92df3",
   "metadata": {},
   "outputs": [],
   "source": []
  },
  {
   "cell_type": "code",
   "execution_count": null,
   "id": "e7ffbcdb",
   "metadata": {},
   "outputs": [],
   "source": []
  },
  {
   "cell_type": "code",
   "execution_count": null,
   "id": "1100640c",
   "metadata": {},
   "outputs": [],
   "source": []
  },
  {
   "cell_type": "code",
   "execution_count": null,
   "id": "a1720fcd",
   "metadata": {},
   "outputs": [],
   "source": []
  },
  {
   "cell_type": "code",
   "execution_count": null,
   "id": "443fd8b0",
   "metadata": {},
   "outputs": [],
   "source": []
  },
  {
   "cell_type": "code",
   "execution_count": null,
   "id": "1bae9c8b",
   "metadata": {},
   "outputs": [],
   "source": []
  },
  {
   "cell_type": "code",
   "execution_count": null,
   "id": "515412fd",
   "metadata": {},
   "outputs": [],
   "source": []
  },
  {
   "cell_type": "code",
   "execution_count": null,
   "id": "7116c72b",
   "metadata": {},
   "outputs": [],
   "source": []
  },
  {
   "cell_type": "code",
   "execution_count": null,
   "id": "d5b2b7bc",
   "metadata": {},
   "outputs": [],
   "source": []
  },
  {
   "cell_type": "code",
   "execution_count": null,
   "id": "adbd2be3",
   "metadata": {},
   "outputs": [],
   "source": []
  },
  {
   "cell_type": "code",
   "execution_count": null,
   "id": "33f84c00",
   "metadata": {},
   "outputs": [],
   "source": []
  },
  {
   "cell_type": "code",
   "execution_count": null,
   "id": "f9153a7e",
   "metadata": {},
   "outputs": [],
   "source": []
  },
  {
   "cell_type": "code",
   "execution_count": null,
   "id": "b0b22909",
   "metadata": {},
   "outputs": [],
   "source": []
  },
  {
   "cell_type": "code",
   "execution_count": null,
   "id": "9bdb1629",
   "metadata": {},
   "outputs": [],
   "source": []
  },
  {
   "cell_type": "code",
   "execution_count": null,
   "id": "9271c24e",
   "metadata": {},
   "outputs": [],
   "source": []
  },
  {
   "cell_type": "code",
   "execution_count": null,
   "id": "a073dac7",
   "metadata": {},
   "outputs": [],
   "source": []
  },
  {
   "cell_type": "code",
   "execution_count": null,
   "id": "6643ece1",
   "metadata": {},
   "outputs": [],
   "source": []
  },
  {
   "cell_type": "code",
   "execution_count": null,
   "id": "02197261",
   "metadata": {},
   "outputs": [],
   "source": []
  },
  {
   "cell_type": "code",
   "execution_count": null,
   "id": "817aa3cc",
   "metadata": {},
   "outputs": [],
   "source": []
  },
  {
   "cell_type": "code",
   "execution_count": null,
   "id": "9777be16",
   "metadata": {},
   "outputs": [],
   "source": []
  },
  {
   "cell_type": "code",
   "execution_count": null,
   "id": "ba2da5c5",
   "metadata": {},
   "outputs": [],
   "source": []
  },
  {
   "cell_type": "code",
   "execution_count": null,
   "id": "aa571a64",
   "metadata": {},
   "outputs": [],
   "source": []
  },
  {
   "cell_type": "code",
   "execution_count": null,
   "id": "17e98109",
   "metadata": {},
   "outputs": [],
   "source": []
  }
 ],
 "metadata": {
  "kernelspec": {
   "display_name": "Python 3 (ipykernel)",
   "language": "python",
   "name": "python3"
  },
  "language_info": {
   "codemirror_mode": {
    "name": "ipython",
    "version": 3
   },
   "file_extension": ".py",
   "mimetype": "text/x-python",
   "name": "python",
   "nbconvert_exporter": "python",
   "pygments_lexer": "ipython3",
   "version": "3.9.12"
  }
 },
 "nbformat": 4,
 "nbformat_minor": 5
}
