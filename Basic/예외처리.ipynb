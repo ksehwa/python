{
 "cells": [
  {
   "cell_type": "code",
   "execution_count": 2,
   "id": "998b123c",
   "metadata": {},
   "outputs": [
    {
     "name": "stdout",
     "output_type": "stream",
     "text": [
      "0.14285714285714285\n",
      "0.16666666666666666\n",
      "0.2\n",
      "0.25\n",
      "0.3333333333333333\n",
      "0.5\n",
      "1.0\n",
      "0\n",
      "-1.0\n",
      "-0.5\n"
     ]
    }
   ],
   "source": [
    "for i in range(10):          \n",
    "    try:\n",
    "        print(1/(7-i))\n",
    "    except:\n",
    "        print(0)"
   ]
  },
  {
   "cell_type": "code",
   "execution_count": null,
   "id": "c52781ff",
   "metadata": {},
   "outputs": [],
   "source": [
    "try:\n",
    "    에러가 날 수도 있는 코드\n",
    "except:\n",
    "    에러가 날 수도 있는 코드가 에러가 났을 때 실행할 코드"
   ]
  },
  {
   "cell_type": "code",
   "execution_count": 1,
   "id": "f1b3cc93",
   "metadata": {},
   "outputs": [
    {
     "name": "stdout",
     "output_type": "stream",
     "text": [
      "정수를 입력하세요 : d\n",
      "너 혼난다.\n",
      "정수를 입력하세요 : d\n",
      "너 혼난다.\n",
      "정수를 입력하세요 : d\n",
      "너 혼난다.\n",
      "정수를 입력하세요 : d\n",
      "너 혼난다.\n",
      "정수를 입력하세요 : f\n",
      "너 혼난다.\n",
      "정수를 입력하세요 : g\n",
      "너 혼난다.\n",
      "정수를 입력하세요 : 2\n",
      "2\n"
     ]
    }
   ],
   "source": [
    "while True:                                          \n",
    "    try:\n",
    "        a = int(input(\"정수를 입력하세요 : \"))\n",
    "        print(a)\n",
    "        break\n",
    "        \n",
    "    except:\n",
    "        print(\"너 혼난다.\")"
   ]
  },
  {
   "cell_type": "code",
   "execution_count": 2,
   "id": "e5b5dc95",
   "metadata": {},
   "outputs": [
    {
     "name": "stdout",
     "output_type": "stream",
     "text": [
      "3의 배수를 입력하세요 : 2\n"
     ]
    },
    {
     "ename": "Exception",
     "evalue": "3의 배수를 입력하라고요!",
     "output_type": "error",
     "traceback": [
      "\u001b[1;31m---------------------------------------------------------------------------\u001b[0m",
      "\u001b[1;31mException\u001b[0m                                 Traceback (most recent call last)",
      "Input \u001b[1;32mIn [2]\u001b[0m, in \u001b[0;36m<cell line: 2>\u001b[1;34m()\u001b[0m\n\u001b[0;32m      1\u001b[0m a \u001b[38;5;241m=\u001b[39m \u001b[38;5;28mint\u001b[39m(\u001b[38;5;28minput\u001b[39m(\u001b[38;5;124m\"\u001b[39m\u001b[38;5;124m3의 배수를 입력하세요 : \u001b[39m\u001b[38;5;124m\"\u001b[39m))\n\u001b[0;32m      2\u001b[0m \u001b[38;5;28;01mif\u001b[39;00m a\u001b[38;5;241m%\u001b[39m\u001b[38;5;241m3\u001b[39m \u001b[38;5;241m!=\u001b[39m\u001b[38;5;241m0\u001b[39m:\n\u001b[1;32m----> 3\u001b[0m     \u001b[38;5;28;01mraise\u001b[39;00m \u001b[38;5;167;01mException\u001b[39;00m(\u001b[38;5;124m\"\u001b[39m\u001b[38;5;124m3의 배수를 입력하라고요!\u001b[39m\u001b[38;5;124m\"\u001b[39m)\n\u001b[0;32m      4\u001b[0m \u001b[38;5;28;01melse\u001b[39;00m:\n\u001b[0;32m      5\u001b[0m     \u001b[38;5;28mprint\u001b[39m(a)\n",
      "\u001b[1;31mException\u001b[0m: 3의 배수를 입력하라고요!"
     ]
    }
   ],
   "source": [
    "a = int(input(\"3의 배수를 입력하세요 : \"))                # 파이썬 내에서 문제없음, 개발자가 오류지정\n",
    "if a%3 !=0:\n",
    "    raise Exception(\"3의 배수를 입력하라고요!\")       \n",
    "else:\n",
    "    print(a)"
   ]
  },
  {
   "cell_type": "code",
   "execution_count": null,
   "id": "a3028109",
   "metadata": {},
   "outputs": [],
   "source": []
  }
 ],
 "metadata": {
  "kernelspec": {
   "display_name": "Python 3 (ipykernel)",
   "language": "python",
   "name": "python3"
  },
  "language_info": {
   "codemirror_mode": {
    "name": "ipython",
    "version": 3
   },
   "file_extension": ".py",
   "mimetype": "text/x-python",
   "name": "python",
   "nbconvert_exporter": "python",
   "pygments_lexer": "ipython3",
   "version": "3.9.12"
  }
 },
 "nbformat": 4,
 "nbformat_minor": 5
}
