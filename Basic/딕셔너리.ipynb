{
 "cells": [
  {
   "cell_type": "code",
   "execution_count": 47,
   "id": "ac870c16",
   "metadata": {},
   "outputs": [],
   "source": [
    "csb = {\"이름\" : \"홍길동\", \"나이\" : 20, \"키\" : 168}\n",
    "\n",
    "class1_4 = {\"이름\" : [\"홍길동\", \"김철수\", \"최영희\"],\n",
    "            \"나이\" : [20, 21,22],\n",
    "             \"키\" : [168,177,204]}"
   ]
  },
  {
   "cell_type": "code",
   "execution_count": 3,
   "id": "7061beb4",
   "metadata": {},
   "outputs": [
    {
     "data": {
      "text/plain": [
       "['홍길동', '김철수', '최영희']"
      ]
     },
     "execution_count": 3,
     "metadata": {},
     "output_type": "execute_result"
    }
   ],
   "source": [
    "class1_4[\"이름\"]                     "
   ]
  },
  {
   "cell_type": "code",
   "execution_count": 4,
   "id": "410c69f4",
   "metadata": {},
   "outputs": [
    {
     "data": {
      "text/plain": [
       "{'이름': ['홍길동', '김철수', '최영희'],\n",
       " '나이': [20, 21, 22],\n",
       " '키': [168, 177, 204],\n",
       " '발 사이즈': [290, 275, 240]}"
      ]
     },
     "execution_count": 4,
     "metadata": {},
     "output_type": "execute_result"
    }
   ],
   "source": [
    "class1_4[\"발 사이즈\"] = [290,275,240]            # 추가\n",
    "class1_4"
   ]
  },
  {
   "cell_type": "code",
   "execution_count": 5,
   "id": "fb8b53da",
   "metadata": {},
   "outputs": [
    {
     "data": {
      "text/plain": [
       "{'이름': ['홍길동', '김철수', '최영희'], '나이': [20, 21, 22], '키': [168, 177, 204]}"
      ]
     },
     "execution_count": 5,
     "metadata": {},
     "output_type": "execute_result"
    }
   ],
   "source": [
    "del class1_4[\"발 사이즈\"]             # 삭제\n",
    "class1_4"
   ]
  },
  {
   "cell_type": "code",
   "execution_count": 7,
   "id": "6a37bc01",
   "metadata": {},
   "outputs": [
    {
     "data": {
      "text/plain": [
       "dict_keys(['이름', '나이', '키'])"
      ]
     },
     "execution_count": 7,
     "metadata": {},
     "output_type": "execute_result"
    }
   ],
   "source": [
    "class1_4.keys()"
   ]
  },
  {
   "cell_type": "code",
   "execution_count": 8,
   "id": "5a00313b",
   "metadata": {},
   "outputs": [
    {
     "data": {
      "text/plain": [
       "dict_values([['홍길동', '김철수', '최영희'], [20, 21, 22], [168, 177, 204]])"
      ]
     },
     "execution_count": 8,
     "metadata": {},
     "output_type": "execute_result"
    }
   ],
   "source": [
    "class1_4.values()"
   ]
  },
  {
   "cell_type": "code",
   "execution_count": 9,
   "id": "e4fbc649",
   "metadata": {},
   "outputs": [
    {
     "name": "stdout",
     "output_type": "stream",
     "text": [
      "이름\n",
      "나이\n",
      "키\n"
     ]
    }
   ],
   "source": [
    "for i in class1_4:\n",
    "    print(i)"
   ]
  },
  {
   "cell_type": "code",
   "execution_count": 10,
   "id": "dbb2149e",
   "metadata": {},
   "outputs": [
    {
     "data": {
      "text/plain": [
       "True"
      ]
     },
     "execution_count": 10,
     "metadata": {},
     "output_type": "execute_result"
    }
   ],
   "source": [
    "\"이름\" in class1_4"
   ]
  },
  {
   "cell_type": "code",
   "execution_count": 11,
   "id": "cfc283ce",
   "metadata": {},
   "outputs": [
    {
     "data": {
      "text/plain": [
       "False"
      ]
     },
     "execution_count": 11,
     "metadata": {},
     "output_type": "execute_result"
    }
   ],
   "source": [
    "\"홍길동\" in class1_4"
   ]
  },
  {
   "cell_type": "markdown",
   "id": "27f00a76",
   "metadata": {},
   "source": [
    "### class1 4의 \"이름\" key에 할당된 value들을 전부 성을 뺀 이름들로 출력하고 싶습니다.\n",
    " - 홍길동 > 길동\n",
    " - 김철수 > 철수\n",
    " - 김영희 > 영희"
   ]
  },
  {
   "cell_type": "code",
   "execution_count": 18,
   "id": "e3862f3b",
   "metadata": {},
   "outputs": [
    {
     "name": "stdout",
     "output_type": "stream",
     "text": [
      "길동\n",
      "철수\n",
      "영희\n"
     ]
    }
   ],
   "source": [
    "for i in class1_4[\"이름\"]:\n",
    "    print(i[1:])"
   ]
  },
  {
   "cell_type": "code",
   "execution_count": 22,
   "id": "36ec51a6",
   "metadata": {},
   "outputs": [
    {
     "data": {
      "text/plain": [
       "{'이름': ['길동', ' 철수', '영희'], '나이': [20, 21, 22], '키': [168, 177, 204]}"
      ]
     },
     "execution_count": 22,
     "metadata": {},
     "output_type": "execute_result"
    }
   ],
   "source": [
    "class1_4[\"이름\"] = [\"길동\", \" 철수\", \"영희\"]\n",
    "class1_4"
   ]
  },
  {
   "cell_type": "markdown",
   "id": "804caa92",
   "metadata": {},
   "source": [
    "### - 여러 학생의 성적 점수가 다음과 같은 Dictionary로 구성되어 있다.\n",
    " \n",
    " - 이때, 학생들의 평균을 저장하는 새로운 항목을 추가하고 싶다.\n",
    " - scores에 학생들이 수학,영어,국어 평균 성적을 기록한 \"성적\" 정보를 추가해 주세요\n"
   ]
  },
  {
   "cell_type": "code",
   "execution_count": 24,
   "id": "488480fb",
   "metadata": {},
   "outputs": [
    {
     "data": {
      "text/plain": [
       "{'홍길동': {'수학': 99, '영어': 80, '국어': 75},\n",
       " '김미정': {'영어': 67, '국어': 87, '수학': 55},\n",
       " '정수진': {'수학': 67, '국어': 41, '영어': 23}}"
      ]
     },
     "execution_count": 24,
     "metadata": {},
     "output_type": "execute_result"
    }
   ],
   "source": [
    "scores = {'홍길동' : {'수학': 99, '영어': 80,'국어':75},\n",
    "          '김미정' : {'영어': 67, '국어' : 87, '수학':55},\n",
    "          '정수진' : {'수학':67, '국어' : 41, '영어':23}}\n",
    "\n",
    "scores"
   ]
  },
  {
   "cell_type": "code",
   "execution_count": 46,
   "id": "6248df3b",
   "metadata": {},
   "outputs": [
    {
     "data": {
      "text/plain": [
       "{'홍길동': {'수학': 99, '영어': 80, '국어': 75},\n",
       " '김미정': {'영어': 67, '국어': 87, '수학': 55},\n",
       " '정수진': {'수학': 67, '국어': 41, '영어': 23},\n",
       " '평균 점수': {'국어': 73.66666666666667,\n",
       "  '영어': 73.66666666666667,\n",
       "  '수학': 73.66666666666667}}"
      ]
     },
     "execution_count": 46,
     "metadata": {},
     "output_type": "execute_result"
    }
   ],
   "source": [
    "math = 0\n",
    "eng = 0\n",
    "kor = 0\n",
    "\n",
    "for i in scores:\n",
    "    math = math + scores[i][\"수학\"]\n",
    "    eng = eng + scores[i][\"영어\"]\n",
    "    kor = kor + scores[i][\"국어\"]\n",
    "    \n",
    "scores[\"평균 점수\"] = {\"국어\" : kor/len(scores), \"영어\" : eng/len(scores), \"수학\" : math/len(scores)}   \n",
    "scores"
   ]
  },
  {
   "cell_type": "code",
   "execution_count": 50,
   "id": "e06361fa",
   "metadata": {},
   "outputs": [
    {
     "data": {
      "text/plain": [
       "74"
      ]
     },
     "execution_count": 50,
     "metadata": {},
     "output_type": "execute_result"
    }
   ],
   "source": [
    "dirty = 73.66666666      # 반올림\n",
    "round(dirty)"
   ]
  },
  {
   "cell_type": "code",
   "execution_count": 51,
   "id": "4f55ac9e",
   "metadata": {},
   "outputs": [],
   "source": [
    "import math"
   ]
  },
  {
   "cell_type": "code",
   "execution_count": 52,
   "id": "3afc5732",
   "metadata": {},
   "outputs": [
    {
     "data": {
      "text/plain": [
       "73"
      ]
     },
     "execution_count": 52,
     "metadata": {},
     "output_type": "execute_result"
    }
   ],
   "source": [
    "math.floor(dirty)     # 내림"
   ]
  },
  {
   "cell_type": "code",
   "execution_count": 53,
   "id": "87f230f8",
   "metadata": {},
   "outputs": [
    {
     "data": {
      "text/plain": [
       "74"
      ]
     },
     "execution_count": 53,
     "metadata": {},
     "output_type": "execute_result"
    }
   ],
   "source": [
    "math.ceil(dirty)      # 올림"
   ]
  },
  {
   "cell_type": "code",
   "execution_count": 54,
   "id": "3676c879",
   "metadata": {},
   "outputs": [
    {
     "data": {
      "text/plain": [
       "73.67"
      ]
     },
     "execution_count": 54,
     "metadata": {},
     "output_type": "execute_result"
    }
   ],
   "source": [
    "round(dirty, 2)     #소수점 두번째 자리 까지 출력"
   ]
  },
  {
   "cell_type": "code",
   "execution_count": 55,
   "id": "064b285c",
   "metadata": {},
   "outputs": [
    {
     "data": {
      "text/plain": [
       "1"
      ]
     },
     "execution_count": 55,
     "metadata": {},
     "output_type": "execute_result"
    }
   ],
   "source": [
    "int(1.6)"
   ]
  },
  {
   "cell_type": "code",
   "execution_count": null,
   "id": "dd6690da",
   "metadata": {},
   "outputs": [],
   "source": []
  },
  {
   "cell_type": "code",
   "execution_count": 13,
   "id": "9ab316de",
   "metadata": {},
   "outputs": [
    {
     "name": "stdout",
     "output_type": "stream",
     "text": [
      "아이디를 입력하세요sdfdsnfs....\n",
      "sdfdsnfs.\n"
     ]
    }
   ],
   "source": [
    "new_id = input(\"아이디를 입력하세요\")\n",
    "\n",
    "allowed = ['a', 'b', 'c', 'd', 'e', 'f', 'g', 'h', 'i', 'j', 'k', 'l', 'm', 'n', 'o', 'p' ,'q', 'r', 's', 't', 'u', 'v', 'w', 'x', \n",
    "           'y', 'z', \"0\", \"1\", \"2\", \"3\", \"4\", \"5\", \"6\", \"7\", \"8\", \"9\", \"0\",  \"-\", \"_\", \".\"]\n",
    "\n",
    "\n",
    "# # 1단계\n",
    "new_id = new_id.lower()\n",
    "#  print(new_id)\n",
    "\n",
    "\n",
    "# 2단계\n",
    "for i in new_id:\n",
    "    if i not in allowed:\n",
    "        mew_id = new_id.replace(i,\"\")\n",
    "# print(new_id) \n",
    "\n",
    "\n",
    "# 3단계\n",
    "while \"..\"in new_id:\n",
    "    new_id = new_id.replace(\"..\",\".\")\n",
    "print(new_id)    "
   ]
  },
  {
   "cell_type": "code",
   "execution_count": null,
   "id": "09644863",
   "metadata": {},
   "outputs": [],
   "source": []
  },
  {
   "cell_type": "code",
   "execution_count": null,
   "id": "34ce1c34",
   "metadata": {},
   "outputs": [],
   "source": []
  }
 ],
 "metadata": {
  "kernelspec": {
   "display_name": "Python 3 (ipykernel)",
   "language": "python",
   "name": "python3"
  },
  "language_info": {
   "codemirror_mode": {
    "name": "ipython",
    "version": 3
   },
   "file_extension": ".py",
   "mimetype": "text/x-python",
   "name": "python",
   "nbconvert_exporter": "python",
   "pygments_lexer": "ipython3",
   "version": "3.9.12"
  }
 },
 "nbformat": 4,
 "nbformat_minor": 5
}
