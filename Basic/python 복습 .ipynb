{
 "cells": [
  {
   "cell_type": "markdown",
   "id": "da7f7172",
   "metadata": {},
   "source": [
    "### 변수설정\n",
    " 정수 (integer)\n",
    " 실수 (float)\n",
    " 문자(string)\n",
    " 논리(boolean)"
   ]
  },
  {
   "cell_type": "code",
   "execution_count": 5,
   "id": "d7905b04",
   "metadata": {},
   "outputs": [
    {
     "name": "stdout",
     "output_type": "stream",
     "text": [
      "10\n"
     ]
    }
   ],
   "source": [
    "num = 10\n",
    "print(num)"
   ]
  },
  {
   "cell_type": "code",
   "execution_count": 2,
   "id": "ed180215",
   "metadata": {},
   "outputs": [
    {
     "name": "stdout",
     "output_type": "stream",
     "text": [
      "20\n"
     ]
    }
   ],
   "source": [
    "num = 20\n",
    "print(num)"
   ]
  },
  {
   "cell_type": "code",
   "execution_count": 3,
   "id": "2fb01d11",
   "metadata": {},
   "outputs": [
    {
     "data": {
      "text/plain": [
       "int"
      ]
     },
     "execution_count": 3,
     "metadata": {},
     "output_type": "execute_result"
    }
   ],
   "source": [
    "type(num)"
   ]
  },
  {
   "cell_type": "code",
   "execution_count": 4,
   "id": "d157bf06",
   "metadata": {},
   "outputs": [
    {
     "data": {
      "text/plain": [
       "float"
      ]
     },
     "execution_count": 4,
     "metadata": {},
     "output_type": "execute_result"
    }
   ],
   "source": [
    "num = 10.1\n",
    "type(num)"
   ]
  },
  {
   "cell_type": "markdown",
   "id": "f0430c88",
   "metadata": {},
   "source": [
    "### 연산자"
   ]
  },
  {
   "cell_type": "code",
   "execution_count": 6,
   "id": "b0f5a4ea",
   "metadata": {
    "scrolled": true
   },
   "outputs": [
    {
     "data": {
      "text/plain": [
       "20"
      ]
     },
     "execution_count": 6,
     "metadata": {},
     "output_type": "execute_result"
    }
   ],
   "source": [
    "num = 10 + 10\n",
    "num"
   ]
  },
  {
   "cell_type": "code",
   "execution_count": 7,
   "id": "759d8075",
   "metadata": {},
   "outputs": [
    {
     "data": {
      "text/plain": [
       "25"
      ]
     },
     "execution_count": 7,
     "metadata": {},
     "output_type": "execute_result"
    }
   ],
   "source": [
    "num = num + 5\n",
    "num"
   ]
  },
  {
   "cell_type": "code",
   "execution_count": 8,
   "id": "55bb4b9e",
   "metadata": {},
   "outputs": [
    {
     "data": {
      "text/plain": [
       "30"
      ]
     },
     "execution_count": 8,
     "metadata": {},
     "output_type": "execute_result"
    }
   ],
   "source": [
    "num += 5\n",
    "num"
   ]
  },
  {
   "cell_type": "code",
   "execution_count": 10,
   "id": "66cbfadf",
   "metadata": {},
   "outputs": [
    {
     "ename": "NameError",
     "evalue": "name 'n' is not defined",
     "output_type": "error",
     "traceback": [
      "\u001b[1;31m---------------------------------------------------------------------------\u001b[0m",
      "\u001b[1;31mNameError\u001b[0m                                 Traceback (most recent call last)",
      "Input \u001b[1;32mIn [10]\u001b[0m, in \u001b[0;36m<cell line: 1>\u001b[1;34m()\u001b[0m\n\u001b[1;32m----> 1\u001b[0m n \u001b[38;5;241m=\u001b[39m \u001b[43mn\u001b[49m \u001b[38;5;241m+\u001b[39m \u001b[38;5;241m1\u001b[39m\n\u001b[0;32m      2\u001b[0m \u001b[38;5;28;01mif\u001b[39;00m n\u001b[38;5;241m%\u001b[39m\u001b[38;5;241m100\u001b[39m \u001b[38;5;241m==\u001b[39m \u001b[38;5;241m0\u001b[39m:\n\u001b[0;32m      3\u001b[0m     \u001b[38;5;28mprint\u001b[39m(\u001b[38;5;124m\"\u001b[39m\u001b[38;5;124m지금 n번쨰 돌아가는중 \u001b[39m\u001b[38;5;124m\"\u001b[39m)\n",
      "\u001b[1;31mNameError\u001b[0m: name 'n' is not defined"
     ]
    }
   ],
   "source": []
  },
  {
   "cell_type": "code",
   "execution_count": null,
   "id": "0a20be70",
   "metadata": {},
   "outputs": [],
   "source": [
    "n = n + 1\n",
    "if n%100 == 0:\n",
    "    print(\"지금 n번째 돌아가는중 \")"
   ]
  },
  {
   "cell_type": "markdown",
   "id": "778f915f",
   "metadata": {},
   "source": [
    "### 문자열"
   ]
  },
  {
   "cell_type": "code",
   "execution_count": 12,
   "id": "f7754a70",
   "metadata": {},
   "outputs": [
    {
     "data": {
      "text/plain": [
       "str"
      ]
     },
     "execution_count": 12,
     "metadata": {},
     "output_type": "execute_result"
    }
   ],
   "source": [
    "string = \"오늘 점심 뭐먹지?\"\n",
    "type(string)"
   ]
  },
  {
   "cell_type": "code",
   "execution_count": 14,
   "id": "982d3022",
   "metadata": {},
   "outputs": [
    {
     "name": "stdout",
     "output_type": "stream",
     "text": [
      "오늘 점심 뭐먹지?\n"
     ]
    }
   ],
   "source": [
    "print(\"오늘\" + \" 점심 \" + \"뭐먹지?\")"
   ]
  },
  {
   "cell_type": "code",
   "execution_count": 15,
   "id": "3f327040",
   "metadata": {},
   "outputs": [
    {
     "data": {
      "text/plain": [
       "True"
      ]
     },
     "execution_count": 15,
     "metadata": {},
     "output_type": "execute_result"
    }
   ],
   "source": [
    "\"점심\" * 3 == \"점심\" + \"점심\" + \"점심\""
   ]
  },
  {
   "cell_type": "code",
   "execution_count": 16,
   "id": "821d6554",
   "metadata": {},
   "outputs": [
    {
     "data": {
      "text/plain": [
       "'점심점심점심'"
      ]
     },
     "execution_count": 16,
     "metadata": {},
     "output_type": "execute_result"
    }
   ],
   "source": [
    "\"점심\" * 3           # 문자열은 더하기만 가능, 문자열 * 정수 는 가능"
   ]
  },
  {
   "cell_type": "markdown",
   "id": "ef0448c5",
   "metadata": {},
   "source": [
    "### 인덱싱, 슬라이싱"
   ]
  },
  {
   "cell_type": "markdown",
   "id": "60275d0a",
   "metadata": {},
   "source": [
    "\"오늘 점심 뭐먹지?\"\n",
    "0. \"오\"\n",
    "1. \"늘\"\n",
    "2. \"\"\n",
    "3. \"점\"\n",
    "4. \"심\"\n",
    "5. \"\"\n",
    "6. \"뭐\"\n",
    "7. \"먹\"\n",
    "8. \"지\"\n",
    "9. \"?\""
   ]
  },
  {
   "cell_type": "code",
   "execution_count": 17,
   "id": "1da960ef",
   "metadata": {},
   "outputs": [
    {
     "data": {
      "text/plain": [
       "'뭐'"
      ]
     },
     "execution_count": 17,
     "metadata": {},
     "output_type": "execute_result"
    }
   ],
   "source": [
    "\"오늘 점심 뭐먹지?\"[6]    # 인덱싱"
   ]
  },
  {
   "cell_type": "code",
   "execution_count": 18,
   "id": "dc035060",
   "metadata": {},
   "outputs": [
    {
     "data": {
      "text/plain": [
       "'점심'"
      ]
     },
     "execution_count": 18,
     "metadata": {},
     "output_type": "execute_result"
    }
   ],
   "source": [
    "\"오늘 점심 뭐먹지?\"[3:5]  # 슬라이싱"
   ]
  },
  {
   "cell_type": "code",
   "execution_count": 19,
   "id": "51b58950",
   "metadata": {},
   "outputs": [
    {
     "data": {
      "text/plain": [
       "'점심'"
      ]
     },
     "execution_count": 19,
     "metadata": {},
     "output_type": "execute_result"
    }
   ],
   "source": [
    "\"오늘 점심 뭐먹지?\"[-7 :-5]"
   ]
  },
  {
   "cell_type": "code",
   "execution_count": 20,
   "id": "7331a542",
   "metadata": {},
   "outputs": [
    {
     "data": {
      "text/plain": [
       "'오늘 점심 뭐먹지?'"
      ]
     },
     "execution_count": 20,
     "metadata": {},
     "output_type": "execute_result"
    }
   ],
   "source": [
    "\"오늘 점심 뭐먹지?\"[0:]"
   ]
  },
  {
   "cell_type": "code",
   "execution_count": 23,
   "id": "8c09b860",
   "metadata": {},
   "outputs": [
    {
     "data": {
      "text/plain": [
       "'오늘 점심 메뉴는 김치복음밥입니다.'"
      ]
     },
     "execution_count": 23,
     "metadata": {},
     "output_type": "execute_result"
    }
   ],
   "source": [
    "menu = \"김치복음밥\"              ### format\n",
    "#m enu = \"참치김밥\"\n",
    "# menu = \"우동\"\n",
    "\n",
    "\"오늘 점심 메뉴는 %s입니다.\" %menu"
   ]
  },
  {
   "cell_type": "code",
   "execution_count": 25,
   "id": "bac2bcab",
   "metadata": {},
   "outputs": [
    {
     "name": "stdout",
     "output_type": "stream",
     "text": [
      "오늘 점심 메뉴는 김치복음밥입니다.\n"
     ]
    }
   ],
   "source": [
    "print(\"오늘 점심 메뉴는 {}입니다.\" .format(menu))"
   ]
  },
  {
   "cell_type": "code",
   "execution_count": 43,
   "id": "36d0b952",
   "metadata": {},
   "outputs": [],
   "source": [
    "lyrics = \"sorry sorry sorry sorry 내가 내가 내가 먼저 네게 네게 네게 빠져\""
   ]
  },
  {
   "cell_type": "code",
   "execution_count": 44,
   "id": "0dd9a91b",
   "metadata": {},
   "outputs": [
    {
     "data": {
      "text/plain": [
       "4"
      ]
     },
     "execution_count": 44,
     "metadata": {},
     "output_type": "execute_result"
    }
   ],
   "source": [
    "lyrics.count(\"sorry\")      # () 안에 문자열 갯수 출력"
   ]
  },
  {
   "cell_type": "code",
   "execution_count": 49,
   "id": "160e4d4b",
   "metadata": {},
   "outputs": [
    {
     "data": {
      "text/plain": [
       "'SORRY SORRY SORRY SORRY 내가 내가 내가 먼저 내게 내게 내게 빠져'"
      ]
     },
     "execution_count": 49,
     "metadata": {},
     "output_type": "execute_result"
    }
   ],
   "source": [
    "lyrics.upper()            # 대문자 변경"
   ]
  },
  {
   "cell_type": "code",
   "execution_count": 50,
   "id": "38bffdf5",
   "metadata": {},
   "outputs": [
    {
     "data": {
      "text/plain": [
       "'sorry sorry sorry sorry 내가 내가 내가 먼저 내게 내게 내게 빠져'"
      ]
     },
     "execution_count": 50,
     "metadata": {},
     "output_type": "execute_result"
    }
   ],
   "source": [
    "lyrics.lower()             # 소문자 변경"
   ]
  },
  {
   "cell_type": "code",
   "execution_count": 51,
   "id": "23acd014",
   "metadata": {},
   "outputs": [
    {
     "data": {
      "text/plain": [
       "0"
      ]
     },
     "execution_count": 51,
     "metadata": {},
     "output_type": "execute_result"
    }
   ],
   "source": [
    "lyrics.find(\"sorry\")          #()안에 내용이 있는지 확인 0이면 있다 -1이면 없다"
   ]
  },
  {
   "cell_type": "code",
   "execution_count": 52,
   "id": "4f75b223",
   "metadata": {},
   "outputs": [
    {
     "data": {
      "text/plain": [
       "'sorry sorry sorry sorry 내가 내가 내가 먼저 내게 내게 내게 빠져'"
      ]
     },
     "execution_count": 52,
     "metadata": {},
     "output_type": "execute_result"
    }
   ],
   "source": [
    " yrics = lyrics.replace(\"내가\", \"너가\")         # 내용 변경\n",
    "lyrics = lyrics.replace(\"네게\", \"내게\")              \n",
    "lyrics"
   ]
  },
  {
   "cell_type": "code",
   "execution_count": 53,
   "id": "1d63d683",
   "metadata": {},
   "outputs": [
    {
     "data": {
      "text/plain": [
       "['sorry',\n",
       " 'sorry',\n",
       " 'sorry',\n",
       " 'sorry',\n",
       " '내가',\n",
       " '내가',\n",
       " '내가',\n",
       " '먼저',\n",
       " '내게',\n",
       " '내게',\n",
       " '내게',\n",
       " '빠져']"
      ]
     },
     "execution_count": 53,
     "metadata": {},
     "output_type": "execute_result"
    }
   ],
   "source": [
    "lyrics.split()"
   ]
  },
  {
   "cell_type": "code",
   "execution_count": 42,
   "id": "84d9c16f",
   "metadata": {},
   "outputs": [
    {
     "data": {
      "text/plain": [
       "['sorry sorry sorry sorry 너', ' 너', ' 너', ' 먼저 너', ' 너', ' 너', ' 빠져']"
      ]
     },
     "execution_count": 42,
     "metadata": {},
     "output_type": "execute_result"
    }
   ],
   "source": [
    "lyrics.split(\"가\")"
   ]
  },
  {
   "cell_type": "markdown",
   "id": "627a3fef",
   "metadata": {},
   "source": [
    "### boolean"
   ]
  },
  {
   "cell_type": "code",
   "execution_count": 38,
   "id": "71ca6a35",
   "metadata": {},
   "outputs": [
    {
     "data": {
      "text/plain": [
       "bool"
      ]
     },
     "execution_count": 38,
     "metadata": {},
     "output_type": "execute_result"
    }
   ],
   "source": [
    "type (1+1 ==2)"
   ]
  },
  {
   "cell_type": "code",
   "execution_count": 39,
   "id": "6a9d7f8c",
   "metadata": {},
   "outputs": [
    {
     "data": {
      "text/plain": [
       "True"
      ]
     },
     "execution_count": 39,
     "metadata": {},
     "output_type": "execute_result"
    }
   ],
   "source": [
    "1 + 2 != 2"
   ]
  },
  {
   "cell_type": "code",
   "execution_count": 54,
   "id": "cf93cb5d",
   "metadata": {},
   "outputs": [],
   "source": [
    "a = 1 + 1 == 2"
   ]
  },
  {
   "cell_type": "code",
   "execution_count": 55,
   "id": "8eaaa4a1",
   "metadata": {},
   "outputs": [
    {
     "data": {
      "text/plain": [
       "True"
      ]
     },
     "execution_count": 55,
     "metadata": {},
     "output_type": "execute_result"
    }
   ],
   "source": [
    "a"
   ]
  },
  {
   "cell_type": "code",
   "execution_count": 56,
   "id": "4f29bd5b",
   "metadata": {},
   "outputs": [
    {
     "data": {
      "text/plain": [
       "2"
      ]
     },
     "execution_count": 56,
     "metadata": {},
     "output_type": "execute_result"
    }
   ],
   "source": [
    "a + a"
   ]
  },
  {
   "cell_type": "code",
   "execution_count": 57,
   "id": "4c5ddc5b",
   "metadata": {},
   "outputs": [
    {
     "data": {
      "text/plain": [
       "False"
      ]
     },
     "execution_count": 57,
     "metadata": {},
     "output_type": "execute_result"
    }
   ],
   "source": [
    "1+1 == 2 and 1+2 == 2       "
   ]
  },
  {
   "cell_type": "code",
   "execution_count": 58,
   "id": "f2d9b2b7",
   "metadata": {},
   "outputs": [
    {
     "data": {
      "text/plain": [
       "True"
      ]
     },
     "execution_count": 58,
     "metadata": {},
     "output_type": "execute_result"
    }
   ],
   "source": [
    "1+1 == 2 or 1+2 == 2"
   ]
  },
  {
   "cell_type": "markdown",
   "id": "1b52ac54",
   "metadata": {},
   "source": [
    "### 조건문"
   ]
  },
  {
   "cell_type": "markdown",
   "id": "ca3e4a2f",
   "metadata": {},
   "source": [
    "if 명제:\n",
    "    명제가 참일 경우 실행되는 코드\n",
    "else:\n",
    "    명제가 거짓일 경우 실행되는 코드"
   ]
  },
  {
   "cell_type": "code",
   "execution_count": 59,
   "id": "2efea7ce",
   "metadata": {},
   "outputs": [
    {
     "name": "stdout",
     "output_type": "stream",
     "text": [
      "걸어서 간다.\n"
     ]
    }
   ],
   "source": [
    "money = 999\n",
    "if money >= 1250:\n",
    "    print(\"버스를 타고 간다.\")\n",
    "else:\n",
    "    print(\"걸어서 간다.\")"
   ]
  },
  {
   "cell_type": "markdown",
   "id": "29b0b7ff",
   "metadata": {},
   "source": [
    "if 명제1:\n",
    "    명제1이  참일 경우 실행되는 코드\n",
    "\n",
    "elif 명제2 \n",
    "명제1은 거짓이지만, 명제2가 참일 경우 실행되는 코드  \n",
    "\n",
    "else:\n",
    "    명제1과 명제2가 모두 거짓일 경우 실행되는 코드"
   ]
  },
  {
   "cell_type": "code",
   "execution_count": null,
   "id": "6d55e648",
   "metadata": {},
   "outputs": [],
   "source": [
    "money = 2000\n",
    "if money >= 5000:\n",
    "    print(\"택시를 타고 간다.\")\n",
    "    \n",
    "elif (money >= 1250) and (money < 5000):      # 교집합을 없애주기 위해서 and 사용해서 범위 설정\n",
    "    print(\"버스를 타고 간다.\")\n",
    "    \n",
    "else:\n",
    "    print(\"걸어서 간다.\")"
   ]
  },
  {
   "cell_type": "code",
   "execution_count": null,
   "id": "d8a3345c",
   "metadata": {},
   "outputs": [],
   "source": [
    "((나 == 주먹) and (상대 == 가위)) or ((나 == 가위) and (상대 == 보자기))or ((나 == 보자기) and (상대방 == 주먹))"
   ]
  },
  {
   "cell_type": "code",
   "execution_count": null,
   "id": "b0b5ff63",
   "metadata": {},
   "outputs": [],
   "source": []
  },
  {
   "cell_type": "markdown",
   "id": "e4c6f9ca",
   "metadata": {},
   "source": [
    "## 리스트, 튜플"
   ]
  },
  {
   "cell_type": "code",
   "execution_count": 60,
   "id": "c3edfe01",
   "metadata": {},
   "outputs": [],
   "source": [
    "a = [1,2]\n",
    "b = (\"가\", \"나\")"
   ]
  },
  {
   "cell_type": "code",
   "execution_count": 61,
   "id": "4f1661ed",
   "metadata": {},
   "outputs": [
    {
     "name": "stdout",
     "output_type": "stream",
     "text": [
      "[1, 2]\n",
      "('가', '나')\n"
     ]
    }
   ],
   "source": [
    "print(a)        # 변수에 여러개의 값을 할당가능\n",
    "print(b)"
   ]
  },
  {
   "cell_type": "code",
   "execution_count": 62,
   "id": "9787c47b",
   "metadata": {},
   "outputs": [
    {
     "name": "stdout",
     "output_type": "stream",
     "text": [
      "[1, 2, [1, 2]]\n"
     ]
    }
   ],
   "source": [
    "c = [1,2,a]       # 리스트 안에 리스트가 들어갈 수도 있다\n",
    "print(c) "
   ]
  },
  {
   "cell_type": "markdown",
   "id": "3730a5e2",
   "metadata": {},
   "source": [
    "#### 리스트는 조작할 수 있지만, 튜플은 조작할 수 없다.\n",
    "  조작 : 원소를 추가하거나, 없애거나, 교체하거나, 순서를 바꾸는 행위"
   ]
  },
  {
   "cell_type": "markdown",
   "id": "13067908",
   "metadata": {},
   "source": [
    "### 원소추가"
   ]
  },
  {
   "cell_type": "code",
   "execution_count": 63,
   "id": "98afbeb6",
   "metadata": {},
   "outputs": [
    {
     "data": {
      "text/plain": [
       "'짜장면'"
      ]
     },
     "execution_count": 63,
     "metadata": {},
     "output_type": "execute_result"
    }
   ],
   "source": [
    "\"짜장\" + \"면\""
   ]
  },
  {
   "cell_type": "code",
   "execution_count": 64,
   "id": "9d31adc6",
   "metadata": {},
   "outputs": [
    {
     "data": {
      "text/plain": [
       "['짜', '장', '면']"
      ]
     },
     "execution_count": 64,
     "metadata": {},
     "output_type": "execute_result"
    }
   ],
   "source": [
    "a = [\"짜\", \"장\"]          \n",
    "a.append(\"면\")                   # 리스트에 내용추가(문자열에 사용불가)\n",
    "a"
   ]
  },
  {
   "cell_type": "code",
   "execution_count": 65,
   "id": "2c89f038",
   "metadata": {},
   "outputs": [
    {
     "data": {
      "text/plain": [
       "'면'"
      ]
     },
     "execution_count": 65,
     "metadata": {},
     "output_type": "execute_result"
    }
   ],
   "source": [
    "\"짜장면\" [2]"
   ]
  },
  {
   "cell_type": "code",
   "execution_count": 66,
   "id": "21b84940",
   "metadata": {},
   "outputs": [
    {
     "data": {
      "text/plain": [
       "'면'"
      ]
     },
     "execution_count": 66,
     "metadata": {},
     "output_type": "execute_result"
    }
   ],
   "source": [
    "a[2]"
   ]
  },
  {
   "cell_type": "code",
   "execution_count": 67,
   "id": "acff8f15",
   "metadata": {},
   "outputs": [
    {
     "data": {
      "text/plain": [
       "4"
      ]
     },
     "execution_count": 67,
     "metadata": {},
     "output_type": "execute_result"
    }
   ],
   "source": [
    "b = [1, 2, [3,4]]       \n",
    "b[2][1]                            # 4를 출력"
   ]
  },
  {
   "cell_type": "code",
   "execution_count": 68,
   "id": "09da0a39",
   "metadata": {},
   "outputs": [
    {
     "data": {
      "text/plain": [
       "['간', '짜', '장', '면']"
      ]
     },
     "execution_count": 68,
     "metadata": {},
     "output_type": "execute_result"
    }
   ],
   "source": [
    "a.insert (0,\"간\")           # 원하는 위치에 내용추가\n",
    "a"
   ]
  },
  {
   "cell_type": "code",
   "execution_count": 69,
   "id": "d2c109e2",
   "metadata": {},
   "outputs": [
    {
     "data": {
      "text/plain": [
       "['간', '짜', '장', '면']"
      ]
     },
     "execution_count": 69,
     "metadata": {},
     "output_type": "execute_result"
    }
   ],
   "source": [
    "a"
   ]
  },
  {
   "cell_type": "code",
   "execution_count": 70,
   "id": "74fec515",
   "metadata": {},
   "outputs": [
    {
     "data": {
      "text/plain": [
       "['짜', '장', '면']"
      ]
     },
     "execution_count": 70,
     "metadata": {},
     "output_type": "execute_result"
    }
   ],
   "source": [
    "del a[0]       # 값 삭제\n",
    "a"
   ]
  },
  {
   "cell_type": "code",
   "execution_count": 71,
   "id": "ad2021b0",
   "metadata": {},
   "outputs": [
    {
     "data": {
      "text/plain": [
       "['짜', '장']"
      ]
     },
     "execution_count": 71,
     "metadata": {},
     "output_type": "execute_result"
    }
   ],
   "source": [
    "a.remove(\"면\")    # 원하는 값 삭제\n",
    "a"
   ]
  },
  {
   "cell_type": "code",
   "execution_count": 72,
   "id": "30b1d7ef",
   "metadata": {},
   "outputs": [],
   "source": [
    "a[1] = \"왕\"     # 교체"
   ]
  },
  {
   "cell_type": "code",
   "execution_count": 74,
   "id": "c28a05de",
   "metadata": {},
   "outputs": [
    {
     "data": {
      "text/plain": [
       "['짜', '왕']"
      ]
     },
     "execution_count": 74,
     "metadata": {},
     "output_type": "execute_result"
    }
   ],
   "source": [
    "a"
   ]
  },
  {
   "cell_type": "code",
   "execution_count": 75,
   "id": "7fbf7b35",
   "metadata": {},
   "outputs": [
    {
     "data": {
      "text/plain": [
       "'짜장면'"
      ]
     },
     "execution_count": 75,
     "metadata": {},
     "output_type": "execute_result"
    }
   ],
   "source": [
    "m = \"간짜장면\"\n",
    "m.replace(\"간\", \"\")   "
   ]
  },
  {
   "cell_type": "code",
   "execution_count": 77,
   "id": "6a744a3a",
   "metadata": {},
   "outputs": [
    {
     "data": {
      "text/plain": [
       "'짜왕'"
      ]
     },
     "execution_count": 77,
     "metadata": {},
     "output_type": "execute_result"
    }
   ],
   "source": [
    "m = \"짜장\"\n",
    "m.replace(\"장\", \"왕\")      #교체"
   ]
  },
  {
   "cell_type": "code",
   "execution_count": 78,
   "id": "a47b1032",
   "metadata": {},
   "outputs": [
    {
     "data": {
      "text/plain": [
       "['다', '마', '라', '나', '가']"
      ]
     },
     "execution_count": 78,
     "metadata": {},
     "output_type": "execute_result"
    }
   ],
   "source": [
    "k = [\"가\", \"나\", \"라\", \"마\", \"다\"]\n",
    "k.reverse()               #  순서뒤집기\n",
    "k"
   ]
  },
  {
   "cell_type": "code",
   "execution_count": 79,
   "id": "40f48944",
   "metadata": {},
   "outputs": [
    {
     "data": {
      "text/plain": [
       "['가', '나', '다', '라', '마']"
      ]
     },
     "execution_count": 79,
     "metadata": {},
     "output_type": "execute_result"
    }
   ],
   "source": [
    "k.sort()           # 오름차순 정렬\n",
    "k"
   ]
  },
  {
   "cell_type": "code",
   "execution_count": 80,
   "id": "6e56eadd",
   "metadata": {},
   "outputs": [
    {
     "data": {
      "text/plain": [
       "9"
      ]
     },
     "execution_count": 80,
     "metadata": {},
     "output_type": "execute_result"
    }
   ],
   "source": [
    "len(\"짜장면은 맛있다.\")           # 인덱스 갯수 출력"
   ]
  },
  {
   "cell_type": "code",
   "execution_count": 81,
   "id": "88de39d1",
   "metadata": {},
   "outputs": [
    {
     "data": {
      "text/plain": [
       "5"
      ]
     },
     "execution_count": 81,
     "metadata": {},
     "output_type": "execute_result"
    }
   ],
   "source": [
    "len(k)"
   ]
  },
  {
   "cell_type": "code",
   "execution_count": 82,
   "id": "661446a6",
   "metadata": {},
   "outputs": [],
   "source": [
    "fruit = [\"사과\", \"바나나\", \"키위\", \"망고\", \"파인애플\"]"
   ]
  },
  {
   "cell_type": "code",
   "execution_count": 86,
   "id": "a86cc726",
   "metadata": {},
   "outputs": [
    {
     "data": {
      "text/plain": [
       "3"
      ]
     },
     "execution_count": 86,
     "metadata": {},
     "output_type": "execute_result"
    }
   ],
   "source": [
    "len(fruit)"
   ]
  },
  {
   "cell_type": "code",
   "execution_count": 87,
   "id": "e52661c6",
   "metadata": {},
   "outputs": [
    {
     "data": {
      "text/plain": [
       "False"
      ]
     },
     "execution_count": 87,
     "metadata": {},
     "output_type": "execute_result"
    }
   ],
   "source": [
    "\"배\" in fruit"
   ]
  },
  {
   "cell_type": "code",
   "execution_count": 88,
   "id": "7c6414a3",
   "metadata": {},
   "outputs": [
    {
     "data": {
      "text/plain": [
       "True"
      ]
     },
     "execution_count": 88,
     "metadata": {},
     "output_type": "execute_result"
    }
   ],
   "source": [
    "\"사과\" in fruit"
   ]
  },
  {
   "cell_type": "code",
   "execution_count": 89,
   "id": "046d495f",
   "metadata": {},
   "outputs": [
    {
     "data": {
      "text/plain": [
       "True"
      ]
     },
     "execution_count": 89,
     "metadata": {},
     "output_type": "execute_result"
    }
   ],
   "source": [
    "\"사과\" in \"사과는 맛있어\""
   ]
  },
  {
   "cell_type": "code",
   "execution_count": 91,
   "id": "f228d658",
   "metadata": {},
   "outputs": [
    {
     "data": {
      "text/plain": [
       "True"
      ]
     },
     "execution_count": 91,
     "metadata": {},
     "output_type": "execute_result"
    }
   ],
   "source": [
    "(\"사과\" in fruit) and (\"바나나\" in fruit)    # 리스트안에 사과와 바나나가 있는지 확인"
   ]
  },
  {
   "cell_type": "code",
   "execution_count": 92,
   "id": "be037250",
   "metadata": {},
   "outputs": [
    {
     "data": {
      "text/plain": [
       "False"
      ]
     },
     "execution_count": 92,
     "metadata": {},
     "output_type": "execute_result"
    }
   ],
   "source": [
    "[\"사과\",\"바나나\"] in fruit             "
   ]
  },
  {
   "cell_type": "code",
   "execution_count": null,
   "id": "4b486ace",
   "metadata": {},
   "outputs": [],
   "source": []
  },
  {
   "cell_type": "markdown",
   "id": "7fdc81dc",
   "metadata": {},
   "source": [
    "## 반복문"
   ]
  },
  {
   "cell_type": "code",
   "execution_count": null,
   "id": "89d14f67",
   "metadata": {},
   "outputs": [],
   "source": [
    "while 명제:\n",
    "    명제가 참인 한 실행되는 코드"
   ]
  },
  {
   "cell_type": "code",
   "execution_count": 93,
   "id": "63f9659c",
   "metadata": {},
   "outputs": [
    {
     "name": "stdout",
     "output_type": "stream",
     "text": [
      "1\n",
      "2\n"
     ]
    }
   ],
   "source": [
    "n = 1 \n",
    "while n < 3:\n",
    "    print(n)\n",
    "    n = n + 1"
   ]
  },
  {
   "cell_type": "code",
   "execution_count": 101,
   "id": "98b55a30",
   "metadata": {},
   "outputs": [
    {
     "ename": "IndentationError",
     "evalue": "expected an indented block (628716775.py, line 6)",
     "output_type": "error",
     "traceback": [
      "\u001b[1;36m  Input \u001b[1;32mIn [101]\u001b[1;36m\u001b[0m\n\u001b[1;33m    break:\u001b[0m\n\u001b[1;37m    ^\u001b[0m\n\u001b[1;31mIndentationError\u001b[0m\u001b[1;31m:\u001b[0m expected an indented block\n"
     ]
    }
   ],
   "source": [
    "n = 1 \n",
    "while Treu:\n",
    "    print(1)\n",
    "    n = n + 1\n",
    "    \n",
    "    if n == 100:\n",
    "    break\n",
    "    else:\n",
    "        pass"
   ]
  },
  {
   "cell_type": "code",
   "execution_count": null,
   "id": "902b555f",
   "metadata": {},
   "outputs": [],
   "source": [
    "for 변수 in 인덱싱이 가능한 자료형:      \n",
    "    코드"
   ]
  },
  {
   "cell_type": "code",
   "execution_count": 98,
   "id": "f0662a86",
   "metadata": {},
   "outputs": [
    {
     "name": "stdout",
     "output_type": "stream",
     "text": [
      "1\n",
      "2\n",
      "3\n",
      "4\n",
      "5\n"
     ]
    }
   ],
   "source": [
    "for i in [1,2,3,4,5]:\n",
    "    print(i)"
   ]
  },
  {
   "cell_type": "code",
   "execution_count": 103,
   "id": "77d535ac",
   "metadata": {},
   "outputs": [
    {
     "name": "stdout",
     "output_type": "stream",
     "text": [
      "3 x 1 = 3\n",
      "3 x 2 = 6\n",
      "3 x 3 = 9\n",
      "3 x 4 = 12\n",
      "3 x 5 = 15\n",
      "3 x 6 = 18\n",
      "3 x 7 = 21\n",
      "3 x 8 = 24\n",
      "3 x 9 = 27\n"
     ]
    }
   ],
   "source": [
    "for num in range(1,10):\n",
    "    print(\"3 x {} = {}\".format(num, 3*num))"
   ]
  },
  {
   "cell_type": "code",
   "execution_count": 106,
   "id": "f00b2612",
   "metadata": {},
   "outputs": [
    {
     "name": "stdout",
     "output_type": "stream",
     "text": [
      "1 x 1 = 1\n",
      "1 x 2 = 2\n",
      "1 x 3 = 3\n",
      "1 x 4 = 4\n",
      "1 x 5 = 5\n",
      "1 x 6 = 6\n",
      "1 x 7 = 7\n",
      "1 x 8 = 8\n",
      "1 x 9 = 9\n",
      "2 x 1 = 2\n",
      "2 x 2 = 4\n",
      "2 x 3 = 6\n",
      "2 x 4 = 8\n",
      "2 x 5 = 10\n",
      "2 x 6 = 12\n",
      "2 x 7 = 14\n",
      "2 x 8 = 16\n",
      "2 x 9 = 18\n",
      "3 x 1 = 3\n",
      "3 x 2 = 6\n",
      "3 x 3 = 9\n",
      "3 x 4 = 12\n",
      "3 x 5 = 15\n",
      "3 x 6 = 18\n",
      "3 x 7 = 21\n",
      "3 x 8 = 24\n",
      "3 x 9 = 27\n",
      "4 x 1 = 4\n",
      "4 x 2 = 8\n",
      "4 x 3 = 12\n",
      "4 x 4 = 16\n",
      "4 x 5 = 20\n",
      "4 x 6 = 24\n",
      "4 x 7 = 28\n",
      "4 x 8 = 32\n",
      "4 x 9 = 36\n",
      "5 x 1 = 5\n",
      "5 x 2 = 10\n",
      "5 x 3 = 15\n",
      "5 x 4 = 20\n",
      "5 x 5 = 25\n",
      "5 x 6 = 30\n",
      "5 x 7 = 35\n",
      "5 x 8 = 40\n",
      "5 x 9 = 45\n",
      "6 x 1 = 6\n",
      "6 x 2 = 12\n",
      "6 x 3 = 18\n",
      "6 x 4 = 24\n",
      "6 x 5 = 30\n",
      "6 x 6 = 36\n",
      "6 x 7 = 42\n",
      "6 x 8 = 48\n",
      "6 x 9 = 54\n",
      "7 x 1 = 7\n",
      "7 x 2 = 14\n",
      "7 x 3 = 21\n",
      "7 x 4 = 28\n",
      "7 x 5 = 35\n",
      "7 x 6 = 42\n",
      "7 x 7 = 49\n",
      "7 x 8 = 56\n",
      "7 x 9 = 63\n",
      "8 x 1 = 8\n",
      "8 x 2 = 16\n",
      "8 x 3 = 24\n",
      "8 x 4 = 32\n",
      "8 x 5 = 40\n",
      "8 x 6 = 48\n",
      "8 x 7 = 56\n",
      "8 x 8 = 64\n",
      "8 x 9 = 72\n",
      "9 x 1 = 9\n",
      "9 x 2 = 18\n",
      "9 x 3 = 27\n",
      "9 x 4 = 36\n",
      "9 x 5 = 45\n",
      "9 x 6 = 54\n",
      "9 x 7 = 63\n",
      "9 x 8 = 72\n",
      "9 x 9 = 81\n"
     ]
    }
   ],
   "source": [
    "for i in range(1,10):\n",
    "    for w in range(1,10):\n",
    "         print(\"{} x {} = {}\".format(i, w, i*w))"
   ]
  },
  {
   "cell_type": "markdown",
   "id": "193e7706",
   "metadata": {},
   "source": [
    "### 너무너무 중요한 반복문\n",
    " - 10,000보다 큰 57과 83의 공배수중 가장 작은 수를 출력해주세요.\n",
    " - 공배수 : 57과 83을 모두 약수로 가지는 수 "
   ]
  },
  {
   "cell_type": "code",
   "execution_count": 116,
   "id": "3243e63d",
   "metadata": {},
   "outputs": [
    {
     "name": "stdout",
     "output_type": "stream",
     "text": [
      "14193\n"
     ]
    }
   ],
   "source": [
    "n = 10000\n",
    "while (n%57 != 0) or (n%83 != 0):\n",
    "    n = n + 1\n",
    "print(n)"
   ]
  },
  {
   "cell_type": "code",
   "execution_count": 117,
   "id": "c8763302",
   "metadata": {},
   "outputs": [
    {
     "name": "stdout",
     "output_type": "stream",
     "text": [
      "14193\n"
     ]
    }
   ],
   "source": [
    "n = 10000\n",
    "while True:\n",
    "    if n % 57 == 0 and n % 83 == 0:\n",
    "        break\n",
    "    else:\n",
    "        n = n + 1\n",
    "print(n)"
   ]
  },
  {
   "cell_type": "code",
   "execution_count": null,
   "id": "9a75bed9",
   "metadata": {},
   "outputs": [],
   "source": []
  },
  {
   "cell_type": "markdown",
   "id": "a12cd0db",
   "metadata": {},
   "source": [
    "## 예외처리"
   ]
  },
  {
   "cell_type": "code",
   "execution_count": null,
   "id": "789e6ab9",
   "metadata": {},
   "outputs": [],
   "source": [
    "for i in range(10):\n",
    "    print(1/(i-7))"
   ]
  },
  {
   "cell_type": "code",
   "execution_count": null,
   "id": "822e776f",
   "metadata": {},
   "outputs": [],
   "source": [
    "try:\n",
    "    코드\n",
    "except:\n",
    "    코드가 에러가 날 경우 실행되는 코드 "
   ]
  },
  {
   "cell_type": "code",
   "execution_count": 118,
   "id": "d37518c1",
   "metadata": {},
   "outputs": [
    {
     "name": "stdout",
     "output_type": "stream",
     "text": [
      "-0.14285714285714285\n",
      "-0.16666666666666666\n",
      "-0.2\n",
      "-0.25\n",
      "-0.3333333333333333\n",
      "-0.5\n",
      "-1.0\n",
      "삐용삐용\n",
      "1.0\n",
      "0.5\n"
     ]
    }
   ],
   "source": [
    "for i in range(10):            # python 오류\n",
    "    try:\n",
    "        print(1/(i-7))\n",
    "    except:\n",
    "        print(\"삐용삐용\")"
   ]
  },
  {
   "cell_type": "code",
   "execution_count": 121,
   "id": "54efda20",
   "metadata": {},
   "outputs": [
    {
     "name": "stdout",
     "output_type": "stream",
     "text": [
      "3의 배수를 입력하시오:5\n"
     ]
    },
    {
     "ename": "Exception",
     "evalue": "3의 배수가 아닙니다",
     "output_type": "error",
     "traceback": [
      "\u001b[1;31m---------------------------------------------------------------------------\u001b[0m",
      "\u001b[1;31mException\u001b[0m                                 Traceback (most recent call last)",
      "Input \u001b[1;32mIn [121]\u001b[0m, in \u001b[0;36m<cell line: 2>\u001b[1;34m()\u001b[0m\n\u001b[0;32m      3\u001b[0m     \u001b[38;5;28;01mpass\u001b[39;00m \n\u001b[0;32m      4\u001b[0m \u001b[38;5;28;01melse\u001b[39;00m:\n\u001b[1;32m----> 5\u001b[0m     \u001b[38;5;28;01mraise\u001b[39;00m \u001b[38;5;167;01mException\u001b[39;00m(\u001b[38;5;124m\"\u001b[39m\u001b[38;5;124m3의 배수가 아닙니다\u001b[39m\u001b[38;5;124m\"\u001b[39m)\n\u001b[0;32m      6\u001b[0m \u001b[38;5;28mprint\u001b[39m(a)\n",
      "\u001b[1;31mException\u001b[0m: 3의 배수가 아닙니다"
     ]
    }
   ],
   "source": [
    "a = int(input(\"3의 배수를 입력하시오:\"))         #  개발자 지정 오류\n",
    "if a%3 == 0 :\n",
    "    pass \n",
    "else:\n",
    "    raise Exception(\"3의 배수가 아닙니다\")\n",
    "print(a)"
   ]
  },
  {
   "cell_type": "markdown",
   "id": "0421cb48",
   "metadata": {},
   "source": [
    "### 딕셔너리\n",
    "\n",
    "키는 수정할수 없음 벨류값은 수정가능"
   ]
  },
  {
   "cell_type": "code",
   "execution_count": 122,
   "id": "bbf023a2",
   "metadata": {},
   "outputs": [],
   "source": [
    "dictionary = {\"A\" : \"가\", \"B\" : \"나\", \"C\":\"다\", \"D\" : \"라\"}"
   ]
  },
  {
   "cell_type": "code",
   "execution_count": 123,
   "id": "c604a057",
   "metadata": {},
   "outputs": [],
   "source": [
    "lst = [\"가\",\"나\",\"다\",\"라\"]"
   ]
  },
  {
   "cell_type": "code",
   "execution_count": null,
   "id": "3c0c9f56",
   "metadata": {},
   "outputs": [],
   "source": [
    "lst[0]"
   ]
  },
  {
   "cell_type": "code",
   "execution_count": 125,
   "id": "74aba4f4",
   "metadata": {},
   "outputs": [
    {
     "data": {
      "text/plain": [
       "'가'"
      ]
     },
     "execution_count": 125,
     "metadata": {},
     "output_type": "execute_result"
    }
   ],
   "source": [
    "dictionary[\"A\"]    #딕셔너리 에서 순서는 중요 x 키값이 중요 "
   ]
  },
  {
   "cell_type": "code",
   "execution_count": 128,
   "id": "a3fd31e1",
   "metadata": {},
   "outputs": [],
   "source": [
    "csb = {\"이름\" : [\"홍길동\", \"임꺽정\", \"장길산\"], \"나이\" : [20, 35, 52], \"키\" : [168,182,189]}"
   ]
  },
  {
   "cell_type": "code",
   "execution_count": 129,
   "id": "74805eac",
   "metadata": {},
   "outputs": [
    {
     "data": {
      "text/plain": [
       "['홍길동', '임꺽정', '장길산']"
      ]
     },
     "execution_count": 129,
     "metadata": {},
     "output_type": "execute_result"
    }
   ],
   "source": [
    "csb[\"이름\"]"
   ]
  },
  {
   "cell_type": "code",
   "execution_count": 130,
   "id": "b9992f37",
   "metadata": {},
   "outputs": [
    {
     "data": {
      "text/plain": [
       "dict_keys(['이름', '나이', '키'])"
      ]
     },
     "execution_count": 130,
     "metadata": {},
     "output_type": "execute_result"
    }
   ],
   "source": [
    "csb.keys()     # 키값만 출력"
   ]
  },
  {
   "cell_type": "code",
   "execution_count": 131,
   "id": "b5405866",
   "metadata": {},
   "outputs": [
    {
     "data": {
      "text/plain": [
       "dict_values([['홍길동', '임꺽정', '장길산'], [20, 35, 52], [168, 182, 189]])"
      ]
     },
     "execution_count": 131,
     "metadata": {},
     "output_type": "execute_result"
    }
   ],
   "source": [
    "csb.values()   # 벨류값 출력"
   ]
  },
  {
   "cell_type": "code",
   "execution_count": 133,
   "id": "e67ebed1",
   "metadata": {},
   "outputs": [
    {
     "data": {
      "text/plain": [
       "{'이름': ['홍길동', '임꺽정', '장길산'],\n",
       " '나이': [20, 35, 52],\n",
       " '키': [168, 182, 189],\n",
       " '성별': ['남', '남', '남']}"
      ]
     },
     "execution_count": 133,
     "metadata": {},
     "output_type": "execute_result"
    }
   ],
   "source": [
    "csb[\"성별\"] = [\"남\", \"남\", \"남\"]\n",
    "csb"
   ]
  },
  {
   "cell_type": "code",
   "execution_count": 134,
   "id": "b7593cb2",
   "metadata": {},
   "outputs": [
    {
     "data": {
      "text/plain": [
       "{'이름': ['홍길동', '임꺽정', '장길산'], '나이': [20, 35, 52], '키': [168, 182, 189]}"
      ]
     },
     "execution_count": 134,
     "metadata": {},
     "output_type": "execute_result"
    }
   ],
   "source": [
    "del csb[\"성별\"]\n",
    "csb"
   ]
  },
  {
   "cell_type": "raw",
   "id": "27e6e8d5",
   "metadata": {},
   "source": []
  },
  {
   "cell_type": "code",
   "execution_count": 136,
   "id": "725cb93e",
   "metadata": {},
   "outputs": [
    {
     "name": "stdout",
     "output_type": "stream",
     "text": [
      "이름\n",
      "나이\n",
      "키\n"
     ]
    }
   ],
   "source": [
    "for i in csb.keys():\n",
    "    print(i)"
   ]
  },
  {
   "cell_type": "code",
   "execution_count": null,
   "id": "4d705314",
   "metadata": {},
   "outputs": [],
   "source": [
    "csb = {\"이름\" : [\"홍길동\", \"임꺽정\", \"장길산\"],\n",
    "       \"나이\" : [20, 35, 52],\n",
    "        \"키\"  : [160, 200, 180]\n",
    "        \"발사이즈\" : [260,290,270],} "
   ]
  },
  {
   "cell_type": "markdown",
   "id": "1aafd825",
   "metadata": {},
   "source": [
    "#### for문을 활용해서 홍길동, 임꺽정, 장길산의 나이 평균, 키 평균, 발 사이즈 평균을 구해주세요"
   ]
  },
  {
   "cell_type": "code",
   "execution_count": 149,
   "id": "6f55f2f9",
   "metadata": {},
   "outputs": [],
   "source": [
    "csb = {\"이름\" : [\"홍길동\", \"임꺽정\", \"장길산\"],\n",
    "       \"나이\" : [20, 35, 52],\n",
    "        \"키\"  : [160, 200, 180],\n",
    "        \"발사이즈\" : [260,290,270]}\n",
    "        # \" 평균들 : [나이평균, 키평균, 발사이즈 평균]} "
   ]
  },
  {
   "cell_type": "code",
   "execution_count": 150,
   "id": "66909351",
   "metadata": {},
   "outputs": [
    {
     "name": "stdout",
     "output_type": "stream",
     "text": [
      "이름\n",
      "나이\n",
      "키\n",
      "발사이즈\n"
     ]
    }
   ],
   "source": [
    "for i in csb:                 #딕셔너리는 슬라이싱이 안됨\n",
    "    print(i)"
   ]
  },
  {
   "cell_type": "code",
   "execution_count": 152,
   "id": "df0efa2f",
   "metadata": {},
   "outputs": [
    {
     "name": "stdout",
     "output_type": "stream",
     "text": [
      "나이\n",
      "키\n",
      "발사이즈\n"
     ]
    }
   ],
   "source": [
    "for i in list(csb.keys())[1:]:\n",
    "    print(i)"
   ]
  },
  {
   "cell_type": "code",
   "execution_count": null,
   "id": "82c8de96",
   "metadata": {},
   "outputs": [],
   "source": [
    "for i in list(csb.keys())[1:]:\n",
    "     n = 0  \n",
    "    for w in csb[i]:\n",
    "        n = n + w\n",
    "    averages.append(n/len(csb[i]))\n",
    "    \n",
    "csb[\"평균들\"] = averages\n",
    "csb"
   ]
  },
  {
   "cell_type": "code",
   "execution_count": 153,
   "id": "a59a591c",
   "metadata": {},
   "outputs": [
    {
     "name": "stdout",
     "output_type": "stream",
     "text": [
      "이름\n",
      "나이\n",
      "키\n",
      "발사이즈\n"
     ]
    }
   ],
   "source": [
    "for i in csb:\n",
    "    print(i)"
   ]
  },
  {
   "cell_type": "code",
   "execution_count": 145,
   "id": "5c05df94",
   "metadata": {},
   "outputs": [
    {
     "data": {
      "text/plain": [
       "{'이름': ['홍길동', '임꺽정', '장길산'],\n",
       " '나이': [20, 35, 52],\n",
       " '키': [168, 182, 189],\n",
       " '평균들': [35.666666666666664, 179.66666666666666]}"
      ]
     },
     "execution_count": 145,
     "metadata": {},
     "output_type": "execute_result"
    }
   ],
   "source": [
    "averages = []                     \n",
    "for i in csb:\n",
    "    try:                                    # python 문법상 구할수 없는 값을 제외하기 위해 Try,except 사용 (ex.이름)\n",
    "        n = 0  \n",
    "        for w in csb[i]:\n",
    "            n = n + w\n",
    "        averages.append(n/len(csb[i]))\n",
    "\n",
    "    except:\n",
    "        pass\n",
    "    \n",
    "csb[\"평균들\"] = averages\n",
    "csb"
   ]
  },
  {
   "cell_type": "code",
   "execution_count": null,
   "id": "4a49aaf4",
   "metadata": {},
   "outputs": [],
   "source": []
  },
  {
   "cell_type": "code",
   "execution_count": null,
   "id": "629ccdb3",
   "metadata": {},
   "outputs": [],
   "source": []
  }
 ],
 "metadata": {
  "kernelspec": {
   "display_name": "Python 3 (ipykernel)",
   "language": "python",
   "name": "python3"
  },
  "language_info": {
   "codemirror_mode": {
    "name": "ipython",
    "version": 3
   },
   "file_extension": ".py",
   "mimetype": "text/x-python",
   "name": "python",
   "nbconvert_exporter": "python",
   "pygments_lexer": "ipython3",
   "version": "3.9.12"
  }
 },
 "nbformat": 4,
 "nbformat_minor": 5
}
