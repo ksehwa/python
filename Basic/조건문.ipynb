{
 "cells": [
  {
   "cell_type": "code",
   "execution_count": 2,
   "id": "8825ed5c",
   "metadata": {
    "scrolled": true
   },
   "outputs": [
    {
     "name": "stdout",
     "output_type": "stream",
     "text": [
      "내가 가진 돈;4500\n",
      "택시를 타고 가자.\n",
      "우와 집이다\n"
     ]
    }
   ],
   "source": [
    "money = int(input(\"내가 가진 돈;\"))\n",
    "if money >= 4000:\n",
    "    print(\"택시를 타고 가자.\")\n",
    "else:\n",
    "    print(\"버스를 타고 가자.\")\n",
    "    \n",
    "print(\"우와 집이다\")"
   ]
  },
  {
   "cell_type": "markdown",
   "id": "114eeed4",
   "metadata": {},
   "source": [
    "- input 함수로 정수를 받습니다\n",
    "- 만약 주어진 수가 3의 배수라면 \"3의 배수입니다.\"를 출력합니다\n",
    "- 만약 주어진 수가 3의 배수가 아니라면 \"3의 배수가 아닙니다.를 출력"
   ]
  },
  {
   "cell_type": "code",
   "execution_count": 5,
   "id": "29365815",
   "metadata": {},
   "outputs": [
    {
     "name": "stdout",
     "output_type": "stream",
     "text": [
      "정수를 입력하세요36\n",
      "3의 배수 입니다.\n"
     ]
    }
   ],
   "source": [
    "num = int(input(\"정수를 입력하세요\"))\n",
    "\n",
    "if num % 3 == 0:\n",
    "    print(\"3의 배수 입니다.\")\n",
    "else:\n",
    "    print(\"3의 배수가 아닙니다.\")"
   ]
  },
  {
   "cell_type": "code",
   "execution_count": 8,
   "id": "63576be5",
   "metadata": {},
   "outputs": [
    {
     "name": "stdout",
     "output_type": "stream",
     "text": [
      "내가 가진 돈;999999999999999\n",
      "리무진을 타고 가자\n",
      "우와 집이다\n"
     ]
    }
   ],
   "source": [
    "money = int(input(\"내가 가진 돈;\"))\n",
    "if money >= 4000 and money < 1000000:\n",
    "    print(\"택시를 타고 가자.\")\n",
    "    \n",
    "elif money >= 1300 and money < 4000:\n",
    "    print(\"버스를 타고 가자.\")\n",
    "    \n",
    "elif money >= 1000000:\n",
    "    print(\"리무진을 타고 가자\")\n",
    "    \n",
    "else:\n",
    "    print(\"걸어가자.\")\n",
    "    \n",
    "print(\"우와 집이다\")"
   ]
  },
  {
   "cell_type": "code",
   "execution_count": null,
   "id": "a5368b3f",
   "metadata": {},
   "outputs": [],
   "source": []
  },
  {
   "cell_type": "markdown",
   "id": "bb73ec6d",
   "metadata": {},
   "source": [
    "### 추석  선물 세트 구매\n",
    "- 추석 선물 세트는 1개에 1만원입니다.\n",
    "- 추석 선물 세트를 11개 이상 사면, 11개째부터 10%할인됩니다.\n",
    "- 추석 선물 세트를 몇 개 샀는지 input 함수로 받아, 얼마인지를 출력해주세요."
   ]
  },
  {
   "cell_type": "code",
   "execution_count": 18,
   "id": "48f4fb7e",
   "metadata": {},
   "outputs": [
    {
     "name": "stdout",
     "output_type": "stream",
     "text": [
      "추석 선물 세트 몇개를 구매하시겠습니까?12\n",
      "118000\n"
     ]
    }
   ],
   "source": [
    "num = int(input(\"추석 선물 세트 몇개를 구매하시겠습니까?\"))\n",
    "\n",
    "\n",
    "if num >= 11:\n",
    "    print(num*10000 - (1000*(num-10)))\n",
    "else:\n",
    "    print(num*10000)"
   ]
  },
  {
   "cell_type": "code",
   "execution_count": 19,
   "id": "82ab877a",
   "metadata": {},
   "outputs": [
    {
     "name": "stdout",
     "output_type": "stream",
     "text": [
      "추석 선물 세트 몇개를 구매하시겠습니까?24\n",
      "226000.0\n"
     ]
    }
   ],
   "source": [
    "num = int(input(\"추석 선물 세트 몇개를 구매하시겠습니까?\"))\n",
    "\n",
    "\n",
    "if num >= 11:\n",
    "    print(num*10000 - ((num-10)*10000*0.1))\n",
    "else:\n",
    "    print(num*10000)"
   ]
  },
  {
   "cell_type": "code",
   "execution_count": null,
   "id": "76dcebab",
   "metadata": {},
   "outputs": [],
   "source": []
  }
 ],
 "metadata": {
  "kernelspec": {
   "display_name": "Python 3 (ipykernel)",
   "language": "python",
   "name": "python3"
  },
  "language_info": {
   "codemirror_mode": {
    "name": "ipython",
    "version": 3
   },
   "file_extension": ".py",
   "mimetype": "text/x-python",
   "name": "python",
   "nbconvert_exporter": "python",
   "pygments_lexer": "ipython3",
   "version": "3.9.12"
  }
 },
 "nbformat": 4,
 "nbformat_minor": 5
}
