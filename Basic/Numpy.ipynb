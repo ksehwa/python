{
 "cells": [
  {
   "cell_type": "code",
   "execution_count": 1,
   "id": "5c7303d3",
   "metadata": {},
   "outputs": [],
   "source": [
    "import numpy as np"
   ]
  },
  {
   "cell_type": "markdown",
   "id": "021c2b99",
   "metadata": {},
   "source": [
    "# BMI 구하기\n",
    "### delimiter : 구분기호"
   ]
  },
  {
   "cell_type": "code",
   "execution_count": 3,
   "id": "7a070482",
   "metadata": {},
   "outputs": [
    {
     "data": {
      "text/plain": [
       "array([[175.2, 180.3, 175. , 169.2, 185.2, 188. , 177.6, 178.2, 177. ,\n",
       "        179. ],\n",
       "       [ 65.6,  88. ,  79.2,  69.3,  55. ,  71.2,  73. ,  68.9,  74. ,\n",
       "         82. ]])"
      ]
     },
     "execution_count": 3,
     "metadata": {},
     "output_type": "execute_result"
    }
   ],
   "source": [
    "data=np.loadtxt(\"height_weight.txt\",delimiter=\",\")\n",
    "data"
   ]
  },
  {
   "cell_type": "code",
   "execution_count": 4,
   "id": "2e10ab28",
   "metadata": {},
   "outputs": [
    {
     "data": {
      "text/plain": [
       "(2, 10)"
      ]
     },
     "execution_count": 4,
     "metadata": {},
     "output_type": "execute_result"
    }
   ],
   "source": [
    "data.shape"
   ]
  },
  {
   "cell_type": "code",
   "execution_count": 5,
   "id": "39f50db1",
   "metadata": {},
   "outputs": [
    {
     "name": "stdout",
     "output_type": "stream",
     "text": [
      "[175.2 180.3 175.  169.2 185.2 188.  177.6 178.2 177.  179. ]\n"
     ]
    }
   ],
   "source": [
    "#  키와 몸무게로 나누기\n",
    "height_cm = data[0]\n",
    "print(height_cm)"
   ]
  },
  {
   "cell_type": "code",
   "execution_count": 6,
   "id": "4c445328",
   "metadata": {},
   "outputs": [
    {
     "name": "stdout",
     "output_type": "stream",
     "text": [
      "[65.6 88.  79.2 69.3 55.  71.2 73.  68.9 74.  82. ]\n"
     ]
    }
   ],
   "source": [
    "weight_kg=data[1]\n",
    "print(weight_kg)"
   ]
  },
  {
   "cell_type": "code",
   "execution_count": 7,
   "id": "ff91f76b",
   "metadata": {},
   "outputs": [
    {
     "name": "stdout",
     "output_type": "stream",
     "text": [
      "[1.752 1.803 1.75  1.692 1.852 1.88  1.776 1.782 1.77  1.79 ]\n"
     ]
    }
   ],
   "source": [
    "#키를 cm가 아니라 m로 표현해보기\n",
    "height_m = height_cm/100\n",
    "print(height_m)"
   ]
  },
  {
   "cell_type": "code",
   "execution_count": 8,
   "id": "0e16a704",
   "metadata": {},
   "outputs": [
    {
     "data": {
      "text/plain": [
       "array([21.37153104, 27.07018468, 25.86122449, 24.20652885, 16.03543423,\n",
       "       20.14486193, 23.14392095, 21.69720651, 23.62028791, 25.59220998])"
      ]
     },
     "execution_count": 8,
     "metadata": {},
     "output_type": "execute_result"
    }
   ],
   "source": [
    "BMI = weight_kg/(height_m*height_m)\n",
    "BMI"
   ]
  },
  {
   "cell_type": "code",
   "execution_count": null,
   "id": "d5770d66",
   "metadata": {},
   "outputs": [],
   "source": []
  },
  {
   "cell_type": "code",
   "execution_count": 9,
   "id": "4a0dc72c",
   "metadata": {},
   "outputs": [
    {
     "data": {
      "text/plain": [
       "array([[        1,      1193,         5, 978300760],\n",
       "       [        1,       661,         3, 978302109],\n",
       "       [        1,       914,         3, 978301968],\n",
       "       ...,\n",
       "       [     6040,       562,         5, 956704746],\n",
       "       [     6040,      1096,         4, 956715648],\n",
       "       [     6040,      1097,         4, 956715569]])"
      ]
     },
     "execution_count": 9,
     "metadata": {},
     "output_type": "execute_result"
    }
   ],
   "source": [
    "data=np.loadtxt(\"ratings.txt\",delimiter=\"::\",dtype='int')\n",
    "data"
   ]
  },
  {
   "cell_type": "code",
   "execution_count": 13,
   "id": "48f46958",
   "metadata": {},
   "outputs": [],
   "source": [
    "#data의 크기(모양새), 차원, 원소 개수를 확인하기"
   ]
  },
  {
   "cell_type": "code",
   "execution_count": 18,
   "id": "434e7a2e",
   "metadata": {
    "scrolled": false
   },
   "outputs": [
    {
     "name": "stdout",
     "output_type": "stream",
     "text": [
      "(1000209, 4)\n",
      "4000836\n",
      "2\n"
     ]
    }
   ],
   "source": [
    "print(data.shape)\n",
    "print(data.size)\n",
    "print(data.ndim)"
   ]
  },
  {
   "cell_type": "code",
   "execution_count": 20,
   "id": "469b0733",
   "metadata": {},
   "outputs": [],
   "source": [
    "# 1번유저 전체 정보 출력"
   ]
  },
  {
   "cell_type": "code",
   "execution_count": 23,
   "id": "7e3ba355",
   "metadata": {},
   "outputs": [
    {
     "data": {
      "text/plain": [
       "array([[        1,      1193,         5, 978300760],\n",
       "       [        1,       661,         3, 978302109],\n",
       "       [        1,       914,         3, 978301968],\n",
       "       [        1,      3408,         4, 978300275],\n",
       "       [        1,      2355,         5, 978824291],\n",
       "       [        1,      1197,         3, 978302268],\n",
       "       [        1,      1287,         5, 978302039],\n",
       "       [        1,      2804,         5, 978300719],\n",
       "       [        1,       594,         4, 978302268],\n",
       "       [        1,       919,         4, 978301368],\n",
       "       [        1,       595,         5, 978824268],\n",
       "       [        1,       938,         4, 978301752],\n",
       "       [        1,      2398,         4, 978302281],\n",
       "       [        1,      2918,         4, 978302124],\n",
       "       [        1,      1035,         5, 978301753],\n",
       "       [        1,      2791,         4, 978302188],\n",
       "       [        1,      2687,         3, 978824268],\n",
       "       [        1,      2018,         4, 978301777],\n",
       "       [        1,      3105,         5, 978301713],\n",
       "       [        1,      2797,         4, 978302039],\n",
       "       [        1,      2321,         3, 978302205],\n",
       "       [        1,       720,         3, 978300760],\n",
       "       [        1,      1270,         5, 978300055],\n",
       "       [        1,       527,         5, 978824195],\n",
       "       [        1,      2340,         3, 978300103],\n",
       "       [        1,        48,         5, 978824351],\n",
       "       [        1,      1097,         4, 978301953],\n",
       "       [        1,      1721,         4, 978300055],\n",
       "       [        1,      1545,         4, 978824139],\n",
       "       [        1,       745,         3, 978824268],\n",
       "       [        1,      2294,         4, 978824291],\n",
       "       [        1,      3186,         4, 978300019],\n",
       "       [        1,      1566,         4, 978824330],\n",
       "       [        1,       588,         4, 978824268],\n",
       "       [        1,      1907,         4, 978824330],\n",
       "       [        1,       783,         4, 978824291],\n",
       "       [        1,      1836,         5, 978300172],\n",
       "       [        1,      1022,         5, 978300055],\n",
       "       [        1,      2762,         4, 978302091],\n",
       "       [        1,       150,         5, 978301777],\n",
       "       [        1,         1,         5, 978824268],\n",
       "       [        1,      1961,         5, 978301590],\n",
       "       [        1,      1962,         4, 978301753],\n",
       "       [        1,      2692,         4, 978301570],\n",
       "       [        1,       260,         4, 978300760],\n",
       "       [        1,      1028,         5, 978301777],\n",
       "       [        1,      1029,         5, 978302205],\n",
       "       [        1,      1207,         4, 978300719],\n",
       "       [        1,      2028,         5, 978301619],\n",
       "       [        1,       531,         4, 978302149],\n",
       "       [        1,      3114,         4, 978302174],\n",
       "       [        1,       608,         4, 978301398],\n",
       "       [        1,      1246,         4, 978302091]])"
      ]
     },
     "execution_count": 23,
     "metadata": {},
     "output_type": "execute_result"
    }
   ],
   "source": [
    "data[data[:,0]==1]"
   ]
  },
  {
   "cell_type": "code",
   "execution_count": 32,
   "id": "06cbacac",
   "metadata": {},
   "outputs": [
    {
     "name": "stdout",
     "output_type": "stream",
     "text": [
      "[   1    1    1 ... 6040 6040 6040]\n"
     ]
    }
   ],
   "source": [
    "# i정보만 가져오기\n",
    "user_id = data[:,0]\n",
    "print(user_id)"
   ]
  },
  {
   "cell_type": "markdown",
   "id": "f04430e9",
   "metadata": {},
   "source": [
    "### 전체 사용자 평점 평균 구하기"
   ]
  },
  {
   "cell_type": "code",
   "execution_count": 41,
   "id": "cb40ee28",
   "metadata": {},
   "outputs": [
    {
     "name": "stdout",
     "output_type": "stream",
     "text": [
      "[5 3 3 ... 5 4 4]\n",
      "3.581564453029317\n"
     ]
    }
   ],
   "source": [
    "# 평점 가져오기\n",
    "ratings= data[:,2]\n",
    "print(ratings)\n",
    "# 평점의 평균 구하기\n",
    "ratings.mean()\n",
    "print(np.mean(ratings))"
   ]
  },
  {
   "cell_type": "markdown",
   "id": "77f768db",
   "metadata": {},
   "source": [
    "#### 1번 사용자 평점 평균구하기\n",
    "- 1. id정보 가져오기\n",
    "- 2. 인덱싱한 자료에서 평점만 가져오기\n",
    "- 3. 가져온 평점 평균 구하기"
   ]
  },
  {
   "cell_type": "code",
   "execution_count": 55,
   "id": "504e842a",
   "metadata": {},
   "outputs": [
    {
     "name": "stdout",
     "output_type": "stream",
     "text": [
      "4.188679245283019\n"
     ]
    }
   ],
   "source": [
    "user_1 = data[data[:,0]==1]\n",
    "user_1_rating=user_1[:,2]\n",
    "print(np.mean(user_1_rating))"
   ]
  },
  {
   "cell_type": "code",
   "execution_count": null,
   "id": "c04da89b",
   "metadata": {},
   "outputs": [],
   "source": []
  }
 ],
 "metadata": {
  "kernelspec": {
   "display_name": "Python 3 (ipykernel)",
   "language": "python",
   "name": "python3"
  },
  "language_info": {
   "codemirror_mode": {
    "name": "ipython",
    "version": 3
   },
   "file_extension": ".py",
   "mimetype": "text/x-python",
   "name": "python",
   "nbconvert_exporter": "python",
   "pygments_lexer": "ipython3",
   "version": "3.9.12"
  }
 },
 "nbformat": 4,
 "nbformat_minor": 5
}
