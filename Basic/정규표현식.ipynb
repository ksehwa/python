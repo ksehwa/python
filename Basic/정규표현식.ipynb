{
 "cells": [
  {
   "cell_type": "code",
   "execution_count": 4,
   "id": "eed4eed5",
   "metadata": {},
   "outputs": [],
   "source": [
    "import re"
   ]
  },
  {
   "cell_type": "code",
   "execution_count": 5,
   "id": "8d6ead62",
   "metadata": {},
   "outputs": [
    {
     "data": {
      "text/plain": [
       "re.compile(r'배고파', re.UNICODE)"
      ]
     },
     "execution_count": 5,
     "metadata": {},
     "output_type": "execute_result"
    }
   ],
   "source": [
    "a = re.compile(\"배고파\")\n",
    "a"
   ]
  },
  {
   "cell_type": "code",
   "execution_count": 6,
   "id": "3b6cc3ac",
   "metadata": {},
   "outputs": [
    {
     "data": {
      "text/plain": [
       "<re.Match object; span=(0, 3), match='배고파'>"
      ]
     },
     "execution_count": 6,
     "metadata": {},
     "output_type": "execute_result"
    }
   ],
   "source": [
    "a.match(\"배고파\")"
   ]
  },
  {
   "cell_type": "code",
   "execution_count": 12,
   "id": "867e8926",
   "metadata": {},
   "outputs": [
    {
     "data": {
      "text/plain": [
       "<re.Match object; span=(0, 3), match='배고파'>"
      ]
     },
     "execution_count": 12,
     "metadata": {},
     "output_type": "execute_result"
    }
   ],
   "source": [
    "a.search(\"배고파서 아 배고파 배고파 노래를 불렀다 \")    "
   ]
  },
  {
   "cell_type": "code",
   "execution_count": 11,
   "id": "fa01d2a9",
   "metadata": {},
   "outputs": [
    {
     "data": {
      "text/plain": [
       "['배고파', '배고파', '배고파']"
      ]
     },
     "execution_count": 11,
     "metadata": {},
     "output_type": "execute_result"
    }
   ],
   "source": [
    "a.findall(\"배고파서 아 배고파 배고파 노래를 불렀다 \")   "
   ]
  },
  {
   "cell_type": "code",
   "execution_count": null,
   "id": "98906931",
   "metadata": {},
   "outputs": [],
   "source": []
  },
  {
   "cell_type": "code",
   "execution_count": null,
   "id": "bae17940",
   "metadata": {},
   "outputs": [],
   "source": []
  },
  {
   "cell_type": "markdown",
   "id": "18383a23",
   "metadata": {},
   "source": [
    "### 정규표현식의 기본 문법1 \n",
    "1. . :모든것\n",
    "2. * : 0번 이상 반복\n",
    "3. + : 1번 이상 반복\n",
    "4. {m} : m번 반복\n",
    "5. {m,n}:m번이상, n번이하\n",
    "6. ? : 있어도 되고 없어도 됨"
   ]
  },
  {
   "cell_type": "code",
   "execution_count": 28,
   "id": "37916c2b",
   "metadata": {},
   "outputs": [
    {
     "name": "stdout",
     "output_type": "stream",
     "text": [
      "<re.Match object; span=(0, 3), match='배고파'>\n",
      "<re.Match object; span=(0, 3), match='배아파'>\n",
      "<re.Match object; span=(0, 3), match='배흙파'>\n"
     ]
    }
   ],
   "source": [
    "b = re.compile(\"배.파\")       # 한 글자만 대체\n",
    "print(b.match(\"배고파\"))\n",
    "print(b.match(\"배아파\"))\n",
    "print(b.match(\"배흙파\"))         "
   ]
  },
  {
   "cell_type": "code",
   "execution_count": 29,
   "id": "5fd88bc4",
   "metadata": {},
   "outputs": [
    {
     "name": "stdout",
     "output_type": "stream",
     "text": [
      "<re.Match object; span=(0, 2), match='배파'>\n",
      "<re.Match object; span=(0, 3), match='배고파'>\n",
      "<re.Match object; span=(0, 4), match='배고고파'>\n",
      "<re.Match object; span=(0, 5), match='배고고고파'>\n"
     ]
    }
   ],
   "source": [
    "b = re.compile(\"배고*파\")       # 0번이상 반복\n",
    "print(b.match(\"배파\"))\n",
    "print(b.match(\"배고파\"))\n",
    "print(b.match(\"배고고파\"))        \n",
    "print(b.match(\"배고고고파\"))  "
   ]
  },
  {
   "cell_type": "code",
   "execution_count": 30,
   "id": "e4632d91",
   "metadata": {},
   "outputs": [
    {
     "name": "stdout",
     "output_type": "stream",
     "text": [
      "None\n",
      "<re.Match object; span=(0, 3), match='배고파'>\n",
      "<re.Match object; span=(0, 4), match='배고고파'>\n",
      "<re.Match object; span=(0, 5), match='배고고고파'>\n"
     ]
    }
   ],
   "source": [
    "b = re.compile(\"배고+파\")       # 한번 이상 반복\n",
    "print(b.match(\"배파\"))\n",
    "print(b.match(\"배고파\"))\n",
    "print(b.match(\"배고고파\"))        \n",
    "print(b.match(\"배고고고파\"))  "
   ]
  },
  {
   "cell_type": "code",
   "execution_count": 33,
   "id": "7510b123",
   "metadata": {},
   "outputs": [
    {
     "name": "stdout",
     "output_type": "stream",
     "text": [
      "None\n",
      "<re.Match object; span=(0, 3), match='배고파'>\n",
      "<re.Match object; span=(0, 4), match='배고고파'>\n",
      "None\n"
     ]
    }
   ],
   "source": [
    "b = re.compile(\"배고{1,2}파\")      \n",
    "print(b.match(\"배파\"))\n",
    "print(b.match(\"배고파\"))\n",
    "print(b.match(\"배고고파\"))        \n",
    "print(b.match(\"배고고고파\"))  "
   ]
  },
  {
   "cell_type": "code",
   "execution_count": 32,
   "id": "1d0a9319",
   "metadata": {},
   "outputs": [
    {
     "name": "stdout",
     "output_type": "stream",
     "text": [
      "<re.Match object; span=(0, 2), match='배파'>\n",
      "<re.Match object; span=(0, 3), match='배고파'>\n",
      "None\n",
      "None\n"
     ]
    }
   ],
   "source": [
    "b = re.compile(\"배고?파\") \n",
    "print(b.match(\"배파\"))\n",
    "print(b.match(\"배고파\"))\n",
    "print(b.match(\"배고고파\"))        \n",
    "print(b.match(\"배고고고파\"))  "
   ]
  },
  {
   "cell_type": "code",
   "execution_count": 34,
   "id": "8511c6ac",
   "metadata": {},
   "outputs": [
    {
     "name": "stdout",
     "output_type": "stream",
     "text": [
      "<re.Match object; span=(0, 10), match='나는 밥을 먹었다.'>\n",
      "None\n"
     ]
    }
   ],
   "source": [
    "b = re.compile(\"나는 밥을 먹었다\\.\") \n",
    "print(b.match(\"나는 밥을 먹었다.\"))\n",
    "print(b.match(\"나는 밥을 먹었다ㅋ\"))"
   ]
  },
  {
   "cell_type": "code",
   "execution_count": null,
   "id": "e8b82f45",
   "metadata": {},
   "outputs": [],
   "source": []
  },
  {
   "cell_type": "markdown",
   "id": "eb4840ce",
   "metadata": {},
   "source": [
    "### 괄호의 활용"
   ]
  },
  {
   "cell_type": "code",
   "execution_count": 36,
   "id": "c894404e",
   "metadata": {
    "scrolled": true
   },
   "outputs": [
    {
     "name": "stdout",
     "output_type": "stream",
     "text": [
      "None\n",
      "<re.Match object; span=(0, 3), match='배고파'>\n",
      "<re.Match object; span=(0, 5), match='배고파고파'>\n",
      "None\n"
     ]
    }
   ],
   "source": [
    "c = re.compile(\"배(고파)+\") \n",
    "print(c.match(\"배\"))\n",
    "print(c.match(\"배고파\"))\n",
    "print(c.match(\"배고파고파\"))        \n",
    "print(c.match(\"배고고파\"))  "
   ]
  },
  {
   "cell_type": "code",
   "execution_count": 39,
   "id": "067eaacc",
   "metadata": {
    "scrolled": true
   },
   "outputs": [
    {
     "name": "stdout",
     "output_type": "stream",
     "text": [
      "None\n",
      "<re.Match object; span=(0, 2), match='배고'>\n",
      "<re.Match object; span=(0, 2), match='배파'>\n",
      "<re.Match object; span=(0, 3), match='배고파'>\n"
     ]
    }
   ],
   "source": [
    "c = re.compile(\"배[고파]+\")       # 고 혹은 파 중에 한글자만 등장\n",
    "print(c.match(\"배\"))\n",
    "print(c.match(\"배고\"))\n",
    "print(c.match(\"배파\"))        \n",
    "print(c.match(\"배고파\"))  "
   ]
  },
  {
   "cell_type": "code",
   "execution_count": 40,
   "id": "ea32cb79",
   "metadata": {},
   "outputs": [
    {
     "name": "stdout",
     "output_type": "stream",
     "text": [
      "None\n"
     ]
    }
   ],
   "source": [
    "c = re.compile(\"[여남공외]고\")   \n",
    "print(c.match(\"남공고\"))"
   ]
  },
  {
   "cell_type": "code",
   "execution_count": 44,
   "id": "df93f725",
   "metadata": {},
   "outputs": [
    {
     "name": "stdout",
     "output_type": "stream",
     "text": [
      "None\n"
     ]
    }
   ],
   "source": [
    "c = re.compile(\"(여자|외국어|남자|공업)고등학교\")\n",
    "print(c.match(\"여자고등학교\"))"
   ]
  },
  {
   "cell_type": "code",
   "execution_count": 43,
   "id": "48e13748",
   "metadata": {},
   "outputs": [
    {
     "name": "stdout",
     "output_type": "stream",
     "text": [
      "<re.Match object; span=(0, 8), match='여자공업고등학교'>\n"
     ]
    }
   ],
   "source": [
    "c = re.compile(\"(여자|외국어|남자|공업){2}고등학교\")\n",
    "print(c.match(\"여자공업고등학교\"))"
   ]
  },
  {
   "cell_type": "code",
   "execution_count": 46,
   "id": "48dbfd1f",
   "metadata": {},
   "outputs": [
    {
     "name": "stdout",
     "output_type": "stream",
     "text": [
      "<re.Match object; span=(0, 1), match='1'>\n"
     ]
    }
   ],
   "source": [
    "c = re.compile(\"[0-9]\")        # = re.compile(\"[0123456789]\")    \"1\"만 가능 \"10\"은 안됨\n",
    "print(c.match(\"1\"))"
   ]
  },
  {
   "cell_type": "code",
   "execution_count": 47,
   "id": "08e2cfd7",
   "metadata": {},
   "outputs": [
    {
     "name": "stdout",
     "output_type": "stream",
     "text": [
      "<re.Match object; span=(0, 2), match='10'>\n"
     ]
    }
   ],
   "source": [
    "c = re.compile(\"[0-9]+\")       \n",
    "print(c.match(\"10\"))"
   ]
  },
  {
   "cell_type": "code",
   "execution_count": 53,
   "id": "f118693a",
   "metadata": {},
   "outputs": [
    {
     "name": "stdout",
     "output_type": "stream",
     "text": [
      "<re.Match object; span=(0, 2), match='KD'>\n"
     ]
    }
   ],
   "source": [
    "c = re.compile(\"[A-Z]+\")       \n",
    "print(c.match(\"K\"))"
   ]
  },
  {
   "cell_type": "code",
   "execution_count": 49,
   "id": "50254f7e",
   "metadata": {},
   "outputs": [
    {
     "name": "stdout",
     "output_type": "stream",
     "text": [
      "<re.Match object; span=(0, 1), match='뺡'>\n"
     ]
    }
   ],
   "source": [
    "c = re.compile(\"[가-힐]+\")       \n",
    "print(c.match(\"뺡\"))"
   ]
  },
  {
   "cell_type": "code",
   "execution_count": 50,
   "id": "8fcf8434",
   "metadata": {},
   "outputs": [
    {
     "name": "stdout",
     "output_type": "stream",
     "text": [
      "<re.Match object; span=(0, 1), match='ㅇ'>\n"
     ]
    }
   ],
   "source": [
    "c = re.compile(\"[ㄱ-ㅎ]+\")       \n",
    "print(c.match(\"ㅇ\"))"
   ]
  },
  {
   "cell_type": "code",
   "execution_count": 52,
   "id": "1437a4e4",
   "metadata": {},
   "outputs": [
    {
     "name": "stdout",
     "output_type": "stream",
     "text": [
      "<re.Match object; span=(0, 2), match='3e'>\n"
     ]
    }
   ],
   "source": [
    "c = re.compile(\"[a-zA-Z0-9]+\")       \n",
    "print(c.match(\"3\"))"
   ]
  },
  {
   "cell_type": "code",
   "execution_count": 54,
   "id": "b12729ff",
   "metadata": {
    "scrolled": true
   },
   "outputs": [
    {
     "name": "stdout",
     "output_type": "stream",
     "text": [
      "<re.Match object; span=(0, 1), match='가'>\n"
     ]
    }
   ],
   "source": [
    "c = re.compile(\"[^0-9]\")          # 여집합, 숫자가 아닌것\n",
    "print(c.match(\"가\"))"
   ]
  },
  {
   "cell_type": "code",
   "execution_count": null,
   "id": "a25782e5",
   "metadata": {},
   "outputs": [],
   "source": []
  },
  {
   "cell_type": "markdown",
   "id": "caedaccb",
   "metadata": {},
   "source": [
    "### 정규표현식 특수 문법"
   ]
  },
  {
   "cell_type": "code",
   "execution_count": 55,
   "id": "d5a7ee98",
   "metadata": {},
   "outputs": [
    {
     "name": "stdout",
     "output_type": "stream",
     "text": [
      "<re.Match object; span=(0, 1), match='9'>\n"
     ]
    }
   ],
   "source": [
    "d = re.compile(\"\\d\")          # 정규 표현식은 문자열에만 대응\n",
    "print(d.match(\"9\"))"
   ]
  },
  {
   "cell_type": "code",
   "execution_count": null,
   "id": "80e4c487",
   "metadata": {},
   "outputs": [],
   "source": [
    "d = re.compile(\"\\D\")    # \\d 숫자에 대응 |  \\D 숫자가 아닌 것에 대응 ([^0-9]와 같은기능)         \n",
    "printd.match(\"^0-9\")"
   ]
  },
  {
   "cell_type": "code",
   "execution_count": 57,
   "id": "1bdb48c0",
   "metadata": {},
   "outputs": [
    {
     "name": "stdout",
     "output_type": "stream",
     "text": [
      "<re.Match object; span=(0, 1), match='가'>\n"
     ]
    }
   ],
   "source": [
    "d = re.compile(\"\\S\")     \n",
    "print(d.match(\"가\"))"
   ]
  },
  {
   "cell_type": "code",
   "execution_count": 61,
   "id": "cc4a3da3",
   "metadata": {},
   "outputs": [
    {
     "name": "stdout",
     "output_type": "stream",
     "text": [
      "<re.Match object; span=(0, 1), match='가'>\n",
      "<re.Match object; span=(0, 1), match='a'>\n",
      "<re.Match object; span=(0, 1), match='1'>\n",
      "<re.Match object; span=(0, 1), match='_'>\n",
      "None\n",
      "None\n"
     ]
    }
   ],
   "source": [
    "d = re.compile(\"\\w\")     # \\w : 특수문자가 아닌 모든것 \n",
    "print(d.match(\"가\"))\n",
    "print(d.match(\"a\"))\n",
    "print(d.match(\"1\")) \n",
    "print(d.match(\"_\"))     # 언더바_ 는 예외\n",
    "print(d.match(\" \"))\n",
    "print(d.match(\"?\"))"
   ]
  },
  {
   "cell_type": "code",
   "execution_count": 60,
   "id": "4d92ff28",
   "metadata": {},
   "outputs": [
    {
     "name": "stdout",
     "output_type": "stream",
     "text": [
      "None\n",
      "None\n",
      "None\n",
      "None\n",
      "<re.Match object; span=(0, 1), match=' '>\n",
      "<re.Match object; span=(0, 1), match='?'>\n"
     ]
    }
   ],
   "source": [
    "d = re.compile(\"\\W\")     # \\W : 모든 특수문자\n",
    "print(d.match(\"가\"))\n",
    "print(d.match(\"a\"))\n",
    "print(d.match(\"1\")) \n",
    "print(d.match(\"_\"))    \n",
    "print(d.match(\" \"))\n",
    "print(d.match(\"?\"))"
   ]
  },
  {
   "cell_type": "code",
   "execution_count": null,
   "id": "50758f1c",
   "metadata": {},
   "outputs": [],
   "source": []
  },
  {
   "cell_type": "markdown",
   "id": "a19c72ac",
   "metadata": {},
   "source": [
    "### 이메일 지칭하기\n",
    " - abcdefg1121@gmail.com\n",
    " - abcdefg1121@daum.net\n",
    " - abcdefg1121@yahoo.co.kr"
   ]
  },
  {
   "cell_type": "code",
   "execution_count": 78,
   "id": "7f83db29",
   "metadata": {},
   "outputs": [
    {
     "name": "stdout",
     "output_type": "stream",
     "text": [
      "<re.Match object; span=(0, 21), match='abcdefg1121@gmail.com'>\n",
      "<re.Match object; span=(0, 20), match='abcdefg1121@daum.net'>\n",
      "<re.Match object; span=(0, 21), match='abcdefg1121@gmail.com'>\n"
     ]
    }
   ],
   "source": [
    "e = re.compile(\"\\S+@[a-zA-Z0-9]+\\.[a-zA-Z0-9]+\\.?[a-zA-Z0-9]*\")\n",
    "print(e.match(\"abcdefg1121@gmail.com\"))\n",
    "print(e.match(\"abcdefg1121@daum.net\"))\n",
    "print(e.match(\"abcdefg1121@gmail.com\"))              "
   ]
  },
  {
   "cell_type": "code",
   "execution_count": 83,
   "id": "0cf9e24d",
   "metadata": {
    "scrolled": true
   },
   "outputs": [
    {
     "name": "stdout",
     "output_type": "stream",
     "text": [
      "<re.Match object; span=(0, 17), match='abcdefg1121@gmail'>\n",
      "<re.Match object; span=(0, 16), match='abcdefg1121@daum'>\n",
      "<re.Match object; span=(0, 17), match='abcdefg1121@gmail'>\n"
     ]
    }
   ],
   "source": [
    "s = re.compile(\"[a-zA-Z0-9]+\\W[a-zA-Z0-9].?[a-zA-Z]*\")          #me\n",
    "print(s.match(\"abcdefg1121@gmail.com\"))\n",
    "print(s.match(\"abcdefg1121@daum.net\"))\n",
    "print(s.match(\"abcdefg1121@gmail.com\"))"
   ]
  },
  {
   "cell_type": "markdown",
   "id": "4453b6e9",
   "metadata": {},
   "source": [
    "### 전화번호 지징하기\n",
    " - 010-1234-5678\n",
    " - 02-123-4567\n",
    " - 031)1234567\n",
    " - 0321234567\n",
    " - 112\n",
    " - 1588-5588"
   ]
  },
  {
   "cell_type": "code",
   "execution_count": 91,
   "id": "16ceabdf",
   "metadata": {},
   "outputs": [
    {
     "name": "stdout",
     "output_type": "stream",
     "text": [
      "<re.Match object; span=(0, 13), match='010-1234-5678'>\n",
      "<re.Match object; span=(0, 11), match='02-123-4567'>\n",
      "<re.Match object; span=(0, 11), match='031)1234567'>\n",
      "<re.Match object; span=(0, 10), match='0321234567'>\n",
      "<re.Match object; span=(0, 3), match='112'>\n",
      "<re.Match object; span=(0, 9), match='1588-5588'>\n"
     ]
    }
   ],
   "source": [
    "p = re.compile(\"[0-9]+.?[0-9]*.?[0-9]*\")        #me\n",
    "print(p.match(\"010-1234-5678\")) \n",
    "print(p.match(\"02-123-4567\"))\n",
    "print(p.match(\"031)1234567\"))\n",
    "print(p.match(\"0321234567\"))\n",
    "print(p.match(\"112\"))\n",
    "print(p.match(\"1588-5588\"))"
   ]
  },
  {
   "cell_type": "code",
   "execution_count": 92,
   "id": "67f6afd2",
   "metadata": {},
   "outputs": [
    {
     "name": "stdout",
     "output_type": "stream",
     "text": [
      "<re.Match object; span=(0, 13), match='010-1234-5678'>\n",
      "<re.Match object; span=(0, 11), match='02-123-4567'>\n",
      "<re.Match object; span=(0, 11), match='031)1234567'>\n",
      "<re.Match object; span=(0, 10), match='0321234567'>\n",
      "<re.Match object; span=(0, 3), match='112'>\n",
      "<re.Match object; span=(0, 9), match='1588-5588'>\n"
     ]
    }
   ],
   "source": [
    "m = re.compile(\"[0-9]+\\W?[0-9]+-?[0-9]+\")\n",
    "print(m.match(\"010-1234-5678\"))\n",
    "print(m.match(\"02-123-4567\"))\n",
    "print(m.match(\"031)1234567\"))\n",
    "print(m.match(\"0321234567\"))\n",
    "print(m.match(\"112\"))\n",
    "print(m.match(\"1588-5588\"))"
   ]
  },
  {
   "cell_type": "code",
   "execution_count": null,
   "id": "55ee3a00",
   "metadata": {},
   "outputs": [],
   "source": []
  }
 ],
 "metadata": {
  "kernelspec": {
   "display_name": "Python 3 (ipykernel)",
   "language": "python",
   "name": "python3"
  },
  "language_info": {
   "codemirror_mode": {
    "name": "ipython",
    "version": 3
   },
   "file_extension": ".py",
   "mimetype": "text/x-python",
   "name": "python",
   "nbconvert_exporter": "python",
   "pygments_lexer": "ipython3",
   "version": "3.9.12"
  }
 },
 "nbformat": 4,
 "nbformat_minor": 5
}
