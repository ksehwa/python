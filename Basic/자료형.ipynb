{
 "cells": [
  {
   "cell_type": "code",
   "execution_count": 19,
   "id": "70a52ff5",
   "metadata": {},
   "outputs": [
    {
     "name": "stdout",
     "output_type": "stream",
     "text": [
      "오늘의 메뉴는 꽈배기와 짬뽕입니다.\n"
     ]
    }
   ],
   "source": [
    "lunch_menu = \"곱창볶음\"\n",
    "lunch_menu1 = \"꽈배기\"\n",
    "lunch_menu2 = \"짬뽕\"\n",
    "\n",
    "print(\"오늘의 메뉴는 %s와 %s입니다.\"%(lunch_menu1, lunch_menu2))   "
   ]
  },
  {
   "cell_type": "code",
   "execution_count": 20,
   "id": "324376ad",
   "metadata": {},
   "outputs": [
    {
     "name": "stdout",
     "output_type": "stream",
     "text": [
      "오늘의 메뉴는 곱창볶음입니다.\n"
     ]
    }
   ],
   "source": [
    "print(\"오늘의 메뉴는 {}입니다.\".format(lunch_menu))"
   ]
  },
  {
   "cell_type": "code",
   "execution_count": 21,
   "id": "52334e2f",
   "metadata": {},
   "outputs": [
    {
     "name": "stdout",
     "output_type": "stream",
     "text": [
      "오늘의 메뉴는 짬뽕와 꽈배기입니다.\n"
     ]
    }
   ],
   "source": [
    "print(\"오늘의 메뉴는 {1}와 {0}입니다.\".format(lunch_menu1, lunch_menu2))"
   ]
  },
  {
   "cell_type": "code",
   "execution_count": 22,
   "id": "42e8d158",
   "metadata": {},
   "outputs": [
    {
     "name": "stdout",
     "output_type": "stream",
     "text": [
      "오늘의 메뉴는 꽈배기와 짬뽕입니다.\n"
     ]
    }
   ],
   "source": [
    "print(\"오늘의 메뉴는 {0}와 {1}입니다.\".format(lunch_menu1, lunch_menu2))"
   ]
  },
  {
   "cell_type": "code",
   "execution_count": 23,
   "id": "c0a83552",
   "metadata": {},
   "outputs": [
    {
     "name": "stdout",
     "output_type": "stream",
     "text": [
      "오늘의 메뉴는 꽈배기와 짬뽕입니다.\n"
     ]
    }
   ],
   "source": [
    "print(f\"오늘의 메뉴는 {lunch_menu1}와 {lunch_menu2}입니다.\")"
   ]
  },
  {
   "cell_type": "code",
   "execution_count": null,
   "id": "d2cc4160",
   "metadata": {},
   "outputs": [],
   "source": []
  },
  {
   "cell_type": "markdown",
   "id": "a970c4e6",
   "metadata": {},
   "source": [
    "# 변수 X에 100을 대입하고,변수y 200을 대입한 뒤, 변수 add에 X와 y의 합을 대입합니다.\n",
    "- 그 수, 대입한 변수를 바탕으로 아래 문자를 출력합니다.\n",
    "- \"100과 200의 합은 300입니다.\""
   ]
  },
  {
   "cell_type": "code",
   "execution_count": 27,
   "id": "44af4059",
   "metadata": {},
   "outputs": [
    {
     "name": "stdout",
     "output_type": "stream",
     "text": [
      "\"100과 200의 합은 300입니다.\"\n"
     ]
    }
   ],
   "source": [
    "x=100\n",
    "y=200\n",
    "add=x+y\n",
    "\n",
    "print('\"{}과 {}의 합은 {}입니다.\"'.format(x,y,add))"
   ]
  },
  {
   "cell_type": "code",
   "execution_count": 28,
   "id": "9577e328",
   "metadata": {},
   "outputs": [],
   "source": [
    "song = \"tell me tell me tetetetete tell me\""
   ]
  },
  {
   "cell_type": "code",
   "execution_count": 29,
   "id": "e27c4605",
   "metadata": {},
   "outputs": [
    {
     "data": {
      "text/plain": [
       "3"
      ]
     },
     "execution_count": 29,
     "metadata": {},
     "output_type": "execute_result"
    }
   ],
   "source": [
    "song.count(\"tell me\")"
   ]
  },
  {
   "cell_type": "code",
   "execution_count": 30,
   "id": "59128dac",
   "metadata": {},
   "outputs": [
    {
     "data": {
      "text/plain": [
       "16"
      ]
     },
     "execution_count": 30,
     "metadata": {},
     "output_type": "execute_result"
    }
   ],
   "source": [
    "song.find(\"tetetete\")"
   ]
  },
  {
   "cell_type": "code",
   "execution_count": 32,
   "id": "50958645",
   "metadata": {},
   "outputs": [
    {
     "data": {
      "text/plain": [
       "'TELL ME TELL ME TETETETETE TELL ME'"
      ]
     },
     "execution_count": 32,
     "metadata": {},
     "output_type": "execute_result"
    }
   ],
   "source": [
    "song.upper()      #대문자 치환"
   ]
  },
  {
   "cell_type": "code",
   "execution_count": 33,
   "id": "6bafc871",
   "metadata": {},
   "outputs": [
    {
     "data": {
      "text/plain": [
       "'tell me tell me tetetetete tell me'"
      ]
     },
     "execution_count": 33,
     "metadata": {},
     "output_type": "execute_result"
    }
   ],
   "source": [
    "song"
   ]
  },
  {
   "cell_type": "code",
   "execution_count": 36,
   "id": "1da28a4f",
   "metadata": {},
   "outputs": [
    {
     "data": {
      "text/plain": [
       "'TELL ME TELL ME TETETETETE TELL ME'"
      ]
     },
     "execution_count": 36,
     "metadata": {},
     "output_type": "execute_result"
    }
   ],
   "source": [
    "song = song.upper()     \n",
    "song"
   ]
  },
  {
   "cell_type": "code",
   "execution_count": 39,
   "id": "cabc13b8",
   "metadata": {},
   "outputs": [
    {
     "data": {
      "text/plain": [
       "'tell me tell me tetetetete tell me'"
      ]
     },
     "execution_count": 39,
     "metadata": {},
     "output_type": "execute_result"
    }
   ],
   "source": [
    "song.lower()"
   ]
  },
  {
   "cell_type": "code",
   "execution_count": 40,
   "id": "e947755c",
   "metadata": {},
   "outputs": [
    {
     "data": {
      "text/plain": [
       "'Tell Me Tell Me Tetetetete Tell Me'"
      ]
     },
     "execution_count": 40,
     "metadata": {},
     "output_type": "execute_result"
    }
   ],
   "source": [
    "song.title()"
   ]
  },
  {
   "cell_type": "code",
   "execution_count": 44,
   "id": "113cb95b",
   "metadata": {},
   "outputs": [
    {
     "data": {
      "text/plain": [
       "'YELL ME YELL ME YEYEYEYEYE YELL ME'"
      ]
     },
     "execution_count": 44,
     "metadata": {},
     "output_type": "execute_result"
    }
   ],
   "source": [
    "song.replace(\"T\",\"Y\")"
   ]
  },
  {
   "cell_type": "code",
   "execution_count": 45,
   "id": "c70445c2",
   "metadata": {},
   "outputs": [
    {
     "data": {
      "text/plain": [
       "['TELL', 'ME', 'TELL', 'ME', 'TETETETETE', 'TELL', 'ME']"
      ]
     },
     "execution_count": 45,
     "metadata": {},
     "output_type": "execute_result"
    }
   ],
   "source": [
    "song.split(\" \")"
   ]
  },
  {
   "cell_type": "code",
   "execution_count": 1,
   "id": "a3e0e922",
   "metadata": {},
   "outputs": [
    {
     "data": {
      "text/plain": [
       "['나는 밥을 먹었다', ' 아주 맛이 있었다', '']"
      ]
     },
     "execution_count": 1,
     "metadata": {},
     "output_type": "execute_result"
    }
   ],
   "source": [
    "sentence = \"나는 밥을 먹었다. 아주 맛이 있었다.\"\n",
    "sentence.split(\".\")"
   ]
  },
  {
   "cell_type": "code",
   "execution_count": 47,
   "id": "0b515218",
   "metadata": {},
   "outputs": [
    {
     "data": {
      "text/plain": [
       "'tell'"
      ]
     },
     "execution_count": 47,
     "metadata": {},
     "output_type": "execute_result"
    }
   ],
   "source": [
    "ah_ryeon = \"       tell       \"\n",
    "ah_ryeon.strip()"
   ]
  },
  {
   "cell_type": "code",
   "execution_count": 49,
   "id": "73c45b4a",
   "metadata": {},
   "outputs": [
    {
     "data": {
      "text/plain": [
       "'       tell'"
      ]
     },
     "execution_count": 49,
     "metadata": {},
     "output_type": "execute_result"
    }
   ],
   "source": [
    "ah_ryeon.rstrip()              #오른쪽 공백만 없어짐"
   ]
  },
  {
   "cell_type": "code",
   "execution_count": 54,
   "id": "c315e1db",
   "metadata": {},
   "outputs": [
    {
     "data": {
      "text/plain": [
       "'.........tell........'"
      ]
     },
     "execution_count": 54,
     "metadata": {},
     "output_type": "execute_result"
    }
   ],
   "source": [
    "ah_ryeon.lstrip()             # 왼쪽 공백"
   ]
  },
  {
   "cell_type": "code",
   "execution_count": 52,
   "id": "8d7dd761",
   "metadata": {},
   "outputs": [
    {
     "data": {
      "text/plain": [
       "'.........tell........'"
      ]
     },
     "execution_count": 52,
     "metadata": {},
     "output_type": "execute_result"
    }
   ],
   "source": [
    "ah_ryeon = \".........tell........\"\n",
    "ah_ryeon.strip()"
   ]
  },
  {
   "cell_type": "code",
   "execution_count": 53,
   "id": "ea01df8d",
   "metadata": {},
   "outputs": [
    {
     "data": {
      "text/plain": [
       "'tell'"
      ]
     },
     "execution_count": 53,
     "metadata": {},
     "output_type": "execute_result"
    }
   ],
   "source": [
    "ah_ryeon.strip(\".\")  "
   ]
  },
  {
   "cell_type": "code",
   "execution_count": null,
   "id": "334c81b9",
   "metadata": {},
   "outputs": [],
   "source": []
  }
 ],
 "metadata": {
  "kernelspec": {
   "display_name": "Python 3 (ipykernel)",
   "language": "python",
   "name": "python3"
  },
  "language_info": {
   "codemirror_mode": {
    "name": "ipython",
    "version": 3
   },
   "file_extension": ".py",
   "mimetype": "text/x-python",
   "name": "python",
   "nbconvert_exporter": "python",
   "pygments_lexer": "ipython3",
   "version": "3.9.12"
  }
 },
 "nbformat": 4,
 "nbformat_minor": 5
}
