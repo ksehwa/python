{
 "cells": [
  {
   "cell_type": "markdown",
   "id": "0ff82714",
   "metadata": {},
   "source": [
    "### 변수에 할당될 수 있는 자료형\n",
    "- 정수형\n",
    "- 실수형\n",
    "- 문자형\n",
    "- 논리형"
   ]
  },
  {
   "cell_type": "code",
   "execution_count": 1,
   "id": "3df8efb2",
   "metadata": {},
   "outputs": [
    {
     "data": {
      "text/plain": [
       "int"
      ]
     },
     "execution_count": 1,
     "metadata": {},
     "output_type": "execute_result"
    }
   ],
   "source": [
    "jeongsu = 1 \n",
    "type(jeongsu)"
   ]
  },
  {
   "cell_type": "code",
   "execution_count": 2,
   "id": "63390e6c",
   "metadata": {},
   "outputs": [
    {
     "data": {
      "text/plain": [
       "float"
      ]
     },
     "execution_count": 2,
     "metadata": {},
     "output_type": "execute_result"
    }
   ],
   "source": [
    "silsu = 1.2\n",
    "type(silsu)"
   ]
  },
  {
   "cell_type": "code",
   "execution_count": 3,
   "id": "65c897f5",
   "metadata": {},
   "outputs": [
    {
     "data": {
      "text/plain": [
       "1.0"
      ]
     },
     "execution_count": 3,
     "metadata": {},
     "output_type": "execute_result"
    }
   ],
   "source": [
    "float(jeongsu)"
   ]
  },
  {
   "cell_type": "markdown",
   "id": "8569a46e",
   "metadata": {},
   "source": [
    "### 문자"
   ]
  },
  {
   "cell_type": "code",
   "execution_count": 4,
   "id": "7e7f079a",
   "metadata": {},
   "outputs": [
    {
     "data": {
      "text/plain": [
       "str"
      ]
     },
     "execution_count": 4,
     "metadata": {},
     "output_type": "execute_result"
    }
   ],
   "source": [
    "b = 'banana'\n",
    "type(b)"
   ]
  },
  {
   "cell_type": "code",
   "execution_count": 5,
   "id": "b21d419f",
   "metadata": {},
   "outputs": [
    {
     "data": {
      "text/plain": [
       "'N'"
      ]
     },
     "execution_count": 5,
     "metadata": {},
     "output_type": "execute_result"
    }
   ],
   "source": [
    "\"BaNaNa\"[2]"
   ]
  },
  {
   "cell_type": "code",
   "execution_count": 6,
   "id": "8c7c09bd",
   "metadata": {},
   "outputs": [
    {
     "data": {
      "text/plain": [
       "'y'"
      ]
     },
     "execution_count": 6,
     "metadata": {},
     "output_type": "execute_result"
    }
   ],
   "source": [
    "\"my name is jane\"[-1]\n",
    "\"my name is setpany\"[-1]"
   ]
  },
  {
   "cell_type": "code",
   "execution_count": 7,
   "id": "8a9bfb5e",
   "metadata": {},
   "outputs": [
    {
     "data": {
      "text/plain": [
       "'name'"
      ]
     },
     "execution_count": 7,
     "metadata": {},
     "output_type": "execute_result"
    }
   ],
   "source": [
    "\"my name is setpany\"[3:7]"
   ]
  },
  {
   "cell_type": "code",
   "execution_count": 8,
   "id": "011012de",
   "metadata": {},
   "outputs": [
    {
     "data": {
      "text/plain": [
       "'name is setpany'"
      ]
     },
     "execution_count": 8,
     "metadata": {},
     "output_type": "execute_result"
    }
   ],
   "source": [
    "\"my name is setpany\"[3:]"
   ]
  },
  {
   "cell_type": "code",
   "execution_count": 11,
   "id": "560072c4",
   "metadata": {},
   "outputs": [
    {
     "name": "stdout",
     "output_type": "stream",
     "text": [
      "오늘 점심은 짜장면과 국밥입니다.\n"
     ]
    }
   ],
   "source": [
    "menu = \"초밥\"\n",
    "menu1 = \"짜장면\"\n",
    "menu2 = \"국밥\"\n",
    "\n",
    "print(\"오늘 점심은 %s과 %s입니다.\"%(menu1,menu2))"
   ]
  },
  {
   "cell_type": "code",
   "execution_count": 12,
   "id": "b8746bf4",
   "metadata": {},
   "outputs": [
    {
     "name": "stdout",
     "output_type": "stream",
     "text": [
      "오늘 점심은 짜장면과 국밥입니다.\n"
     ]
    }
   ],
   "source": [
    "print(\"오늘 점심은 {}과 {}입니다.\". format(menu1,menu2))"
   ]
  },
  {
   "cell_type": "code",
   "execution_count": 15,
   "id": "1d49dbfa",
   "metadata": {},
   "outputs": [
    {
     "name": "stdout",
     "output_type": "stream",
     "text": [
      "오늘 점심은 짜장면과 국밥입니다.\n"
     ]
    }
   ],
   "source": [
    "print(\"오늘 점심은 {0}과 {1}입니다.\". format(menu1,menu2))"
   ]
  },
  {
   "cell_type": "code",
   "execution_count": 16,
   "id": "07d8d4b7",
   "metadata": {},
   "outputs": [
    {
     "name": "stdout",
     "output_type": "stream",
     "text": [
      "오늘 점심은 짜장면과 국밥입니다.\n"
     ]
    }
   ],
   "source": [
    "print(f\"오늘 점심은 {menu1}과 {menu2}입니다.\". format(menu1,menu2))"
   ]
  },
  {
   "cell_type": "code",
   "execution_count": 17,
   "id": "5a71d30f",
   "metadata": {},
   "outputs": [],
   "source": [
    "song = \"tell me tell me tetetete tell me\""
   ]
  },
  {
   "cell_type": "code",
   "execution_count": 18,
   "id": "810c85f2",
   "metadata": {},
   "outputs": [
    {
     "data": {
      "text/plain": [
       "3"
      ]
     },
     "execution_count": 18,
     "metadata": {},
     "output_type": "execute_result"
    }
   ],
   "source": [
    "song.count(\"tell me\")      "
   ]
  },
  {
   "cell_type": "code",
   "execution_count": 19,
   "id": "7d03e87d",
   "metadata": {},
   "outputs": [
    {
     "data": {
      "text/plain": [
       "0"
      ]
     },
     "execution_count": 19,
     "metadata": {},
     "output_type": "execute_result"
    }
   ],
   "source": [
    "song.find(\"tell me\")"
   ]
  },
  {
   "cell_type": "code",
   "execution_count": 20,
   "id": "21f52f0e",
   "metadata": {},
   "outputs": [
    {
     "name": "stdout",
     "output_type": "stream",
     "text": [
      "TELL ME TELL ME TETETETE TELL ME\n",
      "tell me tell me tetetete tell me\n",
      "Tell Me Tell Me Tetetete Tell Me\n"
     ]
    }
   ],
   "source": [
    "print(song.upper())\n",
    "print(song.lower())\n",
    "print(song.title())"
   ]
  },
  {
   "cell_type": "code",
   "execution_count": 25,
   "id": "f492365d",
   "metadata": {},
   "outputs": [
    {
     "data": {
      "text/plain": [
       "['', 'll me ', 'll me ', '', '', '', ' ', 'll me']"
      ]
     },
     "execution_count": 25,
     "metadata": {},
     "output_type": "execute_result"
    }
   ],
   "source": [
    "song.split(\"te\")      "
   ]
  },
  {
   "cell_type": "code",
   "execution_count": 22,
   "id": "a45a9143",
   "metadata": {},
   "outputs": [
    {
     "data": {
      "text/plain": [
       "'tell him tell him tetetete tell him'"
      ]
     },
     "execution_count": 22,
     "metadata": {},
     "output_type": "execute_result"
    }
   ],
   "source": [
    "song.replace(\"me\", \"him\")"
   ]
  },
  {
   "cell_type": "code",
   "execution_count": 27,
   "id": "e763d904",
   "metadata": {},
   "outputs": [
    {
     "data": {
      "text/plain": [
       "'안녕하세요'"
      ]
     },
     "execution_count": 27,
     "metadata": {},
     "output_type": "execute_result"
    }
   ],
   "source": [
    "\"안녕\" + \"하세요\""
   ]
  },
  {
   "cell_type": "code",
   "execution_count": 28,
   "id": "0d7d6ef2",
   "metadata": {},
   "outputs": [
    {
     "data": {
      "text/plain": [
       "'안녕안녕안녕'"
      ]
     },
     "execution_count": 28,
     "metadata": {},
     "output_type": "execute_result"
    }
   ],
   "source": [
    "\"안녕\"*3"
   ]
  },
  {
   "cell_type": "markdown",
   "id": "1563013a",
   "metadata": {},
   "source": [
    "### 논리형"
   ]
  },
  {
   "cell_type": "code",
   "execution_count": 29,
   "id": "24408f79",
   "metadata": {},
   "outputs": [
    {
     "data": {
      "text/plain": [
       "False"
      ]
     },
     "execution_count": 29,
     "metadata": {},
     "output_type": "execute_result"
    }
   ],
   "source": [
    "1 == 2 "
   ]
  },
  {
   "cell_type": "code",
   "execution_count": 30,
   "id": "5ee08434",
   "metadata": {},
   "outputs": [
    {
     "data": {
      "text/plain": [
       "True"
      ]
     },
     "execution_count": 30,
     "metadata": {},
     "output_type": "execute_result"
    }
   ],
   "source": [
    "1 <= 2"
   ]
  },
  {
   "cell_type": "code",
   "execution_count": 33,
   "id": "2ce4afd3",
   "metadata": {},
   "outputs": [
    {
     "data": {
      "text/plain": [
       "False"
      ]
     },
     "execution_count": 33,
     "metadata": {},
     "output_type": "execute_result"
    }
   ],
   "source": [
    "6%3 == 0 and 6%5 == 0 "
   ]
  },
  {
   "cell_type": "code",
   "execution_count": 34,
   "id": "0c27cf30",
   "metadata": {},
   "outputs": [
    {
     "data": {
      "text/plain": [
       "True"
      ]
     },
     "execution_count": 34,
     "metadata": {},
     "output_type": "execute_result"
    }
   ],
   "source": [
    "6%3 == 0 or 6%5 == 0 "
   ]
  },
  {
   "cell_type": "markdown",
   "id": "a3a75644",
   "metadata": {},
   "source": [
    "### 조건문"
   ]
  },
  {
   "cell_type": "code",
   "execution_count": 37,
   "id": "95b2e595",
   "metadata": {},
   "outputs": [],
   "source": [
    "if 명제1:\n",
    "    명제가 참일 경우에 실행되는 코드\n",
    "\n",
    "elif 명제2:\n",
    "       명제1은 거짓이지만, 명제2는 참일 경우에 실행되는 코드\n",
    "\n",
    "else:\n",
    "    명제1과 명제2가 모두 거짓일 경우에 실행되는 코드"
   ]
  },
  {
   "cell_type": "code",
   "execution_count": 45,
   "id": "87828f22",
   "metadata": {},
   "outputs": [
    {
     "name": "stdout",
     "output_type": "stream",
     "text": [
      "버스를 타고 간다.\n",
      "우와 집이다!\n"
     ]
    }
   ],
   "source": [
    "money = 2000\n",
    "if money >= 4000:\n",
    "    print(\"택시를 타고 간다.\")\n",
    "    \n",
    "elif money < 4000 and money >= 1250:\n",
    "    print(\"버스를 타고 간다.\")\n",
    "\n",
    "else:\n",
    "    print(\"걸어간다.\")\n",
    "    \n",
    "print(\"우와 집이다!\")"
   ]
  },
  {
   "cell_type": "code",
   "execution_count": 46,
   "id": "8c123318",
   "metadata": {},
   "outputs": [
    {
     "name": "stdout",
     "output_type": "stream",
     "text": [
      "우와 집이다!\n"
     ]
    }
   ],
   "source": [
    "money = 200\n",
    "if money >= 4000:\n",
    "    print(\"택시를 타고 간다.\")\n",
    "else:\n",
    "    pass\n",
    "   \n",
    "print(\"우와 집이다!\")"
   ]
  },
  {
   "cell_type": "markdown",
   "id": "668213ed",
   "metadata": {},
   "source": [
    "### 리스트, 튜플"
   ]
  },
  {
   "cell_type": "code",
   "execution_count": 1,
   "id": "5daad753",
   "metadata": {},
   "outputs": [],
   "source": [
    "list1 = [1,2,3,4,5,6]\n",
    "tuple1 = (1,2,3,4,5,6)"
   ]
  },
  {
   "cell_type": "code",
   "execution_count": 2,
   "id": "0cb7d29b",
   "metadata": {},
   "outputs": [
    {
     "data": {
      "text/plain": [
       "list[0]"
      ]
     },
     "execution_count": 2,
     "metadata": {},
     "output_type": "execute_result"
    }
   ],
   "source": [
    "list[0]"
   ]
  },
  {
   "cell_type": "code",
   "execution_count": 3,
   "id": "f70bcb5d",
   "metadata": {},
   "outputs": [],
   "source": [
    "list2 = ['a','b','c','d','e']\n",
    "tuple2 = ('a','b','c','d','e')"
   ]
  },
  {
   "cell_type": "code",
   "execution_count": 4,
   "id": "327a4bde",
   "metadata": {},
   "outputs": [
    {
     "data": {
      "text/plain": [
       "['a', 'b', 'c', 'd', 'e', 'f']"
      ]
     },
     "execution_count": 4,
     "metadata": {},
     "output_type": "execute_result"
    }
   ],
   "source": [
    "# 원소 추가\n",
    "list2.append('f')\n",
    "list2"
   ]
  },
  {
   "cell_type": "code",
   "execution_count": 5,
   "id": "5919611f",
   "metadata": {},
   "outputs": [
    {
     "data": {
      "text/plain": [
       "['a', 'b', 'c', 'g', 'd', 'e', 'f']"
      ]
     },
     "execution_count": 5,
     "metadata": {},
     "output_type": "execute_result"
    }
   ],
   "source": [
    "# 원소 추가 지정\n",
    "list2.insert(3, \"g\")\n",
    "list2"
   ]
  },
  {
   "cell_type": "code",
   "execution_count": 6,
   "id": "ba3c22dd",
   "metadata": {},
   "outputs": [
    {
     "data": {
      "text/plain": [
       "['a', 'b', 'c', 'd', 'e', 'f']"
      ]
     },
     "execution_count": 6,
     "metadata": {},
     "output_type": "execute_result"
    }
   ],
   "source": [
    "# 원소 제거\n",
    "del list2[3]\n",
    "list2"
   ]
  },
  {
   "cell_type": "code",
   "execution_count": 7,
   "id": "95533179",
   "metadata": {},
   "outputs": [
    {
     "data": {
      "text/plain": [
       "['a', 'b', 'c', 'd', 'e']"
      ]
     },
     "execution_count": 7,
     "metadata": {},
     "output_type": "execute_result"
    }
   ],
   "source": [
    "# 원소 제거 \n",
    "list2.remove('f')\n",
    "list2"
   ]
  },
  {
   "cell_type": "code",
   "execution_count": 8,
   "id": "46045294",
   "metadata": {},
   "outputs": [
    {
     "data": {
      "text/plain": [
       "['a', 'b', 'c', 'd']"
      ]
     },
     "execution_count": 8,
     "metadata": {},
     "output_type": "execute_result"
    }
   ],
   "source": [
    "# 맨뒤 원소 제거\n",
    "list2.pop()\n",
    "list2"
   ]
  },
  {
   "cell_type": "code",
   "execution_count": 10,
   "id": "70767915",
   "metadata": {},
   "outputs": [
    {
     "data": {
      "text/plain": [
       "['e', 'b', 'c', 'd']"
      ]
     },
     "execution_count": 10,
     "metadata": {},
     "output_type": "execute_result"
    }
   ],
   "source": [
    "# 원소 교체\n",
    "list2[0] = 'e'\n",
    "list2"
   ]
  },
  {
   "cell_type": "code",
   "execution_count": 11,
   "id": "477eb2a8",
   "metadata": {},
   "outputs": [
    {
     "data": {
      "text/plain": [
       "['d', 'c', 'b', 'e']"
      ]
     },
     "execution_count": 11,
     "metadata": {},
     "output_type": "execute_result"
    }
   ],
   "source": [
    "# 배열 순서 거꾸로 변경\n",
    "list2.reverse()\n",
    "list2"
   ]
  },
  {
   "cell_type": "code",
   "execution_count": 13,
   "id": "6f0a3360",
   "metadata": {},
   "outputs": [
    {
     "data": {
      "text/plain": [
       "['b', 'c', 'd', 'e']"
      ]
     },
     "execution_count": 13,
     "metadata": {},
     "output_type": "execute_result"
    }
   ],
   "source": [
    "# 리스트 정렬\n",
    "list2.sort()\n",
    "list2"
   ]
  },
  {
   "cell_type": "code",
   "execution_count": null,
   "id": "91a32871",
   "metadata": {},
   "outputs": [],
   "source": [
    "import random\n",
    "random.random()"
   ]
  },
  {
   "cell_type": "code",
   "execution_count": null,
   "id": "da8e3d58",
   "metadata": {},
   "outputs": [],
   "source": [
    "random.choice(list1)"
   ]
  },
  {
   "cell_type": "markdown",
   "id": "9590b3eb",
   "metadata": {},
   "source": [
    "### 아이템 강화 시스템\n",
    "- 플레이어로부터 아이템의 강화 등급을 입력받습니다. (0 ~10 )\n",
    "- 강화 성공률은 0등급일때 70%, 1등급일 때 65% ... 1등금이 올라갈수록 5%씩 하락합니다.\n",
    "- 강화 실패시 50% 확률로 아이템이 파괴됩니다.\n",
    "- 강화 성골 시 \"강화 성공\",  강화 실패시 \"강화 실패\", 아이템 파괴시 \"아이템 파괴\"를 출력해주세요."
   ]
  },
  {
   "cell_type": "code",
   "execution_count": null,
   "id": "135da2b9",
   "metadata": {},
   "outputs": [],
   "source": [
    "item = int(input(\"강화 등급을 입력하세요.\"))\n",
    "prob1 = random.random()\n",
    "prob2 = random.random()\n",
    "\n",
    " if prob1 <= 0.7 - (0.05 * item):\n",
    "    print(\"강화 성공\")\n",
    "else:\n",
    "    print(\"강화 실패\")\n",
    "    \n",
    "    if prob2 <= 0.5:\n",
    "        print(\"강화 실패\")\n",
    "    else:\n",
    "        print(\"아이템 파괴\")"
   ]
  },
  {
   "cell_type": "code",
   "execution_count": null,
   "id": "8e635e9d",
   "metadata": {},
   "outputs": [],
   "source": [
    "for i in range(1,101):\n",
    "    "
   ]
  },
  {
   "cell_type": "markdown",
   "id": "215b8a3f",
   "metadata": {},
   "source": []
  }
 ],
 "metadata": {
  "kernelspec": {
   "display_name": "Python 3.9.12 ('base')",
   "language": "python",
   "name": "python3"
  },
  "language_info": {
   "codemirror_mode": {
    "name": "ipython",
    "version": 3
   },
   "file_extension": ".py",
   "mimetype": "text/x-python",
   "name": "python",
   "nbconvert_exporter": "python",
   "pygments_lexer": "ipython3",
   "version": "3.9.12"
  },
  "vscode": {
   "interpreter": {
    "hash": "a077222d77dfe082b8f1dd562ad70e458ac2ab76993a0b248ab0476e32e9e8dd"
   }
  }
 },
 "nbformat": 4,
 "nbformat_minor": 5
}
