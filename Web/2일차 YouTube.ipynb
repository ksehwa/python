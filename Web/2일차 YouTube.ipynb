{
 "cells": [
  {
   "cell_type": "code",
   "execution_count": 34,
   "id": "f3d05494",
   "metadata": {},
   "outputs": [],
   "source": [
    "from selenium import webdriver\n",
    "from webdriver_manager.chrome import ChromeDriverManager\n",
    "import pandas as pd\n",
    "import time"
   ]
  },
  {
   "cell_type": "code",
   "execution_count": 59,
   "id": "a7039e77",
   "metadata": {},
   "outputs": [],
   "source": [
    "from selenium.webdriver.common.keys import Keys"
   ]
  },
  {
   "cell_type": "code",
   "execution_count": 60,
   "id": "1866dfd5",
   "metadata": {},
   "outputs": [],
   "source": [
    "driver = webdriver.Chrome(ChromeDriverManager().install())"
   ]
  },
  {
   "cell_type": "code",
   "execution_count": 61,
   "id": "ef3510b0",
   "metadata": {},
   "outputs": [],
   "source": [
    "driver.get('https://www.youtube.com/c/MBCNEWS11/videos')"
   ]
  },
  {
   "cell_type": "code",
   "execution_count": 62,
   "id": "3cc12a15",
   "metadata": {},
   "outputs": [],
   "source": [
    "title = driver.find_elements_by_css_selector('#video-title')       #카피로 가져오기"
   ]
  },
  {
   "cell_type": "code",
   "execution_count": 63,
   "id": "ad036e34",
   "metadata": {},
   "outputs": [],
   "source": [
    "title2 =('h3.style-scope.ytd-grid-video-renderer')                #상위태그로 가져오기"
   ]
  },
  {
   "cell_type": "code",
   "execution_count": 64,
   "id": "34640b00",
   "metadata": {},
   "outputs": [],
   "source": [
    "for i in title:\n",
    "    print(i.text)"
   ]
  },
  {
   "cell_type": "code",
   "execution_count": 65,
   "id": "a3f79f44",
   "metadata": {},
   "outputs": [],
   "source": [
    "view = driver.find_elements_by_css_selector('#metadata-line > span:nth-child(1)')"
   ]
  },
  {
   "cell_type": "code",
   "execution_count": 66,
   "id": "ce0447b7",
   "metadata": {},
   "outputs": [
    {
     "name": "stdout",
     "output_type": "stream",
     "text": [
      "조회수 3.3천회\n",
      "조회수 1.2천회\n",
      "조회수 2.3만회\n",
      "조회수 1.4천회\n",
      "291명 시청 중\n",
      "조회수 3.3천회\n",
      "44명 시청 중\n",
      "4.3천명 시청 중\n",
      "조회수 2.7천회\n",
      "조회수 1.4천회\n",
      "조회수 747회\n",
      "조회수 1천회\n",
      "조회수 1.1천회\n",
      "조회수 559회\n",
      "조회수 3.1천회\n",
      "조회수 815회\n",
      "조회수 708회\n",
      "176명 시청 중\n",
      "조회수 1.4천회\n",
      "조회수 8.2천회\n",
      "조회수 3.6천회\n",
      "조회수 7.1천회\n",
      "조회수 2.8천회\n",
      "조회수 1.6천회\n",
      "조회수 1.4천회\n",
      "조회수 1.5천회\n",
      "조회수 4.1천회\n",
      "조회수 2.1천회\n",
      "조회수 2.3천회\n",
      "조회수 7.8천회\n"
     ]
    }
   ],
   "source": [
    "for i in view:\n",
    "    print(i.text)"
   ]
  },
  {
   "cell_type": "code",
   "execution_count": 67,
   "id": "4249d7c8",
   "metadata": {},
   "outputs": [
    {
     "data": {
      "text/plain": [
       "(0, 30)"
      ]
     },
     "execution_count": 67,
     "metadata": {},
     "output_type": "execute_result"
    }
   ],
   "source": [
    "len(title),len(view)"
   ]
  },
  {
   "cell_type": "code",
   "execution_count": null,
   "id": "a433b170",
   "metadata": {},
   "outputs": [],
   "source": []
  },
  {
   "cell_type": "markdown",
   "id": "e844b9a8",
   "metadata": {},
   "source": [
    "## 스크롤링"
   ]
  },
  {
   "cell_type": "code",
   "execution_count": 68,
   "id": "dbacbbdf",
   "metadata": {},
   "outputs": [],
   "source": [
    "from bs4 import BeautifulSoup as bs"
   ]
  },
  {
   "cell_type": "code",
   "execution_count": 69,
   "id": "c21c50bf",
   "metadata": {},
   "outputs": [],
   "source": [
    "from selenium.webdriver.common.keys import Keys"
   ]
  },
  {
   "cell_type": "code",
   "execution_count": 77,
   "id": "04e6b6d4",
   "metadata": {},
   "outputs": [],
   "source": [
    "body = driver.find_element_by_css_selector('body')\n",
    "\n",
    "while True:\n",
    "    last = bs(driver.page_source, 'html.parser')\n",
    "    for i in range(10):                               \n",
    "         body.send_keys(Keys.END)                       # end key로 지정\n",
    "    new = bs(driver.page_source, 'html.parser')\n",
    "    \n",
    "    if last == new:\n",
    "        break\n",
    "    else:\n",
    "        pass"
   ]
  },
  {
   "cell_type": "code",
   "execution_count": 135,
   "id": "6b5113d1",
   "metadata": {},
   "outputs": [],
   "source": [
    "view = driver.find_elements_by_css_selector('#metadata-line > span:nth-child(1)')\n",
    "title = driver.find_elements_by_css_selector('#video-title') "
   ]
  },
  {
   "cell_type": "code",
   "execution_count": 141,
   "id": "87006a94",
   "metadata": {},
   "outputs": [],
   "source": [
    "title_list =[]\n",
    "for i in title:\n",
    "    title_list.append(i.text)\n",
    "    \n",
    "view_list =[]\n",
    "for i in view:\n",
    "    view_list.append(i.text)"
   ]
  },
  {
   "cell_type": "code",
   "execution_count": 142,
   "id": "26bfdfa5",
   "metadata": {},
   "outputs": [
    {
     "data": {
      "text/plain": [
       "(359, 359)"
      ]
     },
     "execution_count": 142,
     "metadata": {},
     "output_type": "execute_result"
    }
   ],
   "source": [
    "len(title_list),len(view_list)"
   ]
  },
  {
   "cell_type": "code",
   "execution_count": 143,
   "id": "ee057035",
   "metadata": {},
   "outputs": [],
   "source": [
    "view_list =[]\n",
    "for i in view:\n",
    "    string = i.text\n",
    "    string = string.replace('조회수', '')\n",
    "    string = string.replace('회', '')\n",
    "    string = string.replace('.', '')\n",
    "    string = string.replace('천', '000')\n",
    "    string = string.replace('만', '0000')\n",
    "    string = int(string)\n",
    "    view_list.append(string)\n",
    "    \n",
    "    print(string)"
   ]
  },
  {
   "cell_type": "code",
   "execution_count": null,
   "id": "88445076",
   "metadata": {},
   "outputs": [],
   "source": [
    "data = {'제목' : title_list, '조회수' : view_list}"
   ]
  },
  {
   "cell_type": "code",
   "execution_count": null,
   "id": "b5052bc5",
   "metadata": {},
   "outputs": [],
   "source": [
    "df = pd.DataFrame(data)"
   ]
  },
  {
   "cell_type": "code",
   "execution_count": null,
   "id": "c5478c34",
   "metadata": {},
   "outputs": [],
   "source": [
    "df = df.sort_values(by=['조회수'], ascending=False)"
   ]
  },
  {
   "cell_type": "code",
   "execution_count": 130,
   "id": "4910d1ef",
   "metadata": {},
   "outputs": [
    {
     "data": {
      "text/html": [
       "<div>\n",
       "<style scoped>\n",
       "    .dataframe tbody tr th:only-of-type {\n",
       "        vertical-align: middle;\n",
       "    }\n",
       "\n",
       "    .dataframe tbody tr th {\n",
       "        vertical-align: top;\n",
       "    }\n",
       "\n",
       "    .dataframe thead th {\n",
       "        text-align: right;\n",
       "    }\n",
       "</style>\n",
       "<table border=\"1\" class=\"dataframe\">\n",
       "  <thead>\n",
       "    <tr style=\"text-align: right;\">\n",
       "      <th></th>\n",
       "      <th>제목</th>\n",
       "      <th>조회수</th>\n",
       "    </tr>\n",
       "  </thead>\n",
       "  <tbody>\n",
       "    <tr>\n",
       "      <th>0</th>\n",
       "      <td>#Shorts / 국민과 소통한다더니 질문 범위까지 제한 (2022.09.13/뉴스...</td>\n",
       "      <td>조회수 9천회</td>\n",
       "    </tr>\n",
       "    <tr>\n",
       "      <th>1</th>\n",
       "      <td>[뉴스 열어보기] 코로나 할퀸 자리엔 빈곤·고독‥서울 '무연고 장례' 2년새 두배 ...</td>\n",
       "      <td>조회수 996회</td>\n",
       "    </tr>\n",
       "    <tr>\n",
       "      <th>2</th>\n",
       "      <td>대선 전 쏟아진 의혹 다 뭉개나?.. 거세진 '역풍' [뉴스.zip/MBC뉴스]</td>\n",
       "      <td>조회수 92만회</td>\n",
       "    </tr>\n",
       "    <tr>\n",
       "      <th>3</th>\n",
       "      <td>1분 튼튼건강 (2022.09.14/뉴스투데이/MBC)</td>\n",
       "      <td>조회수 922회</td>\n",
       "    </tr>\n",
       "    <tr>\n",
       "      <th>4</th>\n",
       "      <td>추석 연휴 사흘째 고속도로 상황‥곳곳 정체 (2022.09.11/뉴스데스크/MBC)</td>\n",
       "      <td>조회수 9.9천회</td>\n",
       "    </tr>\n",
       "    <tr>\n",
       "      <th>...</th>\n",
       "      <td>...</td>\n",
       "      <td>...</td>\n",
       "    </tr>\n",
       "    <tr>\n",
       "      <th>354</th>\n",
       "      <td>포항제철소 나흘만에 고로 재가동‥피해 복구 구슬땀 (2022.09.11/뉴스데스크/...</td>\n",
       "      <td>조회수 1.1만회</td>\n",
       "    </tr>\n",
       "    <tr>\n",
       "      <th>355</th>\n",
       "      <td>국회 민생특위, 오늘 대중교통비 환급·소득공제 방안 논의 - [끝까지LIVE] MB...</td>\n",
       "      <td>44명 시청 중</td>\n",
       "    </tr>\n",
       "    <tr>\n",
       "      <th>356</th>\n",
       "      <td>\"문재인 정권에서 김건희 탈탈 털었다?\"....봉도사의 생각은? [LIVE] MBC...</td>\n",
       "      <td>4.3천명 시청 중</td>\n",
       "    </tr>\n",
       "    <tr>\n",
       "      <th>357</th>\n",
       "      <td>국회 행정안전위원회 전체회의 - [끝까지LIVE] MBC 중계방송 2022년 09월...</td>\n",
       "      <td>291명 시청 중</td>\n",
       "    </tr>\n",
       "    <tr>\n",
       "      <th>358</th>\n",
       "      <td>[Live] MBC 뉴스 나우 - 2022년 9월 14일</td>\n",
       "      <td>176명 시청 중</td>\n",
       "    </tr>\n",
       "  </tbody>\n",
       "</table>\n",
       "<p>359 rows × 2 columns</p>\n",
       "</div>"
      ],
      "text/plain": [
       "                                                    제목         조회수\n",
       "0    #Shorts / 국민과 소통한다더니 질문 범위까지 제한 (2022.09.13/뉴스...     조회수 9천회\n",
       "1    [뉴스 열어보기] 코로나 할퀸 자리엔 빈곤·고독‥서울 '무연고 장례' 2년새 두배 ...    조회수 996회\n",
       "2         대선 전 쏟아진 의혹 다 뭉개나?.. 거세진 '역풍' [뉴스.zip/MBC뉴스]    조회수 92만회\n",
       "3                       1분 튼튼건강 (2022.09.14/뉴스투데이/MBC)    조회수 922회\n",
       "4       추석 연휴 사흘째 고속도로 상황‥곳곳 정체 (2022.09.11/뉴스데스크/MBC)   조회수 9.9천회\n",
       "..                                                 ...         ...\n",
       "354  포항제철소 나흘만에 고로 재가동‥피해 복구 구슬땀 (2022.09.11/뉴스데스크/...   조회수 1.1만회\n",
       "355  국회 민생특위, 오늘 대중교통비 환급·소득공제 방안 논의 - [끝까지LIVE] MB...    44명 시청 중\n",
       "356  \"문재인 정권에서 김건희 탈탈 털었다?\"....봉도사의 생각은? [LIVE] MBC...  4.3천명 시청 중\n",
       "357  국회 행정안전위원회 전체회의 - [끝까지LIVE] MBC 중계방송 2022년 09월...   291명 시청 중\n",
       "358                    [Live] MBC 뉴스 나우 - 2022년 9월 14일   176명 시청 중\n",
       "\n",
       "[359 rows x 2 columns]"
      ]
     },
     "execution_count": 130,
     "metadata": {},
     "output_type": "execute_result"
    }
   ],
   "source": [
    "df.reset_index(drop=True)           #인덱스 재정렬"
   ]
  },
  {
   "cell_type": "code",
   "execution_count": null,
   "id": "44fae4a9",
   "metadata": {},
   "outputs": [],
   "source": []
  }
 ],
 "metadata": {
  "kernelspec": {
   "display_name": "Python 3.9.12 ('base')",
   "language": "python",
   "name": "python3"
  },
  "language_info": {
   "codemirror_mode": {
    "name": "ipython",
    "version": 3
   },
   "file_extension": ".py",
   "mimetype": "text/x-python",
   "name": "python",
   "nbconvert_exporter": "python",
   "pygments_lexer": "ipython3",
   "version": "3.9.12"
  },
  "vscode": {
   "interpreter": {
    "hash": "a077222d77dfe082b8f1dd562ad70e458ac2ab76993a0b248ab0476e32e9e8dd"
   }
  }
 },
 "nbformat": 4,
 "nbformat_minor": 5
}
