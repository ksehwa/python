{
 "cells": [
  {
   "cell_type": "code",
   "execution_count": 79,
   "id": "568abb81",
   "metadata": {},
   "outputs": [],
   "source": [
    "from selenium import webdriver\n",
    "from webdriver_manager.chrome import ChromeDriverManager\n",
    "import pandas as pd\n",
    "import time"
   ]
  },
  {
   "cell_type": "code",
   "execution_count": 100,
   "id": "f89ab4a8",
   "metadata": {},
   "outputs": [],
   "source": [
    "driver = webdriver.Chrome(ChromeDriverManager().install())\n",
    "driver.get(\"https://corners.gmarket.co.kr/Bestsellers\")\n",
    "# time.sleep(1)"
   ]
  },
  {
   "cell_type": "code",
   "execution_count": 101,
   "id": "b22f134e",
   "metadata": {},
   "outputs": [],
   "source": [
    "#창 최대화 하기\n",
    "driver.maximize_window()"
   ]
  },
  {
   "cell_type": "code",
   "execution_count": 102,
   "id": "b1de61ad",
   "metadata": {},
   "outputs": [],
   "source": [
    "img=driver.find_elements_by_css_selector('img.lazy')"
   ]
  },
  {
   "cell_type": "code",
   "execution_count": 103,
   "id": "8b3ac07d",
   "metadata": {},
   "outputs": [
    {
     "data": {
      "text/plain": [
       "200"
      ]
     },
     "execution_count": 103,
     "metadata": {},
     "output_type": "execute_result"
    }
   ],
   "source": [
    "len(img)"
   ]
  },
  {
   "cell_type": "code",
   "execution_count": 104,
   "id": "5d840f21",
   "metadata": {},
   "outputs": [],
   "source": [
    "cate =  driver.find_element_by_css_selector('li.on > a')"
   ]
  },
  {
   "cell_type": "code",
   "execution_count": 105,
   "id": "ef3cd8e1",
   "metadata": {},
   "outputs": [
    {
     "data": {
      "text/plain": [
       "'그룹별'"
      ]
     },
     "execution_count": 105,
     "metadata": {},
     "output_type": "execute_result"
    }
   ],
   "source": [
    "cate.text"
   ]
  },
  {
   "cell_type": "code",
   "execution_count": 108,
   "id": "70c8592f",
   "metadata": {},
   "outputs": [],
   "source": [
    "price =  driver.find_element_by_css_selector('strong.price_real')"
   ]
  },
  {
   "cell_type": "code",
   "execution_count": null,
   "id": "fbc0d7f3",
   "metadata": {},
   "outputs": [],
   "source": [
    "price.text"
   ]
  },
  {
   "cell_type": "code",
   "execution_count": 110,
   "id": "67c29871",
   "metadata": {},
   "outputs": [],
   "source": [
    "title = driver.find_element_by_css_selector('h1.itemtit')  "
   ]
  },
  {
   "cell_type": "code",
   "execution_count": 111,
   "id": "85f85bee",
   "metadata": {},
   "outputs": [
    {
     "data": {
      "text/plain": [
       "'(스마일클럽)일반예매권2D-주중/주말'"
      ]
     },
     "execution_count": 111,
     "metadata": {},
     "output_type": "execute_result"
    }
   ],
   "source": [
    "title.text"
   ]
  },
  {
   "cell_type": "code",
   "execution_count": null,
   "id": "119938c8",
   "metadata": {},
   "outputs": [],
   "source": []
  },
  {
   "cell_type": "code",
   "execution_count": null,
   "id": "990682cc",
   "metadata": {},
   "outputs": [],
   "source": []
  },
  {
   "cell_type": "code",
   "execution_count": 116,
   "id": "02c1e787",
   "metadata": {},
   "outputs": [],
   "source": [
    "cate_list = []\n",
    "title_list = []\n",
    "price_list = []\n",
    "\n",
    "for i in range(3):\n",
    "    img= driver.find_elements_by_css_selector('img.lazy')\n",
    "    img[i].click()         # 순서대로 이미지 선택\n",
    "    time.sleep(1)\n",
    "     \n",
    "    # 상세페이지  \n",
    "    driver.implicitly_wait(5)\n",
    "    \n",
    "    cate =  driver.find_element_by_css_selector('li.on > a')\n",
    "    cate_list.append(cate.text)\n",
    "    price =  driver.find_element_by_css_selector('strong.price_real')\n",
    "    price_list.append(price.text)\n",
    "    title = driver.find_element_by_css_selector('h1.itemtit')  \n",
    "    title_list.append(title.text)\n",
    "    driver.back()            \n",
    "    time.sleep(1)"
   ]
  },
  {
   "cell_type": "code",
   "execution_count": 121,
   "id": "1af74329",
   "metadata": {},
   "outputs": [
    {
     "data": {
      "text/plain": [
       "(3, 3, 3)"
      ]
     },
     "execution_count": 121,
     "metadata": {},
     "output_type": "execute_result"
    }
   ],
   "source": [
    "len(cate_list),len(title_list),len(price_list)"
   ]
  },
  {
   "cell_type": "code",
   "execution_count": 122,
   "id": "cf651296",
   "metadata": {},
   "outputs": [],
   "source": [
    "data = {'카테고리' : cate_list,'상품명' : title_list, '가격' : price_list}"
   ]
  },
  {
   "cell_type": "code",
   "execution_count": 123,
   "id": "04db97d3",
   "metadata": {},
   "outputs": [
    {
     "data": {
      "text/html": [
       "<div>\n",
       "<style scoped>\n",
       "    .dataframe tbody tr th:only-of-type {\n",
       "        vertical-align: middle;\n",
       "    }\n",
       "\n",
       "    .dataframe tbody tr th {\n",
       "        vertical-align: top;\n",
       "    }\n",
       "\n",
       "    .dataframe thead th {\n",
       "        text-align: right;\n",
       "    }\n",
       "</style>\n",
       "<table border=\"1\" class=\"dataframe\">\n",
       "  <thead>\n",
       "    <tr style=\"text-align: right;\">\n",
       "      <th></th>\n",
       "      <th>카테고리</th>\n",
       "      <th>상품명</th>\n",
       "      <th>가격</th>\n",
       "    </tr>\n",
       "  </thead>\n",
       "  <tbody>\n",
       "    <tr>\n",
       "      <th>0</th>\n",
       "      <td>메가박스</td>\n",
       "      <td>(스마일클럽)일반예매권2D-주중/주말</td>\n",
       "      <td>8,500원</td>\n",
       "    </tr>\n",
       "    <tr>\n",
       "      <th>1</th>\n",
       "      <td>생수</td>\n",
       "      <td>스파클생수 2L 30병</td>\n",
       "      <td>15,900원</td>\n",
       "    </tr>\n",
       "    <tr>\n",
       "      <th>2</th>\n",
       "      <td>새우</td>\n",
       "      <td>생물 새우 1kg 35-45미/14900원(중복할인20%+스마일12% 쿠폰가)/국내산</td>\n",
       "      <td>21,900원</td>\n",
       "    </tr>\n",
       "  </tbody>\n",
       "</table>\n",
       "</div>"
      ],
      "text/plain": [
       "   카테고리                                              상품명       가격\n",
       "0  메가박스                             (스마일클럽)일반예매권2D-주중/주말   8,500원\n",
       "1    생수                                     스파클생수 2L 30병  15,900원\n",
       "2    새우  생물 새우 1kg 35-45미/14900원(중복할인20%+스마일12% 쿠폰가)/국내산  21,900원"
      ]
     },
     "execution_count": 123,
     "metadata": {},
     "output_type": "execute_result"
    }
   ],
   "source": [
    "Gmarket = pd.DataFrame(data)\n",
    "Gmarket"
   ]
  },
  {
   "cell_type": "code",
   "execution_count": null,
   "id": "c3ab532d",
   "metadata": {},
   "outputs": [],
   "source": []
  },
  {
   "cell_type": "code",
   "execution_count": null,
   "id": "5c3b2458",
   "metadata": {},
   "outputs": [],
   "source": []
  },
  {
   "cell_type": "code",
   "execution_count": null,
   "id": "dba3882a",
   "metadata": {},
   "outputs": [],
   "source": []
  },
  {
   "cell_type": "code",
   "execution_count": null,
   "id": "026dbed4",
   "metadata": {},
   "outputs": [],
   "source": []
  },
  {
   "cell_type": "code",
   "execution_count": null,
   "id": "b8cfcea4",
   "metadata": {},
   "outputs": [],
   "source": []
  }
 ],
 "metadata": {
  "kernelspec": {
   "display_name": "Python 3.9.12 ('base')",
   "language": "python",
   "name": "python3"
  },
  "language_info": {
   "codemirror_mode": {
    "name": "ipython",
    "version": 3
   },
   "file_extension": ".py",
   "mimetype": "text/x-python",
   "name": "python",
   "nbconvert_exporter": "python",
   "pygments_lexer": "ipython3",
   "version": "3.9.12"
  },
  "vscode": {
   "interpreter": {
    "hash": "a077222d77dfe082b8f1dd562ad70e458ac2ab76993a0b248ab0476e32e9e8dd"
   }
  }
 },
 "nbformat": 4,
 "nbformat_minor": 5
}
