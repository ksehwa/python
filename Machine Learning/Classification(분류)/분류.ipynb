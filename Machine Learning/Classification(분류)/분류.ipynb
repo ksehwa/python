{
 "cells": [
  {
   "attachments": {},
   "cell_type": "markdown",
   "metadata": {},
   "source": [
    "### Classification\n",
    "- 주어진 데이터를 정해진 범주에 따라 분류\n",
    "- 예측 결과가 숫자가 아닐 때\n",
    "- ex. 스팸 메일 필터링, 시험 합격 여부, 재활용 분리수거 품목, 악성 종양 여부\n"
   ]
  },
  {
   "cell_type": "markdown",
   "metadata": {},
   "source": []
  }
 ],
 "metadata": {
  "language_info": {
   "name": "python"
  },
  "orig_nbformat": 4
 },
 "nbformat": 4,
 "nbformat_minor": 2
}
