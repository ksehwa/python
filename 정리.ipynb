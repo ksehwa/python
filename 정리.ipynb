{
 "cells": [
  {
   "cell_type": "markdown",
   "id": "80f77142",
   "metadata": {},
   "source": [
    "### 변수\n",
    " - 정수형 (int)\n",
    " - 논리형 (Boolean)\n",
    " - 실수형 (float)\n",
    " - 문자형 (str)"
   ]
  },
  {
   "cell_type": "markdown",
   "id": "9ad2c02f",
   "metadata": {},
   "source": [
    "### 인덱싱과 슬라이싱\n",
    "- 순서가 있는 모든 자료형에 순번을 부여"
   ]
  },
  {
   "cell_type": "code",
   "execution_count": 2,
   "id": "c1a42316",
   "metadata": {
    "scrolled": true
   },
   "outputs": [
    {
     "data": {
      "text/plain": [
       "'a'"
      ]
     },
     "execution_count": 2,
     "metadata": {},
     "output_type": "execute_result"
    }
   ],
   "source": [
    "\"apple\"[0]                              # 문자열 인덱싱"
   ]
  },
  {
   "cell_type": "code",
   "execution_count": 3,
   "id": "bea364a2",
   "metadata": {
    "scrolled": true
   },
   "outputs": [
    {
     "data": {
      "text/plain": [
       "'a'"
      ]
     },
     "execution_count": 3,
     "metadata": {},
     "output_type": "execute_result"
    }
   ],
   "source": [
    "[\"apple\", \"banana\", \"melon\"][0][0]       # 리스트 인덱싱"
   ]
  },
  {
   "cell_type": "code",
   "execution_count": 4,
   "id": "e31724cf",
   "metadata": {},
   "outputs": [
    {
     "data": {
      "text/plain": [
       "['apple', 'banana', ['melon', 'watermelon']]"
      ]
     },
     "execution_count": 4,
     "metadata": {},
     "output_type": "execute_result"
    }
   ],
   "source": [
    "[\"apple\", \"banana\",[\"melon\", \"watermelon\"]] [2][1][0]"
   ]
  },
  {
   "cell_type": "code",
   "execution_count": 5,
   "id": "3f5027c9",
   "metadata": {},
   "outputs": [
    {
     "data": {
      "text/plain": [
       "'o'"
      ]
     },
     "execution_count": 5,
     "metadata": {},
     "output_type": "execute_result"
    }
   ],
   "source": [
    "fruit = [[\"mango\", \"grape\"],[\"apple\", \"banana\",[\"melon\", \"watermelon\"]]] \n",
    "fruit[1][2][0][3]"
   ]
  },
  {
   "cell_type": "code",
   "execution_count": 13,
   "id": "e01aa3a3",
   "metadata": {},
   "outputs": [
    {
     "data": {
      "text/plain": [
       "'melon'"
      ]
     },
     "execution_count": 13,
     "metadata": {},
     "output_type": "execute_result"
    }
   ],
   "source": [
    "# 슬라이싱\n",
    "\n",
    "\"watermelon\"[-5:]    # 오른쪽을 비우면 끝까지\n",
    "\"watermelon\"[5:10] "
   ]
  },
  {
   "cell_type": "code",
   "execution_count": 16,
   "id": "deb9b229",
   "metadata": {},
   "outputs": [
    {
     "data": {
      "text/plain": [
       "'water'"
      ]
     },
     "execution_count": 16,
     "metadata": {},
     "output_type": "execute_result"
    }
   ],
   "source": [
    "fruit = [[\"mango\", \"grape\"],[\"apple\", \"banana\",[\"melon\", \"watermelon\"]]]\n",
    "fruit[1][2][1][0:5]"
   ]
  },
  {
   "cell_type": "markdown",
   "id": "61050714",
   "metadata": {},
   "source": [
    "### 포맷팅"
   ]
  },
  {
   "cell_type": "code",
   "execution_count": 19,
   "id": "4275c54e",
   "metadata": {
    "scrolled": true
   },
   "outputs": [
    {
     "name": "stdout",
     "output_type": "stream",
     "text": [
      "시장에 가면 망고 이/가 있다\n",
      "시장에 가면 파인애플 이/가 있다\n"
     ]
    }
   ],
   "source": [
    "ruit1 = \"망고\"\n",
    "fruit2 = \"파인애플\"\n",
    "fruit3 = \"멜론\"\n",
    "\n",
    "print(\"시장에 가면 {} 이/가 있다\".format(fruit1))    #.format\n",
    "print(f\"시장에 가면 {fruit2} 이/가 있다\")            #f\"{}\" "
   ]
  },
  {
   "cell_type": "code",
   "execution_count": 20,
   "id": "188c04b0",
   "metadata": {},
   "outputs": [
    {
     "name": "stdout",
     "output_type": "stream",
     "text": [
      "There is a mango in the market\n"
     ]
    }
   ],
   "source": [
    "#인덱싱해서 넣기\n",
    "fruit = [\"mango\", \"grape\", \"apple\", \"banana\", \"melon\", \"watermelon\"]\n",
    "print(f\"There is a {fruit[0]} in the market\")"
   ]
  },
  {
   "cell_type": "code",
   "execution_count": 21,
   "id": "0bcdff33",
   "metadata": {},
   "outputs": [
    {
     "name": "stdout",
     "output_type": "stream",
     "text": [
      "3\n",
      "9\n",
      "THERE IS A MANGO IN THE MARKET\n",
      "there is a mango in the market\n",
      "['There is ', ' m', 'ngo in the m', 'rket']\n"
     ]
    }
   ],
   "source": [
    "#문자열\n",
    "sentence = \"There is a mango in the market\"\n",
    "print(sentence.count(\"a\")) #숫자세기 .count\n",
    "print(sentence.find(\"a\")) #최초 등장 위치 표시\n",
    "print(sentence.upper())       #대문자\n",
    "print(sentence.lower())       #소문자\n",
    "print(sentence.split(\"a\"))    #기준으로 쪼개기 / 기준은 없어짐"
   ]
  },
  {
   "cell_type": "code",
   "execution_count": 22,
   "id": "78314741",
   "metadata": {},
   "outputs": [
    {
     "data": {
      "text/plain": [
       "'There is a  in the market'"
      ]
     },
     "execution_count": 22,
     "metadata": {},
     "output_type": "execute_result"
    }
   ],
   "source": [
    "fruit = [\"mango\", \"grape\", \"apple\", \"banana\", \"melon\", \"watermelon\"]\n",
    "sentence = \"There is a mango in the market\"\n",
    "\n",
    "sentence.replace(\"mango\", \" \")"
   ]
  },
  {
   "cell_type": "markdown",
   "id": "6d4011d9",
   "metadata": {},
   "source": [
    "### 연산자"
   ]
  },
  {
   "cell_type": "code",
   "execution_count": 23,
   "id": "7f1e3f2a",
   "metadata": {},
   "outputs": [
    {
     "name": "stdout",
     "output_type": "stream",
     "text": [
      "14\n",
      "14\n"
     ]
    }
   ],
   "source": [
    "print( 7+7 )\n",
    "print(int(\"7\") + int(\"7\"))"
   ]
  },
  {
   "cell_type": "markdown",
   "id": "ad3ca1c7",
   "metadata": {},
   "source": [
    "##### 다음 중 결과 값이 다른 하나는? (5)\n",
    "- 1.5+6\n",
    "- 2.int(5) + int(6)\n",
    "- 3.int(5+6)\n",
    "- 4.int(\"5\")+int(\"6\")\n",
    "- 5.int(\"5\"+\"6\")"
   ]
  },
  {
   "cell_type": "code",
   "execution_count": 27,
   "id": "26ae45a8",
   "metadata": {},
   "outputs": [
    {
     "data": {
      "text/plain": [
       "5"
      ]
     },
     "execution_count": 27,
     "metadata": {},
     "output_type": "execute_result"
    }
   ],
   "source": [
    "# 자료형의 인덱스의 갯수\n",
    "\n",
    "fruit = [\"mango\", \"grape\", \"apple\", \"banana\", \"melon\", \"watermelon\"]\n",
    "len(fruit[0])   "
   ]
  },
  {
   "cell_type": "markdown",
   "id": "d9e0cc33",
   "metadata": {},
   "source": [
    "### 논리형"
   ]
  },
  {
   "cell_type": "code",
   "execution_count": 28,
   "id": "95dc1fb4",
   "metadata": {},
   "outputs": [
    {
     "data": {
      "text/plain": [
       "False"
      ]
     },
     "execution_count": 28,
     "metadata": {},
     "output_type": "execute_result"
    }
   ],
   "source": [
    "1 == 5      # 참,거짓으로 구분"
   ]
  },
  {
   "cell_type": "markdown",
   "id": "e5661963",
   "metadata": {},
   "source": [
    "### 조건문"
   ]
  },
  {
   "cell_type": "code",
   "execution_count": null,
   "id": "f3ebad87",
   "metadata": {},
   "outputs": [],
   "source": [
    "if 명제:\n",
    "    명제가 참일 때 실행하는 코드\n",
    "else:\n",
    "    명제가 거짓일 때 실행하는 코드"
   ]
  },
  {
   "cell_type": "code",
   "execution_count": 29,
   "id": "17ce018b",
   "metadata": {},
   "outputs": [
    {
     "name": "stdout",
     "output_type": "stream",
     "text": [
      "홀수 입니다.\n"
     ]
    }
   ],
   "source": [
    "sutja = 3\n",
    "sutja = 4\n",
    "sutja = 5\n",
    "\n",
    "if sutja%2 == 0:\n",
    "    print(\"짝수 입니다.\")\n",
    "else:\n",
    "    print(\"홀수 입니다.\")           # else는 명제 x  if문이 거짓일 경우 실행"
   ]
  },
  {
   "cell_type": "code",
   "execution_count": 30,
   "id": "f400c1aa",
   "metadata": {},
   "outputs": [
    {
     "data": {
      "text/plain": [
       "False"
      ]
     },
     "execution_count": 30,
     "metadata": {},
     "output_type": "execute_result"
    }
   ],
   "source": [
    "fruit = [\"mango\", \"grape\", \"apple\", \"banana\", \"melon\", \"watermelon\"]\n",
    "\"mango\" in fruit"
   ]
  },
  {
   "cell_type": "code",
   "execution_count": 31,
   "id": "a5f4e6a9",
   "metadata": {},
   "outputs": [
    {
     "data": {
      "text/plain": [
       "True"
      ]
     },
     "execution_count": 31,
     "metadata": {},
     "output_type": "execute_result"
    }
   ],
   "source": [
    "\"man\" in \"mango\""
   ]
  },
  {
   "cell_type": "code",
   "execution_count": 32,
   "id": "68dec2e6",
   "metadata": {
    "scrolled": true
   },
   "outputs": [
    {
     "data": {
      "text/plain": [
       "False"
      ]
     },
     "execution_count": 32,
     "metadata": {},
     "output_type": "execute_result"
    }
   ],
   "source": [
    "[\"mango\", \"grape\"] in fruit"
   ]
  },
  {
   "cell_type": "code",
   "execution_count": 34,
   "id": "f088ed9d",
   "metadata": {},
   "outputs": [
    {
     "data": {
      "text/plain": [
       "True"
      ]
     },
     "execution_count": 34,
     "metadata": {},
     "output_type": "execute_result"
    }
   ],
   "source": [
    "\"mango\"and \"grape\" in fruit"
   ]
  },
  {
   "cell_type": "code",
   "execution_count": 35,
   "id": "de69aa8a",
   "metadata": {},
   "outputs": [
    {
     "data": {
      "text/plain": [
       "True"
      ]
     },
     "execution_count": 35,
     "metadata": {},
     "output_type": "execute_result"
    }
   ],
   "source": [
    "(\"mango\" in fruit) and (\"grape\" in fruit)"
   ]
  },
  {
   "cell_type": "code",
   "execution_count": 93,
   "id": "0c479aa0",
   "metadata": {},
   "outputs": [],
   "source": [
    "lyrics = \"\"\"\\n너도 날 좋아할 줄은 몰랐어\\n어쩌면 좋아 너무나 좋아\\n꿈만 같아서 나 내 자신을 자꾸 꼬집어봐\\n너무나 좋아 니가 날 혹시 안 좋아할까 봐\\n혼자 얼마나 애태운 지 몰라\\n그런데 너도 날 사랑한다니\\n어머나 다시 한 번 말해봐\\n\\nTell me, tell me, tell tell tell tell tell tell me\\n나를 사랑한다고 날 기다려왔다고\\nTell me, tell me, tell tell tell tell tell tell me\\n내가 필요하다 말해 말해줘요\\nTell me tell me, tell tell tell tell tell tell me\\n자꾸만 듣고 싶어 계속 내게 말해줘\\nTell me, tell me, tell tell tell tell tell tell me\\n꿈이 아니라고 말해 말해줘요\\n\\n어쩜 내 가슴이 이렇게 뛰니\\n가슴이 정말 터질 것 같아 니가 날 볼 때면\\n전기에 감전된 사람처럼 전기가 올라\\n\\n얼마나 오래 기다린 지 몰라\n",
    "\n",
    "\"\"\""
   ]
  },
  {
   "cell_type": "code",
   "execution_count": 94,
   "id": "4f162ed0",
   "metadata": {},
   "outputs": [
    {
     "data": {
      "text/plain": [
       "'\\n너도 날 좋아할 줄은 몰랐어\\n어쩌면 좋아 너무나 좋아\\n꿈만 같아서 나 내 자신을 자꾸 꼬집어봐\\n너무나 좋아 니가 날 혹시 안 좋아할까 봐\\n혼자 얼마나 애태운 지 몰라\\n그런데 너도 날 사랑한다니\\n어머나 다시 한 번 말해봐\\n\\nTell me, tell me, tell tell tell tell tell tell me\\n나를 사랑한다고 날 기다려왔다고\\nTell me, tell me, tell tell tell tell tell tell me\\n내가 필요하다 말해 말해줘요\\nTell me tell me, tell tell tell tell tell tell me\\n자꾸만 듣고 싶어 계속 내게 말해줘\\nTell me, tell me, tell tell tell tell tell tell me\\n꿈이 아니라고 말해 말해줘요\\n\\n어쩜 내 가슴이 이렇게 뛰니\\n가슴이 정말 터질 것 같아 니가 날 볼 때면\\n전기에 감전된 사람처럼 전기가 올라\\n\\n얼마나 오래 기다린 지 몰라\\n\\n'"
      ]
     },
     "execution_count": 94,
     "metadata": {},
     "output_type": "execute_result"
    }
   ],
   "source": [
    "lyrics"
   ]
  },
  {
   "cell_type": "code",
   "execution_count": 95,
   "id": "2433d336",
   "metadata": {},
   "outputs": [
    {
     "name": "stdout",
     "output_type": "stream",
     "text": [
      "가사에 제목이 포함되어 있다\n"
     ]
    }
   ],
   "source": [
    "if \"tell me\" in lyrics:\n",
    "    print(\"가사에 제목이 포함되어 있다\")\n",
    "else:\n",
    "    print(\"가사에 제목이 포함되어 있지 않다.\")"
   ]
  },
  {
   "cell_type": "code",
   "execution_count": 96,
   "id": "f2f6b692",
   "metadata": {},
   "outputs": [
    {
     "data": {
      "text/plain": [
       "' 너도 날 좋아할 줄은 몰랐어 어쩌면 좋아 너무나 좋아 꿈만 같아서 나 내 자신을 자꾸 꼬집어봐 너무나 좋아 니가 날 혹시 안 좋아할까 봐 혼자 얼마나 애태운 지 몰라 그런데 너도 날 사랑한다니 어머나 다시 한 번 말해봐  Tell me, tell me, tell tell tell tell tell tell me 나를 사랑한다고 날 기다려왔다고 Tell me, tell me, tell tell tell tell tell tell me 내가 필요하다 말해 말해줘요 Tell me tell me, tell tell tell tell tell tell me 자꾸만 듣고 싶어 계속 내게 말해줘 Tell me, tell me, tell tell tell tell tell tell me 꿈이 아니라고 말해 말해줘요  어쩜 내 가슴이 이렇게 뛰니 가슴이 정말 터질 것 같아 니가 날 볼 때면 전기에 감전된 사람처럼 전기가 올라  얼마나 오래 기다린 지 몰라  '"
      ]
     },
     "execution_count": 96,
     "metadata": {},
     "output_type": "execute_result"
    }
   ],
   "source": [
    "lyrics= lyrics.replace(\"\\n\",\" \")\n",
    "lyrics"
   ]
  },
  {
   "cell_type": "code",
   "execution_count": 97,
   "id": "464dd9d3",
   "metadata": {},
   "outputs": [],
   "source": [
    "# lyrics=lyrics.lower()\n",
    "# lyrics= lyrics.replace(\"tell me\",\" \")\n",
    "# lyrics"
   ]
  },
  {
   "cell_type": "code",
   "execution_count": 98,
   "id": "aa8e3237",
   "metadata": {},
   "outputs": [
    {
     "data": {
      "text/plain": [
       "' 너도 날 좋아할 줄은 몰랐어 어쩌면 좋아 너무나 좋아 꿈만 같아서 나 내 자신을 자꾸 꼬집어봐 너무나 좋아 니가 날 혹시 안 좋아할까 봐 혼자 얼마나 애태운 지 몰라 그런데 너도 날 사랑한다니 어머나 다시 한 번 말해봐  @@@@@@@@@, @@@@@@@@@, tell tell tell tell tell @@@@@@@@@ 나를 사랑한다고 날 기다려왔다고 @@@@@@@@@, @@@@@@@@@, tell tell tell tell tell @@@@@@@@@ 내가 필요하다 말해 말해줘요 @@@@@@@@@ @@@@@@@@@, tell tell tell tell tell @@@@@@@@@ 자꾸만 듣고 싶어 계속 내게 말해줘 @@@@@@@@@, @@@@@@@@@, tell tell tell tell tell @@@@@@@@@ 꿈이 아니라고 말해 말해줘요  어쩜 내 가슴이 이렇게 뛰니 가슴이 정말 터질 것 같아 니가 날 볼 때면 전기에 감전된 사람처럼 전기가 올라  얼마나 오래 기다린 지 몰라  '"
      ]
     },
     "execution_count": 98,
     "metadata": {},
     "output_type": "execute_result"
    }
   ],
   "source": [
    "# 가리는 경우\n",
    "lyrics=lyrics.lower()\n",
    "lyrics= lyrics.replace(\"tell me\",\"@@@@@@@@@\")\n",
    "lyrics"
   ]
  },
  {
   "cell_type": "code",
   "execution_count": 99,
   "id": "7b0673f0",
   "metadata": {},
   "outputs": [
    {
     "data": {
      "text/plain": [
       "' 너도 날 좋아할 줄은 몰랐어 어쩌면 좋아 너무나 좋아 꿈만 같아서 나 내 자신을 자꾸 꼬집어봐 너무나 좋아 니가 날 혹시 안 좋아할까 봐 혼자 얼마나 애태운 지 몰라 그런데 너도 날 사랑한다니 어머나 다시 한 번 말해봐  @@@@@@@@@, @@@@@@@@@, tell tell tell tell tell @@@@@@@@@ 나를 사랑한다고 날 기다려왔다고 @@@@@@@@@, @@@@@@@@@, tell tell tell tell tell @@@@@@@@@ 내가 필요하다 말해 말해줘요 @@@@@@@@@ @@@@@@@@@, tell tell tell tell tell @@@@@@@@@ 자꾸만 듣고 싶어 계속 내게 말해줘 @@@@@@@@@, @@@@@@@@@, tell tell tell tell tell @@@@@@@@@ 꿈이 아니라고 말해 말해줘요  어쩜 내 가슴이 이렇게 뛰니 가슴이 정말 터질 것 같아 니가 날 볼 때면 전기에 감전된 사람처럼 전기가 올라  얼마나 오래 기다린 지 몰라  '"
      ]
     },
     "execution_count": 99,
     "metadata": {},
     "output_type": "execute_result"
    }
   ],
   "source": [
    "lyrics= lyrics.replace(\"  \",\"  \")     \n",
    "lyrics"
   ]
  },
  {
   "cell_type": "code",
   "execution_count": 100,
   "id": "0bd76d81",
   "metadata": {},
   "outputs": [
    {
     "data": {
      "text/plain": [
       "'너도 날 좋아할 줄은 몰랐어 어쩌면 좋아 너무나 좋아 꿈만 같아서 나 내 자신을 자꾸 꼬집어봐 너무나 좋아 니가 날 혹시 안 좋아할까 봐 혼자 얼마나 애태운 지 몰라 그런데 너도 날 사랑한다니 어머나 다시 한 번 말해봐  @@@@@@@@@, @@@@@@@@@, tell tell tell tell tell @@@@@@@@@ 나를 사랑한다고 날 기다려왔다고 @@@@@@@@@, @@@@@@@@@, tell tell tell tell tell @@@@@@@@@ 내가 필요하다 말해 말해줘요 @@@@@@@@@ @@@@@@@@@, tell tell tell tell tell @@@@@@@@@ 자꾸만 듣고 싶어 계속 내게 말해줘 @@@@@@@@@, @@@@@@@@@, tell tell tell tell tell @@@@@@@@@ 꿈이 아니라고 말해 말해줘요  어쩜 내 가슴이 이렇게 뛰니 가슴이 정말 터질 것 같아 니가 날 볼 때면 전기에 감전된 사람처럼 전기가 올라  얼마나 오래 기다린 지 몰라 '"
      ]
     },
     "execution_count": 100,
     "metadata": {},
     "output_type": "execute_result"
    }
   ],
   "source": [
    "lyrics[1:-1]"
   ]
  },
  {
   "cell_type": "code",
   "execution_count": null,
   "id": "f6cb9c13",
   "metadata": {},
   "outputs": [],
   "source": []
  },
  {
   "cell_type": "markdown",
   "id": "69e9793c",
   "metadata": {},
   "source": [
    "### 리스트, 튜플\n",
    "- 리스트는 조작 가능, 튜플은 안됨\n",
    "\n",
    "##### 데이터 추가\n",
    "1. 문자열: +\n",
    "2. 리스트: append, insert\n"
   ]
  },
  {
   "cell_type": "code",
   "execution_count": 1,
   "id": "f0307ac6",
   "metadata": {},
   "outputs": [
    {
     "data": {
      "text/plain": [
       "'짜장면, 짬뽕, 탕수육, 군만두'"
      ]
     },
     "execution_count": 1,
     "metadata": {},
     "output_type": "execute_result"
    }
   ],
   "source": [
    "menu = \"짜장면, 짬뽕, 탕수육\"          # 문자열은 +로 추가 \n",
    "menu = menu + \", 군만두\"\n",
    "menu"
   ]
  },
  {
   "cell_type": "code",
   "execution_count": 2,
   "id": "df1f4a30",
   "metadata": {},
   "outputs": [
    {
     "data": {
      "text/plain": [
       "['짜장면, 짬뽕, 탕수육', '군만두']"
      ]
     },
     "execution_count": 2,
     "metadata": {},
     "output_type": "execute_result"
    }
   ],
   "source": [
    "menu = [\"짜장면, 짬뽕, 탕수육\"]\n",
    "menu.append(\"군만두\")                 # 맨뒤에 추가\n",
    "menu"
   ]
  },
  {
   "cell_type": "code",
   "execution_count": 3,
   "id": "b38753f3",
   "metadata": {},
   "outputs": [
    {
     "data": {
      "text/plain": [
       "['짜장면, 짬뽕, 탕수육', '팔보채', '군만두']"
      ]
     },
     "execution_count": 3,
     "metadata": {},
     "output_type": "execute_result"
    }
   ],
   "source": [
    "menu.insert(1, \"팔보채\")                 # 지정추가\n",
    "menu"
   ]
  },
  {
   "cell_type": "markdown",
   "id": "04bd3bc7",
   "metadata": {},
   "source": [
    "### 데이터 제거\n",
    "\n",
    "1. 문자열:replace\n",
    "2. 리스트:del,remove,pop"
   ]
  },
  {
   "cell_type": "code",
   "execution_count": 24,
   "id": "a050b47a",
   "metadata": {},
   "outputs": [
    {
     "data": {
      "text/plain": [
       "'짜장면, 팔보채, 짬뽕, 탕수육'"
      ]
     },
     "execution_count": 24,
     "metadata": {},
     "output_type": "execute_result"
    }
   ],
   "source": [
    "menu = \"짜장면, 팔보채, 짬뽕, 탕수육, 군만두\"\n",
    "menu = menu.replace (\", 군만두\",\"\")\n",
    "menu"
   ]
  },
  {
   "cell_type": "code",
   "execution_count": 5,
   "id": "68a31b26",
   "metadata": {},
   "outputs": [
    {
     "data": {
      "text/plain": [
       "['짜장면', '짬뽕', '탕수육', '군만두']"
      ]
     },
     "execution_count": 5,
     "metadata": {},
     "output_type": "execute_result"
    }
   ],
   "source": [
    "menu.remove(\"팔보채\")\n",
    "menu\n"
   ]
  },
  {
   "cell_type": "code",
   "execution_count": 6,
   "id": "db7c61b3",
   "metadata": {},
   "outputs": [
    {
     "data": {
      "text/plain": [
       "['짜장면', '짬뽕', '탕수육']"
      ]
     },
     "execution_count": 6,
     "metadata": {},
     "output_type": "execute_result"
    }
   ],
   "source": [
    "menu.pop()\n",
    "menu"
   ]
  },
  {
   "cell_type": "markdown",
   "id": "72c5c98b",
   "metadata": {},
   "source": [
    "### 데이터 교체\n",
    "1. 문자열 : replace\n",
    "2. 리스트 : 함수없음"
   ]
  },
  {
   "cell_type": "code",
   "execution_count": 10,
   "id": "64373705",
   "metadata": {},
   "outputs": [
    {
     "data": {
      "text/plain": [
       "'짜장면, 짬뽕, 탕수육, 팔보채'"
      ]
     },
     "execution_count": 10,
     "metadata": {},
     "output_type": "execute_result"
    }
   ],
   "source": [
    "menu = \"짜장면, 짬뽕, 탕수육, 군만두\"\n",
    "menu = menu.replace(\"군만두\", \"팔보채\")\n",
    "menu"
   ]
  },
  {
   "cell_type": "code",
   "execution_count": 13,
   "id": "7a05f1fb",
   "metadata": {},
   "outputs": [
    {
     "data": {
      "text/plain": [
       "['짜장면', '유산슬', '탕수육', '군만두']"
      ]
     },
     "execution_count": 13,
     "metadata": {},
     "output_type": "execute_result"
    }
   ],
   "source": [
    "menu = [\"짜장면\", \"짬뽕\", \"탕수육\", \"군만두\"]\n",
    "menu[1] = \"유산슬\"\n",
    "menu"
   ]
  },
  {
   "cell_type": "code",
   "execution_count": 17,
   "id": "ff34b065",
   "metadata": {},
   "outputs": [],
   "source": [
    "fruit = [[\"mango\", \"grape\"],[\"apple\",\"banana\", [\"melon\", \"watermelon\"]]]"
   ]
  },
  {
   "cell_type": "markdown",
   "id": "3061f125",
   "metadata": {},
   "source": [
    "#### 밑의  fruit의 \"apple\"을 \"pineapple\"로 바꿔주세요."
   ]
  },
  {
   "cell_type": "code",
   "execution_count": 20,
   "id": "31aa0e88",
   "metadata": {},
   "outputs": [
    {
     "data": {
      "text/plain": [
       "[['mango', 'grape'], ['pineapple', 'banana', ['melon', 'watermelon']]]"
      ]
     },
     "execution_count": 20,
     "metadata": {},
     "output_type": "execute_result"
    }
   ],
   "source": [
    "fruit[1][0] = \"pineapple\"\n",
    "fruit"
   ]
  },
  {
   "cell_type": "markdown",
   "id": "036a88b1",
   "metadata": {},
   "source": [
    "# 반복문"
   ]
  },
  {
   "cell_type": "code",
   "execution_count": null,
   "id": "e09a705b",
   "metadata": {},
   "outputs": [],
   "source": [
    "while 명제:\n",
    "    명제가 참인 한 실행되는 코드"
   ]
  },
  {
   "cell_type": "markdown",
   "id": "f54e7bb9",
   "metadata": {},
   "source": [
    "####  무한루프를 피하는 방법\n",
    "1. 특정 조건에서 while문에 걸려 있는 명제가 거짓이 되도록 설계한다.\n",
    "2. break를 사용한다."
   ]
  },
  {
   "cell_type": "code",
   "execution_count": 26,
   "id": "5ae1bfa5",
   "metadata": {},
   "outputs": [
    {
     "name": "stdout",
     "output_type": "stream",
     "text": [
      "0\n",
      "1\n",
      "2\n"
     ]
    }
   ],
   "source": [
    "n = 0 \n",
    "while n < 3:\n",
    "    print(n)\n",
    "    n = n + 1 "
   ]
  },
  {
   "cell_type": "code",
   "execution_count": 27,
   "id": "0de0bfb5",
   "metadata": {},
   "outputs": [
    {
     "name": "stdout",
     "output_type": "stream",
     "text": [
      "0\n",
      "1\n",
      "2\n"
     ]
    }
   ],
   "source": [
    "#while True     # 별도의 조치가 없는한 무한반복\n",
    "\n",
    "n = 0\n",
    "while True:\n",
    "    print(n)\n",
    "    n = n + 1\n",
    "    if n >= 3:\n",
    "        break\n",
    "    else:\n",
    "        pass"
   ]
  },
  {
   "cell_type": "markdown",
   "id": "7fc624bc",
   "metadata": {},
   "source": [
    "### 1000이 넘는 43중의 배수 중 가장 작은 수를 찾고 싶습니다."
   ]
  },
  {
   "cell_type": "code",
   "execution_count": 1,
   "id": "803c38b0",
   "metadata": {},
   "outputs": [
    {
     "name": "stdout",
     "output_type": "stream",
     "text": [
      "1032\n"
     ]
    }
   ],
   "source": [
    "#1.\n",
    "n = 1000\n",
    "while  n%43 != 0:\n",
    "    n = n+1\n",
    "print(n)"
   ]
  },
  {
   "cell_type": "code",
   "execution_count": 19,
   "id": "95cd1c80",
   "metadata": {},
   "outputs": [
    {
     "name": "stdout",
     "output_type": "stream",
     "text": [
      "1032\n"
     ]
    }
   ],
   "source": [
    "n = 1000\n",
    "while True:\n",
    "    n = n + 1\n",
    "    if n%43 == 0:\n",
    "        print(n)\n",
    "        break\n",
    "    else:\n",
    "        pass"
   ]
  },
  {
   "cell_type": "code",
   "execution_count": 3,
   "id": "6b0d2930",
   "metadata": {},
   "outputs": [
    {
     "name": "stdout",
     "output_type": "stream",
     "text": [
      "1032\n"
     ]
    }
   ],
   "source": [
    "#2.\n",
    "n = 0 \n",
    "while n * 43 < 1000:\n",
    "    n = n + 1 \n",
    "print( n * 43)"
   ]
  },
  {
   "cell_type": "code",
   "execution_count": 20,
   "id": "7b408a9f",
   "metadata": {},
   "outputs": [
    {
     "name": "stdout",
     "output_type": "stream",
     "text": [
      "1032\n"
     ]
    }
   ],
   "source": [
    "n3 = 0 \n",
    "while True:\n",
    "    n3 = n3 +1\n",
    "    if n3 * 43 >= 1000:\n",
    "        print(43*n3)\n",
    "        break\n",
    "    else:\n",
    "        pass"
   ]
  },
  {
   "cell_type": "markdown",
   "id": "30e691ee",
   "metadata": {},
   "source": [
    "## 10,000이 넘는 수 중에서, 가장작은 43과 67의 공배수를 구해주세요.\n",
    "\n",
    "- 43과 67의 공배수란, 43과 67을 모두 약수로 가지고 있는 수\n",
    "- 정답 : 11524"
   ]
  },
  {
   "cell_type": "code",
   "execution_count": 2,
   "id": "c29bb8fd",
   "metadata": {},
   "outputs": [
    {
     "name": "stdout",
     "output_type": "stream",
     "text": [
      "11524\n"
     ]
    }
   ],
   "source": [
    "n = 10000\n",
    "while (n % 43 != 0) or (n % 67 !=0):\n",
    "    n += 1\n",
    "print(n)     "
   ]
  },
  {
   "cell_type": "code",
   "execution_count": 4,
   "id": "e7da268e",
   "metadata": {},
   "outputs": [
    {
     "name": "stdout",
     "output_type": "stream",
     "text": [
      "11524\n"
     ]
    }
   ],
   "source": [
    "n = 10000\n",
    "while True:\n",
    "    n = n + 1\n",
    "    if (n%43 == 0 ) and (n%67 == 0):\n",
    "        print(n)\n",
    "        break\n",
    "    else:\n",
    "        pass"
   ]
  },
  {
   "cell_type": "code",
   "execution_count": null,
   "id": "07ece067",
   "metadata": {},
   "outputs": [],
   "source": [
    "for 변수 in 순서가 있는 자료형:\n",
    "    코드"
   ]
  },
  {
   "cell_type": "code",
   "execution_count": 8,
   "id": "af2c436e",
   "metadata": {},
   "outputs": [
    {
     "name": "stdout",
     "output_type": "stream",
     "text": [
      "1\n",
      "4\n",
      "9\n",
      "16\n"
     ]
    }
   ],
   "source": [
    "for i in [1,2,3,4]:\n",
    "    print(i**2)"
   ]
  },
  {
   "cell_type": "code",
   "execution_count": 12,
   "id": "07950d34",
   "metadata": {},
   "outputs": [
    {
     "name": "stdout",
     "output_type": "stream",
     "text": [
      "3 x 1 = 3.\n",
      "3 x 2 = 6.\n",
      "3 x 3 = 9.\n",
      "3 x 4 = 12.\n",
      "3 x 5 = 15.\n",
      "3 x 6 = 18.\n",
      "3 x 7 = 21.\n",
      "3 x 8 = 24.\n",
      "3 x 9 = 27.\n"
     ]
    }
   ],
   "source": [
    "for i in [1,2,3,4,5,6,7,8,9]:\n",
    "     print (\"3 x {} = {}.\".format(i, 3*i))"
   ]
  },
  {
   "cell_type": "code",
   "execution_count": 14,
   "id": "6e70ecca",
   "metadata": {},
   "outputs": [],
   "source": [
    "while n < 9:\n",
    "    print(\"Hello python!\")\n",
    "    n += 1"
   ]
  },
  {
   "cell_type": "code",
   "execution_count": 15,
   "id": "14683126",
   "metadata": {},
   "outputs": [
    {
     "name": "stdout",
     "output_type": "stream",
     "text": [
      "Hello python!\n",
      "Hello python!\n",
      "Hello python!\n",
      "Hello python!\n",
      "Hello python!\n",
      "Hello python!\n",
      "Hello python!\n",
      "Hello python!\n",
      "Hello python!\n"
     ]
    }
   ],
   "source": [
    "for i in range(9):\n",
    "    print(\"Hello python!\")"
   ]
  },
  {
   "cell_type": "code",
   "execution_count": 20,
   "id": "6ed8e8f1",
   "metadata": {},
   "outputs": [
    {
     "data": {
      "text/plain": [
       "3"
      ]
     },
     "execution_count": 20,
     "metadata": {},
     "output_type": "execute_result"
    }
   ],
   "source": [
    "n = 0\n",
    "a = [1,2,3,4,5,6,7]\n",
    "b = [2,4,3,6,5,3,7]\n",
    "\n",
    "for i in range(len(a)):\n",
    "    if a[i] == b[i] :\n",
    "        n += 1 \n",
    "    else:\n",
    "        pass\n",
    "n    "
   ]
  },
  {
   "cell_type": "code",
   "execution_count": null,
   "id": "914bd02b",
   "metadata": {},
   "outputs": [],
   "source": [
    "n = 0\n",
    "a = [1,2,3,4,5,6,7]\n",
    "b = [2,4,3,6,5,3,7]\n",
    "\n",
    "for w,i in range in enumerate(a):\n",
    "    if i == b[w] :                         # W는 인덱스 번호, i == a가출력\n",
    "        \n",
    "        n += 1 \n",
    "    else:\n",
    "        pass\n",
    "n    "
   ]
  },
  {
   "cell_type": "markdown",
   "id": "ced9cc5a",
   "metadata": {},
   "source": [
    "### 구구단 출력"
   ]
  },
  {
   "cell_type": "code",
   "execution_count": 18,
   "id": "539ff846",
   "metadata": {},
   "outputs": [
    {
     "name": "stdout",
     "output_type": "stream",
     "text": [
      "1단 시작!\n",
      "\n",
      "1 x 1 = 1 \n",
      "1 x 2 = 2 \n",
      "1 x 3 = 3 \n",
      "1 x 4 = 4 \n",
      "1 x 5 = 5 \n",
      "1 x 6 = 6 \n",
      "1 x 7 = 7 \n",
      "1 x 8 = 8 \n",
      "1 x 9 = 9 \n",
      "---------------------\n",
      "2단 시작!\n",
      "\n",
      "2 x 1 = 2 \n",
      "2 x 2 = 4 \n",
      "2 x 3 = 6 \n",
      "2 x 4 = 8 \n",
      "2 x 5 = 10 \n",
      "2 x 6 = 12 \n",
      "2 x 7 = 14 \n",
      "2 x 8 = 16 \n",
      "2 x 9 = 18 \n",
      "---------------------\n",
      "3단 시작!\n",
      "\n",
      "3 x 1 = 3 \n",
      "3 x 2 = 6 \n",
      "3 x 3 = 9 \n",
      "3 x 4 = 12 \n",
      "3 x 5 = 15 \n",
      "3 x 6 = 18 \n",
      "3 x 7 = 21 \n",
      "3 x 8 = 24 \n",
      "3 x 9 = 27 \n",
      "---------------------\n",
      "4단 시작!\n",
      "\n",
      "4 x 1 = 4 \n",
      "4 x 2 = 8 \n",
      "4 x 3 = 12 \n",
      "4 x 4 = 16 \n",
      "4 x 5 = 20 \n",
      "4 x 6 = 24 \n",
      "4 x 7 = 28 \n",
      "4 x 8 = 32 \n",
      "4 x 9 = 36 \n",
      "---------------------\n",
      "5단 시작!\n",
      "\n",
      "5 x 1 = 5 \n",
      "5 x 2 = 10 \n",
      "5 x 3 = 15 \n",
      "5 x 4 = 20 \n",
      "5 x 5 = 25 \n",
      "5 x 6 = 30 \n",
      "5 x 7 = 35 \n",
      "5 x 8 = 40 \n",
      "5 x 9 = 45 \n",
      "---------------------\n",
      "6단 시작!\n",
      "\n",
      "6 x 1 = 6 \n",
      "6 x 2 = 12 \n",
      "6 x 3 = 18 \n",
      "6 x 4 = 24 \n",
      "6 x 5 = 30 \n",
      "6 x 6 = 36 \n",
      "6 x 7 = 42 \n",
      "6 x 8 = 48 \n",
      "6 x 9 = 54 \n",
      "---------------------\n",
      "7단 시작!\n",
      "\n",
      "7 x 1 = 7 \n",
      "7 x 2 = 14 \n",
      "7 x 3 = 21 \n",
      "7 x 4 = 28 \n",
      "7 x 5 = 35 \n",
      "7 x 6 = 42 \n",
      "7 x 7 = 49 \n",
      "7 x 8 = 56 \n",
      "7 x 9 = 63 \n",
      "---------------------\n",
      "8단 시작!\n",
      "\n",
      "8 x 1 = 8 \n",
      "8 x 2 = 16 \n",
      "8 x 3 = 24 \n",
      "8 x 4 = 32 \n",
      "8 x 5 = 40 \n",
      "8 x 6 = 48 \n",
      "8 x 7 = 56 \n",
      "8 x 8 = 64 \n",
      "8 x 9 = 72 \n",
      "---------------------\n",
      "9단 시작!\n",
      "\n",
      "9 x 1 = 9 \n",
      "9 x 2 = 18 \n",
      "9 x 3 = 27 \n",
      "9 x 4 = 36 \n",
      "9 x 5 = 45 \n",
      "9 x 6 = 54 \n",
      "9 x 7 = 63 \n",
      "9 x 8 = 72 \n",
      "9 x 9 = 81 \n",
      "---------------------\n"
     ]
    }
   ],
   "source": [
    "for a in range(1,10):\n",
    "    print(f\"{a}단 시작!\\n\")\n",
    "    for b in range(1,10):\n",
    "        result = (a * b)\n",
    "        print(\"{} x {} = {} \". format(a,b,result))\n",
    "    print(\"---------------------\")"
   ]
  },
  {
   "cell_type": "code",
   "execution_count": null,
   "id": "4372d9b0",
   "metadata": {},
   "outputs": [],
   "source": []
  },
  {
   "cell_type": "markdown",
   "id": "ad6fb54e",
   "metadata": {},
   "source": [
    "### try-except 문"
   ]
  },
  {
   "cell_type": "code",
   "execution_count": null,
   "id": "c68df2f8",
   "metadata": {},
   "outputs": [],
   "source": [
    "try:\n",
    "    에러가 날 수도 있는 코드가 에러가 나지 않을 경우에 실행될 코드\n",
    "except:\n",
    "    에러가 날 수도 있는 코드가 에러가 났을 때 실행될 코드"
   ]
  },
  {
   "cell_type": "code",
   "execution_count": 27,
   "id": "c2c90b00",
   "metadata": {},
   "outputs": [
    {
     "name": "stdout",
     "output_type": "stream",
     "text": [
      "0.14285714285714285\n",
      "0.16666666666666666\n",
      "0.2\n",
      "0.25\n",
      "0.3333333333333333\n",
      "0.5\n",
      "1.0\n",
      "에러가 났습니다.\n",
      "-1.0\n",
      "-0.5\n"
     ]
    }
   ],
   "source": [
    "for i in range(10):                           # 파이썬에서는 허용 하지 않지마 개발자가 허용 \n",
    "    try:\n",
    "        print(1/(7-i))\n",
    "    except:\n",
    "        print(\"에러가 났습니다.\")"
   ]
  },
  {
   "cell_type": "code",
   "execution_count": 26,
   "id": "78c497a1",
   "metadata": {},
   "outputs": [
    {
     "name": "stdout",
     "output_type": "stream",
     "text": [
      "3의 배수를 입력하세요 : 2\n"
     ]
    },
    {
     "ename": "Exception",
     "evalue": "너 혼난다",
     "output_type": "error",
     "traceback": [
      "\u001b[1;31m---------------------------------------------------------------------------\u001b[0m",
      "\u001b[1;31mException\u001b[0m                                 Traceback (most recent call last)",
      "Input \u001b[1;32mIn [26]\u001b[0m, in \u001b[0;36m<cell line: 2>\u001b[1;34m()\u001b[0m\n\u001b[0;32m      1\u001b[0m a \u001b[38;5;241m=\u001b[39m \u001b[38;5;28mint\u001b[39m(\u001b[38;5;28minput\u001b[39m(\u001b[38;5;124m\"\u001b[39m\u001b[38;5;124m3의 배수를 입력하세요 : \u001b[39m\u001b[38;5;124m\"\u001b[39m))              \u001b[38;5;66;03m# 파이썬은 허용 개발자가 허용안함\u001b[39;00m\n\u001b[0;32m      2\u001b[0m \u001b[38;5;28;01mif\u001b[39;00m a\u001b[38;5;241m%\u001b[39m\u001b[38;5;241m3\u001b[39m \u001b[38;5;241m!=\u001b[39m \u001b[38;5;241m0\u001b[39m:\n\u001b[1;32m----> 3\u001b[0m     \u001b[38;5;28;01mraise\u001b[39;00m \u001b[38;5;167;01mException\u001b[39;00m(\u001b[38;5;124m\"\u001b[39m\u001b[38;5;124m너 혼난다\u001b[39m\u001b[38;5;124m\"\u001b[39m)\n\u001b[0;32m      4\u001b[0m \u001b[38;5;28;01melse\u001b[39;00m:\n\u001b[0;32m      5\u001b[0m     \u001b[38;5;28mprint\u001b[39m(a)\n",
      "\u001b[1;31mException\u001b[0m: 너 혼난다"
     ]
    }
   ],
   "source": [
    "a = int(input(\"3의 배수를 입력하세요 : \"))              # 파이썬은 허용 개발자가 허용안함\n",
    "if a%3 != 0:\n",
    "    raise Exception(\"너 혼난다\")\n",
    "else:\n",
    "    print(a)"
   ]
  },
  {
   "cell_type": "code",
   "execution_count": null,
   "id": "2e387d27",
   "metadata": {},
   "outputs": [],
   "source": []
  },
  {
   "cell_type": "markdown",
   "id": "9471c149",
   "metadata": {},
   "source": [
    "## 오류 코드"
   ]
  },
  {
   "cell_type": "code",
   "execution_count": 33,
   "id": "8c05c4d9",
   "metadata": {},
   "outputs": [
    {
     "ename": "IndexError",
     "evalue": "range object index out of range",
     "output_type": "error",
     "traceback": [
      "\u001b[1;31m---------------------------------------------------------------------------\u001b[0m",
      "\u001b[1;31mIndexError\u001b[0m                                Traceback (most recent call last)",
      "Input \u001b[1;32mIn [33]\u001b[0m, in \u001b[0;36m<cell line: 1>\u001b[1;34m()\u001b[0m\n\u001b[1;32m----> 1\u001b[0m a \u001b[38;5;241m=\u001b[39m \u001b[38;5;28;43mrange\u001b[39;49m\u001b[43m(\u001b[49m\u001b[38;5;241;43m10\u001b[39;49m\u001b[43m)\u001b[49m\u001b[43m[\u001b[49m\u001b[38;5;241;43m12\u001b[39;49m\u001b[43m]\u001b[49m\n",
      "\u001b[1;31mIndexError\u001b[0m: range object index out of range"
     ]
    }
   ],
   "source": [
    "a = range(10)[12]             # 인덱스 범위 오류"
   ]
  },
  {
   "cell_type": "code",
   "execution_count": 28,
   "id": "3b13759c",
   "metadata": {},
   "outputs": [
    {
     "ename": "SyntaxError",
     "evalue": "unexpected EOF while parsing (2282165109.py, line 1)",
     "output_type": "error",
     "traceback": [
      "\u001b[1;36m  Input \u001b[1;32mIn [28]\u001b[1;36m\u001b[0m\n\u001b[1;33m    a = range(10\u001b[0m\n\u001b[1;37m                ^\u001b[0m\n\u001b[1;31mSyntaxError\u001b[0m\u001b[1;31m:\u001b[0m unexpected EOF while parsing\n"
     ]
    }
   ],
   "source": [
    "a = range(10                # EOF : ()를 잘 안닫았을때 오류"
   ]
  },
  {
   "cell_type": "code",
   "execution_count": 34,
   "id": "3313e764",
   "metadata": {
    "scrolled": true
   },
   "outputs": [
    {
     "ename": "IndentationError",
     "evalue": "expected an indented block (4186657812.py, line 2)",
     "output_type": "error",
     "traceback": [
      "\u001b[1;36m  Input \u001b[1;32mIn [34]\u001b[1;36m\u001b[0m\n\u001b[1;33m    if 2 == 2:\u001b[0m\n\u001b[1;37m    ^\u001b[0m\n\u001b[1;31mIndentationError\u001b[0m\u001b[1;31m:\u001b[0m expected an indented block\n"
     ]
    }
   ],
   "source": [
    "for i in range(10):\n",
    "if 2 == 2:\n",
    "    print(1)\n",
    "else:\n",
    "    print(3)"
   ]
  },
  {
   "cell_type": "markdown",
   "id": "8c264ee1",
   "metadata": {},
   "source": [
    "### 1부터 100까지 \"제곱의 합\" 과 \"합의 제곱\" 의 차는?"
   ]
  },
  {
   "cell_type": "code",
   "execution_count": 36,
   "id": "f4c1cf42",
   "metadata": {},
   "outputs": [
    {
     "name": "stdout",
     "output_type": "stream",
     "text": [
      "25164150\n"
     ]
    }
   ],
   "source": [
    "a = 0\n",
    "b = 0\n",
    "\n",
    "for i in range(1,101):\n",
    "    \n",
    "    b = b + i**2 \n",
    "    a = a + i\n",
    "    \n",
    "print(a**2 - b)"
   ]
  },
  {
   "cell_type": "code",
   "execution_count": null,
   "id": "8b44b27c",
   "metadata": {},
   "outputs": [],
   "source": []
  },
  {
   "cell_type": "markdown",
   "id": "65e2e319",
   "metadata": {},
   "source": [
    "### 딕셔너리"
   ]
  },
  {
   "cell_type": "code",
   "execution_count": 1,
   "id": "04cdfa17",
   "metadata": {},
   "outputs": [
    {
     "data": {
      "text/plain": [
       "800"
      ]
     },
     "execution_count": 1,
     "metadata": {},
     "output_type": "execute_result"
    }
   ],
   "source": [
    "gg = {\"사과\":800, \"바나나\":1000, \"포도\" : 800}\n",
    "gg[\"사과\"]"
   ]
  },
  {
   "cell_type": "code",
   "execution_count": 2,
   "id": "412ddd98",
   "metadata": {},
   "outputs": [
    {
     "data": {
      "text/plain": [
       "{'사과': 800, '바나나': 1000, '포도': 800, '파인애플': 1200}"
      ]
     },
     "execution_count": 2,
     "metadata": {},
     "output_type": "execute_result"
    }
   ],
   "source": [
    "gg[\"파인애플\"] = 1200        # 정보추가\n",
    "gg"
   ]
  },
  {
   "cell_type": "code",
   "execution_count": 3,
   "id": "7c7f8711",
   "metadata": {},
   "outputs": [
    {
     "data": {
      "text/plain": [
       "{'사과': 800, '바나나': 1000, '포도': 800}"
      ]
     },
     "execution_count": 3,
     "metadata": {},
     "output_type": "execute_result"
    }
   ],
   "source": [
    "del gg[\"파인애플\"]           # 정보삭제\n",
    "gg"
   ]
  },
  {
   "cell_type": "code",
   "execution_count": 4,
   "id": "cf154572",
   "metadata": {},
   "outputs": [
    {
     "ename": "KeyError",
     "evalue": "0",
     "output_type": "error",
     "traceback": [
      "\u001b[1;31m---------------------------------------------------------------------------\u001b[0m",
      "\u001b[1;31mKeyError\u001b[0m                                  Traceback (most recent call last)",
      "Input \u001b[1;32mIn [4]\u001b[0m, in \u001b[0;36m<cell line: 1>\u001b[1;34m()\u001b[0m\n\u001b[1;32m----> 1\u001b[0m \u001b[43mgg\u001b[49m\u001b[43m[\u001b[49m\u001b[38;5;241;43m0\u001b[39;49m\u001b[43m]\u001b[49m\n",
      "\u001b[1;31mKeyError\u001b[0m: 0"
     ]
    }
   ],
   "source": [
    "gg[0]                    # 딕셔너리는 익덱싱 x     \n"
   ]
  },
  {
   "cell_type": "code",
   "execution_count": 5,
   "id": "e01adc9a",
   "metadata": {},
   "outputs": [
    {
     "name": "stdout",
     "output_type": "stream",
     "text": [
      "사과\n",
      "바나나\n",
      "포도\n"
     ]
    }
   ],
   "source": [
    "for i in gg:           # for문 사용 가능\n",
    "    print(i)"
   ]
  },
  {
   "cell_type": "code",
   "execution_count": 6,
   "id": "229c8415",
   "metadata": {},
   "outputs": [
    {
     "data": {
      "text/plain": [
       "dict_keys(['사과', '바나나', '포도'])"
      ]
     },
     "execution_count": 6,
     "metadata": {},
     "output_type": "execute_result"
    }
   ],
   "source": [
    "gg.keys()          # key 값 불러오기"
   ]
  },
  {
   "cell_type": "code",
   "execution_count": 7,
   "id": "5d16523b",
   "metadata": {},
   "outputs": [
    {
     "data": {
      "text/plain": [
       "dict_values([800, 1000, 800])"
      ]
     },
     "execution_count": 7,
     "metadata": {},
     "output_type": "execute_result"
    }
   ],
   "source": [
    "gg.values()       # values 값 불러오기"
   ]
  },
  {
   "cell_type": "markdown",
   "id": "5fe95436",
   "metadata": {},
   "source": [
    "### 물가가 10% 올랐습니다.\n",
    "- gg 딕셔너리의 각 과일의 가격을 10% 올려주세요."
   ]
  },
  {
   "cell_type": "code",
   "execution_count": 8,
   "id": "7c0fc22c",
   "metadata": {},
   "outputs": [
    {
     "data": {
      "text/plain": [
       "{'사과': 800, '바나나': 1000, '포도': 800}"
      ]
     },
     "execution_count": 8,
     "metadata": {},
     "output_type": "execute_result"
    }
   ],
   "source": [
    "gg"
   ]
  },
  {
   "cell_type": "code",
   "execution_count": 9,
   "id": "dc078954",
   "metadata": {},
   "outputs": [
    {
     "name": "stdout",
     "output_type": "stream",
     "text": [
      "{'사과': 880.0000000000001, '바나나': 1100.0, '포도': 880.0000000000001}\n"
     ]
    }
   ],
   "source": [
    "for i in gg:\n",
    "    gg[i] = gg[i] * 1.1\n",
    "print(gg)"
   ]
  },
  {
   "cell_type": "code",
   "execution_count": 10,
   "id": "89497a86",
   "metadata": {},
   "outputs": [
    {
     "name": "stdout",
     "output_type": "stream",
     "text": [
      "{'사과': 968, '바나나': 1210, '포도': 968}\n"
     ]
    }
   ],
   "source": [
    "for i in gg:\n",
    "    gg[i] = int(gg[i] * 1.1)\n",
    "print(gg)"
   ]
  },
  {
   "cell_type": "markdown",
   "id": "7a72c522",
   "metadata": {},
   "source": [
    "### 전국 사과 가격의 평균을 구해주세요."
   ]
  },
  {
   "cell_type": "code",
   "execution_count": 1,
   "id": "12b8f8eb",
   "metadata": {},
   "outputs": [],
   "source": [
    "ggg = {\"서울점\" : {\"사과\" : 800, \"바나나\" : 1000, \"포도\" : 800},\n",
    "       \"부산점\" : {\"사과\" : 700, \"바나나\" : 900, \"포도\" : 900},\n",
    "       \"대구점\" : {\"사과\" : 750, \"바나나\" : 800, \"포도\" : 1000}}"
   ]
  },
  {
   "cell_type": "code",
   "execution_count": 4,
   "id": "4c54e6d7",
   "metadata": {},
   "outputs": [
    {
     "name": "stdout",
     "output_type": "stream",
     "text": [
      "750.0\n"
     ]
    }
   ],
   "source": [
    "a= 0\n",
    "for i in ggg:\n",
    "    \n",
    "    a = a + ggg[i][\"사과\"]\n",
    "print(a/len(ggg))"
   ]
  },
  {
   "cell_type": "code",
   "execution_count": 5,
   "id": "b85ceb4e",
   "metadata": {},
   "outputs": [
    {
     "data": {
      "text/plain": [
       "800"
      ]
     },
     "execution_count": 5,
     "metadata": {},
     "output_type": "execute_result"
    }
   ],
   "source": [
    "ggg[\"서울점\"][\"사과\"]"
   ]
  },
  {
   "cell_type": "code",
   "execution_count": 7,
   "id": "5426d37f",
   "metadata": {},
   "outputs": [
    {
     "name": "stdout",
     "output_type": "stream",
     "text": [
      "750.0\n"
     ]
    }
   ],
   "source": [
    "a= 0\n",
    "for i in ggg:\n",
    "    \n",
    "    a = a + ggg[i][\"사과\"]\n",
    "print(a/3)"
   ]
  },
  {
   "cell_type": "code",
   "execution_count": null,
   "id": "1cfec717",
   "metadata": {},
   "outputs": [],
   "source": []
  },
  {
   "cell_type": "markdown",
   "id": "2ea42b0e",
   "metadata": {},
   "source": [
    "### 함수 (def)"
   ]
  },
  {
   "cell_type": "code",
   "execution_count": 2,
   "id": "c5f4cdf9",
   "metadata": {},
   "outputs": [],
   "source": [
    "def add(x,y):\n",
    "    return x + y "
   ]
  },
  {
   "cell_type": "code",
   "execution_count": 3,
   "id": "c11d8c40",
   "metadata": {},
   "outputs": [
    {
     "data": {
      "text/plain": [
       "5"
      ]
     },
     "execution_count": 3,
     "metadata": {},
     "output_type": "execute_result"
    }
   ],
   "source": [
    "add(2, 3)"
   ]
  },
  {
   "cell_type": "code",
   "execution_count": 5,
   "id": "71d03934",
   "metadata": {},
   "outputs": [],
   "source": [
    "def jegop(x,y):\n",
    "    a = 0\n",
    "    b = 0\n",
    "    for i in range(x,y + 1):\n",
    "        a = a + i \n",
    "        b = b + i**2\n",
    "    return a **2 -b"
   ]
  },
  {
   "cell_type": "code",
   "execution_count": 6,
   "id": "99404461",
   "metadata": {},
   "outputs": [
    {
     "data": {
      "text/plain": [
       "25164150"
      ]
     },
     "execution_count": 6,
     "metadata": {},
     "output_type": "execute_result"
    }
   ],
   "source": [
    "jegop(1,100)"
   ]
  },
  {
   "cell_type": "code",
   "execution_count": 7,
   "id": "b2fe7164",
   "metadata": {},
   "outputs": [
    {
     "name": "stdout",
     "output_type": "stream",
     "text": [
      "25164150\n"
     ]
    }
   ],
   "source": [
    "a = 0\n",
    "b = 0\n",
    "\n",
    "for i in range(1,101):\n",
    "    \n",
    "    b = b + i**2 \n",
    "    a = a + i\n",
    "    \n",
    "print(a**2 - b)"
   ]
  },
  {
   "cell_type": "code",
   "execution_count": 8,
   "id": "97c35d05",
   "metadata": {},
   "outputs": [],
   "source": [
    "import random"
   ]
  },
  {
   "cell_type": "code",
   "execution_count": 9,
   "id": "b24304f6",
   "metadata": {},
   "outputs": [
    {
     "data": {
      "text/plain": [
       "0.31725066052761075"
      ]
     },
     "execution_count": 9,
     "metadata": {},
     "output_type": "execute_result"
    }
   ],
   "source": [
    "random.random()    # 0부터 1사이의 랜덤숫자 "
   ]
  },
  {
   "cell_type": "code",
   "execution_count": null,
   "id": "25c7cc12",
   "metadata": {},
   "outputs": [],
   "source": []
  }
 ],
 "metadata": {
  "kernelspec": {
   "display_name": "Python 3 (ipykernel)",
   "language": "python",
   "name": "python3"
  },
  "language_info": {
   "codemirror_mode": {
    "name": "ipython",
    "version": 3
   },
   "file_extension": ".py",
   "mimetype": "text/x-python",
   "name": "python",
   "nbconvert_exporter": "python",
   "pygments_lexer": "ipython3",
   "version": "3.9.12"
  }
 },
 "nbformat": 4,
 "nbformat_minor": 5
}
